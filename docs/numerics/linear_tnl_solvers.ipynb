{
 "cells": [
  {
   "cell_type": "markdown",
   "id": "e18dba77",
   "metadata": {},
   "source": [
    "# Linear Iterative Solvers\n",
    "\n",
    "The aim is to solve the system:\n",
    "$$\n",
    "A \\textbf{x} = \\textbf{b}\n",
    "$$\n",
    "where $A \\in \\mathbb{R}^{m \\times n}$ is a linear operator typically represented as a sparse matrix.\n",
    "\n",
    "Reference:\n",
    "* Saad, Y. *Iterative Methods for Sparse Linear Systems*, SIAM, 2003.\n",
    "\n",
    "We are wrapping [TNL solvers](https://mmg-gitlab.fjfi.cvut.cz/doc/tnl/md_Tutorials_Solvers_Linear_tutorial_Linear_solvers.html) on top of torch tensors."
   ]
  },
  {
   "cell_type": "code",
   "execution_count": 1,
   "id": "866d60af",
   "metadata": {},
   "outputs": [],
   "source": [
    "import torch\n",
    "from torch.utils.cpp_extension import load"
   ]
  },
  {
   "cell_type": "code",
   "execution_count": 2,
   "id": "eb90223b",
   "metadata": {},
   "outputs": [],
   "source": [
    "!mkdir -p build\n",
    "noa_location = '../..'"
   ]
  },
  {
   "cell_type": "code",
   "execution_count": 3,
   "id": "9e15d744",
   "metadata": {},
   "outputs": [],
   "source": [
    "def generate_tridiagonal(n, l, d, u):\n",
    "    c = torch.tensor([-1,0,1]).repeat(n)\n",
    "    r = torch.arange(n).repeat_interleave(3)\n",
    "    cr = c + r\n",
    "    rows = r[1:-1]\n",
    "    cols = cr[1:-1]\n",
    "    vals = torch.tensor([l, d ,u]).repeat(n)[1:-1]\n",
    "    Ai = torch.stack([rows, cols])\n",
    "    A = torch.sparse_coo_tensor(Ai, vals, (n,n))\n",
    "    return A"
   ]
  },
  {
   "cell_type": "code",
   "execution_count": 4,
   "id": "36fa86fd",
   "metadata": {},
   "outputs": [],
   "source": [
    "n = 100000\n",
    "A = generate_tridiagonal(n, -0.5, 2.5, -1.5)"
   ]
  },
  {
   "cell_type": "code",
   "execution_count": 12,
   "id": "0fa1c2b1",
   "metadata": {},
   "outputs": [],
   "source": [
    "A_cu = A.cuda()"
   ]
  },
  {
   "cell_type": "code",
   "execution_count": 5,
   "id": "63b72659",
   "metadata": {},
   "outputs": [],
   "source": [
    "Acsr = A.to_sparse_csr()"
   ]
  },
  {
   "cell_type": "code",
   "execution_count": 13,
   "id": "13c3755e",
   "metadata": {},
   "outputs": [],
   "source": [
    "Acsr_cu = A_cu.to_sparse_csr() # Acsr.cuda() is not supported as of torch 1.10.2"
   ]
  },
  {
   "cell_type": "markdown",
   "id": "d96d21c0",
   "metadata": {},
   "source": [
    "CSR format with indices data over `int` is preferred."
   ]
  },
  {
   "cell_type": "code",
   "execution_count": 9,
   "id": "065d055d",
   "metadata": {},
   "outputs": [],
   "source": [
    "def get_csr_data(csr_matrix):\n",
    "    values =  csr_matrix.values() \n",
    "    crow_indices = csr_matrix.crow_indices().int()\n",
    "    col_indices = csr_matrix.col_indices().int()\n",
    "    return (values, crow_indices, col_indices)"
   ]
  },
  {
   "cell_type": "code",
   "execution_count": 10,
   "id": "c2c5f358",
   "metadata": {},
   "outputs": [],
   "source": [
    "Acsr_data = get_csr_data(Acsr)"
   ]
  },
  {
   "cell_type": "code",
   "execution_count": 14,
   "id": "dbb0576a",
   "metadata": {},
   "outputs": [],
   "source": [
    "Acsr_data_cu = get_csr_data(Acsr_cu)"
   ]
  },
  {
   "cell_type": "code",
   "execution_count": 15,
   "id": "94c54d9d",
   "metadata": {},
   "outputs": [],
   "source": [
    "x0 = torch.ones(n)"
   ]
  },
  {
   "cell_type": "code",
   "execution_count": 16,
   "id": "ea316a6c",
   "metadata": {},
   "outputs": [],
   "source": [
    "x0_cu = x0.cuda()"
   ]
  },
  {
   "cell_type": "code",
   "execution_count": 24,
   "id": "38848402",
   "metadata": {},
   "outputs": [
    {
     "name": "stderr",
     "output_type": "stream",
     "text": [
      "/tmp/ipykernel_21820/3677813335.py:1: UserWarning: Pytorch is compiled with MKL LP64 and will convert crow_indices to int32. (Triggered internally at  ../aten/src/ATen/native/mkl/SparseCsrLinearAlgebra.cpp:228.)\n",
      "  b = Acsr @ x0\n",
      "/tmp/ipykernel_21820/3677813335.py:1: UserWarning: Pytorch is compiled with MKL LP64 and will convert col_indices to int32. (Triggered internally at  ../aten/src/ATen/native/mkl/SparseCsrLinearAlgebra.cpp:232.)\n",
      "  b = Acsr @ x0\n"
     ]
    }
   ],
   "source": [
    "b = Acsr @ x0"
   ]
  },
  {
   "cell_type": "code",
   "execution_count": 23,
   "id": "0a9c8ad8",
   "metadata": {},
   "outputs": [],
   "source": [
    "b_cu = Acsr_cu @  x0_cu"
   ]
  },
  {
   "cell_type": "markdown",
   "id": "4d9687ff",
   "metadata": {},
   "source": [
    "## Stationary methods\n",
    "\n",
    "Those are fixed point methods. Numerically more robust, they might suffer from computational costs due to slow convergence.\n"
   ]
  },
  {
   "cell_type": "code",
   "execution_count": null,
   "id": "ec66f9fe",
   "metadata": {},
   "outputs": [],
   "source": []
  }
 ],
 "metadata": {
  "kernelspec": {
   "display_name": "Python 3 (ipykernel)",
   "language": "python",
   "name": "python3"
  },
  "language_info": {
   "codemirror_mode": {
    "name": "ipython",
    "version": 3
   },
   "file_extension": ".py",
   "mimetype": "text/x-python",
   "name": "python",
   "nbconvert_exporter": "python",
   "pygments_lexer": "ipython3",
   "version": "3.9.7"
  }
 },
 "nbformat": 4,
 "nbformat_minor": 5
}
