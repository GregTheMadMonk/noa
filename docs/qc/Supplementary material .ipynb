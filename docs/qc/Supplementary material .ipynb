{
 "cells": [
  {
   "cell_type": "markdown",
   "id": "3b3d04f7",
   "metadata": {},
   "source": [
    "# Custom functionals\n",
    "\n",
    "\n",
    "### PySCF\n",
    "Builtin functional, custom functional, CCSD(T)\n",
    "\n",
    "### DQC \n",
    "Custom functional \n",
    "\n",
    "### Finite Differences and Autograd\n",
    "\n",
    "Bump parameters in dqc and pyscf and then test with autograd\n"
   ]
  },
  {
   "cell_type": "markdown",
   "id": "82ccfc76",
   "metadata": {},
   "source": [
    "# Adjoint Methods with DQC\n",
    "\n",
    "### Implementation in DQC (example with one molecule)\n",
    "\n",
    "implementation details, adjoint equations, problem with 4-term integral, adjoint orthogonality \n",
    "\n",
    "### Comparison with finite-differences on several molecules\n",
    "\n",
    "adjoint orthogonality holds and coherence with finite differences\n"
   ]
  },
  {
   "cell_type": "markdown",
   "id": "3dc8f0b6",
   "metadata": {},
   "source": [
    "# Optimal Implementation in PySCF\n",
    "\n",
    "Benchmark across all molecules against finite diff (pyscf) and autograd (dqc)"
   ]
  }
 ],
 "metadata": {
  "kernelspec": {
   "display_name": "Python 3 (ipykernel)",
   "language": "python",
   "name": "python3"
  },
  "language_info": {
   "codemirror_mode": {
    "name": "ipython",
    "version": 3
   },
   "file_extension": ".py",
   "mimetype": "text/x-python",
   "name": "python",
   "nbconvert_exporter": "python",
   "pygments_lexer": "ipython3",
   "version": "3.9.13"
  }
 },
 "nbformat": 4,
 "nbformat_minor": 5
}
