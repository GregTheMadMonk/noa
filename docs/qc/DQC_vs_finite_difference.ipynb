{
 "cells": [
  {
   "cell_type": "code",
   "execution_count": 1,
   "id": "43262570",
   "metadata": {},
   "outputs": [],
   "source": [
    "import torch\n",
    "import dqc"
   ]
  },
  {
   "cell_type": "code",
   "execution_count": 2,
   "id": "479c1b15",
   "metadata": {},
   "outputs": [],
   "source": [
    "class MyLDAX(dqc.xc.CustomXC):\n",
    "    def __init__(self, a, p):\n",
    "        super().__init__()\n",
    "        self.a = a\n",
    "        self.p = p\n",
    "\n",
    "    @property\n",
    "    def family(self):\n",
    "        # 1 for LDA, 2 for GGA, 4 for MGGA\n",
    "        return 1\n",
    "\n",
    "    def get_edensityxc(self, densinfo):\n",
    "        # densinfo has up and down components\n",
    "        if isinstance(densinfo, dqc.utils.SpinParam):\n",
    "            # spin-scaling of the exchange energy\n",
    "            return 0.5 * (self.get_edensityxc(densinfo.u * 2) + self.get_edensityxc(densinfo.d * 2))\n",
    "        else:\n",
    "            rho = densinfo.value.abs() + 1e-15  # safeguarding from nan\n",
    "            return self.a * rho ** self.p"
   ]
  },
  {
   "cell_type": "code",
   "execution_count": 3,
   "id": "61581436",
   "metadata": {},
   "outputs": [],
   "source": [
    "def DQC_calculation_tensors(system, a, p):\n",
    "    atomzs, atomposs = dqc.parse_moldesc(system)\n",
    "    mol = dqc.Mol((atomzs, atomposs), basis=\"6-31G\")\n",
    "    \n",
    "    myxc = MyLDAX(a, p)\n",
    "\n",
    "    qc = dqc.KS(mol, xc=myxc).run()\n",
    "    ene = qc.energy()  # calculate the energy\n",
    "    return ene"
   ]
  },
  {
   "cell_type": "code",
   "execution_count": 4,
   "id": "ec0f725c",
   "metadata": {},
   "outputs": [],
   "source": [
    "def DQC_calculation_values(system, a_value, p_value):\n",
    "    a = torch.nn.Parameter(torch.tensor(a_value, dtype=torch.double))\n",
    "    p = torch.nn.Parameter(torch.tensor(p_value, dtype=torch.double))\n",
    "    return DQC_calculation_tensors(system, a, p)"
   ]
  },
  {
   "cell_type": "code",
   "execution_count": 17,
   "id": "776df6fd",
   "metadata": {},
   "outputs": [],
   "source": [
    "def finite_difference(system, a_value, p_value, coeff):\n",
    "    y = DQC_calculation_values(system, a_value, p_value)\n",
    "    da = a_value * coeff\n",
    "    dp = p_value * coeff\n",
    "    y_plus_dy_a = DQC_calculation_values(system, a_value+da, p_value)\n",
    "    y_plus_dy_p = DQC_calculation_values(system, a_value, p_value+dp)\n",
    "    dy_wrt_da = (y_plus_dy_a - y) / da\n",
    "    dy_wrt_dp = (y_plus_dy_p - y) / dp\n",
    "    return (dy_wrt_da, dy_wrt_dp)"
   ]
  },
  {
   "cell_type": "code",
   "execution_count": 8,
   "id": "6b0e69d9",
   "metadata": {},
   "outputs": [],
   "source": [
    "def autograd(system, a_value, p_value):\n",
    "    a = torch.nn.Parameter(torch.tensor(a_value, dtype=torch.double))\n",
    "    p = torch.nn.Parameter(torch.tensor(p_value, dtype=torch.double))\n",
    "    y = DQC_calculation_tensors(system, a, p)\n",
    "    return torch.autograd.grad(y, (a, p))"
   ]
  },
  {
   "cell_type": "code",
   "execution_count": 26,
   "id": "bcab1be7",
   "metadata": {},
   "outputs": [
    {
     "name": "stdout",
     "output_type": "stream",
     "text": [
      "autograd results:  (tensor(0.0885, dtype=torch.float64), tensor(-0.2367, dtype=torch.float64))\n",
      "finite difference results:  (tensor(0.0885, dtype=torch.float64, grad_fn=<DivBackward0>), tensor(-0.2367, dtype=torch.float64, grad_fn=<DivBackward0>))\n"
     ]
    }
   ],
   "source": [
    "h2_system = \"H 0 0 0; H 1.4 0 0\"\n",
    "print(\"autograd results: \", autograd(h2_system, 1, 2))\n",
    "print(\"finite difference results: \", finite_difference(h2_system, 1, 2, 0.0001))"
   ]
  },
  {
   "cell_type": "code",
   "execution_count": 27,
   "id": "5721b669",
   "metadata": {},
   "outputs": [
    {
     "name": "stdout",
     "output_type": "stream",
     "text": [
      "autograd results:  (tensor(1.5659e-08, dtype=torch.float64), tensor(-1.0437e-06, dtype=torch.float64))\n",
      "finite difference results:  (tensor(1.5659e-08, dtype=torch.float64, grad_fn=<DivBackward0>), tensor(-1.0428e-06, dtype=torch.float64, grad_fn=<DivBackward0>))\n"
     ]
    }
   ],
   "source": [
    "print(\"autograd results: \", autograd(h2_system, 44, 11))\n",
    "print(\"finite difference results: \", finite_difference(h2_system, 44, 11, 0.0001))"
   ]
  },
  {
   "cell_type": "code",
   "execution_count": 24,
   "id": "944499bc",
   "metadata": {},
   "outputs": [
    {
     "name": "stdout",
     "output_type": "stream",
     "text": [
      "autograd results:  (tensor(14.7474, dtype=torch.float64), tensor(25.9162, dtype=torch.float64))\n",
      "finite difference results:  (tensor(15.7496, dtype=torch.float64, grad_fn=<DivBackward0>), tensor(25.2596, dtype=torch.float64, grad_fn=<DivBackward0>))\n"
     ]
    }
   ],
   "source": [
    "n2_system = \"N 0 0 0; N 2.07 0 0\"\n",
    "print(\"autograd results: \", autograd(n2_system, 1, 2))\n",
    "print(\"finite difference results: \", finite_difference(n2_system, 1, 2, 0.01))"
   ]
  }
 ],
 "metadata": {
  "kernelspec": {
   "display_name": "Python 3 (ipykernel)",
   "language": "python",
   "name": "python3"
  },
  "language_info": {
   "codemirror_mode": {
    "name": "ipython",
    "version": 3
   },
   "file_extension": ".py",
   "mimetype": "text/x-python",
   "name": "python",
   "nbconvert_exporter": "python",
   "pygments_lexer": "ipython3",
   "version": "3.9.7"
  }
 },
 "nbformat": 4,
 "nbformat_minor": 5
}
