{
 "cells": [
  {
   "cell_type": "code",
   "execution_count": 3,
   "id": "6b91707d",
   "metadata": {},
   "outputs": [],
   "source": [
    "import torch\n",
    "import dqc\n",
    "import dqc.xc\n",
    "import dqc.utils"
   ]
  },
  {
   "cell_type": "code",
   "execution_count": 2,
   "id": "0fe8c4ab",
   "metadata": {},
   "outputs": [
    {
     "name": "stdout",
     "output_type": "stream",
     "text": [
      "tensor([1, 1])\n"
     ]
    },
    {
     "data": {
      "text/plain": [
       "tensor([[-1.,  0.,  0.],\n",
       "        [ 1.,  0.,  0.]], dtype=torch.float64)"
      ]
     },
     "execution_count": 2,
     "metadata": {},
     "output_type": "execute_result"
    }
   ],
   "source": [
    "atomzs, atomposs = dqc.parse_moldesc(\"H -1 0 0; H 1 0 0\")\n",
    "print(atomzs)\n",
    "atomposs"
   ]
  },
  {
   "cell_type": "code",
   "execution_count": 3,
   "id": "5041db12",
   "metadata": {},
   "outputs": [
    {
     "data": {
      "text/plain": [
       "tensor([[ 0.1033, -0.0000, -0.0000],\n",
       "        [-0.1033, -0.0000, -0.0000]], dtype=torch.float64)"
      ]
     },
     "execution_count": 3,
     "metadata": {},
     "output_type": "execute_result"
    }
   ],
   "source": [
    "atomposs = atomposs.requires_grad_()  # mark atomposs as differentiable\n",
    "mol = dqc.Mol((atomzs, atomposs), basis=\"3-21G\")\n",
    "qc = dqc.HF(mol).run()\n",
    "ene = qc.energy()  # calculate the energy\n",
    "force = -torch.autograd.grad(ene, atomposs)[0]  \n",
    "force"
   ]
  },
  {
   "cell_type": "code",
   "execution_count": 4,
   "id": "50fc138d",
   "metadata": {},
   "outputs": [],
   "source": [
    "class MyLDAX(dqc.xc.CustomXC):\n",
    "    def __init__(self, a, p):\n",
    "        super().__init__()\n",
    "        self.a = a\n",
    "        self.p = p\n",
    "\n",
    "    @property\n",
    "    def family(self):\n",
    "        # 1 for LDA, 2 for GGA, 4 for MGGA\n",
    "        return 1\n",
    "\n",
    "    def get_edensityxc(self, densinfo):\n",
    "        # densinfo has up and down components\n",
    "        if isinstance(densinfo, dqc.utils.SpinParam):\n",
    "            # spin-scaling of the exchange energy\n",
    "            return 0.5 * (self.get_edensityxc(densinfo.u * 2) \n",
    "                          + self.get_edensityxc(densinfo.d * 2))\n",
    "        else:\n",
    "            rho = densinfo.value.abs() + 1e-15  # safeguarding from nan\n",
    "            return self.a * rho ** self.p"
   ]
  },
  {
   "cell_type": "code",
   "execution_count": 5,
   "id": "6bad1975",
   "metadata": {},
   "outputs": [],
   "source": [
    "a = torch.nn.Parameter(torch.tensor(1.0, dtype=torch.double))\n",
    "p = torch.nn.Parameter(torch.tensor(2.0, dtype=torch.double))\n",
    "myxc = MyLDAX(a, p)"
   ]
  },
  {
   "cell_type": "code",
   "execution_count": 6,
   "id": "3da3f49c",
   "metadata": {},
   "outputs": [],
   "source": [
    "atomzs, atomposs = dqc.parse_moldesc(\"H -1 0 0; H 1 0 0\")\n",
    "atomposs = atomposs.requires_grad_()  # mark atomposs as differentiable\n",
    "mol = dqc.Mol((atomzs, atomposs), basis=\"3-21G\")"
   ]
  },
  {
   "cell_type": "code",
   "execution_count": 7,
   "id": "95afd918",
   "metadata": {},
   "outputs": [
    {
     "data": {
      "text/plain": [
       "tensor(-0.4645, dtype=torch.float64, grad_fn=<AddBackward0>)"
      ]
     },
     "execution_count": 7,
     "metadata": {},
     "output_type": "execute_result"
    }
   ],
   "source": [
    "ks = dqc.KS(mol, xc=myxc).run()\n",
    "ene = ks.energy()\n",
    "ene"
   ]
  },
  {
   "cell_type": "code",
   "execution_count": 8,
   "id": "2f2e476f",
   "metadata": {},
   "outputs": [
    {
     "name": "stdout",
     "output_type": "stream",
     "text": [
      "tensor(0.0711, dtype=torch.float64) tensor(-0.2108, dtype=torch.float64)\n"
     ]
    }
   ],
   "source": [
    "grad_a, grad_p = torch.autograd.grad(ene, (a, p), retain_graph=True)\n",
    "print(grad_a, grad_p)"
   ]
  },
  {
   "cell_type": "code",
   "execution_count": 9,
   "id": "89ffc81b",
   "metadata": {},
   "outputs": [
    {
     "data": {
      "text/plain": [
       "tensor([[-2.8237e-02, -9.7578e-19, -2.7105e-18],\n",
       "        [ 2.8237e-02, -1.0842e-18, -1.7347e-18]], dtype=torch.float64)"
      ]
     },
     "execution_count": 9,
     "metadata": {},
     "output_type": "execute_result"
    }
   ],
   "source": [
    "force = -torch.autograd.grad(ene, atomposs)[0] \n",
    "force"
   ]
  }
 ],
 "metadata": {
  "kernelspec": {
   "display_name": "Python 3 (ipykernel)",
   "language": "python",
   "name": "python3"
  },
  "language_info": {
   "codemirror_mode": {
    "name": "ipython",
    "version": 3
   },
   "file_extension": ".py",
   "mimetype": "text/x-python",
   "name": "python",
   "nbconvert_exporter": "python",
   "pygments_lexer": "ipython3",
   "version": "3.9.12"
  }
 },
 "nbformat": 4,
 "nbformat_minor": 5
}
