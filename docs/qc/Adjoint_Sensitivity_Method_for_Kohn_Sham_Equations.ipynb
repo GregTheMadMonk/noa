{
 "cells": [
  {
   "cell_type": "markdown",
   "metadata": {
    "datalore": {
     "hide_input_from_viewers": false,
     "hide_output_from_viewers": false,
     "node_id": "5oKf92DqRHFu5LBZddmUD7",
     "report_properties": {},
     "type": "MD"
    }
   },
   "source": [
    "# Adjoint sensitivity method for Kohn Sham equations (supplementary material)\n",
    "### Evgeny M. Kadilenko (ICKC SB RAS), Roland Grinis (MIPT, GrinisRIT)\n",
    "#### Assistants: Gregory Dushkin (MIPT), Sabina Abdiganieva (MIPT)"
   ]
  },
  {
   "cell_type": "markdown",
   "metadata": {},
   "source": [
    "## Unoccupied electron orbitals are not required for calculation of the total derivative\n",
    "\n",
    "Let us denote equations and variables, dealing with occupied orbitals ($f_a \\neq 0$) using *bar* and with unoccupied orbitals using *tilde*.\n",
    "\n",
    "Thus matrices can be rewritten in block form:\n",
    "\n",
    "\\begin{equation}\n",
    "\\begin{gathered}\n",
    "\\boldsymbol{C} = \n",
    "\\begin{pmatrix}\n",
    "\\bar{\\boldsymbol{C}} && \\widetilde{\\boldsymbol{C}}\n",
    "\\end{pmatrix} \\\\\n",
    "\\boldsymbol{f} =  \n",
    "\\begin{pmatrix}\n",
    "\\bar{\\boldsymbol{f}} & \\boldsymbol{0} \\\\\n",
    "\\boldsymbol{0} & \\boldsymbol{0}\n",
    "\\end{pmatrix} \\\\\n",
    "\\boldsymbol{\\epsilon} = \n",
    "\\begin{pmatrix}\n",
    "\\bar{\\boldsymbol{\\epsilon}} & \\boldsymbol{0} \\\\\n",
    "\\boldsymbol{0} & \\widetilde{\\boldsymbol{\\epsilon}}\n",
    "\\end{pmatrix} \n",
    "\\end{gathered}\n",
    "\\end{equation}\n",
    "\n",
    "Using equations from the article we can show:\n",
    "\n",
    "\\begin{equation}\n",
    "\\frac{\\partial \\vec{\\Phi}^{n}}{\\partial \\vec{C}} = \n",
    "2\\bigoplus_a \\vec{e}_a^T \\boldsymbol{C}^T\\boldsymbol{S} = \n",
    "\\begin{pmatrix}\n",
    "2\\bigoplus_{\\bar{a}} \\vec{e}_{\\bar{a}}^T \\bar{\\boldsymbol{C}}^{T}\n",
    "\\boldsymbol{S} && \\boldsymbol{0} \\\\\n",
    "\\boldsymbol{0} && 2\\bigoplus_{\\widetilde{a}} \\vec{e}_{\\widetilde{a}}^T \\widetilde{\\boldsymbol{C}}^{T}\\boldsymbol{S}\n",
    "\\end{pmatrix}\n",
    "\\end{equation}\n",
    "\n",
    "Therefore, using relation between $\\frac{\\partial \\vec{\\Phi}^R}{\\partial \\vec{\\epsilon}}$ and $\\frac{\\partial \\vec{\\Phi}^{n}}{\\partial \\vec{C}}$\n",
    "\n",
    "\\begin{equation}\n",
    "\\frac{\\partial \\vec{\\Phi}^R}{\\partial \\vec{\\epsilon}} = \\begin{pmatrix}\n",
    "-\\bigoplus_{\\bar{a}} \\boldsymbol{S} \\bar{\\boldsymbol{C}}\\vec{e}_{\\bar{a}} \n",
    " && \\boldsymbol{0} \\\\\n",
    "\\boldsymbol{0} && -\\bigoplus_{\\widetilde{a}} \\boldsymbol{S}\\widetilde{\\boldsymbol{C}}\\vec{e}_{\\widetilde{a}} \n",
    "\\end{pmatrix}\n",
    "\\end{equation}\n",
    "\n",
    "\\begin{multline}\n",
    "\\frac{\\partial \\vec{\\Phi}^R}{\\partial \\vec{C}} =\n",
    "2(\\boldsymbol{C}^T \\otimes \\boldsymbol{I}_{N_{bas}})\\boldsymbol{G}(\\boldsymbol{C}\\boldsymbol{f} \\otimes \\boldsymbol{I}_{N_{bas}}) +\n",
    "(\\boldsymbol{I}_{N_{orb}} \\otimes\\boldsymbol{F}) -\n",
    "(\\boldsymbol{\\epsilon} \\otimes \\boldsymbol{S}) = \\\\\n",
    "2\\left(\\begin{pmatrix}\n",
    "\\bar{\\boldsymbol{C}}^T \\\\ \\widetilde{\\boldsymbol{C}}^T\n",
    "\\end{pmatrix} \\otimes \\boldsymbol{I}_{N_{bas}}\\right)\\boldsymbol{G}\\left(\\begin{pmatrix}\n",
    "\\bar{\\boldsymbol{C}} && \\widetilde{\\boldsymbol{C}}\n",
    "\\end{pmatrix}\\begin{pmatrix}\n",
    "\\bar{\\boldsymbol{f}} & \\boldsymbol{0} \\\\\n",
    "\\boldsymbol{0} & \\boldsymbol{0}\n",
    "\\end{pmatrix} \\otimes \\boldsymbol{I}_{N_{bas}}\\right) +\n",
    "\\bigoplus_a\\boldsymbol{F} -\n",
    "\\begin{pmatrix}\n",
    "\\bar{\\boldsymbol{\\epsilon}} & \\boldsymbol{0} \\\\\n",
    "\\boldsymbol{0} & \\widetilde{\\boldsymbol{\\epsilon}}\n",
    "\\end{pmatrix}  \\otimes \\boldsymbol{S} = \\\\\n",
    "2\\begin{pmatrix}\n",
    "(\\bar{\\boldsymbol{C}}^T\\otimes \\boldsymbol{I}_{N_{bas}})\\boldsymbol{G}(\\bar{\\boldsymbol{C}} \\bar{\\boldsymbol{f}} \\otimes \\boldsymbol{I}_{N_{bas}}) && \\boldsymbol{0}\\\\\n",
    "(\\widetilde{\\boldsymbol{C}}^T\\otimes \\boldsymbol{I}_{N_{bas}})\\boldsymbol{G}(\\bar{\\boldsymbol{C}} \\bar{\\boldsymbol{f}} \\otimes \\boldsymbol{I}_{N_{bas}}) && \\boldsymbol{0}\n",
    "\\end{pmatrix}\n",
    " +\n",
    "\\begin{pmatrix}\n",
    "\\bigoplus_{\\bar{a}} \\boldsymbol{F}\n",
    " && \\boldsymbol{0} \\\\\n",
    "\\boldsymbol{0} && \\bigoplus_{\\widetilde{a}} \\boldsymbol{F}\n",
    "\\end{pmatrix} -\n",
    "\\begin{pmatrix}\n",
    "\\bar{\\boldsymbol{\\epsilon}} \\otimes \\boldsymbol{S} & \\boldsymbol{0} \\\\\n",
    "\\boldsymbol{0} & \\widetilde{\\boldsymbol{\\epsilon}} \\otimes \\boldsymbol{S}\n",
    "\\end{pmatrix} = \\\\\n",
    "\\begin{pmatrix}\n",
    "2(\\bar{\\boldsymbol{C}}^T\\otimes \\boldsymbol{I}_{N_{bas}})\\boldsymbol{G}(\\bar{\\boldsymbol{C}} \\bar{\\boldsymbol{f}} \\otimes \\boldsymbol{I}_{N_{bas}}) + \\bigoplus_{\\bar{a}} \\boldsymbol{F} - \\bar{\\boldsymbol{\\epsilon}} \\otimes \\boldsymbol{S} && \\boldsymbol{0}\\\\\n",
    "2(\\widetilde{\\boldsymbol{C}}^T\\otimes \\boldsymbol{I}_{N_{bas}})\\boldsymbol{G}(\\bar{\\boldsymbol{C}} \\bar{\\boldsymbol{f}} \\otimes \\boldsymbol{I}_{N_{bas}}) && \\bigoplus_{\\widetilde{a}} \\boldsymbol{F} -\n",
    "\\widetilde{\\boldsymbol{\\epsilon}} \\otimes \\boldsymbol{S}\n",
    "\\end{pmatrix}\n",
    "\\end{multline}\n",
    "\n",
    "\\begin{multline}\n",
    "\\frac{\\partial \\vec{\\Phi}}{\\partial \\vec{X}} = \n",
    "\\begin{pmatrix}\n",
    "2(\\bar{\\boldsymbol{C}}^T\\otimes \\boldsymbol{I}_{N_{bas}})\\boldsymbol{G}(\\bar{\\boldsymbol{C}} \\bar{\\boldsymbol{f}} \\otimes \\boldsymbol{I}_{N_{bas}}) + \\bigoplus_{\\bar{a}} \\boldsymbol{F} - \\bar{\\boldsymbol{\\epsilon}} \\otimes \\boldsymbol{S} && \\boldsymbol{0} && \n",
    "-\\bigoplus_{\\bar{a}} \\boldsymbol{S} \\bar{\\boldsymbol{C}}\\vec{e}_{\\bar{a}} && \\boldsymbol{0} \\\\\n",
    "2(\\widetilde{\\boldsymbol{C}}^T\\otimes \\boldsymbol{I}_{N_{bas}})\\boldsymbol{G}(\\bar{\\boldsymbol{C}} \\bar{\\boldsymbol{f}} \\otimes \\boldsymbol{I}_{N_{bas}}) && \\bigoplus_{\\widetilde{a}} \\boldsymbol{F} -\n",
    "\\widetilde{\\boldsymbol{\\epsilon}} \\otimes \\boldsymbol{S} && \\boldsymbol{0} && \n",
    "-\\bigoplus_{\\widetilde{a}} \\boldsymbol{S}\\widetilde{\\boldsymbol{C}}\\vec{e}_{\\widetilde{a}} \\\\\n",
    "2\\bigoplus_{\\bar{a}} \\vec{e}_{\\bar{a}}^T \\bar{\\boldsymbol{C}}^{T}\n",
    "\\boldsymbol{S} && \\boldsymbol{0} && \\boldsymbol{0} && \\boldsymbol{0} \\\\\n",
    "\\boldsymbol{0} && 2\\bigoplus_{\\widetilde{a}} \\vec{e}_{\\widetilde{a}}^T \\widetilde{\\boldsymbol{C}}^{T}\\boldsymbol{S} && \\boldsymbol{0} && \\boldsymbol{0}\n",
    "\\end{pmatrix}\n",
    "\\end{multline}\n",
    "\n",
    "\\begin{equation}\n",
    "\\frac{\\partial E}{ \\partial \\vec{C}} =\n",
    "2 \\cdot \\text{vec}(\\boldsymbol{F}\n",
    "\\boldsymbol{C}\\boldsymbol{f} )^T = 2 \\cdot \\text{vec}\\left(\\boldsymbol{F}\n",
    "\\begin{pmatrix}\n",
    "\\bar{\\boldsymbol{C}} && \\widetilde{\\boldsymbol{C}}\n",
    "\\end{pmatrix}\n",
    "\\begin{pmatrix}\n",
    "\\bar{\\boldsymbol{f}} & \\boldsymbol{0} \\\\\n",
    "\\boldsymbol{0} & \\boldsymbol{0}\n",
    "\\end{pmatrix} \\right)^T =\n",
    "\\begin{pmatrix}\n",
    "2 \\cdot\\text{vec}(\\boldsymbol{F}\\bar{\\boldsymbol{C}}\\bar{\\boldsymbol{f}})^T && \\vec{0}^T\n",
    "\\end{pmatrix}\n",
    "\\end{equation}\n",
    "\n",
    "Thus:\n",
    "\n",
    "\\begin{equation}\n",
    "\\frac{\\partial E}{ \\partial \\vec{X}} =  \n",
    "\\begin{pmatrix}\n",
    "2 \\cdot\\text{vec}(\\boldsymbol{F}\\bar{\\boldsymbol{C}}\\bar{\\boldsymbol{f}})^T && \\vec{0}^T && \\vec{0}^T && \\vec{0}^T\n",
    "\\end{pmatrix}\n",
    "\\end{equation}\n",
    "\n",
    "Adjoint vector:\n",
    "\n",
    "\\begin{equation}\n",
    "\\vec{\\lambda} = \\begin{pmatrix}\n",
    "\\vec{\\bar{\\lambda}}^R \\\\\n",
    "\\vec{\\widetilde{\\lambda}}^R \\\\\n",
    "\\vec{\\bar{\\lambda}}^n \\\\\n",
    "\\vec{\\widetilde{\\lambda}}^n\n",
    "\\end{pmatrix}\n",
    "\\end{equation}\n",
    "\n",
    "They produce two matrix equations for $\\vec{\\widetilde{\\lambda}}^R$ and $\\vec{\\widetilde{\\lambda}}^n$:\n",
    "\n",
    "\\begin{equation}\n",
    "\\left(\\bigoplus_{\\widetilde{a}} \\boldsymbol{F} -\n",
    "\\widetilde{\\boldsymbol{\\epsilon}} \\otimes \\boldsymbol{S}\\right)\\vec{\\widetilde{\\lambda}}^R + 2 \\left(\\bigoplus_{\\widetilde{a}} \\boldsymbol{S}\\widetilde{\\boldsymbol{C}}\\vec{e}_{\\widetilde{a}}\\right)\\vec{\\widetilde{\\lambda}}^n = \\vec{0}\n",
    "\\end{equation}\n",
    "\n",
    "\\begin{equation}\n",
    "-\\left(\\bigoplus_{\\widetilde{a}}\n",
    "\\vec{e}_{\\widetilde{a}}^T\n",
    "\\widetilde{\\boldsymbol{C}}^T\\boldsymbol{S}\\right)\\vec{\\widetilde{\\lambda}}^R = \\vec{0}\n",
    "\\end{equation}\n",
    "\n",
    "At first, multiply the first equation by $(\\boldsymbol{I}_{N_{orb}^{unocc}} \\otimes \\widetilde{\\boldsymbol{C}}^T)$ from the left:\n",
    "\n",
    "\\begin{equation*}\n",
    "\\begin{gathered}\n",
    "(\\boldsymbol{I}_{N_{orb}^{unocc}} \\otimes \\widetilde{\\boldsymbol{C}}^T)\\left(\\bigoplus_{\\widetilde{a}} \\boldsymbol{F} -\n",
    "\\widetilde{\\boldsymbol{\\epsilon}} \\otimes \\boldsymbol{S}\\right)\\vec{\\widetilde{\\lambda}}^R + 2(\\boldsymbol{I}_{N_{orb}^{unocc}} \\otimes \\widetilde{\\boldsymbol{C}}^T) \\left(\\bigoplus_{\\widetilde{a}} \\boldsymbol{S}\\widetilde{\\boldsymbol{C}}\\vec{e}_{\\widetilde{a}}\\right)\\vec{\\widetilde{\\lambda}}^n = \\vec{0} \\\\\n",
    "\\left(\\bigoplus_{\\widetilde{a}} \\widetilde{\\boldsymbol{C}}^T\\boldsymbol{F} -\n",
    "(\\boldsymbol{I}_{N_{orb}^{unocc}} \\otimes \\widetilde{\\boldsymbol{C}}^T)(\\widetilde{\\boldsymbol{\\epsilon}} \\otimes \\boldsymbol{S})\\right)\\vec{\\widetilde{\\lambda}}^R + 2 \\left(\\bigoplus_{\\widetilde{a}}\\widetilde{\\boldsymbol{C}}^T \\boldsymbol{S}\\widetilde{\\boldsymbol{C}}\\vec{e}_{\\widetilde{a}}\\right)\\vec{\\widetilde{\\lambda}}^n = \\vec{0} \\\\\n",
    "\\end{gathered}\n",
    "\\end{equation*}\n",
    "\n",
    "\\begin{equation*}\n",
    "\\begin{gathered}\n",
    "\\left(\\bigoplus_{\\widetilde{a}} \\widetilde{\\boldsymbol{\\epsilon}}\\widetilde{\\boldsymbol{C}}^T\\boldsymbol{S} -\n",
    "(\\widetilde{\\boldsymbol{\\epsilon}} \\otimes \\widetilde{\\boldsymbol{C}}^T\\boldsymbol{S})\\right)\\vec{\\widetilde{\\lambda}}^R + 2 \\left(\\bigoplus_{\\widetilde{a}}\\vec{e}_{\\widetilde{a}}\\right)\\vec{\\widetilde{\\lambda}}^n = \\vec{0} \\\\\n",
    "\\bigoplus_{\\widetilde{a}} \\left(\\widetilde{\\boldsymbol{\\epsilon}}\\widetilde{\\boldsymbol{C}}^T\\boldsymbol{S} -\n",
    "\\epsilon_{\\widetilde{a}}\n",
    "\\widetilde{\\boldsymbol{C}}^T\\boldsymbol{S}\\right)\\vec{\\widetilde{\\lambda}}^R + 2 \\left(\\bigoplus_{\\widetilde{a}}\\vec{e}_{\\widetilde{a}}\\right)\\vec{\\widetilde{\\lambda}}^n = \\vec{0}\n",
    "\\end{gathered}\n",
    "\\end{equation*}\n",
    "\n",
    "then by $\\bigoplus_{\\widetilde{a}} \\vec{e}_{\\widetilde{a}}^T$ :\n",
    "\n",
    "\\begin{equation}\n",
    "\\label{lambda-norm-unocc}\n",
    "\\begin{gathered}\n",
    "\\bigoplus_{\\widetilde{a}} \\vec{e}_{\\widetilde{a}}^T\\left(\\widetilde{\\boldsymbol{\\epsilon}}\\widetilde{\\boldsymbol{C}}^T\\boldsymbol{S} -\n",
    "\\epsilon_{\\widetilde{a}}\n",
    "\\widetilde{\\boldsymbol{C}}^T\\boldsymbol{S}\\right)\\vec{\\widetilde{\\lambda}}^R + 2 \\left(\\bigoplus_{\\widetilde{a}}\\vec{e}_{\\widetilde{a}}^T\\vec{e}_{\\widetilde{a}}\\right)\\vec{\\widetilde{\\lambda}}^n = \\vec{0} \\\\ \n",
    "\\bigoplus_{\\widetilde{a}} \\left(\\epsilon_{\\widetilde{a}}\\vec{e}_{\\widetilde{a}}^T\\widetilde{\\boldsymbol{C}}^T\\boldsymbol{S} -\n",
    "\\epsilon_{\\widetilde{a}}\\vec{e}_{\\widetilde{a}}^T\n",
    "\\widetilde{\\boldsymbol{C}}^T\\boldsymbol{S}\\right)\\vec{\\widetilde{\\lambda}}^R + 2 \\boldsymbol{I}_{N_{orb}^{unocc}}\\vec{\\widetilde{\\lambda}}^n = \\vec{0} \\\\\n",
    "\\vec{\\widetilde{\\lambda}}^n = \\vec{0}\n",
    "\\end{gathered}\n",
    "\\end{equation}\n",
    "\n",
    "So, we left with:\n",
    "\n",
    "\\begin{equation}\n",
    "\\left(\\bigoplus_{\\widetilde{a}} \\boldsymbol{F} -\n",
    "\\widetilde{\\boldsymbol{\\epsilon}} \\otimes \\boldsymbol{S}\\right)\\vec{\\widetilde{\\lambda}}^R = \\vec{0}\n",
    "\\end{equation}\n",
    "\n",
    "or, only for block ${\\widetilde{a}}$:\n",
    "\n",
    "\\begin{equation}\n",
    "\\left(\\boldsymbol{F} -\n",
    "{\\epsilon}_{\\widetilde{a}} \\boldsymbol{S}\\right)\\vec{\\widetilde{\\lambda}}_{\\widetilde{a}}^R = \\vec{0}\n",
    "\\end{equation}\n",
    "\n",
    "Let us take a derivative with respect to ${\\epsilon}_{\\widetilde{a}}$:\n",
    "\n",
    "\\begin{equation}\n",
    "- \\boldsymbol{S}\\vec{\\widetilde{\\lambda}}_{\\widetilde{a}}^R = \\vec{0}\n",
    "\\end{equation}\n",
    "\n",
    "$\\boldsymbol{S}$ is a positive-definite matrix, thus it is invertable:\n",
    "\n",
    "\\begin{equation}\n",
    "\\begin{gathered}\n",
    "- \\boldsymbol{S}^{-1}\\boldsymbol{S}\\vec{\\widetilde{\\lambda}}_{\\widetilde{a}}^R = \\boldsymbol{S}^{-1}\\vec{0} \\\\\n",
    "\\vec{\\widetilde{\\lambda}}_{\\widetilde{a}}^R = \\vec{0}\n",
    "\\end{gathered}\n",
    "\\end{equation}\n",
    "\n",
    "Because $\\widetilde{a}$ was arbitary, the whole vector is zero:\n",
    "\n",
    "\\begin{equation}\n",
    "\\label{lambda-Roo-unocc}\n",
    "\\vec{\\widetilde{\\lambda}}^R = \\vec{0}\n",
    "\\end{equation}\n",
    "\n",
    "It is easy to show, that:\n",
    "\n",
    "\\begin{equation}\n",
    "\\vec{\\lambda}^T\\frac{\\partial \\vec{\\Phi}}{\\partial \\vec{\\Theta}} =\n",
    "\\begin{pmatrix}\n",
    "\\vec{\\bar{\\lambda}}^{R,T} & 0 & \\vec{\\bar{\\lambda}}^{n,T} & 0\n",
    "\\end{pmatrix}\n",
    "\\begin{pmatrix}\n",
    "\\frac{\\partial\\vec{\\bar{\\Phi}}^R}{\\partial \\vec{\\Theta}} \\\\\n",
    "\\frac{\\partial\\vec{\\widetilde{\\Phi}}^R}{\\partial \\vec{\\Theta}} \\\\\n",
    "0 \\\\\n",
    "0\n",
    "\\end{pmatrix} = \\vec{\\bar{\\lambda}}^{R,T}\\frac{\\partial\\vec{\\bar{\\Phi}}^R}{\\partial \\vec{\\Theta}} = \n",
    "\\begin{pmatrix}\n",
    "\\vec{\\bar{\\lambda}}^{R,T} & \\vec{\\bar{\\lambda}}^{n,T}\n",
    "\\end{pmatrix}\n",
    "\\begin{pmatrix}\n",
    "\\frac{\\partial\\vec{\\bar{\\Phi}}^R}{\\partial \\vec{\\Theta}} \\\\\n",
    "0\n",
    "\\end{pmatrix} = \n",
    "\\vec{\\bar{\\lambda}}^T\\frac{\\partial \\vec{\\bar{\\Phi}}}{\\partial \\vec{\\Theta}}\n",
    "\\end{equation}\n",
    "\n",
    "\\begin{equation}\n",
    "\\left(\\frac{\\partial \\vec{\\bar{\\Phi}}}{\\partial \\vec{\\bar{X}}}\\right)^T\\vec{\\bar{\\lambda}} = \\left(\\frac{\\partial E}{\\partial \\vec{\\bar{X}}}\\right)^T\n",
    "\\end{equation}\n",
    "\n",
    "This means that we can use $\\vec{\\bar{X}}$ and $\\vec{\\bar{\\Phi}}$ instead of $\\vec{X}$ and $\\vec{\\Phi}$, respectively. It allows us to significantly speed up calculation of adjoint vector."
   ]
  },
  {
   "cell_type": "markdown",
   "metadata": {},
   "source": [
    "## $\\partial\\vec{\\Phi}^R(\\boldsymbol{C},\\boldsymbol{\\epsilon};\\;\\vec{\\Theta}) / \\partial\\vec{C}$ is symmetric for UKS-LDA and RKS-LDA\n",
    "\n",
    "We want to show that $\\boldsymbol{\\alpha}$ is symmetric under certain conditions, namely, if we deal with situation \n",
    "\n",
    "\\begin{equation}\n",
    "\\label{f-matrix-equals-f-times-identity}\n",
    "\\boldsymbol{\\bar{f}}=\\bar{f}\\boldsymbol{I}_{N_{orb}^{occ}}\n",
    "\\end{equation}\n",
    "\n",
    "It occurs in restricted (RKS, $\\bar{f}=2$) and unrestricted Kohn-Sham (UKS, $\\bar{f}=1$) methods.\n",
    "\n",
    "At first, we have to show, that functional derivative from Hamiltonian with respect to electronic density in the case of LDA:\n",
    "\n",
    "\\begin{equation}\n",
    "\\frac{\\delta \n",
    " H^{LDA}[\\rho](\\vec{r};\\;\\vec{\\Theta})\n",
    "}{\\delta \\rho(\\vec{r'})} = \\frac{1}{|\\vec{r}-\\vec{r'}|}\n",
    "+\n",
    "\\frac{\\partial V_{XC}(\\rho;\\;\\vec{\\Theta})}{\\partial \\rho}\\delta(\\vec{r} - \\vec{r'})\n",
    "\\end{equation}\n",
    "\n",
    "is invariant to $r \\leftrightarrow r'$ exchange:\n",
    "\n",
    "\\begin{equation}\n",
    "\\frac{\\delta \n",
    " H^{LDA}[\\rho](\\vec{r'};\\;\\vec{\\Theta})\n",
    "}{\\delta \\rho(\\vec{r})} = \\frac{1}{|\\vec{r'}-\\vec{r}|}\n",
    "+\n",
    "\\frac{\\partial V_{XC}(\\rho;\\;\\vec{\\Theta})}{\\partial \\rho}\\delta(\\vec{r'} - \\vec{r}) = \\frac{1}{|\\vec{r}-\\vec{r'}|}\n",
    "+\n",
    "\\frac{\\partial V_{XC}(\\rho;\\;\\vec{\\Theta})}{\\partial \\rho}\\delta(\\vec{r} - \\vec{r'}) = \\frac{\\delta \n",
    " H^{LDA}[\\rho](\\vec{r};\\;\\vec{\\Theta})\n",
    "}{\\delta \\rho(\\vec{r'})}\n",
    "\\end{equation}\n",
    "\n",
    "It helps us to show $\\boldsymbol{G} = \\boldsymbol{G}^T$:\n",
    "\n",
    "\\begin{equation}\n",
    "\\begin{aligned}\n",
    "\\boldsymbol{G}^T = &\\left(\\iint (\\vec{\\chi}(\\vec{r}) \\otimes\\vec{\\chi}(\\vec{r}))\\frac{\\delta \n",
    " H[\\rho](\\vec{r};\\;\\vec{\\Theta})\n",
    "}{\\delta \\rho(\\vec{r'})}(\\vec{\\chi}^T(\\vec{r'}) \\otimes\\vec{\\chi}^T(\\vec{r'}))d\\vec{r}d\\vec{r'}\\right)^T \\\\\n",
    "&\\left(\\iint (\\vec{\\chi}(\\vec{r'}) \\otimes\\vec{\\chi}(\\vec{r'}))\\frac{\\delta \n",
    " H[\\rho](\\vec{r};\\;\\vec{\\Theta})\n",
    "}{\\delta \\rho(\\vec{r'})}(\\vec{\\chi}^T(\\vec{r}) \\otimes\\vec{\\chi}^T(\\vec{r})) d\\vec{r}d\\vec{r'}\\right) = \\\\\n",
    "&\\left(\\iint (\\vec{\\chi}(\\vec{r}) \\otimes\\vec{\\chi}(\\vec{r}))\\frac{\\delta \n",
    " H[\\rho](\\vec{r'};\\;\\vec{\\Theta})\n",
    "}{\\delta \\rho(\\vec{r})}(\\vec{\\chi}^T(\\vec{r'}) \\otimes\\vec{\\chi}^T(\\vec{r'})) d\\vec{r'}d\\vec{r}\\right) = \\\\\n",
    "&\\left(\\iint (\\vec{\\chi}(\\vec{r}) \\otimes\\vec{\\chi}(\\vec{r}))\\frac{\\delta \n",
    " H[\\rho](\\vec{r};\\;\\vec{\\Theta})\n",
    "}{\\delta \\rho(\\vec{r'})}(\\vec{\\chi}^T(\\vec{r'}) \\otimes\\vec{\\chi}^T(\\vec{r'})) d\\vec{r}d\\vec{r'}\\right) = \\boldsymbol{G}\n",
    "\\end{aligned}\n",
    "\\end{equation}\n",
    "\n",
    "Now it is clear that\n",
    "\n",
    "\\begin{equation}\n",
    "\\label{alpha-is-symmetric-matrix}\n",
    "\\begin{gathered}\n",
    "\\frac{\\partial\\vec{\\Phi}^R(\\boldsymbol{C},\\boldsymbol{\\epsilon};\\;\\vec{\\Theta})}{\\partial \\vec{C}} = 2\\bar{f}(\\boldsymbol{\\bar{C}}^T \\otimes \\boldsymbol{I}_{N_{bas}})\\boldsymbol{G}(\\boldsymbol{\\bar{C}} \\otimes \\boldsymbol{I}_{N_{bas}}) +\n",
    "(\\boldsymbol{I}_{N_{orb}^{occ}} \\otimes\\boldsymbol{F}) -\n",
    "(\\boldsymbol{\\bar{\\epsilon}} \\otimes \\boldsymbol{S})\n",
    "\\end{gathered}\n",
    "\\end{equation}\n",
    "\n",
    "is symmetric. This fact may help us to speed up calculation of this matrix.\n"
   ]
  },
  {
   "cell_type": "markdown",
   "metadata": {
    "datalore": {
     "hide_input_from_viewers": false,
     "hide_output_from_viewers": false,
     "node_id": "2rd8cXFrI617GyeNAptEQ6",
     "report_properties": {},
     "type": "MD"
    }
   },
   "source": [
    "## Preparing the globals"
   ]
  },
  {
   "cell_type": "markdown",
   "metadata": {
    "datalore": {
     "hide_input_from_viewers": false,
     "hide_output_from_viewers": false,
     "node_id": "pC39fktFfS3knkTgR6lG6m",
     "report_properties": {},
     "type": "MD"
    }
   },
   "source": [
    "### Imports"
   ]
  },
  {
   "cell_type": "code",
   "execution_count": 1,
   "metadata": {
    "datalore": {
     "hide_input_from_viewers": false,
     "hide_output_from_viewers": false,
     "node_id": "V96IjHZ3bQiFZvggM3jn6C",
     "report_properties": {},
     "type": "CODE"
    }
   },
   "outputs": [],
   "source": [
    "import dqc\n",
    "import pyscf\n",
    "from pyscf import gto, dft, scf, cc\n",
    "import numpy\n",
    "import torch\n",
    "import xitorch as xt\n",
    "from math import pi\n",
    "import sys \n",
    "import time\n",
    "import pandas as pd\n",
    "from IPython.display import display, HTML, Math\n",
    "import numba as nb\n",
    "import matplotlib.pyplot as plt"
   ]
  },
  {
   "cell_type": "code",
   "execution_count": 2,
   "metadata": {},
   "outputs": [
    {
     "name": "stdout",
     "output_type": "stream",
     "text": [
      "PySCF version: 2.1.1\n",
      "DQC version: 0.1.0\n"
     ]
    }
   ],
   "source": [
    "print(f'PySCF version: {pyscf.__version__}')\n",
    "print(f'DQC version: {dqc.__version__}')"
   ]
  },
  {
   "cell_type": "markdown",
   "metadata": {
    "datalore": {
     "hide_input_from_viewers": false,
     "hide_output_from_viewers": false,
     "node_id": "6CF1mprvoXZlBRoEL7WP2t",
     "report_properties": {},
     "type": "MD"
    }
   },
   "source": [
    "### Molecules definitions"
   ]
  },
  {
   "cell_type": "code",
   "execution_count": 3,
   "metadata": {
    "datalore": {
     "hide_input_from_viewers": false,
     "hide_output_from_viewers": false,
     "node_id": "lESczcDxOmGdqByoPm9dzW",
     "report_properties": {},
     "type": "CODE"
    }
   },
   "outputs": [],
   "source": [
    "molecules = {\n",
    "    \"h2\"       :  \"\"\"\n",
    "                  H 0 0 0; H 1.4 0 0\n",
    "                  \"\"\"\n",
    "    ,\n",
    "    \"n2\"       :  \"\"\"\n",
    "                  N 0 0 0; N 2.07 0 0\n",
    "                  \"\"\"\n",
    "    ,\n",
    "    \"water\"    : \"\"\"\n",
    "                 O        0.000000000      0.000000000      0.000000000;\n",
    "                 H        0.000000000      1.434938863      1.126357947;\n",
    "                 H        0.000000000     -1.434938863      1.12635794\n",
    "                 \"\"\"\n",
    "     ,\n",
    "     \"ammonia\" : \"\"\"\n",
    "                 N  0.000  0.000  0.000;\n",
    "                 H  0.000 -1.772 -0.721; \n",
    "                 H  1.535  0.886 -0.721; \n",
    "                 H -1.535  0.886 -0.721\n",
    "                 \"\"\"\n",
    "    ,\n",
    "    \"benzene\" : \"\"\"\n",
    "                C        0.598362921      0.000000000     -4.742986733;\n",
    "                C       -0.557705772     -0.354690359     -4.044822733;\n",
    "                C        1.754431614      0.354690359     -4.044822733;\n",
    "                H       -1.457130878     -0.630640582     -4.587995733;\n",
    "                H        2.653856720      0.630640582     -4.587995733;\n",
    "                C       -0.557705772     -0.354690359     -2.648492733;\n",
    "                C        1.754431614      0.354690359     -2.648492733;\n",
    "                H       -1.457130878     -0.630640582     -2.105319733;\n",
    "                H        2.653856720      0.630640582     -2.105319733;\n",
    "                C        0.598362921      0.000000000     -1.950328733;\n",
    "                H        0.598362921      0.000000000     -0.863981733;\n",
    "                H        0.598362921      0.000000000     -5.829333733\n",
    "                \"\"\"\n",
    "    ,\n",
    "    \"naphtalene\": \"\"\"\n",
    "                H       -1.057571674      0.000000000     -4.361571149;\n",
    "                C       -1.057571674      0.487597890     -3.390034963;\n",
    "                C       -1.057571674      1.860916946     -3.299493774;\n",
    "                C       -1.057571674      2.493399263     -2.031832408;\n",
    "                C       -1.057571674      1.739878824     -0.880133713;\n",
    "                C       -1.057571674      0.320033769     -0.937967730;\n",
    "                C       -1.057571674     -0.320033769     -2.220831877;\n",
    "                C       -1.057571674     -1.739878824     -2.278665893;\n",
    "                C       -1.057571674     -2.493399263     -1.126967199;\n",
    "                C       -1.057571674     -1.860916946      0.140694168;\n",
    "                C       -1.057571674     -0.487597890      0.231235357;\n",
    "                H       -1.057571674      2.466184811     -4.201283252;\n",
    "                H       -1.057571674      3.577893185     -1.973126484;\n",
    "                H       -1.057571674      2.222891720      0.093690092;\n",
    "                H       -1.057571674      0.000000000      1.202771542;\n",
    "                H       -1.057571674     -2.466184811      1.042483645;\n",
    "                H       -1.057571674     -3.577893185     -1.185673122;\n",
    "                H       -1.057571674     -2.222891720     -3.252489699\n",
    "                \"\"\"\n",
    "    ,\n",
    "    \"anthracene\": \"\"\"\n",
    "                C        1.044178831     -0.528233237     -4.684523771;\n",
    "                C        1.044178831     -0.552713285     -3.254782652;\n",
    "                C        1.044178831     -1.749044624     -2.526815306;\n",
    "                C        1.044178831      0.704131514     -2.541488804;\n",
    "                C        1.044178831      0.692578077     -1.141127549;\n",
    "                C        1.044178831     -0.503753261     -0.413160203;\n",
    "                C        1.044178831     -1.760598060     -1.126454051;\n",
    "                C        1.044178831      0.658108897     -5.368920348;\n",
    "                C        1.044178831      1.919058175     -3.295618865;\n",
    "                H        1.044178831      1.638563069     -0.604255156;\n",
    "                C        1.044178831     -0.528233309      1.016580916;\n",
    "                C        1.044178831     -2.975524721     -0.372323990;\n",
    "                C        1.044178831     -2.954793300      0.997119891;\n",
    "                C        1.044178831     -1.714574573      1.700977987;\n",
    "                H        1.044178831      0.418178836      1.551045394;\n",
    "                H        1.044178831     -3.919661467     -0.910797789;\n",
    "                H        1.044178831     -3.885538136      1.556731594;\n",
    "                H        1.044178831     -1.717772077      2.786998206;\n",
    "                C        1.044178831      1.898326754     -4.665062745;\n",
    "                H        1.044178831     -1.474645383     -5.218988249;\n",
    "                H        1.044178831     -2.695029615     -3.063687699;\n",
    "                H        1.044178831      0.661305531     -6.454941061;\n",
    "                H        1.044178831      2.863194921     -2.757145066;\n",
    "                H        1.044178831      2.829071589     -5.224674449\n",
    "                \"\"\"\n",
    "}"
   ]
  },
  {
   "cell_type": "code",
   "execution_count": 4,
   "metadata": {},
   "outputs": [],
   "source": [
    "large_molecules = [\"naphtalene\", \"anthracene\"]"
   ]
  },
  {
   "cell_type": "markdown",
   "metadata": {
    "datalore": {
     "hide_input_from_viewers": true,
     "hide_output_from_viewers": true,
     "node_id": "qjuHzjjZfJaIcOIhLrbdLB",
     "type": "MD"
    }
   },
   "source": [
    "### Test results storage"
   ]
  },
  {
   "cell_type": "code",
   "execution_count": 5,
   "metadata": {
    "datalore": {
     "hide_input_from_viewers": true,
     "hide_output_from_viewers": true,
     "node_id": "5GuoHEv6WP9UDWCOUkmyGF",
     "type": "CODE"
    }
   },
   "outputs": [],
   "source": [
    "results = {\n",
    "    \"pyscf\":            {},\n",
    "    \"pyscf_custom\":   {},\n",
    "    \"pyscf_ccsdt\":      {},\n",
    "    \"pyscf_adjoint\":    {},\n",
    "    \"dqc\":              {},\n",
    "    \"dqc_autograd\":     {}\n",
    "}\n",
    "\n",
    "for method in results:\n",
    "    for mol in molecules:\n",
    "        results[method][mol] = {}"
   ]
  },
  {
   "cell_type": "markdown",
   "metadata": {
    "datalore": {
     "hide_input_from_viewers": false,
     "hide_output_from_viewers": false,
     "node_id": "tErq97jOzVSbusn9Qpi8ju",
     "report_properties": {},
     "type": "MD"
    }
   },
   "source": [
    "## Custom functionals\n",
    "\n",
    "Here we take a look at the ways to implement an LDA functional and compare them to some built-in methods."
   ]
  },
  {
   "cell_type": "markdown",
   "metadata": {
    "datalore": {
     "hide_input_from_viewers": false,
     "hide_output_from_viewers": false,
     "node_id": "c806BJg47HMXR3Eqrppftl",
     "report_properties": {},
     "type": "MD"
    }
   },
   "source": [
    "### PySCF\n",
    "\n",
    "PySCF accepts custom functionals as Python functions"
   ]
  },
  {
   "cell_type": "code",
   "execution_count": 6,
   "metadata": {
    "datalore": {
     "hide_input_from_viewers": true,
     "hide_output_from_viewers": true,
     "node_id": "iLDNI8SeDIrRd1K7AqA6eB",
     "type": "CODE"
    }
   },
   "outputs": [],
   "source": [
    "def custom_eval_xc_LDA(a, p):\n",
    "    def eval_xc(xc_code, rho, *args, **kwargs):\n",
    "        exc = a * rho ** (p - 1.0)\n",
    "        vrho = a * p * rho ** (p - 1.0)\n",
    "        vxc = (vrho, None, None, None)\n",
    "        fxc = a * p * (p - 1.0) * rho ** (p - 2.0)\n",
    "        return exc, vxc, fxc, None\n",
    "    return eval_xc"
   ]
  },
  {
   "cell_type": "code",
   "execution_count": 7,
   "metadata": {
    "datalore": {
     "hide_input_from_viewers": true,
     "hide_output_from_viewers": true,
     "node_id": "0ynlH5LkdPZXEsDBKlt7M6",
     "type": "CODE"
    }
   },
   "outputs": [],
   "source": [
    "def scf_custom(mol_name, a = 1, p = 2, silent = False):\n",
    "    start = time.time()\n",
    "    mol = molecules[mol_name]\n",
    "    scf_mol = gto.M(atom=mol, basis=\"6-31G\", unit=\"Bohr\", verbose=0)\n",
    "    \n",
    "    # Timer\n",
    "    start = time.time()\n",
    "    calc_scf = dft.RKS(scf_mol)\n",
    "    calc_scf = calc_scf.define_xc_(custom_eval_xc_LDA(a, p), \"LDA\")\n",
    "    energy = calc_scf.kernel()\n",
    "    dur = time.time() - start\n",
    "    \n",
    "    if not silent:\n",
    "        print(f\"For {mol_name} {energy=} ({a=}, {p=})\")\n",
    "        if not calc_scf.converged:\n",
    "            print(f\"Calculation for {mol_name} did not converge\", file=sys.stderr)\n",
    "    return energy, calc_scf.converged, dur"
   ]
  },
  {
   "cell_type": "markdown",
   "metadata": {
    "datalore": {
     "hide_input_from_viewers": false,
     "hide_output_from_viewers": false,
     "node_id": "8qLmEZoUjxKVObWR3zoGxx",
     "report_properties": {},
     "type": "MD"
    }
   },
   "source": [
    "#### Built-in functional\n",
    "To compare the results, we would use PySCF's built-in implementation of the same functional"
   ]
  },
  {
   "cell_type": "code",
   "execution_count": 8,
   "metadata": {
    "datalore": {
     "hide_input_from_viewers": false,
     "hide_output_from_viewers": false,
     "node_id": "BaI5aXGDrQurUm2T9Aiy2f",
     "report_properties": {},
     "type": "CODE"
    }
   },
   "outputs": [],
   "source": [
    "def scf_builtin(_mol_name, silent = False):\n",
    "    mol = molecules[_mol_name]\n",
    "    scf_mol = gto.M(atom=mol, basis=\"6-31G\", unit=\"Bohr\", verbose=0)\n",
    "    \n",
    "    #Timer\n",
    "    start = time.time()\n",
    "    calc_scf = dft.RKS(scf_mol)\n",
    "    calc_scf.xc = \"lda,\" # Built-in LDA functional implementation\n",
    "    energy = calc_scf.kernel()\n",
    "    dur = time.time() - start\n",
    "    \n",
    "    if not silent:\n",
    "        print(f\"For {_mol_name} {energy=}\")\n",
    "        if not calc_scf.converged:\n",
    "            print(f\"Calculation for {_mol_name} did not converge\", file=sys.stderr)\n",
    "    return energy, calc_scf.converged, dur"
   ]
  },
  {
   "cell_type": "markdown",
   "metadata": {
    "datalore": {
     "hide_input_from_viewers": true,
     "hide_output_from_viewers": true,
     "node_id": "tf9s2S2OuoqX9MSN0fHTVn",
     "type": "MD"
    }
   },
   "source": [
    "#### CCSD(T)"
   ]
  },
  {
   "cell_type": "code",
   "execution_count": 9,
   "metadata": {
    "datalore": {
     "hide_input_from_viewers": true,
     "hide_output_from_viewers": true,
     "node_id": "u8lMaSBzCOa4pIYY5pBMlG",
     "type": "CODE"
    }
   },
   "outputs": [],
   "source": [
    "def scf_ccsdt(_mol_name, silent = False):\n",
    "    mol = molecules[_mol_name]\n",
    "    scf_mol = gto.M(atom=mol, basis=\"6-31G\", unit=\"Bohr\", verbose=0)\n",
    "    \n",
    "    #Timer\n",
    "    start = time.time()\n",
    "    hf_ = scf.HF(scf_mol)\n",
    "    hf = hf_.run()\n",
    "    calc_scf = cc.CCSD(hf)\n",
    "    _en = calc_scf.kernel()\n",
    "    et = calc_scf.ccsd_t()\n",
    "    energy = calc_scf.e_tot + et\n",
    "    dur = time.time() - start\n",
    "    \n",
    "    if not silent:\n",
    "        print(f\"For {_mol_name} {energy=}\")\n",
    "        if not calc_scf.converged:\n",
    "            print(f\"Calculation for {_mol_name} did not converge\", file=sys.stderr)\n",
    "    return energy, calc_scf.converged, dur"
   ]
  },
  {
   "cell_type": "markdown",
   "metadata": {
    "datalore": {
     "hide_input_from_viewers": true,
     "hide_output_from_viewers": true,
     "node_id": "CabErmrEgIuTlRyQ4iQU4l",
     "type": "MD"
    }
   },
   "source": [
    "### DQC\n",
    "\n",
    "DQC accepts custom functionals as objects of classes derived from `dqc.xc.CustomXC`"
   ]
  },
  {
   "cell_type": "code",
   "execution_count": 10,
   "metadata": {
    "datalore": {
     "hide_input_from_viewers": true,
     "hide_output_from_viewers": true,
     "node_id": "ZXuDyJAUqa73YFbnXcLJaF",
     "type": "CODE"
    }
   },
   "outputs": [],
   "source": [
    "class MyLDAX(dqc.xc.CustomXC):\n",
    "    def __init__(self, a_par, p_par):\n",
    "        super().__init__()\n",
    "        self.a_par = a_par\n",
    "        self.p_par = p_par\n",
    "        self.number_of_parameters = 2\n",
    "\n",
    "    @property\n",
    "    def family(self):\n",
    "        # 1 for LDA, 2 for GGA, 4 for MGGA\n",
    "        return 1\n",
    "\n",
    "    def get_edensityxc(self, densinfo):\n",
    "        # densinfo has up and down components\n",
    "        if isinstance(densinfo, dqc.utils.SpinParam):\n",
    "            # spin-scaling of the exchange energy\n",
    "            return 0.5 * (self.get_edensityxc(densinfo.u * 2) + self.get_edensityxc(densinfo.d * 2))\n",
    "        else:\n",
    "            rho = densinfo.value.abs() + 1e-15  # safeguarding from nan\n",
    "            return self.a_par * rho ** self.p_par\n",
    "        \n",
    "    def get_edensityxc_derivative(self, densinfo, number_of_parameter):\n",
    "        # densinfo has up and down components\n",
    "        if isinstance(densinfo, dqc.utils.SpinParam):\n",
    "            # spin-scaling of the exchange energy\n",
    "            return 0.5 * (self.get_edensityxc_derivative(densinfo.u * 2, number_of_parameter) \n",
    "                          + self.get_edensityxc_derivative(densinfo.d * 2, number_of_parameter))\n",
    "        else:\n",
    "            rho = densinfo.value.abs() + 1e-15  # safeguarding from nan\n",
    "            if number_of_parameter == 0: # parameter a\n",
    "                return rho ** self.p_par\n",
    "            elif number_of_parameter == 1: # parameter p\n",
    "                return self.a_par * torch.log(rho) * rho ** self.p_par"
   ]
  },
  {
   "cell_type": "code",
   "execution_count": 11,
   "metadata": {
    "datalore": {
     "hide_input_from_viewers": true,
     "hide_output_from_viewers": true,
     "node_id": "x49ZfU4LdQIL1KsmxSnKbp",
     "type": "CODE"
    }
   },
   "outputs": [],
   "source": [
    "def dqc_custom(_mol_name, a = 1.0, p = 2.0, silent = False):\n",
    "    mol = molecules[_mol_name]\n",
    "    atmozs, atomposs = dqc.parse_moldesc(mol)\n",
    "    dqc_mol = dqc.Mol((atmozs, atomposs), basis=\"6-31G\")\n",
    "    \n",
    "    #Timer\n",
    "    start = time.time()\n",
    "    a_par = torch.nn.Parameter(torch.tensor(a, dtype=torch.double))\n",
    "    p_par = torch.nn.Parameter(torch.tensor(p, dtype=torch.double))\n",
    "    qc = dqc.KS(dqc_mol, xc=MyLDAX(a_par, p_par))\n",
    "    \n",
    "    #Timer\n",
    "    start = time.time()\n",
    "    energy_tensor = qc.run().energy()\n",
    "    energy = energy_tensor.item()\n",
    "    dur = time.time() - start\n",
    "\n",
    "    if not silent:\n",
    "        print(f\"For {_mol_name} {energy=} ({a=}, {p=})\")\n",
    "    return energy_tensor, True, dur"
   ]
  },
  {
   "cell_type": "markdown",
   "metadata": {
    "datalore": {
     "hide_input_from_viewers": true,
     "hide_output_from_viewers": true,
     "node_id": "CSjHTRCB8P0ZifrjITux2s",
     "type": "MD"
    }
   },
   "source": [
    "### Comparison test\n",
    "\n",
    "Let's compare all of the above methods (also, for convenience, all of the results are compiled at the end of the notebook in tables)."
   ]
  },
  {
   "cell_type": "code",
   "execution_count": 12,
   "metadata": {
    "datalore": {
     "hide_input_from_viewers": true,
     "hide_output_from_viewers": true,
     "node_id": "UY1XdShEAtxTvCwwmS7Jnx",
     "type": "CODE"
    }
   },
   "outputs": [
    {
     "name": "stdout",
     "output_type": "stream",
     "text": [
      "CCSD(T):       For h2 energy=-1.1516791660767667\n",
      "Builtin:       For h2 energy=-1.0386177856738823\n",
      "PySCF custom:  "
     ]
    },
    {
     "name": "stderr",
     "output_type": "stream",
     "text": [
      "/tmp/ipykernel_250051/3012560341.py:6: RuntimeWarning: divide by zero encountered in power\n",
      "  fxc = a * p * (p - 1.0) * rho ** (p - 2.0)\n"
     ]
    },
    {
     "name": "stdout",
     "output_type": "stream",
     "text": [
      "For h2 energy=-1.0386177856738819 (a=-0.7385587663820223, p=1.3333333333333333)\n",
      "DQC custom:    For h2 energy=-1.0386170699228439 (a=-0.7385587663820223, p=1.3333333333333333)\n",
      "---><---\n",
      "CCSD(T):       For n2 energy=-109.10264680112462\n",
      "Builtin:       For n2 energy=-107.63947353831054\n",
      "PySCF custom:  For n2 energy=-107.63947353831057 (a=-0.7385587663820223, p=1.3333333333333333)\n",
      "DQC custom:    For n2 energy=-107.63947314633586 (a=-0.7385587663820223, p=1.3333333333333333)\n",
      "---><---\n",
      "CCSD(T):       For water energy=-76.12064120720748\n",
      "Builtin:       For water energy=-75.15470534025634\n",
      "PySCF custom:  For water energy=-75.15470534025629 (a=-0.7385587663820223, p=1.3333333333333333)\n",
      "DQC custom:    For water energy=-75.1546946530215 (a=-0.7385587663820223, p=1.3333333333333333)\n",
      "---><---\n",
      "CCSD(T):       For ammonia energy=-56.29214916490406\n",
      "Builtin:       For ammonia energy=-55.41360440678279\n",
      "PySCF custom:  For ammonia energy=-55.413604406782774 (a=-0.7385587663820223, p=1.3333333333333333)\n",
      "DQC custom:    For ammonia energy=-55.41360102926498 (a=-0.7385587663820223, p=1.3333333333333333)\n",
      "---><---\n",
      "CCSD(T):       For benzene energy=-217.07797043609426\n",
      "Builtin:       For benzene energy=-213.4146842159593\n",
      "PySCF custom:  For benzene energy=-213.4146842159676 (a=-0.7385587663820223, p=1.3333333333333333)\n",
      "DQC custom:    For benzene energy=-213.41430597686036 (a=-0.7385587663820223, p=1.3333333333333333)\n",
      "---><---\n",
      "CCSD(T):       For naphtalene energy=-360.24270680260065\n",
      "Builtin:       For naphtalene energy=-354.3037921030168\n",
      "PySCF custom:  For naphtalene energy=-354.3037920668951 (a=-0.7385587663820223, p=1.3333333333333333)\n",
      "DQC custom:    For naphtalene energy=-354.2950686671031 (a=-0.7385587663820223, p=1.3333333333333333)\n",
      "---><---\n",
      "CCSD(T):       For anthracene energy=-503.42435470804605\n",
      "Builtin:       For anthracene energy=-495.21136289169385\n",
      "PySCF custom:  "
     ]
    },
    {
     "name": "stderr",
     "output_type": "stream",
     "text": [
      "Calculation for anthracene did not converge\n"
     ]
    },
    {
     "name": "stdout",
     "output_type": "stream",
     "text": [
      "For anthracene energy=-495.21136270113266 (a=-0.7385587663820223, p=1.3333333333333333)\n",
      "DQC custom:    "
     ]
    },
    {
     "name": "stderr",
     "output_type": "stream",
     "text": [
      "Calculation for anthracene did not converge\n"
     ]
    },
    {
     "name": "stdout",
     "output_type": "stream",
     "text": [
      "For anthracene energy=-495.1701327036865 (a=-0.7385587663820223, p=1.3333333333333333)\n",
      "---><---\n"
     ]
    }
   ],
   "source": [
    "factor = -3.0/4.0 * (3.0 / pi)**(1.0/3.0)\n",
    "power = 4.0/3.0\n",
    "\n",
    "for mol in molecules:\n",
    "    print(\"CCSD(T):       \", end='')\n",
    "    e, c, d = scf_ccsdt(mol)\n",
    "    results[\"pyscf_ccsdt\"][mol][\"energy\"] = e\n",
    "    results[\"pyscf_ccsdt\"][mol][\"converged\"] = c\n",
    "    results[\"pyscf_ccsdt\"][mol][\"time\"] = d\n",
    "    print(\"Builtin:       \", end='')\n",
    "    e, c, d = scf_builtin(mol)\n",
    "    results[\"pyscf\"][mol][\"energy\"] = e\n",
    "    results[\"pyscf\"][mol][\"converged\"] = c\n",
    "    results[\"pyscf\"][mol][\"time\"] = d\n",
    "    print(\"PySCF custom:  \", end='')\n",
    "    e, c, d = scf_custom(mol, factor, power)\n",
    "    results[\"pyscf_custom\"][mol][\"energy\"] = e\n",
    "    results[\"pyscf_custom\"][mol][\"converged\"] = c\n",
    "    results[\"pyscf_custom\"][mol][\"time\"] = d\n",
    "    print(\"DQC custom:    \", end='')\n",
    "    e, c, d = dqc_custom(mol, factor, power)\n",
    "    results[\"dqc\"][mol][\"energy\"] = e.item()\n",
    "    results[\"dqc\"][mol][\"converged\"] = c\n",
    "    results[\"dqc\"][mol][\"time\"] = d\n",
    "    \n",
    "    print(\"---><---\")"
   ]
  },
  {
   "cell_type": "markdown",
   "metadata": {
    "datalore": {
     "hide_input_from_viewers": false,
     "hide_output_from_viewers": false,
     "node_id": "oqSHKSEWrAT2qsYRaJyONL",
     "report_properties": {},
     "type": "MD"
    }
   },
   "source": [
    "## Calculating energy derivatives\n",
    "\n",
    "Some basic ways to compute energy derivatives are finite differences. DQC also allows to make use of PyTorch's `autograd`.\n",
    "\n",
    "From now on, all of the calculations will rely on user defined functionals."
   ]
  },
  {
   "cell_type": "markdown",
   "metadata": {
    "datalore": {
     "hide_input_from_viewers": true,
     "hide_output_from_viewers": true,
     "node_id": "ZjOuChfOcdb0cfKcmfVCns",
     "type": "MD"
    }
   },
   "source": [
    "### Finite differences\n",
    "\n",
    "Calculating derivatives via finite difference is straighforward once there is a way to calculate energy:"
   ]
  },
  {
   "cell_type": "code",
   "execution_count": 13,
   "metadata": {
    "datalore": {
     "hide_input_from_viewers": true,
     "hide_output_from_viewers": true,
     "node_id": "ZS5Qm9R8TG3ohxZlQrEtW5",
     "type": "CODE"
    }
   },
   "outputs": [],
   "source": [
    "def fd(method, _mol_name, a, p, bump_factor=0.00001):\n",
    "    c = True\n",
    "    en, c1, dur = method(_mol_name, a, p, silent = True)\n",
    "    c &= c1\n",
    "    da = a * bump_factor\n",
    "    dp = p * bump_factor\n",
    "\n",
    "    en_da, c1, dur1 = method(_mol_name, a + da, p, silent = True)\n",
    "    c &= c1\n",
    "    en_dp, c1, dur2 = method(_mol_name, a, p + dp, silent = True)\n",
    "    c &= c1\n",
    "\n",
    "    dea = (en_da - en) / da\n",
    "    dep = (en_dp - en) / dp\n",
    "\n",
    "    if not c:\n",
    "        print(f\"One of finite difference computations for {_mol_name} didn't converge with {method}\")\n",
    "\n",
    "    return dea, dep, dur + dur1 + dur2"
   ]
  },
  {
   "cell_type": "markdown",
   "metadata": {
    "datalore": {
     "hide_input_from_viewers": true,
     "hide_output_from_viewers": true,
     "node_id": "qrTQdCyZr8mHVAKz5Dn9tM",
     "type": "MD"
    }
   },
   "source": [
    "### DQC and `torch.autograd`"
   ]
  },
  {
   "cell_type": "code",
   "execution_count": 14,
   "metadata": {
    "datalore": {
     "hide_input_from_viewers": true,
     "hide_output_from_viewers": true,
     "node_id": "qklrokRZgCJ6HaWMU47ZpQ",
     "type": "CODE"
    }
   },
   "outputs": [],
   "source": [
    "def dqc_autograd(_mol_name, a, p):\n",
    "    mol = molecules[_mol_name]\n",
    "    atmozs, atomposs = dqc.parse_moldesc(mol)\n",
    "    dqc_mol = dqc.Mol((atmozs, atomposs), basis=\"6-31G\")\n",
    "    \n",
    "    #Timer\n",
    "    start = time.time()\n",
    "    a_par = torch.nn.Parameter(torch.tensor(a, dtype=torch.double))\n",
    "    p_par = torch.nn.Parameter(torch.tensor(p, dtype=torch.double))\n",
    "    qc = dqc.KS(dqc_mol, xc=MyLDAX(a_par, p_par))\n",
    "    \n",
    "    energy_tensor = qc.run().energy()\n",
    "    grad = torch.autograd.grad(energy_tensor, (a_par, p_par))\n",
    "    dur = time.time() - start\n",
    "\n",
    "    return grad[0], grad[1], dur"
   ]
  },
  {
   "cell_type": "markdown",
   "metadata": {
    "datalore": {
     "hide_input_from_viewers": true,
     "hide_output_from_viewers": true,
     "node_id": "6KDkcf79sfPEemqi03WsDN",
     "type": "MD"
    }
   },
   "source": [
    "### Comparison test\n",
    "\n",
    "Derivatives computations are compared at the end of the notebook."
   ]
  },
  {
   "cell_type": "markdown",
   "metadata": {
    "datalore": {
     "hide_input_from_viewers": true,
     "hide_output_from_viewers": true,
     "node_id": "jE7QhzsPOXSZSHgKohPYF0",
     "type": "MD"
    }
   },
   "source": [
    "## Adjoint derivatives"
   ]
  },
  {
   "cell_type": "markdown",
   "metadata": {
    "datalore": {
     "hide_input_from_viewers": true,
     "hide_output_from_viewers": true,
     "node_id": "fDE7wdj18sEXBFfslxXZRt",
     "type": "MD"
    }
   },
   "source": [
    "### Full algorithm in DQC"
   ]
  },
  {
   "cell_type": "markdown",
   "metadata": {
    "datalore": {
     "hide_input_from_viewers": true,
     "hide_output_from_viewers": true,
     "node_id": "Lm4lw1RuKp9OVUYRfwqBts",
     "type": "MD"
    }
   },
   "source": [
    "#### Preparing for calculation\n",
    "\n",
    "Initialize the system, DQC, and set up some variables"
   ]
  },
  {
   "cell_type": "code",
   "execution_count": 15,
   "metadata": {
    "datalore": {
     "hide_input_from_viewers": true,
     "hide_output_from_viewers": true,
     "node_id": "th08MEmgwYVXE0MLgrDk6q",
     "type": "CODE"
    }
   },
   "outputs": [],
   "source": [
    "from dqc.utils.datastruct import SpinParam, ValGrad\n",
    "\n",
    "a = 1.0\n",
    "p = 2.0\n",
    "mol_name = \"water\"\n",
    "\n",
    "a_par = torch.nn.Parameter(torch.tensor(a, dtype=torch.double))\n",
    "p_par = torch.nn.Parameter(torch.tensor(p, dtype=torch.double))\n",
    "aj_mol = molecules[mol_name]\n",
    "atmozs, atomposs = dqc.parse_moldesc(aj_mol)\n",
    "dqc_mol = dqc.Mol((atmozs, atomposs), basis=\"6-31G\")\n",
    "qc = dqc.KS(dqc_mol, xc=MyLDAX(a_par, p_par)).run()"
   ]
  },
  {
   "cell_type": "code",
   "execution_count": 16,
   "metadata": {
    "datalore": {
     "hide_input_from_viewers": true,
     "hide_output_from_viewers": true,
     "node_id": "mYbPHZGhmG3u0T0nylnxEC",
     "type": "CODE"
    }
   },
   "outputs": [],
   "source": [
    "def _symm(scp: torch.Tensor):\n",
    "    # forcely symmetrize the tensor\n",
    "    return (scp + scp.transpose(-2, -1)) * 0.5\n",
    "\n",
    "dm = qc._dm.detach().clone()\n",
    "noccorb = qc._engine.hf_engine._norb\n",
    "nallorb = qc.get_system().get_hamiltonian().nao\n",
    "fockian = qc._engine.dm2scp(dm).detach().clone()\n",
    "\n",
    "def eigendecomposition(hf_engine):\n",
    "    if not hf_engine._polarized:\n",
    "        fock = xt.LinearOperator.m(_symm(fockian), is_hermitian=True)\n",
    "        return hf_engine.diagonalize(fock, noccorb)\n",
    "    else:\n",
    "        fock_u = xt.LinearOperator.m(_symm(fockian[0]), is_hermitian=True)\n",
    "        fock_d = xt.LinearOperator.m(_symm(fockian[1]), is_hermitian=True)\n",
    "        return hf_engine.diagonalize(hf_engine, SpinParam(u=fock_u, d=fock_d))\n",
    "\n",
    "energies, coefficients = eigendecomposition(qc._engine.hf_engine)\n",
    "orboccs = qc._engine.orb_weight.detach().clone()"
   ]
  },
  {
   "cell_type": "markdown",
   "metadata": {
    "datalore": {
     "hide_input_from_viewers": true,
     "hide_output_from_viewers": true,
     "node_id": "2hIOmFqZlhml2bMbd0FRws",
     "type": "MD"
    }
   },
   "source": [
    "First, derivatives from energy:\n",
    "\n",
    "#### Calculating $\\frac{\\partial E[\\rho](\\vec{\\theta})}{\\partial \\textbf{C}}$\n",
    "\n",
    "Only canonical (i.e. eigenfunctions of fockian) orbitals can be used:\n",
    "$$ \\frac{\\partial E[\\rho](\\vec{\\theta})}{\\partial C_{bj}} = 2f_b \\sum_i C_{bi}F_{ij} = 2f_b \\epsilon_b C_{bj}$$\n",
    "so\n",
    "$$ \\frac{\\partial E[\\rho](\\vec{\\theta})}{\\partial \\textbf{C}} = 2\\textbf{f}\\epsilon\\textbf{C}$$\n",
    "$\\epsilon$ here is matrix: $\\epsilon_{ab}=\\delta_{ab}\\epsilon_a$"
   ]
  },
  {
   "cell_type": "code",
   "execution_count": 17,
   "metadata": {
    "datalore": {
     "hide_input_from_viewers": true,
     "hide_output_from_viewers": true,
     "node_id": "J8oi9udT0nqtPYzZYWMa2z",
     "type": "CODE"
    }
   },
   "outputs": [],
   "source": [
    "dE_wrt_dC = 2 * torch.einsum(\"b,ib,ij->bj\", orboccs, coefficients, fockian)"
   ]
  },
  {
   "cell_type": "markdown",
   "metadata": {
    "datalore": {
     "hide_input_from_viewers": true,
     "hide_output_from_viewers": true,
     "node_id": "XM813JtTQPwx51HxSJOu0s",
     "type": "MD"
    }
   },
   "source": [
    "#### Calculating $\\frac{\\partial E[\\rho](\\vec{\\theta})}{\\partial \\vec{\\epsilon}}$\n",
    "\n",
    "$$\\frac{\\partial E[\\rho](\\vec{\\theta})}{\\partial \\epsilon_{b}} = 0$$ for all $\\epsilon_b$. So:"
   ]
  },
  {
   "cell_type": "code",
   "execution_count": 18,
   "metadata": {
    "datalore": {
     "hide_input_from_viewers": true,
     "hide_output_from_viewers": true,
     "node_id": "T8ATaKezoqXIRVe6cDbm0Y",
     "type": "CODE"
    }
   },
   "outputs": [],
   "source": [
    "dE_wrt_depsilon = torch.zeros(noccorb)"
   ]
  },
  {
   "cell_type": "markdown",
   "metadata": {
    "datalore": {
     "hide_input_from_viewers": true,
     "hide_output_from_viewers": true,
     "node_id": "QYYMBK3Sw42gvywu1m4bs2",
     "type": "MD"
    }
   },
   "source": [
    "Then, derivatives from normalization equations:\n",
    "\n",
    "#### Calculating $\\frac{\\partial \\vec{r}(\\textbf{C})}{\\partial \\textbf{C}}$\n",
    "\n",
    "$$\\frac{\\partial r_{a}(\\textbf{C})}{\\partial C_{ck}} = 2\\delta_{ac}C_{ck}$$"
   ]
  },
  {
   "cell_type": "code",
   "execution_count": 19,
   "metadata": {
    "datalore": {
     "hide_input_from_viewers": true,
     "hide_output_from_viewers": true,
     "node_id": "ifqahl0MKmnqpDbRuQ7VEw",
     "type": "CODE"
    }
   },
   "outputs": [],
   "source": [
    "occupied_orbitals_kronecker = torch.eye(noccorb)\n",
    "dnorm_wrt_dC = 2 * torch.einsum(\"ac,kc->kac\", occupied_orbitals_kronecker, coefficients)"
   ]
  },
  {
   "cell_type": "markdown",
   "metadata": {
    "datalore": {
     "hide_input_from_viewers": true,
     "hide_output_from_viewers": true,
     "node_id": "urdg78pCr6YcvsWCfnBD6x",
     "type": "MD"
    }
   },
   "source": [
    "#### Calculating $\\frac{\\partial \\vec{r}(\\textbf{C})}{\\partial \\vec{\\epsilon}}$\n",
    "$$\\frac{\\partial r_{a}(\\textbf{C})}{\\partial \\epsilon_b} = 0$$"
   ]
  },
  {
   "cell_type": "code",
   "execution_count": 20,
   "metadata": {
    "datalore": {
     "hide_input_from_viewers": true,
     "hide_output_from_viewers": true,
     "node_id": "UQE5aNTCww7ePqalipH3Pg",
     "type": "CODE"
    }
   },
   "outputs": [],
   "source": [
    "dnorm_wrt_depsilon = torch.zeros((noccorb, noccorb))"
   ]
  },
  {
   "cell_type": "markdown",
   "metadata": {
    "datalore": {
     "hide_input_from_viewers": true,
     "hide_output_from_viewers": true,
     "node_id": "cXqmY0ErS20gavbrC8p9xu",
     "type": "MD"
    }
   },
   "source": [
    "Derivatives from Roothan equations:\n",
    "\n",
    "#### Calculating $\\frac{\\partial \\textbf{r}(\\textbf{C};\\;\\vec{\\theta})}{\\partial \\textbf{C}}$\n",
    "\n",
    "$$G_{Cou, ijkl} = \\iint b_i(\\vec{r}) \\frac{b_k(\\vec{r'})b_l(\\vec{r'})}{|\\vec{r}-\\vec{r'}|} b_j(\\vec{r})d\\vec{r'}d\\vec{r}$$\n",
    "$$G_{XC, ijkl} = \n",
    "\\int b_i(\\vec{r}) b_k(\\vec{r}) \\frac{\\partial V_{XC}[\\rho](\\vec{r};\\;\\vec{\\theta})}{\\partial \\rho(\\vec{r})}b_l(\\vec{r})b_j(\\vec{r})d\\vec{r}$$\n",
    "$$\\frac{\\partial r_{ia}(\\textbf{C};\\;\\vec{\\theta})}{\\partial C_{ck}} = \n",
    "(F_{ik}[\\rho](\\vec{\\theta}) - \\epsilon_c\\delta_{ik})\\delta_{ac} +\n",
    "2f_c\\sum_j \\sum_{l}C_{cl}\\left(G_{Cou,ijkl} + G_{XC,ijkl}\\right)C_{aj}\n",
    "$$"
   ]
  },
  {
   "cell_type": "markdown",
   "metadata": {
    "datalore": {
     "hide_input_from_viewers": true,
     "hide_output_from_viewers": true,
     "node_id": "CAK9js9lXIxdnUff3aeb1D",
     "type": "MD"
    }
   },
   "source": [
    "First term:"
   ]
  },
  {
   "cell_type": "code",
   "execution_count": 21,
   "metadata": {
    "datalore": {
     "hide_input_from_viewers": true,
     "hide_output_from_viewers": true,
     "node_id": "cyjnsCT5dISFvyhqMGRB4g",
     "type": "CODE"
    }
   },
   "outputs": [],
   "source": [
    "all_orbitals_kronecker = torch.eye(nallorb)\n",
    "dRoothan_wrt_dC_first_term = torch.einsum(\n",
    "                                            \"ik,ac->iakc\",\n",
    "                                            fockian,\n",
    "                                            occupied_orbitals_kronecker\n",
    "                                        )\n",
    "dRoothan_wrt_dC_first_term -= torch.einsum(\n",
    "                                            \"c,ik,ac->iakc\",\n",
    "                                            energies,\n",
    "                                            all_orbitals_kronecker,\n",
    "                                            occupied_orbitals_kronecker\n",
    "                                        )"
   ]
  },
  {
   "cell_type": "markdown",
   "metadata": {
    "datalore": {
     "hide_input_from_viewers": true,
     "hide_output_from_viewers": true,
     "node_id": "xnUyHKSTYp8BtijuCDo7l3",
     "type": "MD"
    }
   },
   "source": [
    "Second term (fourDtensor loses symmetry of XC-tensor):"
   ]
  },
  {
   "cell_type": "code",
   "execution_count": 22,
   "metadata": {
    "datalore": {
     "hide_input_from_viewers": true,
     "hide_output_from_viewers": true,
     "node_id": "okGj4baXcZIt7vfiD2Arft",
     "type": "CODE"
    }
   },
   "outputs": [
    {
     "name": "stdout",
     "output_type": "stream",
     "text": [
      "density info torch.Size([52366])\n",
      "started the four term integral computation for torch.Size([52366, 13])...\n"
     ]
    }
   ],
   "source": [
    "four_center_elrep_tensor = torch.einsum(\n",
    "                \"ijkl,lc,ja->iakc\",\n",
    "                qc._engine.hamilton.el_mat.detach().clone(),\n",
    "                coefficients,\n",
    "                coefficients\n",
    "            )\n",
    "\n",
    "def get_dvxc_wrt_dro_xc(xc, densinfo):\n",
    "    # mark the densinfo components as requiring grads\n",
    "    with xc._enable_grad_densinfo(densinfo):\n",
    "        with torch.enable_grad():\n",
    "            edensity = xc.get_edensityxc(densinfo)  # (*BD, ngrid)\n",
    "        grad_outputs = torch.ones_like(edensity)\n",
    "        # print(f'edensity {edensity.shape}')\n",
    "        grad_enabled = torch.is_grad_enabled()\n",
    "\n",
    "        if not isinstance(densinfo, ValGrad):  # polarized case\n",
    "            raise NotImplementedError(\"polarized case is not implemented\")\n",
    "        else:  # unpolarized case\n",
    "            if xc.family == 1:  # LDA\n",
    "                # Here we are taking autograd.grad derivative twice:\n",
    "                potinfo, = torch.autograd.grad(\n",
    "                    edensity, densinfo.value, create_graph=grad_enabled,\n",
    "                    grad_outputs=grad_outputs)\n",
    "                # print(f'potinfo {potinfo.shape}')\n",
    "                derivative_of_potinfo_wrt_ro, = torch.autograd.grad(\n",
    "                    potinfo, densinfo.value, grad_outputs=grad_outputs)\n",
    "                return ValGrad(value=derivative_of_potinfo_wrt_ro)\n",
    "            else:  # GGA and others\n",
    "                raise NotImplementedError(\"Default dvxc wrt dro for this family is not implemented\")\n",
    "\n",
    "@nb.njit(parallel=True)\n",
    "def _four_term_integral(m, b, o):\n",
    "    N = b.shape[1]  # size of basis set\n",
    "    n = o.shape[1]  # number of occupied orbitals\n",
    "    R = m.shape[0]  # size of grid\n",
    "    res = numpy.zeros((N, n, N, n))\n",
    "    for i in nb.prange(N):\n",
    "        for a in range(n):\n",
    "            for k in range(i+1):\n",
    "                for c in range(a+1):\n",
    "                    for r in range(R):\n",
    "                        value = m[r] * b[r, i] * o[r, a] * b[r, k] * o[r, c]\n",
    "                        res[i, a, k, c] += value\n",
    "                        if a != c:\n",
    "                            res[i, c, k, a] += value\n",
    "                            if i != k:\n",
    "                                res[k, a, i, c] += value\n",
    "                                res[k, c, i, a] += value\n",
    "                        elif i != k:\n",
    "                            res[k, a, i, c] += value\n",
    "    return res\n",
    "\n",
    "def get_dvxc_wrt_dro_from_derivative_of_potinfo_wrt_ro(hamiltonian, derivative_of_potinfo_wrt_ro: ValGrad):\n",
    "    print(f'started the four term integral computation for {hamiltonian.basis.shape}...')\n",
    "    molecular_orbitals_at_grid = hamiltonian.basis @ coefficients\n",
    "    derivative_of_potinfo_wrt_ro_dvolume = derivative_of_potinfo_wrt_ro.value * hamiltonian.dvolume\n",
    "    mat = _four_term_integral(derivative_of_potinfo_wrt_ro_dvolume.numpy(),\n",
    "                                hamiltonian.basis.numpy(),\n",
    "                                molecular_orbitals_at_grid.numpy())\n",
    "    return torch.from_numpy(mat)\n",
    "\n",
    "def construct_vxc_derivative_tensor(hamiltonian, dm):\n",
    "    densinfo = SpinParam.apply_fcn(lambda dm_: hamiltonian._dm2densinfo(dm_), dm)  # value: (*BD, ngrid)\n",
    "    print(f'density info {densinfo.value.shape}')\n",
    "    derivative_of_potinfo_wrt_ro = get_dvxc_wrt_dro_xc(hamiltonian.xc, densinfo)  # value: (*BD, ngrid)\n",
    "    dvxc_wrt_dro = get_dvxc_wrt_dro_from_derivative_of_potinfo_wrt_ro(hamiltonian,\n",
    "                                                                                derivative_of_potinfo_wrt_ro)\n",
    "    return dvxc_wrt_dro\n",
    "\n",
    "fourDtensor = four_center_elrep_tensor + \\\n",
    "                construct_vxc_derivative_tensor(qc._engine.hamilton, dm)\n",
    "dRoothan_wrt_dC_second_term = 2 * torch.einsum(\"c,iakc->iakc\", orboccs, fourDtensor)"
   ]
  },
  {
   "cell_type": "code",
   "execution_count": 23,
   "metadata": {
    "datalore": {
     "hide_input_from_viewers": true,
     "hide_output_from_viewers": true,
     "node_id": "4vZLwpPfc6cuwOqGARRE3w",
     "type": "CODE"
    }
   },
   "outputs": [],
   "source": [
    "dRoothan_wrt_dC = dRoothan_wrt_dC_first_term + dRoothan_wrt_dC_second_term"
   ]
  },
  {
   "cell_type": "markdown",
   "metadata": {
    "datalore": {
     "hide_input_from_viewers": true,
     "hide_output_from_viewers": true,
     "node_id": "jtGrbusSbOws951HDxqpeb",
     "type": "MD"
    }
   },
   "source": [
    "#### Calculating $\\frac{\\partial \\textbf{r}(\\textbf{C};\\;\\vec{\\theta})}{\\partial \\vec{\\epsilon}}$\n",
    "\n",
    "$$\\frac{\\partial r_{ia}(\\textbf{C};\\;\\vec{\\theta})}{\\partial \\epsilon_{c}} = -\\delta_{ac}C_{ai}$$"
   ]
  },
  {
   "cell_type": "code",
   "execution_count": 24,
   "metadata": {
    "datalore": {
     "hide_input_from_viewers": true,
     "hide_output_from_viewers": true,
     "node_id": "vy6yaViAwTrZHgXv8dqIZB",
     "type": "CODE"
    }
   },
   "outputs": [],
   "source": [
    "dRoothan_wrt_depsilon = -1 * torch.einsum(\n",
    "                                            \"ac,ia->iac\",\n",
    "                                            occupied_orbitals_kronecker,\n",
    "                                            coefficients\n",
    "                                        )"
   ]
  },
  {
   "cell_type": "markdown",
   "metadata": {
    "datalore": {
     "hide_input_from_viewers": true,
     "hide_output_from_viewers": true,
     "node_id": "9GO05Nbu6khQcopKEjArsJ",
     "type": "MD"
    }
   },
   "source": [
    "Now, we are ready to calculate the adjoint vector.\n",
    "\n",
    "#### Concatenate tensors:\n",
    "\n",
    "$$\\left( \\frac{\\partial E}{\\partial \\vec{X}} \\right)_{N_{ao}j+c} =  \\begin{cases}\n",
    "   \\frac{\\partial E}{\\partial С_{cj}} &\\text{if $0 \\le j < N_{orb}$} \\\\\n",
    "   \\frac{\\partial E}{\\partial \\epsilon_{c}} &\\text{if $j = N_{orb}$}\n",
    " \\end{cases}$$"
   ]
  },
  {
   "cell_type": "code",
   "execution_count": 25,
   "metadata": {
    "datalore": {
     "hide_input_from_viewers": true,
     "hide_output_from_viewers": true,
     "node_id": "ySmwdfmG8CnP8ZnJfH47VR",
     "type": "CODE"
    }
   },
   "outputs": [],
   "source": [
    "dE_wrt_dX = torch.cat((dE_wrt_dC, dE_wrt_depsilon.unsqueeze(-1)), 1) \\\n",
    "            .t().reshape(-1, )"
   ]
  },
  {
   "cell_type": "markdown",
   "metadata": {
    "datalore": {
     "hide_input_from_viewers": true,
     "hide_output_from_viewers": true,
     "node_id": "cO91MjD3Pkmp1LOJR33XQi",
     "type": "MD"
    }
   },
   "source": [
    "$$\\left( \\frac{\\partial \\vec{Y}}{\\partial \\vec{X}} \\right)_{N_{ao}i+a,N_{ao}j+c} =  \\begin{cases}\n",
    "   \\frac{\\partial r_{ia}}{\\partial С_{cj}} &\\text{if $0 \\le i < N_{orb}$ and $0 \\le j < N_{orb}$} \\\\\n",
    "   \\frac{\\partial r_{ia}}{\\partial \\epsilon_{c}} &\\text{if $0 \\le i < N_{orb}$ and $j = N_{orb}$} \\\\\n",
    "   \\frac{\\partial r_{a}}{\\partial С_{cj}} &\\text{if $i = N_{orb}$ and $0 \\le j < N_{orb}$} \\\\\n",
    "   \\frac{\\partial r_{a}}{\\partial \\epsilon_{c}} &\\text{if $i = N_{orb}$ and $j = N_{orb}$}\n",
    " \\end{cases}$$"
   ]
  },
  {
   "cell_type": "code",
   "execution_count": 26,
   "metadata": {
    "datalore": {
     "hide_input_from_viewers": true,
     "hide_output_from_viewers": true,
     "node_id": "udf51Zn5CL50RIFXlsSAcC",
     "type": "CODE"
    }
   },
   "outputs": [],
   "source": [
    "N = nallorb * noccorb\n",
    "\n",
    "upper = torch.cat((\n",
    "                    dRoothan_wrt_dC.reshape((N, N)),\n",
    "                    dRoothan_wrt_depsilon.reshape((N, noccorb))\n",
    "                ), 1)\n",
    "lower = torch.cat((\n",
    "                    dnorm_wrt_dC.reshape(N, noccorb).t(),\n",
    "                    dnorm_wrt_depsilon\n",
    "                ), 1)\n",
    "dY_wrt_dX = torch.cat((upper, lower), 0)"
   ]
  },
  {
   "cell_type": "markdown",
   "metadata": {
    "datalore": {
     "hide_input_from_viewers": true,
     "hide_output_from_viewers": true,
     "node_id": "2xfxuj6VpB6O8luKgS3nf2",
     "type": "MD"
    }
   },
   "source": [
    "#### Find the adjoint vector:"
   ]
  },
  {
   "cell_type": "code",
   "execution_count": 27,
   "metadata": {
    "datalore": {
     "hide_input_from_viewers": true,
     "hide_output_from_viewers": true,
     "node_id": "WNqSkggDO4en1bkMpAY77a",
     "type": "CODE"
    }
   },
   "outputs": [],
   "source": [
    "adjoint = torch.linalg.solve(dY_wrt_dX, dE_wrt_dX)"
   ]
  },
  {
   "cell_type": "markdown",
   "metadata": {
    "datalore": {
     "hide_input_from_viewers": true,
     "hide_output_from_viewers": true,
     "node_id": "ucGgEk3BsXGhQbErkt63mm",
     "type": "MD"
    }
   },
   "source": [
    "Now, we calculate derivatives with respect to parameters:\n",
    "\n",
    "#### Derivative from energy:\n",
    "$$ \\frac{\\partial E[\\rho](\\vec{\\theta})}{\\partial \\vec{\\theta}} = \n",
    " \\int  \\frac{\\partial \\left(\\rho(\\vec{r})\\epsilon_{XC}[\\rho](\\vec{r};\\;\\vec{\\theta})\\right)}{\\partial \\vec{\\theta}}d\\vec{r} \n",
    "$$\n",
    "so we just can put $\\frac{\\partial}{\\partial \\vec{\\theta}}\\left( \\rho(\\vec{r})\\epsilon_{XC}[\\rho](\\vec{r};\\;\\vec{\\theta}) \\right)$ instead of $\\rho(\\vec{r})\\epsilon_{XC}[\\rho](\\vec{r};\\;\\vec{\\theta})$ to DQC calculation."
   ]
  },
  {
   "cell_type": "code",
   "execution_count": 28,
   "metadata": {
    "datalore": {
     "hide_input_from_viewers": true,
     "hide_output_from_viewers": true,
     "node_id": "zYWNSaTMFQp8JjeevxctVS",
     "type": "CODE"
    }
   },
   "outputs": [],
   "source": [
    "def construct_dexc_wrt_dtheta(hamiltonian, dm, parameter_number):\n",
    "    densinfo = SpinParam.apply_fcn(\n",
    "        lambda dm_: hamiltonian._dm2densinfo(dm_), dm)  # (spin) value: (*BD, nr)\n",
    "    edens_derivative = hamiltonian.xc.get_edensityxc_derivative(densinfo, parameter_number).detach()  # (*BD, nr)\n",
    "    return torch.sum(hamiltonian.grid.get_dvolume() * edens_derivative, dim=-1)\n",
    "\n",
    "number_of_parameters = qc._engine.hamilton.xc.number_of_parameters\n",
    "list_of_tensors = []\n",
    "for parameter_number in range(number_of_parameters):\n",
    "    current_tensor = construct_dexc_wrt_dtheta(qc._engine.hamilton, dm, parameter_number)\n",
    "    list_of_tensors.append(current_tensor.unsqueeze(-1))\n",
    "dE_wrt_dtheta = torch.cat(list_of_tensors, 0)"
   ]
  },
  {
   "cell_type": "markdown",
   "metadata": {
    "datalore": {
     "hide_input_from_viewers": true,
     "hide_output_from_viewers": true,
     "node_id": "Mn9X3YlCem0yy7EvZFWOAi",
     "type": "MD"
    }
   },
   "source": [
    "#### Derivative from normalization equations:\n",
    "\n",
    "$$\\frac{\\partial r_{a}(\\textbf{C})}{\\partial\\vec{\\theta}}= 0$$"
   ]
  },
  {
   "cell_type": "code",
   "execution_count": 29,
   "metadata": {
    "datalore": {
     "hide_input_from_viewers": true,
     "hide_output_from_viewers": true,
     "node_id": "fdyB2qDrTjTGgEab8sxsUP",
     "type": "CODE"
    }
   },
   "outputs": [],
   "source": [
    "number_of_parameters = qc._engine.hamilton.xc.number_of_parameters\n",
    "dnorm_wrt_dtheta = torch.zeros(noccorb, number_of_parameters)"
   ]
  },
  {
   "cell_type": "markdown",
   "metadata": {
    "datalore": {
     "hide_input_from_viewers": true,
     "hide_output_from_viewers": true,
     "node_id": "62IyQN4rHloTAVdXj60CTd",
     "type": "MD"
    }
   },
   "source": [
    "#### Derivative from Roothan equations:\n",
    "\n",
    "$$\\frac{\\partial r_{ia}(\\textbf{C};\\;\\vec{\\theta})}{\\partial \\vec{\\theta}} =\n",
    "\\sum_j C_{aj}\\int b_i(\\vec{r}) \\frac{\\partial V_{XC}[\\rho](\\vec{r};\\;\\vec{\\theta})}{\\partial \\vec{\\theta}} b_j(\\vec{r})d\\vec{r}$$\n",
    "\n",
    "As we know, $$V_{XC}[\\rho](\\vec{r};\\;\\vec{\\theta}) = \\frac{\\delta E_{XC}[\\rho]}{\\delta\\rho(\\vec{r})} = \\frac{\\delta \\left(\\rho(\\vec{r})\\epsilon_{XC}[\\rho](\\vec{r};\\;\\vec{\\theta})\\right)}{\\delta\\rho(\\vec{r})}$$\n",
    "So\n",
    "\n",
    "$$\\frac{\\partial r_{ia}(\\textbf{C};\\;\\vec{\\theta})}{\\partial \\vec{\\theta}} =\n",
    "\\sum_j C_{aj}\\int b_i(\\vec{r}) \\frac{\\partial}{\\partial \\vec{\\theta}}\\frac{\\delta\\left(\\rho(\\vec{r})\\epsilon_{XC}[\\rho](\\vec{r};\\;\\vec{\\theta})\\right)}{\\delta\\rho(\\vec{r})} b_j(\\vec{r})d\\vec{r} = \n",
    "\\sum_j C_{aj}\\int b_i(\\vec{r}) \\frac{\\delta}{\\delta\\rho(\\vec{r})} \\frac{\\partial \\left(\\rho(\\vec{r})\\epsilon_{XC}[\\rho](\\vec{r};\\;\\vec{\\theta})\\right)}{\\partial \\vec{\\theta}} b_j(\\vec{r})d\\vec{r}\n",
    "$$\n",
    "It means, we can use $\\frac{\\partial}{\\partial \\vec{\\theta}}\\left( \\rho(\\vec{r})\\epsilon_{XC}[\\rho](\\vec{r};\\;\\vec{\\theta}) \\right)$ instead of $\\rho(\\vec{r})\\epsilon_{XC}[\\rho](\\vec{r};\\;\\vec{\\theta})$ in DQC function`get_vxc()`and get suitable result. This function takes densinfo and takes functional derivative with respect to density."
   ]
  },
  {
   "cell_type": "code",
   "execution_count": 30,
   "metadata": {
    "datalore": {
     "hide_input_from_viewers": true,
     "hide_output_from_viewers": true,
     "node_id": "bfDx1QiGsQl0xLImAEspk2",
     "type": "CODE"
    }
   },
   "outputs": [],
   "source": [
    "def get_dvxc_wrt_dtheta(xc, densinfo, parameter_number):\n",
    "    # mark the densinfo components as requiring grads\n",
    "    with xc._enable_grad_densinfo(densinfo):\n",
    "        with torch.enable_grad():\n",
    "            edensity_derivative = xc.get_edensityxc_derivative(densinfo, parameter_number)  # (*BD, nr)\n",
    "        grad_outputs = torch.ones_like(edensity_derivative)\n",
    "        grad_enabled = torch.is_grad_enabled()\n",
    "\n",
    "        if not isinstance(densinfo, ValGrad):  # polarized case\n",
    "            raise NotImplementedError(\"polarized case is not implemented\")\n",
    "        else:  # unpolarized case\n",
    "            if xc.family == 1:  # LDA\n",
    "                dedn, = torch.autograd.grad(\n",
    "                    edensity_derivative, densinfo.value, create_graph=grad_enabled,\n",
    "                    grad_outputs=grad_outputs)\n",
    "\n",
    "                return ValGrad(value=dedn)\n",
    "            else:  # GGA and others\n",
    "                raise NotImplementedError(\"Default dvxc wrt dro for this family is not implemented\")\n",
    "\n",
    "def contruct_dvxc_wrt_dtheta(hamiltonian, dm, parameter_number):\n",
    "    densinfo = SpinParam.apply_fcn(lambda dm_: hamiltonian._dm2densinfo(dm_), dm)  # value: (*BD, nr)\n",
    "    potinfo = get_dvxc_wrt_dtheta(hamiltonian.xc, densinfo, parameter_number)  # value: (*BD, nr)\n",
    "    vxc_linop = hamiltonian._get_vxc_from_potinfo(potinfo)\n",
    "    return vxc_linop\n",
    "\n",
    "number_of_parameters = qc._engine.hamilton.xc.number_of_parameters\n",
    "list_of_tensors = []\n",
    "for parameter_number in range(number_of_parameters):\n",
    "    current_tensor = contruct_dvxc_wrt_dtheta(qc._engine.hamilton, dm, parameter_number)\n",
    "    list_of_tensors.append(current_tensor.fullmatrix().detach().unsqueeze(-1))\n",
    "dvxc_wrt_dtheta = torch.cat(list_of_tensors, 2)"
   ]
  },
  {
   "cell_type": "code",
   "execution_count": 31,
   "metadata": {
    "datalore": {
     "hide_input_from_viewers": true,
     "hide_output_from_viewers": true,
     "node_id": "Q5F0mK3UabAu9ZkW9BYh81",
     "type": "CODE"
    }
   },
   "outputs": [],
   "source": [
    "dRoothan_wrt_dtheta = torch.einsum(\"ijt,ja->iat\", dvxc_wrt_dtheta, coefficients)"
   ]
  },
  {
   "cell_type": "markdown",
   "metadata": {
    "datalore": {
     "hide_input_from_viewers": true,
     "hide_output_from_viewers": true,
     "node_id": "WQhbjn8UQxQbbXTIEnmGdn",
     "type": "MD"
    }
   },
   "source": [
    "#### Concatenate derivatives with respect to parameters:"
   ]
  },
  {
   "cell_type": "code",
   "execution_count": 32,
   "metadata": {
    "datalore": {
     "hide_input_from_viewers": true,
     "hide_output_from_viewers": true,
     "node_id": "hWZr13HkkeQTQbRNrHw3EM",
     "type": "CODE"
    }
   },
   "outputs": [],
   "source": [
    "dY_wrt_dtheta = torch.cat((\n",
    "                            dRoothan_wrt_dtheta.reshape(N, number_of_parameters),\n",
    "                            dnorm_wrt_dtheta\n",
    "                        ), 0)"
   ]
  },
  {
   "cell_type": "markdown",
   "metadata": {
    "datalore": {
     "hide_input_from_viewers": true,
     "hide_output_from_viewers": true,
     "node_id": "MYmOgKACNmZe0osrlwwSt0",
     "type": "MD"
    }
   },
   "source": [
    "#### Total derivative:"
   ]
  },
  {
   "cell_type": "code",
   "execution_count": 33,
   "metadata": {
    "datalore": {
     "hide_input_from_viewers": true,
     "hide_output_from_viewers": true,
     "node_id": "uGZ3aWvPinonOjeKOCzIW0",
     "type": "CODE"
    }
   },
   "outputs": [
    {
     "data": {
      "text/plain": [
       "tensor([ 9.9156, 19.0426], dtype=torch.float64)"
      ]
     },
     "execution_count": 33,
     "metadata": {},
     "output_type": "execute_result"
    }
   ],
   "source": [
    "derivative = dE_wrt_dtheta - torch.matmul(adjoint, dY_wrt_dtheta)\n",
    "derivative"
   ]
  },
  {
   "cell_type": "markdown",
   "metadata": {
    "datalore": {
     "hide_input_from_viewers": true,
     "hide_output_from_viewers": true,
     "node_id": "vRYtdVxp2SNXg82o1Feolt",
     "type": "MD"
    }
   },
   "source": [
    "#### Compare with DQC finite difference"
   ]
  },
  {
   "cell_type": "code",
   "execution_count": 34,
   "metadata": {
    "datalore": {
     "hide_input_from_viewers": true,
     "hide_output_from_viewers": true,
     "node_id": "kN8tzGJftinTihqcAURdeo",
     "type": "CODE"
    }
   },
   "outputs": [
    {
     "name": "stdout",
     "output_type": "stream",
     "text": [
      "For water:\n",
      "dE/da = 9.915534182880492\n",
      "dE/dp = 19.042079966169467\n"
     ]
    }
   ],
   "source": [
    "dea, dep, _ = fd(dqc_custom, mol_name, 1.0, 2.0)\n",
    "print(f\"For {mol_name}:\")\n",
    "print(f\"dE/da = {dea}\")\n",
    "print(f\"dE/dp = {dep}\")"
   ]
  },
  {
   "cell_type": "markdown",
   "metadata": {
    "datalore": {
     "hide_input_from_viewers": true,
     "hide_output_from_viewers": true,
     "node_id": "qPKltQaHschZbAKnHbepXO",
     "type": "MD"
    }
   },
   "source": [
    "When calculating derivatives most of the time is spent computing calculations leading to `torch.matmul(adjoint, dY_wrt_dtheta)`, including one four-term integral. This is extremely expensive, but if we print out the result of these calculations:"
   ]
  },
  {
   "cell_type": "code",
   "execution_count": 35,
   "metadata": {
    "datalore": {
     "hide_input_from_viewers": true,
     "hide_output_from_viewers": true,
     "node_id": "OXqMaOVqdBauqLzVmpj8JL",
     "type": "CODE"
    }
   },
   "outputs": [
    {
     "data": {
      "text/plain": [
       "tensor([-1.1313e-14, -1.1039e-14], dtype=torch.float64)"
      ]
     },
     "execution_count": 35,
     "metadata": {},
     "output_type": "execute_result"
    }
   ],
   "source": [
    "torch.matmul(adjoint, dY_wrt_dtheta)"
   ]
  },
  {
   "cell_type": "markdown",
   "metadata": {
    "datalore": {
     "hide_input_from_viewers": true,
     "hide_output_from_viewers": true,
     "node_id": "v6lLUYrE5D2KhVsKaOO1IJ",
     "type": "MD"
    }
   },
   "source": [
    "it could be seen that it is within margin of error from machine zero. Article shows that analytically it is zero precisely, therefore a majority of calculations could be omitted entirely.\n",
    "\n",
    "With this, we could rewrite the code, now with PySCF, to calculate the derivatives optimally: "
   ]
  },
  {
   "cell_type": "markdown",
   "metadata": {
    "datalore": {
     "hide_input_from_viewers": true,
     "hide_output_from_viewers": true,
     "node_id": "agFQLsE7RgKtOq8cTIEUgn",
     "type": "MD"
    }
   },
   "source": [
    "### Optimal implementation with PySCF\n",
    "\n",
    "We are only required to calculate energy partial derivatives with respect to problem parameters as described above.\n",
    "It is relatively straightforward as we know the exact for of LDA functional:"
   ]
  },
  {
   "cell_type": "code",
   "execution_count": 36,
   "metadata": {},
   "outputs": [],
   "source": [
    "@nb.njit\n",
    "def eval_xc_wrt_a(grids_weights, rho, p):\n",
    "    N = grids_weights.shape[0]\n",
    "    s = 0.0\n",
    "    for i in range(N):\n",
    "        s += grids_weights[i] * (rho[i]**p)\n",
    "    return s\n",
    "\n",
    "@nb.njit\n",
    "def eval_xc_wrt_p(grids_weights, rho, a, p):\n",
    "    N = grids_weights.shape[0]\n",
    "    s = 0.0\n",
    "    for i in range(N):\n",
    "        lg_rho_i = numpy.log(rho[i]) if rho[i] > 0 else 0.0\n",
    "        s += grids_weights[i] * lg_rho_i * (rho[i]**p)\n",
    "    return a*s"
   ]
  },
  {
   "cell_type": "code",
   "execution_count": 37,
   "metadata": {},
   "outputs": [],
   "source": [
    "def scf_adjoint(mol_name, a = 1.0, p = 2.0):\n",
    "    mol = molecules[mol_name]\n",
    "    #Timer \n",
    "    start = time.time()\n",
    "    scf_mol = gto.M(atom=mol, basis=\"6-31G\", unit=\"Bohr\", verbose=0)\n",
    "    calc_scf = dft.RKS(scf_mol)\n",
    "    calc_scf.xc = \"lda,\"\n",
    "    \n",
    "    energy = calc_scf.kernel()\n",
    "    dm_in_nonorthogonal_basis = calc_scf.make_rdm1()\n",
    "    grids_coords = calc_scf.grids.coords\n",
    "    grids_weights = calc_scf.grids.weights\n",
    "    non_orthogonal_ao = dft.numint.eval_ao(calc_scf.mol, grids_coords, deriv=0)\n",
    "\n",
    "    rho = dft.numint.eval_rho(calc_scf.mol, non_orthogonal_ao, \n",
    "                            dm_in_nonorthogonal_basis, xctype='LDA')\n",
    "    \n",
    "    de_da = eval_xc_wrt_a(grids_weights,rho,p)\n",
    "    de_dp = eval_xc_wrt_p(grids_weights, rho, a, p)\n",
    "    dur = time.time() - start\n",
    "    \n",
    "    return de_da, de_dp, dur"
   ]
  },
  {
   "cell_type": "markdown",
   "metadata": {
    "datalore": {
     "hide_input_from_viewers": true,
     "hide_output_from_viewers": true,
     "node_id": "ipuFdlwmyGdslpwgLzeyhf",
     "type": "MD"
    }
   },
   "source": [
    "### Comparison of all derivative calculation methods"
   ]
  },
  {
   "cell_type": "code",
   "execution_count": 43,
   "metadata": {
    "datalore": {
     "hide_input_from_viewers": true,
     "hide_output_from_viewers": true,
     "node_id": "QoZufoWSgWiMVPZcFHDQE5",
     "type": "CODE"
    }
   },
   "outputs": [
    {
     "name": "stdout",
     "output_type": "stream",
     "text": [
      "For h2:\n",
      "* PySCF finite diffs:\n"
     ]
    },
    {
     "name": "stderr",
     "output_type": "stream",
     "text": [
      "/tmp/ipykernel_250051/3012560341.py:6: RuntimeWarning: divide by zero encountered in power\n",
      "  fxc = a * p * (p - 1.0) * rho ** (p - 2.0)\n"
     ]
    },
    {
     "name": "stdout",
     "output_type": "stream",
     "text": [
      "* DQC autograd:\n",
      "dE/da = 0.7483571267066681\n",
      "dE/da = 1.4715320100701765\n",
      "time: 0.0622096061706543\n",
      "* PySCF 'adjoint':\n",
      "dE/da = 0.7483584761017371\n",
      "dE/da = 1.471533310561758\n",
      "time: 0.7605817317962646\n",
      "---><---\n",
      "For n2:\n",
      "* PySCF finite diffs:\n",
      "* DQC autograd:\n",
      "dE/da = 16.018376599130185\n",
      "dE/da = -17.005452504477862\n",
      "time: 0.20741772651672363\n",
      "* PySCF 'adjoint':\n",
      "dE/da = 16.018393025743865\n",
      "dE/da = -17.005523335261547\n",
      "time: 1.3019518852233887\n",
      "---><---\n",
      "For water:\n",
      "* PySCF finite diffs:\n",
      "* DQC autograd:\n",
      "dE/da = 10.948975989304932\n",
      "dE/da = -11.080098561164478\n",
      "time: 0.2133159637451172\n",
      "* PySCF 'adjoint':\n",
      "dE/da = 10.948995156980196\n",
      "dE/da = -11.080127954242341\n",
      "time: 1.713883399963379\n",
      "---><---\n",
      "For ammonia:\n",
      "* PySCF finite diffs:\n",
      "* DQC autograd:\n",
      "dE/da = 9.33544516732291\n",
      "dE/da = -6.247739839367775\n",
      "time: 0.32216668128967285\n",
      "* PySCF 'adjoint':\n",
      "dE/da = 9.33544910008297\n",
      "dE/da = -6.247731219301096\n",
      "time: 2.250990390777588\n",
      "---><---\n",
      "For benzene:\n",
      "* PySCF finite diffs:\n",
      "* DQC autograd:\n",
      "dE/da = 48.748081777754784\n",
      "dE/da = -40.5534396377108\n",
      "time: 4.198643922805786\n",
      "* PySCF 'adjoint':\n",
      "dE/da = 48.74784577066819\n",
      "dE/da = -40.5455281859139\n",
      "time: 20.31182885169983\n",
      "---><---\n",
      "For naphtalene:\n",
      "* DQC autograd:\n",
      "dE/da = 80.85774789547555\n",
      "dE/da = -70.11404114630758\n",
      "time: 18.54415488243103\n",
      "* PySCF 'adjoint':\n",
      "dE/da = 80.86120832235848\n",
      "dE/da = -70.1105106065451\n",
      "time: 51.469550132751465\n",
      "---><---\n",
      "For anthracene:\n",
      "* DQC autograd:\n",
      "dE/da = 112.95296562032397\n",
      "dE/da = -99.60540955766992\n",
      "time: 52.918604612350464\n",
      "* PySCF 'adjoint':\n",
      "dE/da = 112.95970717856684\n",
      "dE/da = -99.57199026393036\n",
      "time: 92.91798806190491\n",
      "---><---\n"
     ]
    }
   ],
   "source": [
    "for mol in molecules:\n",
    "    print(f\"For {mol}:\")\n",
    "\n",
    "    if mol not in large_molecules:\n",
    "        print(\"* PySCF finite diffs:\")\n",
    "        ea, ep, dur = fd(scf_custom, mol, factor, power)\n",
    "    else:\n",
    "        ea, ep, dur = 0, 0, 0\n",
    "        \n",
    "    results[\"pyscf_custom\"][mol][\"ea\"] = ea\n",
    "    results[\"pyscf_custom\"][mol][\"ep\"] = ep\n",
    "    results[\"pyscf_custom\"][mol][\"time_d\"] = dur\n",
    "    \n",
    "    print(\"* DQC autograd:\")\n",
    "    ea, ep, dur = dqc_autograd(mol, factor, power)\n",
    "    results[\"dqc_autograd\"][mol][\"ea\"] = ea.item()\n",
    "    results[\"dqc_autograd\"][mol][\"ep\"] = ep.item()\n",
    "    results[\"dqc_autograd\"][mol][\"time_d\"] = dur\n",
    "    print(f\"dE/da = {ea.item()}\")\n",
    "    print(f\"dE/da = {ep.item()}\")\n",
    "    print(f\"time: {dur}\")\n",
    "    \n",
    "    print(\"* PySCF 'adjoint':\")\n",
    "    ea, ep, dur = scf_adjoint(mol, factor, power) # numba compilation\n",
    "    ea, ep, dur = scf_adjoint(mol, factor, power)\n",
    "    results[\"pyscf_adjoint\"][mol][\"ea\"] = ea\n",
    "    results[\"pyscf_adjoint\"][mol][\"ep\"] = ep\n",
    "    results[\"pyscf_adjoint\"][mol][\"time_d\"] = dur\n",
    "    print(f\"dE/da = {ea}\")\n",
    "    print(f\"dE/da = {ep}\")\n",
    "    print(f\"time: {dur}\")\n",
    "    print(\"---><---\")"
   ]
  },
  {
   "cell_type": "markdown",
   "metadata": {
    "datalore": {
     "hide_input_from_viewers": true,
     "hide_output_from_viewers": true,
     "node_id": "4wniOikfCjUQCcWzy5XUY9",
     "type": "MD"
    }
   },
   "source": [
    "## Results\n",
    "In this section, the results of all computations above are assembled."
   ]
  },
  {
   "cell_type": "markdown",
   "metadata": {
    "datalore": {
     "hide_input_from_viewers": true,
     "hide_output_from_viewers": true,
     "node_id": "hukIpEBzzZkQ1BKAoagtJH",
     "type": "MD"
    }
   },
   "source": [
    "### Energy computations"
   ]
  },
  {
   "cell_type": "code",
   "execution_count": 46,
   "metadata": {
    "datalore": {
     "hide_input_from_viewers": true,
     "hide_output_from_viewers": true,
     "node_id": "ihPew4R2jd1Z7ld8hKACgc",
     "type": "CODE"
    }
   },
   "outputs": [],
   "source": [
    "pretty_method_names = {\n",
    "    \"pyscf\": \"PySCF (Bulitin LDA)\",\n",
    "    \"pyscf_custom\": \"PySCF (Custom LDA)\",\n",
    "    \"pyscf_ccsdt\": \"PySCF (CCST(T))\",\n",
    "    \"dqc\": \"DQC (Custom LDA)\",\n",
    "    \"pyscf_adjoint\": \"Optimal PySCF\",\n",
    "    \"dqc_autograd\": \"DQC + Autograd\"\n",
    "}\n",
    "\n",
    "pretty_molecule_names = {\n",
    "    \"h2\": \"H<sub>2</sub>\",\n",
    "    \"n2\": \"N<sub>2</sub>\",\n",
    "    \"water\": \"Water\",\n",
    "    \"ammonia\": \"Ammonia\",\n",
    "    \"benzene\": \"Benzene\",\n",
    "    \"naphtalene\": \"Naphtalene\",\n",
    "    \"anthracene\": \"Anthracene\"\n",
    "}"
   ]
  },
  {
   "cell_type": "code",
   "execution_count": 47,
   "metadata": {
    "datalore": {
     "hide_input_from_viewers": true,
     "hide_output_from_viewers": true,
     "node_id": "o2vxywCndQXlqjHHSozaaj",
     "type": "CODE"
    }
   },
   "outputs": [],
   "source": [
    "energy_results = {}\n",
    "\n",
    "for mol in molecules:\n",
    "    energy_results[mol] = {}\n",
    "    for method in results:\n",
    "        if method not in [ \"pyscf_adjoint\", \"dqc_autograd\" ]:\n",
    "            energy_results[mol][pretty_method_names[method]] = {\n",
    "                                                            \"Energy\": results[method][mol][\"energy\"],\n",
    "                                                            \"Elapsed (s)\": results[method][mol][\"time\"]\n",
    "                                                        }"
   ]
  },
  {
   "cell_type": "code",
   "execution_count": 48,
   "metadata": {
    "datalore": {
     "hide_input_from_viewers": true,
     "hide_output_from_viewers": true,
     "node_id": "2LRvBzITeYkatHea79GpOP",
     "type": "CODE"
    }
   },
   "outputs": [
    {
     "data": {
      "text/html": [
       "<h2>Energy computations results</h2>"
      ],
      "text/plain": [
       "<IPython.core.display.HTML object>"
      ]
     },
     "metadata": {},
     "output_type": "display_data"
    },
    {
     "data": {
      "text/html": [
       "<h3>H<sub>2</sub></h3><style type=\"text/css\">\n",
       "</style>\n",
       "<table id=\"T_de92b\">\n",
       "  <thead>\n",
       "    <tr>\n",
       "      <th class=\"blank level0\" >&nbsp;</th>\n",
       "      <th id=\"T_de92b_level0_col0\" class=\"col_heading level0 col0\" >PySCF (Bulitin LDA)</th>\n",
       "      <th id=\"T_de92b_level0_col1\" class=\"col_heading level0 col1\" >PySCF (Custom LDA)</th>\n",
       "      <th id=\"T_de92b_level0_col2\" class=\"col_heading level0 col2\" >PySCF (CCST(T))</th>\n",
       "      <th id=\"T_de92b_level0_col3\" class=\"col_heading level0 col3\" >DQC (Custom LDA)</th>\n",
       "    </tr>\n",
       "  </thead>\n",
       "  <tbody>\n",
       "    <tr>\n",
       "      <th id=\"T_de92b_level0_row0\" class=\"row_heading level0 row0\" >Energy</th>\n",
       "      <td id=\"T_de92b_row0_col0\" class=\"data row0 col0\" >-1.038618</td>\n",
       "      <td id=\"T_de92b_row0_col1\" class=\"data row0 col1\" >-1.038618</td>\n",
       "      <td id=\"T_de92b_row0_col2\" class=\"data row0 col2\" >-1.151679</td>\n",
       "      <td id=\"T_de92b_row0_col3\" class=\"data row0 col3\" >-1.038617</td>\n",
       "    </tr>\n",
       "    <tr>\n",
       "      <th id=\"T_de92b_level0_row1\" class=\"row_heading level0 row1\" >Elapsed (s)</th>\n",
       "      <td id=\"T_de92b_row1_col0\" class=\"data row1 col0\" >0.059783</td>\n",
       "      <td id=\"T_de92b_row1_col1\" class=\"data row1 col1\" >0.059633</td>\n",
       "      <td id=\"T_de92b_row1_col2\" class=\"data row1 col2\" >0.084465</td>\n",
       "      <td id=\"T_de92b_row1_col3\" class=\"data row1 col3\" >1.753674</td>\n",
       "    </tr>\n",
       "  </tbody>\n",
       "</table>\n"
      ],
      "text/plain": [
       "<IPython.core.display.HTML object>"
      ]
     },
     "metadata": {},
     "output_type": "display_data"
    },
    {
     "data": {
      "text/html": [
       "<h3>N<sub>2</sub></h3><style type=\"text/css\">\n",
       "</style>\n",
       "<table id=\"T_15f43\">\n",
       "  <thead>\n",
       "    <tr>\n",
       "      <th class=\"blank level0\" >&nbsp;</th>\n",
       "      <th id=\"T_15f43_level0_col0\" class=\"col_heading level0 col0\" >PySCF (Bulitin LDA)</th>\n",
       "      <th id=\"T_15f43_level0_col1\" class=\"col_heading level0 col1\" >PySCF (Custom LDA)</th>\n",
       "      <th id=\"T_15f43_level0_col2\" class=\"col_heading level0 col2\" >PySCF (CCST(T))</th>\n",
       "      <th id=\"T_15f43_level0_col3\" class=\"col_heading level0 col3\" >DQC (Custom LDA)</th>\n",
       "    </tr>\n",
       "  </thead>\n",
       "  <tbody>\n",
       "    <tr>\n",
       "      <th id=\"T_15f43_level0_row0\" class=\"row_heading level0 row0\" >Energy</th>\n",
       "      <td id=\"T_15f43_row0_col0\" class=\"data row0 col0\" >-107.639474</td>\n",
       "      <td id=\"T_15f43_row0_col1\" class=\"data row0 col1\" >-107.639474</td>\n",
       "      <td id=\"T_15f43_row0_col2\" class=\"data row0 col2\" >-109.102647</td>\n",
       "      <td id=\"T_15f43_row0_col3\" class=\"data row0 col3\" >-107.639473</td>\n",
       "    </tr>\n",
       "    <tr>\n",
       "      <th id=\"T_15f43_level0_row1\" class=\"row_heading level0 row1\" >Elapsed (s)</th>\n",
       "      <td id=\"T_15f43_row1_col0\" class=\"data row1 col0\" >0.109880</td>\n",
       "      <td id=\"T_15f43_row1_col1\" class=\"data row1 col1\" >0.107044</td>\n",
       "      <td id=\"T_15f43_row1_col2\" class=\"data row1 col2\" >0.153394</td>\n",
       "      <td id=\"T_15f43_row1_col3\" class=\"data row1 col3\" >0.080708</td>\n",
       "    </tr>\n",
       "  </tbody>\n",
       "</table>\n"
      ],
      "text/plain": [
       "<IPython.core.display.HTML object>"
      ]
     },
     "metadata": {},
     "output_type": "display_data"
    },
    {
     "data": {
      "text/html": [
       "<h3>Water</h3><style type=\"text/css\">\n",
       "</style>\n",
       "<table id=\"T_60fb8\">\n",
       "  <thead>\n",
       "    <tr>\n",
       "      <th class=\"blank level0\" >&nbsp;</th>\n",
       "      <th id=\"T_60fb8_level0_col0\" class=\"col_heading level0 col0\" >PySCF (Bulitin LDA)</th>\n",
       "      <th id=\"T_60fb8_level0_col1\" class=\"col_heading level0 col1\" >PySCF (Custom LDA)</th>\n",
       "      <th id=\"T_60fb8_level0_col2\" class=\"col_heading level0 col2\" >PySCF (CCST(T))</th>\n",
       "      <th id=\"T_60fb8_level0_col3\" class=\"col_heading level0 col3\" >DQC (Custom LDA)</th>\n",
       "    </tr>\n",
       "  </thead>\n",
       "  <tbody>\n",
       "    <tr>\n",
       "      <th id=\"T_60fb8_level0_row0\" class=\"row_heading level0 row0\" >Energy</th>\n",
       "      <td id=\"T_60fb8_row0_col0\" class=\"data row0 col0\" >-75.154705</td>\n",
       "      <td id=\"T_60fb8_row0_col1\" class=\"data row0 col1\" >-75.154705</td>\n",
       "      <td id=\"T_60fb8_row0_col2\" class=\"data row0 col2\" >-76.120641</td>\n",
       "      <td id=\"T_60fb8_row0_col3\" class=\"data row0 col3\" >-75.154695</td>\n",
       "    </tr>\n",
       "    <tr>\n",
       "      <th id=\"T_60fb8_level0_row1\" class=\"row_heading level0 row1\" >Elapsed (s)</th>\n",
       "      <td id=\"T_60fb8_row1_col0\" class=\"data row1 col0\" >0.139360</td>\n",
       "      <td id=\"T_60fb8_row1_col1\" class=\"data row1 col1\" >0.131451</td>\n",
       "      <td id=\"T_60fb8_row1_col2\" class=\"data row1 col2\" >0.112573</td>\n",
       "      <td id=\"T_60fb8_row1_col3\" class=\"data row1 col3\" >0.094576</td>\n",
       "    </tr>\n",
       "  </tbody>\n",
       "</table>\n"
      ],
      "text/plain": [
       "<IPython.core.display.HTML object>"
      ]
     },
     "metadata": {},
     "output_type": "display_data"
    },
    {
     "data": {
      "text/html": [
       "<h3>Ammonia</h3><style type=\"text/css\">\n",
       "</style>\n",
       "<table id=\"T_f93a6\">\n",
       "  <thead>\n",
       "    <tr>\n",
       "      <th class=\"blank level0\" >&nbsp;</th>\n",
       "      <th id=\"T_f93a6_level0_col0\" class=\"col_heading level0 col0\" >PySCF (Bulitin LDA)</th>\n",
       "      <th id=\"T_f93a6_level0_col1\" class=\"col_heading level0 col1\" >PySCF (Custom LDA)</th>\n",
       "      <th id=\"T_f93a6_level0_col2\" class=\"col_heading level0 col2\" >PySCF (CCST(T))</th>\n",
       "      <th id=\"T_f93a6_level0_col3\" class=\"col_heading level0 col3\" >DQC (Custom LDA)</th>\n",
       "    </tr>\n",
       "  </thead>\n",
       "  <tbody>\n",
       "    <tr>\n",
       "      <th id=\"T_f93a6_level0_row0\" class=\"row_heading level0 row0\" >Energy</th>\n",
       "      <td id=\"T_f93a6_row0_col0\" class=\"data row0 col0\" >-55.413604</td>\n",
       "      <td id=\"T_f93a6_row0_col1\" class=\"data row0 col1\" >-55.413604</td>\n",
       "      <td id=\"T_f93a6_row0_col2\" class=\"data row0 col2\" >-56.292149</td>\n",
       "      <td id=\"T_f93a6_row0_col3\" class=\"data row0 col3\" >-55.413601</td>\n",
       "    </tr>\n",
       "    <tr>\n",
       "      <th id=\"T_f93a6_level0_row1\" class=\"row_heading level0 row1\" >Elapsed (s)</th>\n",
       "      <td id=\"T_f93a6_row1_col0\" class=\"data row1 col0\" >0.142374</td>\n",
       "      <td id=\"T_f93a6_row1_col1\" class=\"data row1 col1\" >0.151234</td>\n",
       "      <td id=\"T_f93a6_row1_col2\" class=\"data row1 col2\" >0.124728</td>\n",
       "      <td id=\"T_f93a6_row1_col3\" class=\"data row1 col3\" >0.114875</td>\n",
       "    </tr>\n",
       "  </tbody>\n",
       "</table>\n"
      ],
      "text/plain": [
       "<IPython.core.display.HTML object>"
      ]
     },
     "metadata": {},
     "output_type": "display_data"
    },
    {
     "data": {
      "text/html": [
       "<h3>Benzene</h3><style type=\"text/css\">\n",
       "</style>\n",
       "<table id=\"T_6596a\">\n",
       "  <thead>\n",
       "    <tr>\n",
       "      <th class=\"blank level0\" >&nbsp;</th>\n",
       "      <th id=\"T_6596a_level0_col0\" class=\"col_heading level0 col0\" >PySCF (Bulitin LDA)</th>\n",
       "      <th id=\"T_6596a_level0_col1\" class=\"col_heading level0 col1\" >PySCF (Custom LDA)</th>\n",
       "      <th id=\"T_6596a_level0_col2\" class=\"col_heading level0 col2\" >PySCF (CCST(T))</th>\n",
       "      <th id=\"T_6596a_level0_col3\" class=\"col_heading level0 col3\" >DQC (Custom LDA)</th>\n",
       "    </tr>\n",
       "  </thead>\n",
       "  <tbody>\n",
       "    <tr>\n",
       "      <th id=\"T_6596a_level0_row0\" class=\"row_heading level0 row0\" >Energy</th>\n",
       "      <td id=\"T_6596a_row0_col0\" class=\"data row0 col0\" >-213.414684</td>\n",
       "      <td id=\"T_6596a_row0_col1\" class=\"data row0 col1\" >-213.414684</td>\n",
       "      <td id=\"T_6596a_row0_col2\" class=\"data row0 col2\" >-217.077970</td>\n",
       "      <td id=\"T_6596a_row0_col3\" class=\"data row0 col3\" >-213.414306</td>\n",
       "    </tr>\n",
       "    <tr>\n",
       "      <th id=\"T_6596a_level0_row1\" class=\"row_heading level0 row1\" >Elapsed (s)</th>\n",
       "      <td id=\"T_6596a_row1_col0\" class=\"data row1 col0\" >1.434345</td>\n",
       "      <td id=\"T_6596a_row1_col1\" class=\"data row1 col1\" >1.419338</td>\n",
       "      <td id=\"T_6596a_row1_col2\" class=\"data row1 col2\" >6.007734</td>\n",
       "      <td id=\"T_6596a_row1_col3\" class=\"data row1 col3\" >1.737119</td>\n",
       "    </tr>\n",
       "  </tbody>\n",
       "</table>\n"
      ],
      "text/plain": [
       "<IPython.core.display.HTML object>"
      ]
     },
     "metadata": {},
     "output_type": "display_data"
    },
    {
     "data": {
      "text/html": [
       "<h3>Naphtalene</h3><style type=\"text/css\">\n",
       "</style>\n",
       "<table id=\"T_64ab6\">\n",
       "  <thead>\n",
       "    <tr>\n",
       "      <th class=\"blank level0\" >&nbsp;</th>\n",
       "      <th id=\"T_64ab6_level0_col0\" class=\"col_heading level0 col0\" >PySCF (Bulitin LDA)</th>\n",
       "      <th id=\"T_64ab6_level0_col1\" class=\"col_heading level0 col1\" >PySCF (Custom LDA)</th>\n",
       "      <th id=\"T_64ab6_level0_col2\" class=\"col_heading level0 col2\" >PySCF (CCST(T))</th>\n",
       "      <th id=\"T_64ab6_level0_col3\" class=\"col_heading level0 col3\" >DQC (Custom LDA)</th>\n",
       "    </tr>\n",
       "  </thead>\n",
       "  <tbody>\n",
       "    <tr>\n",
       "      <th id=\"T_64ab6_level0_row0\" class=\"row_heading level0 row0\" >Energy</th>\n",
       "      <td id=\"T_64ab6_row0_col0\" class=\"data row0 col0\" >-354.303792</td>\n",
       "      <td id=\"T_64ab6_row0_col1\" class=\"data row0 col1\" >-354.303792</td>\n",
       "      <td id=\"T_64ab6_row0_col2\" class=\"data row0 col2\" >-360.242707</td>\n",
       "      <td id=\"T_64ab6_row0_col3\" class=\"data row0 col3\" >-354.295069</td>\n",
       "    </tr>\n",
       "    <tr>\n",
       "      <th id=\"T_64ab6_level0_row1\" class=\"row_heading level0 row1\" >Elapsed (s)</th>\n",
       "      <td id=\"T_64ab6_row1_col0\" class=\"data row1 col0\" >13.477494</td>\n",
       "      <td id=\"T_64ab6_row1_col1\" class=\"data row1 col1\" >10.434039</td>\n",
       "      <td id=\"T_64ab6_row1_col2\" class=\"data row1 col2\" >91.555823</td>\n",
       "      <td id=\"T_64ab6_row1_col3\" class=\"data row1 col3\" >7.767550</td>\n",
       "    </tr>\n",
       "  </tbody>\n",
       "</table>\n"
      ],
      "text/plain": [
       "<IPython.core.display.HTML object>"
      ]
     },
     "metadata": {},
     "output_type": "display_data"
    },
    {
     "data": {
      "text/html": [
       "<h3>Anthracene</h3><style type=\"text/css\">\n",
       "</style>\n",
       "<table id=\"T_8050d\">\n",
       "  <thead>\n",
       "    <tr>\n",
       "      <th class=\"blank level0\" >&nbsp;</th>\n",
       "      <th id=\"T_8050d_level0_col0\" class=\"col_heading level0 col0\" >PySCF (Bulitin LDA)</th>\n",
       "      <th id=\"T_8050d_level0_col1\" class=\"col_heading level0 col1\" >PySCF (Custom LDA)</th>\n",
       "      <th id=\"T_8050d_level0_col2\" class=\"col_heading level0 col2\" >PySCF (CCST(T))</th>\n",
       "      <th id=\"T_8050d_level0_col3\" class=\"col_heading level0 col3\" >DQC (Custom LDA)</th>\n",
       "    </tr>\n",
       "  </thead>\n",
       "  <tbody>\n",
       "    <tr>\n",
       "      <th id=\"T_8050d_level0_row0\" class=\"row_heading level0 row0\" >Energy</th>\n",
       "      <td id=\"T_8050d_row0_col0\" class=\"data row0 col0\" >-495.211363</td>\n",
       "      <td id=\"T_8050d_row0_col1\" class=\"data row0 col1\" >-495.211363</td>\n",
       "      <td id=\"T_8050d_row0_col2\" class=\"data row0 col2\" >-503.424355</td>\n",
       "      <td id=\"T_8050d_row0_col3\" class=\"data row0 col3\" >-495.170133</td>\n",
       "    </tr>\n",
       "    <tr>\n",
       "      <th id=\"T_8050d_level0_row1\" class=\"row_heading level0 row1\" >Elapsed (s)</th>\n",
       "      <td id=\"T_8050d_row1_col0\" class=\"data row1 col0\" >23.745749</td>\n",
       "      <td id=\"T_8050d_row1_col1\" class=\"data row1 col1\" >23.598787</td>\n",
       "      <td id=\"T_8050d_row1_col2\" class=\"data row1 col2\" >1206.029211</td>\n",
       "      <td id=\"T_8050d_row1_col3\" class=\"data row1 col3\" >17.665256</td>\n",
       "    </tr>\n",
       "  </tbody>\n",
       "</table>\n"
      ],
      "text/plain": [
       "<IPython.core.display.HTML object>"
      ]
     },
     "metadata": {},
     "output_type": "display_data"
    }
   ],
   "source": [
    "display(HTML(\"<h2>Energy computations results</h2>\"))\n",
    "for mol in molecules:\n",
    "    df = pd.DataFrame(energy_results[mol])\n",
    "    html = df.style.to_html()\n",
    "    display(HTML(f\"<h3>{pretty_molecule_names[mol]}</h3>\" + html))"
   ]
  },
  {
   "cell_type": "markdown",
   "metadata": {
    "datalore": {
     "hide_input_from_viewers": true,
     "hide_output_from_viewers": true,
     "node_id": "TE24Up54Ze41j7n7VhWblo",
     "type": "MD"
    }
   },
   "source": [
    "### Derivative computations"
   ]
  },
  {
   "cell_type": "code",
   "execution_count": 49,
   "metadata": {
    "datalore": {
     "hide_input_from_viewers": true,
     "hide_output_from_viewers": true,
     "node_id": "PLLtRerNFIXNiCDH920ZIg",
     "type": "CODE"
    }
   },
   "outputs": [],
   "source": [
    "derivative_results = {}\n",
    "\n",
    "for mol in molecules:\n",
    "    derivative_results[mol] = {}\n",
    "    for method in results:\n",
    "        if method not in [ \"pyscf\", \"pyscf_ccsdt\", \"dqc\"]:\n",
    "            derivative_results[mol][pretty_method_names[method]] = {\n",
    "                                                            \"<sup>dE</sup>&frasl;<sub>da</sub>\": results[method][mol][\"ea\"],\n",
    "                                                            \"<sup>dE</sup>&frasl;<sub>dp</sub>\": results[method][mol][\"ep\"],\n",
    "                                                            \"Elapsed (s)\": results[method][mol][\"time_d\"]\n",
    "                                                        }"
   ]
  },
  {
   "cell_type": "code",
   "execution_count": 50,
   "metadata": {
    "datalore": {
     "hide_input_from_viewers": true,
     "hide_output_from_viewers": true,
     "node_id": "Xy9H5ovh8u8rFtSTHr2DQd",
     "type": "CODE"
    }
   },
   "outputs": [
    {
     "data": {
      "text/html": [
       "<h2>Derivatives computations results</h2>"
      ],
      "text/plain": [
       "<IPython.core.display.HTML object>"
      ]
     },
     "metadata": {},
     "output_type": "display_data"
    },
    {
     "data": {
      "text/html": [
       "<h3>H<sub>2</sub></h3><style type=\"text/css\">\n",
       "</style>\n",
       "<table id=\"T_5d1b0\">\n",
       "  <thead>\n",
       "    <tr>\n",
       "      <th class=\"blank level0\" >&nbsp;</th>\n",
       "      <th id=\"T_5d1b0_level0_col0\" class=\"col_heading level0 col0\" >PySCF (Custom LDA)</th>\n",
       "      <th id=\"T_5d1b0_level0_col1\" class=\"col_heading level0 col1\" >Optimal PySCF</th>\n",
       "      <th id=\"T_5d1b0_level0_col2\" class=\"col_heading level0 col2\" >DQC + Autograd</th>\n",
       "    </tr>\n",
       "  </thead>\n",
       "  <tbody>\n",
       "    <tr>\n",
       "      <th id=\"T_5d1b0_level0_row0\" class=\"row_heading level0 row0\" ><sup>dE</sup>&frasl;<sub>da</sub></th>\n",
       "      <td id=\"T_5d1b0_row0_col0\" class=\"data row0 col0\" >0.748359</td>\n",
       "      <td id=\"T_5d1b0_row0_col1\" class=\"data row0 col1\" >0.748358</td>\n",
       "      <td id=\"T_5d1b0_row0_col2\" class=\"data row0 col2\" >0.748357</td>\n",
       "    </tr>\n",
       "    <tr>\n",
       "      <th id=\"T_5d1b0_level0_row1\" class=\"row_heading level0 row1\" ><sup>dE</sup>&frasl;<sub>dp</sub></th>\n",
       "      <td id=\"T_5d1b0_row1_col0\" class=\"data row1 col0\" >1.471502</td>\n",
       "      <td id=\"T_5d1b0_row1_col1\" class=\"data row1 col1\" >1.471533</td>\n",
       "      <td id=\"T_5d1b0_row1_col2\" class=\"data row1 col2\" >1.471532</td>\n",
       "    </tr>\n",
       "    <tr>\n",
       "      <th id=\"T_5d1b0_level0_row2\" class=\"row_heading level0 row2\" >Elapsed (s)</th>\n",
       "      <td id=\"T_5d1b0_row2_col0\" class=\"data row2 col0\" >1.741044</td>\n",
       "      <td id=\"T_5d1b0_row2_col1\" class=\"data row2 col1\" >0.760582</td>\n",
       "      <td id=\"T_5d1b0_row2_col2\" class=\"data row2 col2\" >0.062210</td>\n",
       "    </tr>\n",
       "  </tbody>\n",
       "</table>\n"
      ],
      "text/plain": [
       "<IPython.core.display.HTML object>"
      ]
     },
     "metadata": {},
     "output_type": "display_data"
    },
    {
     "data": {
      "text/html": [
       "<h3>N<sub>2</sub></h3><style type=\"text/css\">\n",
       "</style>\n",
       "<table id=\"T_a8e4f\">\n",
       "  <thead>\n",
       "    <tr>\n",
       "      <th class=\"blank level0\" >&nbsp;</th>\n",
       "      <th id=\"T_a8e4f_level0_col0\" class=\"col_heading level0 col0\" >PySCF (Custom LDA)</th>\n",
       "      <th id=\"T_a8e4f_level0_col1\" class=\"col_heading level0 col1\" >Optimal PySCF</th>\n",
       "      <th id=\"T_a8e4f_level0_col2\" class=\"col_heading level0 col2\" >DQC + Autograd</th>\n",
       "    </tr>\n",
       "  </thead>\n",
       "  <tbody>\n",
       "    <tr>\n",
       "      <th id=\"T_a8e4f_level0_row0\" class=\"row_heading level0 row0\" ><sup>dE</sup>&frasl;<sub>da</sub></th>\n",
       "      <td id=\"T_a8e4f_row0_col0\" class=\"data row0 col0\" >16.018397</td>\n",
       "      <td id=\"T_a8e4f_row0_col1\" class=\"data row0 col1\" >16.018393</td>\n",
       "      <td id=\"T_a8e4f_row0_col2\" class=\"data row0 col2\" >16.018377</td>\n",
       "    </tr>\n",
       "    <tr>\n",
       "      <th id=\"T_a8e4f_level0_row1\" class=\"row_heading level0 row1\" ><sup>dE</sup>&frasl;<sub>dp</sub></th>\n",
       "      <td id=\"T_a8e4f_row1_col0\" class=\"data row1 col0\" >-17.006172</td>\n",
       "      <td id=\"T_a8e4f_row1_col1\" class=\"data row1 col1\" >-17.005523</td>\n",
       "      <td id=\"T_a8e4f_row1_col2\" class=\"data row1 col2\" >-17.005453</td>\n",
       "    </tr>\n",
       "    <tr>\n",
       "      <th id=\"T_a8e4f_level0_row2\" class=\"row_heading level0 row2\" >Elapsed (s)</th>\n",
       "      <td id=\"T_a8e4f_row2_col0\" class=\"data row2 col0\" >3.559129</td>\n",
       "      <td id=\"T_a8e4f_row2_col1\" class=\"data row2 col1\" >1.301952</td>\n",
       "      <td id=\"T_a8e4f_row2_col2\" class=\"data row2 col2\" >0.207418</td>\n",
       "    </tr>\n",
       "  </tbody>\n",
       "</table>\n"
      ],
      "text/plain": [
       "<IPython.core.display.HTML object>"
      ]
     },
     "metadata": {},
     "output_type": "display_data"
    },
    {
     "data": {
      "text/html": [
       "<h3>Water</h3><style type=\"text/css\">\n",
       "</style>\n",
       "<table id=\"T_a1c6f\">\n",
       "  <thead>\n",
       "    <tr>\n",
       "      <th class=\"blank level0\" >&nbsp;</th>\n",
       "      <th id=\"T_a1c6f_level0_col0\" class=\"col_heading level0 col0\" >PySCF (Custom LDA)</th>\n",
       "      <th id=\"T_a1c6f_level0_col1\" class=\"col_heading level0 col1\" >Optimal PySCF</th>\n",
       "      <th id=\"T_a1c6f_level0_col2\" class=\"col_heading level0 col2\" >DQC + Autograd</th>\n",
       "    </tr>\n",
       "  </thead>\n",
       "  <tbody>\n",
       "    <tr>\n",
       "      <th id=\"T_a1c6f_level0_row0\" class=\"row_heading level0 row0\" ><sup>dE</sup>&frasl;<sub>da</sub></th>\n",
       "      <td id=\"T_a1c6f_row0_col0\" class=\"data row0 col0\" >10.948997</td>\n",
       "      <td id=\"T_a1c6f_row0_col1\" class=\"data row0 col1\" >10.948995</td>\n",
       "      <td id=\"T_a1c6f_row0_col2\" class=\"data row0 col2\" >10.948976</td>\n",
       "    </tr>\n",
       "    <tr>\n",
       "      <th id=\"T_a1c6f_level0_row1\" class=\"row_heading level0 row1\" ><sup>dE</sup>&frasl;<sub>dp</sub></th>\n",
       "      <td id=\"T_a1c6f_row1_col0\" class=\"data row1 col0\" >-11.080605</td>\n",
       "      <td id=\"T_a1c6f_row1_col1\" class=\"data row1 col1\" >-11.080128</td>\n",
       "      <td id=\"T_a1c6f_row1_col2\" class=\"data row1 col2\" >-11.080099</td>\n",
       "    </tr>\n",
       "    <tr>\n",
       "      <th id=\"T_a1c6f_level0_row2\" class=\"row_heading level0 row2\" >Elapsed (s)</th>\n",
       "      <td id=\"T_a1c6f_row2_col0\" class=\"data row2 col0\" >4.531426</td>\n",
       "      <td id=\"T_a1c6f_row2_col1\" class=\"data row2 col1\" >1.713883</td>\n",
       "      <td id=\"T_a1c6f_row2_col2\" class=\"data row2 col2\" >0.213316</td>\n",
       "    </tr>\n",
       "  </tbody>\n",
       "</table>\n"
      ],
      "text/plain": [
       "<IPython.core.display.HTML object>"
      ]
     },
     "metadata": {},
     "output_type": "display_data"
    },
    {
     "data": {
      "text/html": [
       "<h3>Ammonia</h3><style type=\"text/css\">\n",
       "</style>\n",
       "<table id=\"T_d4d0f\">\n",
       "  <thead>\n",
       "    <tr>\n",
       "      <th class=\"blank level0\" >&nbsp;</th>\n",
       "      <th id=\"T_d4d0f_level0_col0\" class=\"col_heading level0 col0\" >PySCF (Custom LDA)</th>\n",
       "      <th id=\"T_d4d0f_level0_col1\" class=\"col_heading level0 col1\" >Optimal PySCF</th>\n",
       "      <th id=\"T_d4d0f_level0_col2\" class=\"col_heading level0 col2\" >DQC + Autograd</th>\n",
       "    </tr>\n",
       "  </thead>\n",
       "  <tbody>\n",
       "    <tr>\n",
       "      <th id=\"T_d4d0f_level0_row0\" class=\"row_heading level0 row0\" ><sup>dE</sup>&frasl;<sub>da</sub></th>\n",
       "      <td id=\"T_d4d0f_row0_col0\" class=\"data row0 col0\" >9.335451</td>\n",
       "      <td id=\"T_d4d0f_row0_col1\" class=\"data row0 col1\" >9.335449</td>\n",
       "      <td id=\"T_d4d0f_row0_col2\" class=\"data row0 col2\" >9.335445</td>\n",
       "    </tr>\n",
       "    <tr>\n",
       "      <th id=\"T_d4d0f_level0_row1\" class=\"row_heading level0 row1\" ><sup>dE</sup>&frasl;<sub>dp</sub></th>\n",
       "      <td id=\"T_d4d0f_row1_col0\" class=\"data row1 col0\" >-6.248094</td>\n",
       "      <td id=\"T_d4d0f_row1_col1\" class=\"data row1 col1\" >-6.247731</td>\n",
       "      <td id=\"T_d4d0f_row1_col2\" class=\"data row1 col2\" >-6.247740</td>\n",
       "    </tr>\n",
       "    <tr>\n",
       "      <th id=\"T_d4d0f_level0_row2\" class=\"row_heading level0 row2\" >Elapsed (s)</th>\n",
       "      <td id=\"T_d4d0f_row2_col0\" class=\"data row2 col0\" >5.816219</td>\n",
       "      <td id=\"T_d4d0f_row2_col1\" class=\"data row2 col1\" >2.250990</td>\n",
       "      <td id=\"T_d4d0f_row2_col2\" class=\"data row2 col2\" >0.322167</td>\n",
       "    </tr>\n",
       "  </tbody>\n",
       "</table>\n"
      ],
      "text/plain": [
       "<IPython.core.display.HTML object>"
      ]
     },
     "metadata": {},
     "output_type": "display_data"
    },
    {
     "data": {
      "text/html": [
       "<h3>Benzene</h3><style type=\"text/css\">\n",
       "</style>\n",
       "<table id=\"T_7fee6\">\n",
       "  <thead>\n",
       "    <tr>\n",
       "      <th class=\"blank level0\" >&nbsp;</th>\n",
       "      <th id=\"T_7fee6_level0_col0\" class=\"col_heading level0 col0\" >PySCF (Custom LDA)</th>\n",
       "      <th id=\"T_7fee6_level0_col1\" class=\"col_heading level0 col1\" >Optimal PySCF</th>\n",
       "      <th id=\"T_7fee6_level0_col2\" class=\"col_heading level0 col2\" >DQC + Autograd</th>\n",
       "    </tr>\n",
       "  </thead>\n",
       "  <tbody>\n",
       "    <tr>\n",
       "      <th id=\"T_7fee6_level0_row0\" class=\"row_heading level0 row0\" ><sup>dE</sup>&frasl;<sub>da</sub></th>\n",
       "      <td id=\"T_7fee6_row0_col0\" class=\"data row0 col0\" >48.747818</td>\n",
       "      <td id=\"T_7fee6_row0_col1\" class=\"data row0 col1\" >48.747846</td>\n",
       "      <td id=\"T_7fee6_row0_col2\" class=\"data row0 col2\" >48.748082</td>\n",
       "    </tr>\n",
       "    <tr>\n",
       "      <th id=\"T_7fee6_level0_row1\" class=\"row_heading level0 row1\" ><sup>dE</sup>&frasl;<sub>dp</sub></th>\n",
       "      <td id=\"T_7fee6_row1_col0\" class=\"data row1 col0\" >-40.546847</td>\n",
       "      <td id=\"T_7fee6_row1_col1\" class=\"data row1 col1\" >-40.545528</td>\n",
       "      <td id=\"T_7fee6_row1_col2\" class=\"data row1 col2\" >-40.553440</td>\n",
       "    </tr>\n",
       "    <tr>\n",
       "      <th id=\"T_7fee6_level0_row2\" class=\"row_heading level0 row2\" >Elapsed (s)</th>\n",
       "      <td id=\"T_7fee6_row2_col0\" class=\"data row2 col0\" >55.683392</td>\n",
       "      <td id=\"T_7fee6_row2_col1\" class=\"data row2 col1\" >20.311829</td>\n",
       "      <td id=\"T_7fee6_row2_col2\" class=\"data row2 col2\" >4.198644</td>\n",
       "    </tr>\n",
       "  </tbody>\n",
       "</table>\n"
      ],
      "text/plain": [
       "<IPython.core.display.HTML object>"
      ]
     },
     "metadata": {},
     "output_type": "display_data"
    },
    {
     "data": {
      "text/html": [
       "<h3>Naphtalene</h3><style type=\"text/css\">\n",
       "</style>\n",
       "<table id=\"T_d7b45\">\n",
       "  <thead>\n",
       "    <tr>\n",
       "      <th class=\"blank level0\" >&nbsp;</th>\n",
       "      <th id=\"T_d7b45_level0_col0\" class=\"col_heading level0 col0\" >PySCF (Custom LDA)</th>\n",
       "      <th id=\"T_d7b45_level0_col1\" class=\"col_heading level0 col1\" >Optimal PySCF</th>\n",
       "      <th id=\"T_d7b45_level0_col2\" class=\"col_heading level0 col2\" >DQC + Autograd</th>\n",
       "    </tr>\n",
       "  </thead>\n",
       "  <tbody>\n",
       "    <tr>\n",
       "      <th id=\"T_d7b45_level0_row0\" class=\"row_heading level0 row0\" ><sup>dE</sup>&frasl;<sub>da</sub></th>\n",
       "      <td id=\"T_d7b45_row0_col0\" class=\"data row0 col0\" >0</td>\n",
       "      <td id=\"T_d7b45_row0_col1\" class=\"data row0 col1\" >80.861208</td>\n",
       "      <td id=\"T_d7b45_row0_col2\" class=\"data row0 col2\" >80.857748</td>\n",
       "    </tr>\n",
       "    <tr>\n",
       "      <th id=\"T_d7b45_level0_row1\" class=\"row_heading level0 row1\" ><sup>dE</sup>&frasl;<sub>dp</sub></th>\n",
       "      <td id=\"T_d7b45_row1_col0\" class=\"data row1 col0\" >0</td>\n",
       "      <td id=\"T_d7b45_row1_col1\" class=\"data row1 col1\" >-70.110511</td>\n",
       "      <td id=\"T_d7b45_row1_col2\" class=\"data row1 col2\" >-70.114041</td>\n",
       "    </tr>\n",
       "    <tr>\n",
       "      <th id=\"T_d7b45_level0_row2\" class=\"row_heading level0 row2\" >Elapsed (s)</th>\n",
       "      <td id=\"T_d7b45_row2_col0\" class=\"data row2 col0\" >0</td>\n",
       "      <td id=\"T_d7b45_row2_col1\" class=\"data row2 col1\" >51.469550</td>\n",
       "      <td id=\"T_d7b45_row2_col2\" class=\"data row2 col2\" >18.544155</td>\n",
       "    </tr>\n",
       "  </tbody>\n",
       "</table>\n"
      ],
      "text/plain": [
       "<IPython.core.display.HTML object>"
      ]
     },
     "metadata": {},
     "output_type": "display_data"
    },
    {
     "data": {
      "text/html": [
       "<h3>Anthracene</h3><style type=\"text/css\">\n",
       "</style>\n",
       "<table id=\"T_5f3d8\">\n",
       "  <thead>\n",
       "    <tr>\n",
       "      <th class=\"blank level0\" >&nbsp;</th>\n",
       "      <th id=\"T_5f3d8_level0_col0\" class=\"col_heading level0 col0\" >PySCF (Custom LDA)</th>\n",
       "      <th id=\"T_5f3d8_level0_col1\" class=\"col_heading level0 col1\" >Optimal PySCF</th>\n",
       "      <th id=\"T_5f3d8_level0_col2\" class=\"col_heading level0 col2\" >DQC + Autograd</th>\n",
       "    </tr>\n",
       "  </thead>\n",
       "  <tbody>\n",
       "    <tr>\n",
       "      <th id=\"T_5f3d8_level0_row0\" class=\"row_heading level0 row0\" ><sup>dE</sup>&frasl;<sub>da</sub></th>\n",
       "      <td id=\"T_5f3d8_row0_col0\" class=\"data row0 col0\" >0</td>\n",
       "      <td id=\"T_5f3d8_row0_col1\" class=\"data row0 col1\" >112.959707</td>\n",
       "      <td id=\"T_5f3d8_row0_col2\" class=\"data row0 col2\" >112.952966</td>\n",
       "    </tr>\n",
       "    <tr>\n",
       "      <th id=\"T_5f3d8_level0_row1\" class=\"row_heading level0 row1\" ><sup>dE</sup>&frasl;<sub>dp</sub></th>\n",
       "      <td id=\"T_5f3d8_row1_col0\" class=\"data row1 col0\" >0</td>\n",
       "      <td id=\"T_5f3d8_row1_col1\" class=\"data row1 col1\" >-99.571990</td>\n",
       "      <td id=\"T_5f3d8_row1_col2\" class=\"data row1 col2\" >-99.605410</td>\n",
       "    </tr>\n",
       "    <tr>\n",
       "      <th id=\"T_5f3d8_level0_row2\" class=\"row_heading level0 row2\" >Elapsed (s)</th>\n",
       "      <td id=\"T_5f3d8_row2_col0\" class=\"data row2 col0\" >0</td>\n",
       "      <td id=\"T_5f3d8_row2_col1\" class=\"data row2 col1\" >92.917988</td>\n",
       "      <td id=\"T_5f3d8_row2_col2\" class=\"data row2 col2\" >52.918605</td>\n",
       "    </tr>\n",
       "  </tbody>\n",
       "</table>\n"
      ],
      "text/plain": [
       "<IPython.core.display.HTML object>"
      ]
     },
     "metadata": {},
     "output_type": "display_data"
    }
   ],
   "source": [
    "display(HTML(\"<h2>Derivatives computations results</h2>\"))\n",
    "for mol in molecules:\n",
    "    df = pd.DataFrame(derivative_results[mol])\n",
    "    html = df.style.to_html()\n",
    "    display(HTML(f\"<h3>{pretty_molecule_names[mol]}</h3>\" + html))"
   ]
  },
  {
   "cell_type": "markdown",
   "metadata": {
    "datalore": {
     "hide_input_from_viewers": true,
     "hide_output_from_viewers": true,
     "node_id": "M97BbN12sLInMriPo4BARp",
     "type": "MD"
    }
   },
   "source": [
    "## Example of non-convergence\n",
    "\n",
    "$N_2$ with $a = 1.0$, $p = 2.0$."
   ]
  },
  {
   "cell_type": "code",
   "execution_count": null,
   "metadata": {
    "datalore": {
     "hide_input_from_viewers": true,
     "hide_output_from_viewers": true,
     "node_id": "PiO20LNVCAPPOwsW1b8cCe",
     "type": "CODE"
    }
   },
   "outputs": [],
   "source": [
    "scf_custom('n2', 1.0, 2.0)"
   ]
  },
  {
   "cell_type": "code",
   "execution_count": null,
   "metadata": {
    "datalore": {
     "hide_input_from_viewers": true,
     "hide_output_from_viewers": true,
     "node_id": "2eV3B05tU3JoTNqRk7v36M",
     "type": "CODE"
    }
   },
   "outputs": [],
   "source": [
    "dqc_custom('n2', 1.0, 2.0)"
   ]
  }
 ],
 "metadata": {
  "datalore": {
   "base_environment": "default",
   "computation_mode": "JUPYTER",
   "package_manager": "pip",
   "packages": [
    {
     "name": "pyscf",
     "source": "PIP",
     "version": "2.1.1"
    },
    {
     "name": "pydqc",
     "source": "PIP",
     "version": "0.1.0"
    }
   ],
   "version": 1
  },
  "kernelspec": {
   "display_name": "Python 3 (ipykernel)",
   "language": "python",
   "name": "python3"
  },
  "language_info": {
   "codemirror_mode": {
    "name": "ipython",
    "version": 3
   },
   "file_extension": ".py",
   "mimetype": "text/x-python",
   "name": "python",
   "nbconvert_exporter": "python",
   "pygments_lexer": "ipython3",
   "version": "3.9.12"
  }
 },
 "nbformat": 4,
 "nbformat_minor": 4
}
