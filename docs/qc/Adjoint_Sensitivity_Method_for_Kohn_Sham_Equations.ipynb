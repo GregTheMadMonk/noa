{
 "cells": [
  {
   "cell_type": "markdown",
   "metadata": {
    "datalore": {
     "hide_input_from_viewers": false,
     "hide_output_from_viewers": false,
     "node_id": "5oKf92DqRHFu5LBZddmUD7",
     "report_properties": {},
     "type": "MD"
    }
   },
   "source": [
    "# Adjoint sensitivity method for Kohn Sham equations (supplementary material)\n",
    "### Evgeny M. Kadilenko (NSU), Roland Grinis (MIPT, GrinisRIT)\n",
    "#### Assistants: Gregory Dushkin (MIPT), Sabina Abdiganieva (MIPT)"
   ]
  },
  {
   "cell_type": "markdown",
   "metadata": {
    "datalore": {
     "hide_input_from_viewers": false,
     "hide_output_from_viewers": false,
     "node_id": "2rd8cXFrI617GyeNAptEQ6",
     "report_properties": {},
     "type": "MD"
    }
   },
   "source": [
    "## Preparing the globals"
   ]
  },
  {
   "cell_type": "markdown",
   "metadata": {
    "datalore": {
     "hide_input_from_viewers": false,
     "hide_output_from_viewers": false,
     "node_id": "pC39fktFfS3knkTgR6lG6m",
     "report_properties": {},
     "type": "MD"
    }
   },
   "source": [
    "### Imports"
   ]
  },
  {
   "cell_type": "code",
   "execution_count": 1,
   "metadata": {
    "datalore": {
     "hide_input_from_viewers": false,
     "hide_output_from_viewers": false,
     "node_id": "V96IjHZ3bQiFZvggM3jn6C",
     "report_properties": {},
     "type": "CODE"
    }
   },
   "outputs": [],
   "source": [
    "import dqc\n",
    "from pyscf import gto, dft, scf, cc\n",
    "import numpy\n",
    "import torch\n",
    "import xitorch as xt\n",
    "from math import pi\n",
    "import sys \n",
    "import time\n",
    "import pandas as pd\n",
    "from IPython.display import display, HTML, Math\n",
    "import numba as nb\n",
    "import matplotlib.pyplot as plt"
   ]
  },
  {
   "cell_type": "markdown",
   "metadata": {
    "datalore": {
     "hide_input_from_viewers": false,
     "hide_output_from_viewers": false,
     "node_id": "6CF1mprvoXZlBRoEL7WP2t",
     "report_properties": {},
     "type": "MD"
    }
   },
   "source": [
    "### Molecules definitions"
   ]
  },
  {
   "cell_type": "code",
   "execution_count": 2,
   "metadata": {
    "datalore": {
     "hide_input_from_viewers": false,
     "hide_output_from_viewers": false,
     "node_id": "lESczcDxOmGdqByoPm9dzW",
     "report_properties": {},
     "type": "CODE"
    }
   },
   "outputs": [],
   "source": [
    "molecules = {\n",
    "    \"h2\"       :  \"\"\"\n",
    "                  H 0 0 0; H 1.4 0 0\n",
    "                  \"\"\"\n",
    "    ,\n",
    "    \"n2\"       :  \"\"\"\n",
    "                  N 0 0 0; N 2.07 0 0\n",
    "                  \"\"\"\n",
    "    ,\n",
    "    \"water\"    : \"\"\"\n",
    "                 O        0.000000000      0.000000000      0.000000000;\n",
    "                 H        0.000000000      1.434938863      1.126357947;\n",
    "                 H        0.000000000     -1.434938863      1.12635794\n",
    "                 \"\"\"\n",
    "     ,\n",
    "     \"ammonia\" : \"\"\"\n",
    "                 N  0.000  0.000  0.000;\n",
    "                 H  0.000 -1.772 -0.721; \n",
    "                 H  1.535  0.886 -0.721; \n",
    "                 H -1.535  0.886 -0.721\n",
    "                 \"\"\"\n",
    "}"
   ]
  },
  {
   "cell_type": "markdown",
   "metadata": {
    "datalore": {
     "hide_input_from_viewers": true,
     "hide_output_from_viewers": true,
     "node_id": "qjuHzjjZfJaIcOIhLrbdLB",
     "type": "MD"
    }
   },
   "source": [
    "### Test results storage"
   ]
  },
  {
   "cell_type": "code",
   "execution_count": 3,
   "metadata": {
    "datalore": {
     "hide_input_from_viewers": true,
     "hide_output_from_viewers": true,
     "node_id": "5GuoHEv6WP9UDWCOUkmyGF",
     "type": "CODE"
    }
   },
   "outputs": [],
   "source": [
    "results = {\n",
    "    \"pyscf\":            {},\n",
    "    \"pyscf_custom\":   {},\n",
    "    \"pyscf_ccsdt\":      {},\n",
    "    \"pyscf_adjoint\":    {},\n",
    "    \"dqc\":              {},\n",
    "    \"dqc_autograd\":     {}\n",
    "}\n",
    "\n",
    "for method in results:\n",
    "    for mol in molecules:\n",
    "        results[method][mol] = {}"
   ]
  },
  {
   "cell_type": "markdown",
   "metadata": {
    "datalore": {
     "hide_input_from_viewers": false,
     "hide_output_from_viewers": false,
     "node_id": "tErq97jOzVSbusn9Qpi8ju",
     "report_properties": {},
     "type": "MD"
    }
   },
   "source": [
    "## Custom functionals\n",
    "\n",
    "Here we take a look at the ways to implement an LDA functional and compare them to some built-in methods."
   ]
  },
  {
   "cell_type": "markdown",
   "metadata": {
    "datalore": {
     "hide_input_from_viewers": false,
     "hide_output_from_viewers": false,
     "node_id": "c806BJg47HMXR3Eqrppftl",
     "report_properties": {},
     "type": "MD"
    }
   },
   "source": [
    "### PySCF\n",
    "\n",
    "PySCF accepts custom functionals as Python functions"
   ]
  },
  {
   "cell_type": "code",
   "execution_count": 4,
   "metadata": {
    "datalore": {
     "hide_input_from_viewers": true,
     "hide_output_from_viewers": true,
     "node_id": "iLDNI8SeDIrRd1K7AqA6eB",
     "type": "CODE"
    }
   },
   "outputs": [],
   "source": [
    "def custom_eval_xc_LDA(a, p):\n",
    "    def eval_xc(xc_code, rho, *args, **kwargs):\n",
    "        exc = a * rho ** (p - 1.0)\n",
    "        vrho = a * p * rho ** (p - 1.0)\n",
    "        vxc = (vrho, None, None, None)\n",
    "        fxc = a * p * (p - 1.0) * rho ** (p - 2.0)\n",
    "        return exc, vxc, fxc, None\n",
    "    return eval_xc"
   ]
  },
  {
   "cell_type": "code",
   "execution_count": 5,
   "metadata": {
    "datalore": {
     "hide_input_from_viewers": true,
     "hide_output_from_viewers": true,
     "node_id": "0ynlH5LkdPZXEsDBKlt7M6",
     "type": "CODE"
    }
   },
   "outputs": [],
   "source": [
    "def scf_custom(mol_name, a = 1, p = 2, silent = False):\n",
    "    start = time.time()\n",
    "    mol = molecules[mol_name]\n",
    "    scf_mol = gto.M(atom=mol, basis=\"6-31G\", unit=\"Bohr\", verbose=0)\n",
    "    calc_scf = dft.RKS(scf_mol)\n",
    "    calc_scf = calc_scf.define_xc_(custom_eval_xc_LDA(a, p), \"LDA\")\n",
    "    energy = calc_scf.kernel()\n",
    "    dur = time.time() - start\n",
    "    if not silent:\n",
    "        print(f\"For {mol_name} {energy=} ({a=}, {p=})\")\n",
    "        if not calc_scf.converged:\n",
    "            print(f\"Calculation for {mol_name} did not converge\", file=sys.stderr)\n",
    "    return energy, calc_scf.converged, dur"
   ]
  },
  {
   "cell_type": "markdown",
   "metadata": {
    "datalore": {
     "hide_input_from_viewers": false,
     "hide_output_from_viewers": false,
     "node_id": "8qLmEZoUjxKVObWR3zoGxx",
     "report_properties": {},
     "type": "MD"
    }
   },
   "source": [
    "#### Built-in functional\n",
    "To compare the results, we would use PySCF's built-in implementation of the same functional"
   ]
  },
  {
   "cell_type": "code",
   "execution_count": 88,
   "metadata": {
    "datalore": {
     "hide_input_from_viewers": false,
     "hide_output_from_viewers": false,
     "node_id": "BaI5aXGDrQurUm2T9Aiy2f",
     "report_properties": {},
     "type": "CODE"
    }
   },
   "outputs": [],
   "source": [
    "def scf_builtin(_mol_name, silent = False):\n",
    "    start = time.time()\n",
    "\n",
    "    mol = molecules[_mol_name]\n",
    "    scf_mol = gto.M(atom=mol, basis=\"6-31G\", unit=\"Bohr\", verbose=0)\n",
    "    calc_scf = dft.RKS(scf_mol)\n",
    "    calc_scf.xc = \"lda,\" # Built-in LDA functional implementation\n",
    "    energy = calc_scf.kernel()\n",
    "\n",
    "    dur = time.time() - start\n",
    "    \n",
    "    if not silent:\n",
    "        print(f\"For {_mol_name} {energy=}\")\n",
    "        if not calc_scf.converged:\n",
    "            print(f\"Calculation for {_mol_name} did not converge\", file=sys.stderr)\n",
    "    return energy, calc_scf.converged, dur"
   ]
  },
  {
   "cell_type": "markdown",
   "metadata": {
    "datalore": {
     "hide_input_from_viewers": true,
     "hide_output_from_viewers": true,
     "node_id": "tf9s2S2OuoqX9MSN0fHTVn",
     "type": "MD"
    }
   },
   "source": [
    "#### CCSD(T)"
   ]
  },
  {
   "cell_type": "code",
   "execution_count": 89,
   "metadata": {
    "datalore": {
     "hide_input_from_viewers": true,
     "hide_output_from_viewers": true,
     "node_id": "u8lMaSBzCOa4pIYY5pBMlG",
     "type": "CODE"
    }
   },
   "outputs": [],
   "source": [
    "def scf_ccsdt(_mol_name, silent = False):\n",
    "    start = time.time()\n",
    "\n",
    "    mol = molecules[_mol_name]\n",
    "    scf_mol = gto.M(atom=mol, basis=\"6-31G\", unit=\"Bohr\", verbose=0)\n",
    "    hf = scf.HF(scf_mol).run()\n",
    "    calc_scf = cc.CCSD(hf)\n",
    "    _en = calc_scf.kernel()\n",
    "    et = calc_scf.ccsd_t()\n",
    "    energy = calc_scf.e_tot + et\n",
    "\n",
    "    dur = time.time() - start\n",
    "    \n",
    "    if not silent:\n",
    "        print(f\"For {_mol_name} {energy=}\")\n",
    "        if not calc_scf.converged:\n",
    "            print(f\"Calculation for {_mol_name} did not converge\", file=sys.stderr)\n",
    "    return energy, calc_scf.converged, dur"
   ]
  },
  {
   "cell_type": "markdown",
   "metadata": {
    "datalore": {
     "hide_input_from_viewers": true,
     "hide_output_from_viewers": true,
     "node_id": "CabErmrEgIuTlRyQ4iQU4l",
     "type": "MD"
    }
   },
   "source": [
    "### DQC\n",
    "\n",
    "DQC accepts custom functionals as objects of classes derived from `dqc.xc.CustomXC`"
   ]
  },
  {
   "cell_type": "code",
   "execution_count": 90,
   "metadata": {
    "datalore": {
     "hide_input_from_viewers": true,
     "hide_output_from_viewers": true,
     "node_id": "ZXuDyJAUqa73YFbnXcLJaF",
     "type": "CODE"
    }
   },
   "outputs": [],
   "source": [
    "class MyLDAX(dqc.xc.CustomXC):\n",
    "    def __init__(self, a_par, p_par):\n",
    "        super().__init__()\n",
    "        self.a_par = a_par\n",
    "        self.p_par = p_par\n",
    "        self.number_of_parameters = 2\n",
    "\n",
    "    @property\n",
    "    def family(self):\n",
    "        # 1 for LDA, 2 for GGA, 4 for MGGA\n",
    "        return 1\n",
    "\n",
    "    def get_edensityxc(self, densinfo):\n",
    "        # densinfo has up and down components\n",
    "        if isinstance(densinfo, dqc.utils.SpinParam):\n",
    "            # spin-scaling of the exchange energy\n",
    "            return 0.5 * (self.get_edensityxc(densinfo.u * 2) + self.get_edensityxc(densinfo.d * 2))\n",
    "        else:\n",
    "            rho = densinfo.value.abs() + 1e-15  # safeguarding from nan\n",
    "            return self.a_par * rho ** self.p_par\n",
    "        \n",
    "    def get_edensityxc_derivative(self, densinfo, number_of_parameter):\n",
    "        # densinfo has up and down components\n",
    "        if isinstance(densinfo, dqc.utils.SpinParam):\n",
    "            # spin-scaling of the exchange energy\n",
    "            return 0.5 * (self.get_edensityxc_derivative(densinfo.u * 2, number_of_parameter) \n",
    "                          + self.get_edensityxc_derivative(densinfo.d * 2, number_of_parameter))\n",
    "        else:\n",
    "            rho = densinfo.value.abs() + 1e-15  # safeguarding from nan\n",
    "            if number_of_parameter == 0: # parameter a\n",
    "                return rho ** self.p_par\n",
    "            elif number_of_parameter == 1: # parameter p\n",
    "                return self.a_par * torch.log(rho) * rho ** self.p_par"
   ]
  },
  {
   "cell_type": "code",
   "execution_count": 91,
   "metadata": {
    "datalore": {
     "hide_input_from_viewers": true,
     "hide_output_from_viewers": true,
     "node_id": "x49ZfU4LdQIL1KsmxSnKbp",
     "type": "CODE"
    }
   },
   "outputs": [],
   "source": [
    "def dqc_custom(_mol_name, a = 1.0, p = 2.0, silent = False):\n",
    "    start = time.time()\n",
    "\n",
    "    a_par = torch.nn.Parameter(torch.tensor(a, dtype=torch.double))\n",
    "    p_par = torch.nn.Parameter(torch.tensor(p, dtype=torch.double))\n",
    "    mol = molecules[_mol_name]\n",
    "    atmozs, atomposs = dqc.parse_moldesc(mol)\n",
    "    dqc_mol = dqc.Mol((atmozs, atomposs), basis=\"6-31G\")\n",
    "    qc = dqc.KS(dqc_mol, xc=MyLDAX(a_par, p_par)).run()\n",
    "    energy_tensor = qc.energy()\n",
    "    energy = energy_tensor.item()\n",
    "\n",
    "    dur = time.time() - start\n",
    "\n",
    "    if not silent:\n",
    "        print(f\"For {_mol_name} {energy=} ({a=}, {p=})\")\n",
    "    return energy_tensor, True, dur"
   ]
  },
  {
   "cell_type": "markdown",
   "metadata": {
    "datalore": {
     "hide_input_from_viewers": true,
     "hide_output_from_viewers": true,
     "node_id": "CSjHTRCB8P0ZifrjITux2s",
     "type": "MD"
    }
   },
   "source": [
    "### Comparison test\n",
    "\n",
    "Let's compare all of the above methods (also, for convenience, all of the results are compiled at the end of the notebook in tables)."
   ]
  },
  {
   "cell_type": "code",
   "execution_count": 92,
   "metadata": {
    "datalore": {
     "hide_input_from_viewers": true,
     "hide_output_from_viewers": true,
     "node_id": "UY1XdShEAtxTvCwwmS7Jnx",
     "type": "CODE"
    }
   },
   "outputs": [
    {
     "name": "stdout",
     "output_type": "stream",
     "text": [
      "Builtin:       For h2 energy=-1.0386177856738823\n",
      "CCSD(T):       For h2 energy=-1.1516791660767651\n",
      "PySCF custom:  For h2 energy=-1.0386177856738827 (a=-0.7385587663820223, p=1.3333333333333333)\n",
      "DQC custom:    For h2 energy=-1.0386170699228434 (a=-0.7385587663820223, p=1.3333333333333333)\n",
      "PySCF custom:  ---><---\n",
      "Builtin:       For n2 energy=-107.63947353831068\n",
      "CCSD(T):       For n2 energy=-109.10264680237505\n",
      "PySCF custom:  For n2 energy=-107.63947353831057 (a=-0.7385587663820223, p=1.3333333333333333)\n",
      "DQC custom:    For n2 energy=-107.6394731463358 (a=-0.7385587663820223, p=1.3333333333333333)\n",
      "PySCF custom:  ---><---\n",
      "Builtin:       For water energy=-75.1547053402564\n",
      "CCSD(T):       For water energy=-76.1206412072075\n",
      "PySCF custom:  For water energy=-75.15470534025634 (a=-0.7385587663820223, p=1.3333333333333333)\n",
      "DQC custom:    For water energy=-75.15469465302141 (a=-0.7385587663820223, p=1.3333333333333333)\n",
      "PySCF custom:  ---><---\n",
      "Builtin:       For ammonia energy=-55.413604406782774\n",
      "CCSD(T):       For ammonia energy=-56.29214916490406\n",
      "PySCF custom:  For ammonia energy=-55.41360440678276 (a=-0.7385587663820223, p=1.3333333333333333)\n",
      "DQC custom:    For ammonia energy=-55.413601029264925 (a=-0.7385587663820223, p=1.3333333333333333)\n",
      "PySCF custom:  ---><---\n"
     ]
    },
    {
     "name": "stderr",
     "output_type": "stream",
     "text": [
      "<ipython-input-86-ad976f8892da>:6: RuntimeWarning: divide by zero encountered in power\n",
      "  fxc = a * p * (p - 1.0) * rho ** (p - 2.0)\n"
     ]
    }
   ],
   "source": [
    "factor = -3.0/4.0 * (3.0 / pi)**(1.0/3.0)\n",
    "power = 4.0/3.0\n",
    "\n",
    "for mol in molecules:\n",
    "    print(\"Builtin:       \", end='')\n",
    "    e, c, d = scf_builtin(mol)\n",
    "    results[\"pyscf\"][mol][\"energy\"] = e\n",
    "    results[\"pyscf\"][mol][\"converged\"] = c\n",
    "    results[\"pyscf\"][mol][\"time\"] = d\n",
    "    print(\"CCSD(T):       \", end='')\n",
    "    e, c, d = scf_ccsdt(mol)\n",
    "    results[\"pyscf_ccsdt\"][mol][\"energy\"] = e\n",
    "    results[\"pyscf_ccsdt\"][mol][\"converged\"] = c\n",
    "    results[\"pyscf_ccsdt\"][mol][\"time\"] = d\n",
    "    print(\"PySCF custom:  \", end='')\n",
    "    e, c, d = scf_custom(mol, factor, power)\n",
    "    results[\"pyscf_custom\"][mol][\"energy\"] = e\n",
    "    results[\"pyscf_custom\"][mol][\"converged\"] = c\n",
    "    results[\"pyscf_custom\"][mol][\"time\"] = d\n",
    "    print(\"DQC custom:    \", end='')\n",
    "    e, c, d = dqc_custom(mol, factor, power)\n",
    "    results[\"dqc\"][mol][\"energy\"] = e.item()\n",
    "    results[\"dqc\"][mol][\"converged\"] = c\n",
    "    results[\"dqc\"][mol][\"time\"] = d\n",
    "    print(\"PySCF custom:  \", end='')\n",
    "    print(\"---><---\")"
   ]
  },
  {
   "cell_type": "markdown",
   "metadata": {
    "datalore": {
     "hide_input_from_viewers": false,
     "hide_output_from_viewers": false,
     "node_id": "oqSHKSEWrAT2qsYRaJyONL",
     "report_properties": {},
     "type": "MD"
    }
   },
   "source": [
    "## Calculating energy derivatives\n",
    "\n",
    "Some basic ways to compute energy derivatives are finite differences. DQC also allows to make use of PyTorch's `autograd`.\n",
    "\n",
    "From now on, all of the calculations will rely on user defined functionals."
   ]
  },
  {
   "cell_type": "markdown",
   "metadata": {
    "datalore": {
     "hide_input_from_viewers": true,
     "hide_output_from_viewers": true,
     "node_id": "ZjOuChfOcdb0cfKcmfVCns",
     "type": "MD"
    }
   },
   "source": [
    "### Finite differences\n",
    "\n",
    "Calculating derivatives via finite difference is straighforward once there is a way to calculate energy:"
   ]
  },
  {
   "cell_type": "code",
   "execution_count": 93,
   "metadata": {
    "datalore": {
     "hide_input_from_viewers": true,
     "hide_output_from_viewers": true,
     "node_id": "ZS5Qm9R8TG3ohxZlQrEtW5",
     "type": "CODE"
    }
   },
   "outputs": [],
   "source": [
    "def fd(method, _mol_name, a, p, bump_factor=0.00001):\n",
    "    c = True\n",
    "    en, c1, _ = method(_mol_name, a, p, silent = True)\n",
    "    c &= c1\n",
    "    da = a * bump_factor\n",
    "    dp = p * bump_factor\n",
    "\n",
    "    en_da, c1, _ = method(_mol_name, a + da, p, silent = True)\n",
    "    c &= c1\n",
    "    en_dp, c1, _ = method(_mol_name, a, p + dp, silent = True)\n",
    "    c &= c1\n",
    "\n",
    "    dea = (en_da - en) / da\n",
    "    dep = (en_dp - en) / dp\n",
    "\n",
    "    print(f\"For {_mol_name}:\")\n",
    "    print(f\"dE/da = {dea}\")\n",
    "    print(f\"dE/dp = {dep}\")\n",
    "\n",
    "    if not c:\n",
    "        print(f\"One of finite difference computations for {_mol_name} didn't converge with {method}\")\n",
    "\n",
    "    return dea, dep"
   ]
  },
  {
   "cell_type": "markdown",
   "metadata": {
    "datalore": {
     "hide_input_from_viewers": true,
     "hide_output_from_viewers": true,
     "node_id": "qrTQdCyZr8mHVAKz5Dn9tM",
     "type": "MD"
    }
   },
   "source": [
    "### DQC and `torch.autograd`"
   ]
  },
  {
   "cell_type": "code",
   "execution_count": 94,
   "metadata": {
    "datalore": {
     "hide_input_from_viewers": true,
     "hide_output_from_viewers": true,
     "node_id": "qklrokRZgCJ6HaWMU47ZpQ",
     "type": "CODE"
    }
   },
   "outputs": [],
   "source": [
    "def dqc_autograd(_mol_name, a, p):\n",
    "    # Mostly same as e_dqc()\n",
    "    a_par = torch.nn.Parameter(torch.tensor(a, dtype=torch.double))\n",
    "    p_par = torch.nn.Parameter(torch.tensor(p, dtype=torch.double))\n",
    "    mol = molecules[_mol_name]\n",
    "    atmozs, atomposs = dqc.parse_moldesc(mol)\n",
    "    dqc_mol = dqc.Mol((atmozs, atomposs), basis=\"6-31G\")\n",
    "    qc = dqc.KS(dqc_mol, xc=MyLDAX(a_par, p_par)).run()\n",
    "    energy_tensor = qc.energy()\n",
    "    grad = torch.autograd.grad(energy_tensor, (a_par, p_par))\n",
    "\n",
    "    print(f\"For {_mol_name}:\")\n",
    "    print(f\"dE/da = {grad[0]}\")\n",
    "    print(f\"dE/dp = {grad[1]}\")\n",
    "    return grad"
   ]
  },
  {
   "cell_type": "markdown",
   "metadata": {
    "datalore": {
     "hide_input_from_viewers": true,
     "hide_output_from_viewers": true,
     "node_id": "6KDkcf79sfPEemqi03WsDN",
     "type": "MD"
    }
   },
   "source": [
    "### Comparison test\n",
    "\n",
    "Derivatives computations are compared at the end of the notebook."
   ]
  },
  {
   "cell_type": "markdown",
   "metadata": {
    "datalore": {
     "hide_input_from_viewers": true,
     "hide_output_from_viewers": true,
     "node_id": "jE7QhzsPOXSZSHgKohPYF0",
     "type": "MD"
    }
   },
   "source": [
    "## Adjoint derivatives"
   ]
  },
  {
   "cell_type": "markdown",
   "metadata": {
    "datalore": {
     "hide_input_from_viewers": true,
     "hide_output_from_viewers": true,
     "node_id": "fDE7wdj18sEXBFfslxXZRt",
     "type": "MD"
    }
   },
   "source": [
    "### Full algorithm in DQC"
   ]
  },
  {
   "cell_type": "markdown",
   "metadata": {
    "datalore": {
     "hide_input_from_viewers": true,
     "hide_output_from_viewers": true,
     "node_id": "Lm4lw1RuKp9OVUYRfwqBts",
     "type": "MD"
    }
   },
   "source": [
    "#### Preparing for calculation\n",
    "\n",
    "Initialize the system, DQC, and set up some variables"
   ]
  },
  {
   "cell_type": "code",
   "execution_count": 95,
   "metadata": {
    "datalore": {
     "hide_input_from_viewers": true,
     "hide_output_from_viewers": true,
     "node_id": "th08MEmgwYVXE0MLgrDk6q",
     "type": "CODE"
    }
   },
   "outputs": [],
   "source": [
    "from dqc.utils.datastruct import SpinParam, ValGrad\n",
    "\n",
    "a = 1.0\n",
    "p = 2.0\n",
    "mol_name = \"water\"\n",
    "\n",
    "a_par = torch.nn.Parameter(torch.tensor(a, dtype=torch.double))\n",
    "p_par = torch.nn.Parameter(torch.tensor(p, dtype=torch.double))\n",
    "aj_mol = molecules[mol_name]\n",
    "atmozs, atomposs = dqc.parse_moldesc(aj_mol)\n",
    "dqc_mol = dqc.Mol((atmozs, atomposs), basis=\"6-31G\")\n",
    "qc = dqc.KS(dqc_mol, xc=MyLDAX(a_par, p_par)).run()"
   ]
  },
  {
   "cell_type": "code",
   "execution_count": 96,
   "metadata": {
    "datalore": {
     "hide_input_from_viewers": true,
     "hide_output_from_viewers": true,
     "node_id": "mYbPHZGhmG3u0T0nylnxEC",
     "type": "CODE"
    }
   },
   "outputs": [],
   "source": [
    "def _symm(scp: torch.Tensor):\n",
    "    # forcely symmetrize the tensor\n",
    "    return (scp + scp.transpose(-2, -1)) * 0.5\n",
    "\n",
    "dm = qc._dm.detach().clone()\n",
    "noccorb = qc._engine.hf_engine._norb\n",
    "nallorb = qc.get_system().get_hamiltonian().nao\n",
    "fockian = qc._engine.dm2scp(dm).detach().clone()\n",
    "\n",
    "def eigendecomposition(hf_engine):\n",
    "    if not hf_engine._polarized:\n",
    "        fock = xt.LinearOperator.m(_symm(fockian), is_hermitian=True)\n",
    "        return hf_engine.diagonalize(fock, noccorb)\n",
    "    else:\n",
    "        fock_u = xt.LinearOperator.m(_symm(fockian[0]), is_hermitian=True)\n",
    "        fock_d = xt.LinearOperator.m(_symm(fockian[1]), is_hermitian=True)\n",
    "        return hf_engine.diagonalize(hf_engine, SpinParam(u=fock_u, d=fock_d))\n",
    "\n",
    "energies, coefficients = eigendecomposition(qc._engine.hf_engine)\n",
    "orboccs = qc._engine.orb_weight.detach().clone()"
   ]
  },
  {
   "cell_type": "markdown",
   "metadata": {
    "datalore": {
     "hide_input_from_viewers": true,
     "hide_output_from_viewers": true,
     "node_id": "2hIOmFqZlhml2bMbd0FRws",
     "type": "MD"
    }
   },
   "source": [
    "First, derivatives from energy:\n",
    "\n",
    "#### Calculating $\\frac{\\partial E[\\rho](attachment:./\\vec{\\theta})}{\\partial \\textbf{C}}$\n",
    "\n",
    "Only canonical (i.e. eigenfunctions of fockian) orbitals can be used:\n",
    "$$ \\frac{\\partial E[\\rho](attachment:./\\vec{\\theta})}{\\partial C_{bj}} = 2f_b \\sum_i C_{bi}F_{ij} = 2f_b \\epsilon_b C_{bj}$$\n",
    "so\n",
    "$$ \\frac{\\partial E[\\rho](attachment:./\\vec{\\theta})}{\\partial \\textbf{C}} = 2\\textbf{f}\\epsilon\\textbf{C}$$\n",
    "$\\epsilon$ here is matrix: $\\epsilon_{ab}=\\delta_{ab}\\epsilon_a$"
   ]
  },
  {
   "cell_type": "code",
   "execution_count": 97,
   "metadata": {
    "datalore": {
     "hide_input_from_viewers": true,
     "hide_output_from_viewers": true,
     "node_id": "J8oi9udT0nqtPYzZYWMa2z",
     "type": "CODE"
    }
   },
   "outputs": [],
   "source": [
    "dE_wrt_dC = 2 * torch.einsum(\"b,ib,ij->bj\", orboccs, coefficients, fockian)"
   ]
  },
  {
   "cell_type": "markdown",
   "metadata": {
    "datalore": {
     "hide_input_from_viewers": true,
     "hide_output_from_viewers": true,
     "node_id": "XM813JtTQPwx51HxSJOu0s",
     "type": "MD"
    }
   },
   "source": [
    "#### Calculating $\\frac{\\partial E[\\rho](attachment:./\\vec{\\theta})}{\\partial \\vec{\\epsilon}}$\n",
    "\n",
    "$$\\frac{\\partial E[\\rho](attachment:./\\vec{\\theta})}{\\partial \\epsilon_{b}} = 0$$ for all $\\epsilon_b$. So:"
   ]
  },
  {
   "cell_type": "code",
   "execution_count": 98,
   "metadata": {
    "datalore": {
     "hide_input_from_viewers": true,
     "hide_output_from_viewers": true,
     "node_id": "T8ATaKezoqXIRVe6cDbm0Y",
     "type": "CODE"
    }
   },
   "outputs": [],
   "source": [
    "dE_wrt_depsilon = torch.zeros(noccorb)"
   ]
  },
  {
   "cell_type": "markdown",
   "metadata": {
    "datalore": {
     "hide_input_from_viewers": true,
     "hide_output_from_viewers": true,
     "node_id": "QYYMBK3Sw42gvywu1m4bs2",
     "type": "MD"
    }
   },
   "source": [
    "Then, derivatives from normalization equations:\n",
    "\n",
    "#### Calculating $\\frac{\\partial \\vec{r}(\\textbf{C})}{\\partial \\textbf{C}}$\n",
    "\n",
    "$$\\frac{\\partial r_{a}(\\textbf{C})}{\\partial C_{ck}} = 2\\delta_{ac}C_{ck}$$"
   ]
  },
  {
   "cell_type": "code",
   "execution_count": 99,
   "metadata": {
    "datalore": {
     "hide_input_from_viewers": true,
     "hide_output_from_viewers": true,
     "node_id": "ifqahl0MKmnqpDbRuQ7VEw",
     "type": "CODE"
    }
   },
   "outputs": [],
   "source": [
    "occupied_orbitals_kronecker = torch.eye(noccorb)\n",
    "dnorm_wrt_dC = 2 * torch.einsum(\"ac,kc->kac\", occupied_orbitals_kronecker, coefficients)"
   ]
  },
  {
   "cell_type": "markdown",
   "metadata": {
    "datalore": {
     "hide_input_from_viewers": true,
     "hide_output_from_viewers": true,
     "node_id": "urdg78pCr6YcvsWCfnBD6x",
     "type": "MD"
    }
   },
   "source": [
    "#### Calculating $\\frac{\\partial \\vec{r}(\\textbf{C})}{\\partial \\vec{\\epsilon}}$\n",
    "$$\\frac{\\partial r_{a}(\\textbf{C})}{\\partial \\epsilon_b} = 0$$"
   ]
  },
  {
   "cell_type": "code",
   "execution_count": 100,
   "metadata": {
    "datalore": {
     "hide_input_from_viewers": true,
     "hide_output_from_viewers": true,
     "node_id": "UQE5aNTCww7ePqalipH3Pg",
     "type": "CODE"
    }
   },
   "outputs": [],
   "source": [
    "dnorm_wrt_depsilon = torch.zeros((noccorb, noccorb))"
   ]
  },
  {
   "cell_type": "markdown",
   "metadata": {
    "datalore": {
     "hide_input_from_viewers": true,
     "hide_output_from_viewers": true,
     "node_id": "cXqmY0ErS20gavbrC8p9xu",
     "type": "MD"
    }
   },
   "source": [
    "Derivatives from Roothan equations:\n",
    "\n",
    "#### Calculating $\\frac{\\partial \\textbf{r}(\\textbf{C};\\;\\vec{\\theta})}{\\partial \\textbf{C}}$\n",
    "\n",
    "$$G_{Cou, ijkl} = \\iint b_i(\\vec{r}) \\frac{b_k(\\vec{r'})b_l(\\vec{r'})}{|\\vec{r}-\\vec{r'}|} b_j(\\vec{r})d\\vec{r'}d\\vec{r}$$\n",
    "$$G_{XC, ijkl} = \n",
    "\\int b_i(\\vec{r}) b_k(\\vec{r}) \\frac{\\partial V_{XC}[\\rho](attachment:./\\vec{r};\\;\\vec{\\theta})}{\\partial \\rho(\\vec{r})}b_l(\\vec{r})b_j(\\vec{r})d\\vec{r}$$\n",
    "$$\\frac{\\partial r_{ia}(\\textbf{C};\\;\\vec{\\theta})}{\\partial C_{ck}} = \n",
    "(F_{ik}[\\rho](attachment:./\\vec{\\theta}) - \\epsilon_c\\delta_{ik})\\delta_{ac} +\n",
    "2f_c\\sum_j \\sum_{l}C_{cl}\\left(G_{Cou,ijkl} + G_{XC,ijkl}\\right)C_{aj}\n",
    "$$"
   ]
  },
  {
   "cell_type": "markdown",
   "metadata": {
    "datalore": {
     "hide_input_from_viewers": true,
     "hide_output_from_viewers": true,
     "node_id": "CAK9js9lXIxdnUff3aeb1D",
     "type": "MD"
    }
   },
   "source": [
    "First term:"
   ]
  },
  {
   "cell_type": "code",
   "execution_count": 101,
   "metadata": {
    "datalore": {
     "hide_input_from_viewers": true,
     "hide_output_from_viewers": true,
     "node_id": "cyjnsCT5dISFvyhqMGRB4g",
     "type": "CODE"
    }
   },
   "outputs": [],
   "source": [
    "all_orbitals_kronecker = torch.eye(nallorb)\n",
    "dRoothan_wrt_dC_first_term = torch.einsum(\n",
    "                                            \"ik,ac->iakc\",\n",
    "                                            fockian,\n",
    "                                            occupied_orbitals_kronecker\n",
    "                                        )\n",
    "dRoothan_wrt_dC_first_term -= torch.einsum(\n",
    "                                            \"c,ik,ac->iakc\",\n",
    "                                            energies,\n",
    "                                            all_orbitals_kronecker,\n",
    "                                            occupied_orbitals_kronecker\n",
    "                                        )"
   ]
  },
  {
   "cell_type": "markdown",
   "metadata": {
    "datalore": {
     "hide_input_from_viewers": true,
     "hide_output_from_viewers": true,
     "node_id": "xnUyHKSTYp8BtijuCDo7l3",
     "type": "MD"
    }
   },
   "source": [
    "Second term (fourDtensor loses symmetry of XC-tensor):"
   ]
  },
  {
   "cell_type": "code",
   "execution_count": 102,
   "metadata": {
    "datalore": {
     "hide_input_from_viewers": true,
     "hide_output_from_viewers": true,
     "node_id": "okGj4baXcZIt7vfiD2Arft",
     "type": "CODE"
    }
   },
   "outputs": [
    {
     "name": "stdout",
     "output_type": "stream",
     "text": [
      "density info torch.Size([52366])\n",
      "started the four term integral computation for torch.Size([52366, 13])...\n"
     ]
    }
   ],
   "source": [
    "four_center_elrep_tensor = torch.einsum(\n",
    "                \"ijkl,lc,ja->iakc\",\n",
    "                qc._engine.hamilton.el_mat.detach().clone(),\n",
    "                coefficients,\n",
    "                coefficients\n",
    "            )\n",
    "\n",
    "def get_dvxc_wrt_dro_xc(xc, densinfo):\n",
    "    # mark the densinfo components as requiring grads\n",
    "    with xc._enable_grad_densinfo(densinfo):\n",
    "        with torch.enable_grad():\n",
    "            edensity = xc.get_edensityxc(densinfo)  # (*BD, ngrid)\n",
    "        grad_outputs = torch.ones_like(edensity)\n",
    "        # print(f'edensity {edensity.shape}')\n",
    "        grad_enabled = torch.is_grad_enabled()\n",
    "\n",
    "        if not isinstance(densinfo, ValGrad):  # polarized case\n",
    "            raise NotImplementedError(\"polarized case is not implemented\")\n",
    "        else:  # unpolarized case\n",
    "            if xc.family == 1:  # LDA\n",
    "                # Here we are taking autograd.grad derivative twice:\n",
    "                potinfo, = torch.autograd.grad(\n",
    "                    edensity, densinfo.value, create_graph=grad_enabled,\n",
    "                    grad_outputs=grad_outputs)\n",
    "                # print(f'potinfo {potinfo.shape}')\n",
    "                derivative_of_potinfo_wrt_ro, = torch.autograd.grad(\n",
    "                    potinfo, densinfo.value, grad_outputs=grad_outputs)\n",
    "                return ValGrad(value=derivative_of_potinfo_wrt_ro)\n",
    "            else:  # GGA and others\n",
    "                raise NotImplementedError(\"Default dvxc wrt dro for this family is not implemented\")\n",
    "\n",
    "@nb.njit(parallel=True)\n",
    "def _four_term_integral(m, b, o):\n",
    "    N = b.shape[1]  # size of basis set\n",
    "    n = o.shape[1]  # number of occupied orbitals\n",
    "    R = m.shape[0]  # size of grid\n",
    "    res = numpy.zeros((N, n, N, n))\n",
    "    for i in nb.prange(N):\n",
    "        for a in range(n):\n",
    "            for k in range(i+1):\n",
    "                for c in range(a+1):\n",
    "                    for r in range(R):\n",
    "                        value = m[r] * b[r, i] * o[r, a] * b[r, k] * o[r, c]\n",
    "                        res[i, a, k, c] += value\n",
    "                        if a != c:\n",
    "                            res[i, c, k, a] += value\n",
    "                            if i != k:\n",
    "                                res[k, a, i, c] += value\n",
    "                                res[k, c, i, a] += value\n",
    "                        elif i != k:\n",
    "                            res[k, a, i, c] += value\n",
    "    return res\n",
    "\n",
    "def get_dvxc_wrt_dro_from_derivative_of_potinfo_wrt_ro(hamiltonian, derivative_of_potinfo_wrt_ro: ValGrad):\n",
    "    print(f'started the four term integral computation for {hamiltonian.basis.shape}...')\n",
    "    molecular_orbitals_at_grid = hamiltonian.basis @ coefficients\n",
    "    derivative_of_potinfo_wrt_ro_dvolume = derivative_of_potinfo_wrt_ro.value * hamiltonian.dvolume\n",
    "    mat = _four_term_integral(derivative_of_potinfo_wrt_ro_dvolume.numpy(),\n",
    "                                hamiltonian.basis.numpy(),\n",
    "                                molecular_orbitals_at_grid.numpy())\n",
    "    return torch.from_numpy(mat)\n",
    "\n",
    "def construct_vxc_derivative_tensor(hamiltonian, dm):\n",
    "    densinfo = SpinParam.apply_fcn(lambda dm_: hamiltonian._dm2densinfo(dm_), dm)  # value: (*BD, ngrid)\n",
    "    print(f'density info {densinfo.value.shape}')\n",
    "    derivative_of_potinfo_wrt_ro = get_dvxc_wrt_dro_xc(hamiltonian.xc, densinfo)  # value: (*BD, ngrid)\n",
    "    dvxc_wrt_dro = get_dvxc_wrt_dro_from_derivative_of_potinfo_wrt_ro(hamiltonian,\n",
    "                                                                                derivative_of_potinfo_wrt_ro)\n",
    "    return dvxc_wrt_dro\n",
    "\n",
    "fourDtensor = four_center_elrep_tensor + \\\n",
    "                construct_vxc_derivative_tensor(qc._engine.hamilton, dm)\n",
    "dRoothan_wrt_dC_second_term = 2 * torch.einsum(\"c,iakc->iakc\", orboccs, fourDtensor)"
   ]
  },
  {
   "cell_type": "code",
   "execution_count": 103,
   "metadata": {
    "datalore": {
     "hide_input_from_viewers": true,
     "hide_output_from_viewers": true,
     "node_id": "4vZLwpPfc6cuwOqGARRE3w",
     "type": "CODE"
    }
   },
   "outputs": [],
   "source": [
    "dRoothan_wrt_dC = dRoothan_wrt_dC_first_term + dRoothan_wrt_dC_second_term"
   ]
  },
  {
   "cell_type": "markdown",
   "metadata": {
    "datalore": {
     "hide_input_from_viewers": true,
     "hide_output_from_viewers": true,
     "node_id": "jtGrbusSbOws951HDxqpeb",
     "type": "MD"
    }
   },
   "source": [
    "#### Calculating $\\frac{\\partial \\textbf{r}(\\textbf{C};\\;\\vec{\\theta})}{\\partial \\vec{\\epsilon}}$\n",
    "\n",
    "$$\\frac{\\partial r_{ia}(\\textbf{C};\\;\\vec{\\theta})}{\\partial \\epsilon_{c}} = -\\delta_{ac}C_{ai}$$"
   ]
  },
  {
   "cell_type": "code",
   "execution_count": 104,
   "metadata": {
    "datalore": {
     "hide_input_from_viewers": true,
     "hide_output_from_viewers": true,
     "node_id": "vy6yaViAwTrZHgXv8dqIZB",
     "type": "CODE"
    }
   },
   "outputs": [],
   "source": [
    "dRoothan_wrt_depsilon = -1 * torch.einsum(\n",
    "                                            \"ac,ia->iac\",\n",
    "                                            occupied_orbitals_kronecker,\n",
    "                                            coefficients\n",
    "                                        )"
   ]
  },
  {
   "cell_type": "markdown",
   "metadata": {
    "datalore": {
     "hide_input_from_viewers": true,
     "hide_output_from_viewers": true,
     "node_id": "9GO05Nbu6khQcopKEjArsJ",
     "type": "MD"
    }
   },
   "source": [
    "Now, we are ready to calculate the adjoint vector.\n",
    "\n",
    "#### Concatenate tensors:\n",
    "\n",
    "$$\\left( \\frac{\\partial E}{\\partial \\vec{X}} \\right)_{N_{ao}j+c} =  \\begin{cases}\n",
    "   \\frac{\\partial E}{\\partial С_{cj}} &\\text{if $0 \\le j < N_{orb}$} \\\\\n",
    "   \\frac{\\partial E}{\\partial \\epsilon_{c}} &\\text{if $j = N_{orb}$}\n",
    " \\end{cases}$$"
   ]
  },
  {
   "cell_type": "code",
   "execution_count": 105,
   "metadata": {
    "datalore": {
     "hide_input_from_viewers": true,
     "hide_output_from_viewers": true,
     "node_id": "ySmwdfmG8CnP8ZnJfH47VR",
     "type": "CODE"
    }
   },
   "outputs": [],
   "source": [
    "dE_wrt_dX = torch.cat((dE_wrt_dC, dE_wrt_depsilon.unsqueeze(-1)), 1) \\\n",
    "            .t().reshape(-1, )"
   ]
  },
  {
   "cell_type": "markdown",
   "metadata": {
    "datalore": {
     "hide_input_from_viewers": true,
     "hide_output_from_viewers": true,
     "node_id": "cO91MjD3Pkmp1LOJR33XQi",
     "type": "MD"
    }
   },
   "source": [
    "$$\\left( \\frac{\\partial \\vec{Y}}{\\partial \\vec{X}} \\right)_{N_{ao}i+a,N_{ao}j+c} =  \\begin{cases}\n",
    "   \\frac{\\partial r_{ia}}{\\partial С_{cj}} &\\text{if $0 \\le i < N_{orb}$ and $0 \\le j < N_{orb}$} \\\\\n",
    "   \\frac{\\partial r_{ia}}{\\partial \\epsilon_{c}} &\\text{if $0 \\le i < N_{orb}$ and $j = N_{orb}$} \\\\\n",
    "   \\frac{\\partial r_{a}}{\\partial С_{cj}} &\\text{if $i = N_{orb}$ and $0 \\le j < N_{orb}$} \\\\\n",
    "   \\frac{\\partial r_{a}}{\\partial \\epsilon_{c}} &\\text{if $i = N_{orb}$ and $j = N_{orb}$}\n",
    " \\end{cases}$$"
   ]
  },
  {
   "cell_type": "code",
   "execution_count": 106,
   "metadata": {
    "datalore": {
     "hide_input_from_viewers": true,
     "hide_output_from_viewers": true,
     "node_id": "udf51Zn5CL50RIFXlsSAcC",
     "type": "CODE"
    }
   },
   "outputs": [],
   "source": [
    "N = nallorb * noccorb\n",
    "\n",
    "upper = torch.cat((\n",
    "                    dRoothan_wrt_dC.reshape((N, N)),\n",
    "                    dRoothan_wrt_depsilon.reshape((N, noccorb))\n",
    "                ), 1)\n",
    "lower = torch.cat((\n",
    "                    dnorm_wrt_dC.reshape(N, noccorb).t(),\n",
    "                    dnorm_wrt_depsilon\n",
    "                ), 1)\n",
    "dY_wrt_dX = torch.cat((upper, lower), 0)"
   ]
  },
  {
   "cell_type": "markdown",
   "metadata": {
    "datalore": {
     "hide_input_from_viewers": true,
     "hide_output_from_viewers": true,
     "node_id": "2xfxuj6VpB6O8luKgS3nf2",
     "type": "MD"
    }
   },
   "source": [
    "#### Find the adjoint vector:"
   ]
  },
  {
   "cell_type": "code",
   "execution_count": 107,
   "metadata": {
    "datalore": {
     "hide_input_from_viewers": true,
     "hide_output_from_viewers": true,
     "node_id": "WNqSkggDO4en1bkMpAY77a",
     "type": "CODE"
    }
   },
   "outputs": [],
   "source": [
    "adjoint = torch.linalg.solve(dY_wrt_dX, dE_wrt_dX)"
   ]
  },
  {
   "cell_type": "markdown",
   "metadata": {
    "datalore": {
     "hide_input_from_viewers": true,
     "hide_output_from_viewers": true,
     "node_id": "ucGgEk3BsXGhQbErkt63mm",
     "type": "MD"
    }
   },
   "source": [
    "Now, we calculate derivatives with respect to parameters:\n",
    "\n",
    "#### Derivative from energy:\n",
    "$$ \\frac{\\partial E[\\rho](attachment:./\\vec{\\theta})}{\\partial \\vec{\\theta}} = \n",
    " \\int  \\frac{\\partial \\left(\\rho(\\vec{r})\\epsilon_{XC}[\\rho](attachment:./\\vec{r};\\;\\vec{\\theta})\\right)}{\\partial \\vec{\\theta}}d\\vec{r} \n",
    "$$\n",
    "so we just can put $\\frac{\\partial}{\\partial \\vec{\\theta}}\\left( \\rho(\\vec{r})\\epsilon_{XC}[\\rho](attachment:./\\vec{r};\\;\\vec{\\theta}) \\right)$ instead of $\\rho(\\vec{r})\\epsilon_{XC}[\\rho](attachment:./\\vec{r};\\;\\vec{\\theta})$ to DQC calculation."
   ]
  },
  {
   "cell_type": "code",
   "execution_count": 108,
   "metadata": {
    "datalore": {
     "hide_input_from_viewers": true,
     "hide_output_from_viewers": true,
     "node_id": "zYWNSaTMFQp8JjeevxctVS",
     "type": "CODE"
    }
   },
   "outputs": [],
   "source": [
    "def construct_dexc_wrt_dtheta(hamiltonian, dm, parameter_number):\n",
    "    densinfo = SpinParam.apply_fcn(\n",
    "        lambda dm_: hamiltonian._dm2densinfo(dm_), dm)  # (spin) value: (*BD, nr)\n",
    "    edens_derivative = hamiltonian.xc.get_edensityxc_derivative(densinfo, parameter_number).detach()  # (*BD, nr)\n",
    "    return torch.sum(hamiltonian.grid.get_dvolume() * edens_derivative, dim=-1)\n",
    "\n",
    "number_of_parameters = qc._engine.hamilton.xc.number_of_parameters\n",
    "list_of_tensors = []\n",
    "for parameter_number in range(number_of_parameters):\n",
    "    current_tensor = construct_dexc_wrt_dtheta(qc._engine.hamilton, dm, parameter_number)\n",
    "    list_of_tensors.append(current_tensor.unsqueeze(-1))\n",
    "dE_wrt_dtheta = torch.cat(list_of_tensors, 0)"
   ]
  },
  {
   "cell_type": "markdown",
   "metadata": {
    "datalore": {
     "hide_input_from_viewers": true,
     "hide_output_from_viewers": true,
     "node_id": "Mn9X3YlCem0yy7EvZFWOAi",
     "type": "MD"
    }
   },
   "source": [
    "#### Derivative from normalization equations:\n",
    "\n",
    "$$\\frac{\\partial r_{a}(\\textbf{C})}{\\partial\\vec{\\theta}}= 0$$"
   ]
  },
  {
   "cell_type": "code",
   "execution_count": 109,
   "metadata": {
    "datalore": {
     "hide_input_from_viewers": true,
     "hide_output_from_viewers": true,
     "node_id": "fdyB2qDrTjTGgEab8sxsUP",
     "type": "CODE"
    }
   },
   "outputs": [],
   "source": [
    "number_of_parameters = qc._engine.hamilton.xc.number_of_parameters\n",
    "dnorm_wrt_dtheta = torch.zeros(noccorb, number_of_parameters)"
   ]
  },
  {
   "cell_type": "markdown",
   "metadata": {
    "datalore": {
     "hide_input_from_viewers": true,
     "hide_output_from_viewers": true,
     "node_id": "62IyQN4rHloTAVdXj60CTd",
     "type": "MD"
    }
   },
   "source": [
    "#### Derivative from Roothan equations:\n",
    "\n",
    "$$\\frac{\\partial r_{ia}(\\textbf{C};\\;\\vec{\\theta})}{\\partial \\vec{\\theta}} =\n",
    "\\sum_j C_{aj}\\int b_i(\\vec{r}) \\frac{\\partial V_{XC}[\\rho](attachment:./\\vec{r};\\;\\vec{\\theta})}{\\partial \\vec{\\theta}} b_j(\\vec{r})d\\vec{r}$$\n",
    "\n",
    "As we know, $$V_{XC}[\\rho](attachment:./\\vec{r};\\;\\vec{\\theta}) = \\frac{\\delta E_{XC}[\\rho]}{\\delta\\rho(\\vec{r})} = \\frac{\\delta \\left(\\rho(\\vec{r})\\epsilon_{XC}[\\rho](attachment:./\\vec{r};\\;\\vec{\\theta})\\right)}{\\delta\\rho(\\vec{r})}$$\n",
    "So\n",
    "\n",
    "$$\\frac{\\partial r_{ia}(\\textbf{C};\\;\\vec{\\theta})}{\\partial \\vec{\\theta}} =\n",
    "\\sum_j C_{aj}\\int b_i(\\vec{r}) \\frac{\\partial}{\\partial \\vec{\\theta}}\\frac{\\delta\\left(\\rho(\\vec{r})\\epsilon_{XC}[\\rho](attachment:./\\vec{r};\\;\\vec{\\theta})\\right)}{\\delta\\rho(\\vec{r})} b_j(\\vec{r})d\\vec{r} = \n",
    "\\sum_j C_{aj}\\int b_i(\\vec{r}) \\frac{\\delta}{\\delta\\rho(\\vec{r})} \\frac{\\partial \\left(\\rho(\\vec{r})\\epsilon_{XC}[\\rho](attachment:./\\vec{r};\\;\\vec{\\theta})\\right)}{\\partial \\vec{\\theta}} b_j(\\vec{r})d\\vec{r}\n",
    "$$\n",
    "It means, we can use $\\frac{\\partial}{\\partial \\vec{\\theta}}\\left( \\rho(\\vec{r})\\epsilon_{XC}[\\rho](attachment:./\\vec{r};\\;\\vec{\\theta}) \\right)$ instead of $\\rho(\\vec{r})\\epsilon_{XC}[\\rho](attachment:./\\vec{r};\\;\\vec{\\theta})$ in DQC function`get_vxc()`and get suitable result. This function takes densinfo and takes functional derivative with respect to density."
   ]
  },
  {
   "cell_type": "code",
   "execution_count": 110,
   "metadata": {
    "datalore": {
     "hide_input_from_viewers": true,
     "hide_output_from_viewers": true,
     "node_id": "bfDx1QiGsQl0xLImAEspk2",
     "type": "CODE"
    }
   },
   "outputs": [],
   "source": [
    "def get_dvxc_wrt_dtheta(xc, densinfo, parameter_number):\n",
    "    # mark the densinfo components as requiring grads\n",
    "    with xc._enable_grad_densinfo(densinfo):\n",
    "        with torch.enable_grad():\n",
    "            edensity_derivative = xc.get_edensityxc_derivative(densinfo, parameter_number)  # (*BD, nr)\n",
    "        grad_outputs = torch.ones_like(edensity_derivative)\n",
    "        grad_enabled = torch.is_grad_enabled()\n",
    "\n",
    "        if not isinstance(densinfo, ValGrad):  # polarized case\n",
    "            raise NotImplementedError(\"polarized case is not implemented\")\n",
    "        else:  # unpolarized case\n",
    "            if xc.family == 1:  # LDA\n",
    "                dedn, = torch.autograd.grad(\n",
    "                    edensity_derivative, densinfo.value, create_graph=grad_enabled,\n",
    "                    grad_outputs=grad_outputs)\n",
    "\n",
    "                return ValGrad(value=dedn)\n",
    "            else:  # GGA and others\n",
    "                raise NotImplementedError(\"Default dvxc wrt dro for this family is not implemented\")\n",
    "\n",
    "def contruct_dvxc_wrt_dtheta(hamiltonian, dm, parameter_number):\n",
    "    densinfo = SpinParam.apply_fcn(lambda dm_: hamiltonian._dm2densinfo(dm_), dm)  # value: (*BD, nr)\n",
    "    potinfo = get_dvxc_wrt_dtheta(hamiltonian.xc, densinfo, parameter_number)  # value: (*BD, nr)\n",
    "    vxc_linop = hamiltonian._get_vxc_from_potinfo(potinfo)\n",
    "    return vxc_linop\n",
    "\n",
    "number_of_parameters = qc._engine.hamilton.xc.number_of_parameters\n",
    "list_of_tensors = []\n",
    "for parameter_number in range(number_of_parameters):\n",
    "    current_tensor = contruct_dvxc_wrt_dtheta(qc._engine.hamilton, dm, parameter_number)\n",
    "    list_of_tensors.append(current_tensor.fullmatrix().detach().unsqueeze(-1))\n",
    "dvxc_wrt_dtheta = torch.cat(list_of_tensors, 2)"
   ]
  },
  {
   "cell_type": "code",
   "execution_count": 111,
   "metadata": {
    "datalore": {
     "hide_input_from_viewers": true,
     "hide_output_from_viewers": true,
     "node_id": "Q5F0mK3UabAu9ZkW9BYh81",
     "type": "CODE"
    }
   },
   "outputs": [],
   "source": [
    "dRoothan_wrt_dtheta = torch.einsum(\"ijt,ja->iat\", dvxc_wrt_dtheta, coefficients)"
   ]
  },
  {
   "cell_type": "markdown",
   "metadata": {
    "datalore": {
     "hide_input_from_viewers": true,
     "hide_output_from_viewers": true,
     "node_id": "WQhbjn8UQxQbbXTIEnmGdn",
     "type": "MD"
    }
   },
   "source": [
    "#### Concatenate derivatives with respect to parameters:"
   ]
  },
  {
   "cell_type": "code",
   "execution_count": 112,
   "metadata": {
    "datalore": {
     "hide_input_from_viewers": true,
     "hide_output_from_viewers": true,
     "node_id": "hWZr13HkkeQTQbRNrHw3EM",
     "type": "CODE"
    }
   },
   "outputs": [],
   "source": [
    "dY_wrt_dtheta = torch.cat((\n",
    "                            dRoothan_wrt_dtheta.reshape(N, number_of_parameters),\n",
    "                            dnorm_wrt_dtheta\n",
    "                        ), 0)"
   ]
  },
  {
   "cell_type": "markdown",
   "metadata": {
    "datalore": {
     "hide_input_from_viewers": true,
     "hide_output_from_viewers": true,
     "node_id": "MYmOgKACNmZe0osrlwwSt0",
     "type": "MD"
    }
   },
   "source": [
    "#### Total derivative:"
   ]
  },
  {
   "cell_type": "code",
   "execution_count": 113,
   "metadata": {
    "datalore": {
     "hide_input_from_viewers": true,
     "hide_output_from_viewers": true,
     "node_id": "uGZ3aWvPinonOjeKOCzIW0",
     "type": "CODE"
    }
   },
   "outputs": [
    {
     "data": {
      "text/plain": [
       "tensor([ 9.9156, 19.0426], dtype=torch.float64)"
      ]
     },
     "metadata": {},
     "output_type": "display_data"
    }
   ],
   "source": [
    "derivative = dE_wrt_dtheta - torch.matmul(adjoint, dY_wrt_dtheta)\n",
    "derivative"
   ]
  },
  {
   "cell_type": "markdown",
   "metadata": {
    "datalore": {
     "hide_input_from_viewers": true,
     "hide_output_from_viewers": true,
     "node_id": "vRYtdVxp2SNXg82o1Feolt",
     "type": "MD"
    }
   },
   "source": [
    "#### Compare with DQC finite difference"
   ]
  },
  {
   "cell_type": "code",
   "execution_count": 114,
   "metadata": {
    "datalore": {
     "hide_input_from_viewers": true,
     "hide_output_from_viewers": true,
     "node_id": "kN8tzGJftinTihqcAURdeo",
     "type": "CODE"
    }
   },
   "outputs": [
    {
     "name": "stdout",
     "output_type": "stream",
     "text": [
      "For water:\n",
      "dE/da = 9.915534184301578\n",
      "dE/dp = 19.04207996972218\n"
     ]
    },
    {
     "data": {
      "text/plain": [
       "(tensor(9.9155, dtype=torch.float64, grad_fn=<DivBackward0>),\n",
       " tensor(19.0421, dtype=torch.float64, grad_fn=<DivBackward0>))"
      ]
     },
     "metadata": {},
     "output_type": "display_data"
    }
   ],
   "source": [
    "fd(dqc_custom, mol_name, 1.0, 2.0)"
   ]
  },
  {
   "cell_type": "markdown",
   "metadata": {
    "datalore": {
     "hide_input_from_viewers": true,
     "hide_output_from_viewers": true,
     "node_id": "qPKltQaHschZbAKnHbepXO",
     "type": "MD"
    }
   },
   "source": [
    "When calculating derivatives most of the time is spent computing calculations leading to `torch.matmul(adjoint, dY_wrt_dtheta)`, including one four-term integral. This is extremely expensive, but if we print out the result of these calculations:"
   ]
  },
  {
   "cell_type": "code",
   "execution_count": 115,
   "metadata": {
    "datalore": {
     "hide_input_from_viewers": true,
     "hide_output_from_viewers": true,
     "node_id": "OXqMaOVqdBauqLzVmpj8JL",
     "type": "CODE"
    }
   },
   "outputs": [
    {
     "data": {
      "text/plain": [
       "tensor([1.9709e-15, 2.9577e-14], dtype=torch.float64)"
      ]
     },
     "metadata": {},
     "output_type": "display_data"
    }
   ],
   "source": [
    "torch.matmul(adjoint, dY_wrt_dtheta)"
   ]
  },
  {
   "cell_type": "markdown",
   "metadata": {
    "datalore": {
     "hide_input_from_viewers": true,
     "hide_output_from_viewers": true,
     "node_id": "v6lLUYrE5D2KhVsKaOO1IJ",
     "type": "MD"
    }
   },
   "source": [
    "it could be seen that it is within margin of error from machine zero. Article shows that analytically it is zero precisely, therefore a majority of calculations could be omitted entirely.\n",
    "\n",
    "With this, we could rewrite the code, now with PySCF, to calculate the derivatives optimally: "
   ]
  },
  {
   "cell_type": "markdown",
   "metadata": {
    "datalore": {
     "hide_input_from_viewers": true,
     "hide_output_from_viewers": true,
     "node_id": "agFQLsE7RgKtOq8cTIEUgn",
     "type": "MD"
    }
   },
   "source": [
    "### Optimal implementation with PySCF\n",
    "\n",
    "We are only required to calculate energy partial derivatives with respect to problem parameters as described above.\n",
    "It is relatively straightforward as we know the exact for of LDA functional:"
   ]
  },
  {
   "cell_type": "code",
   "execution_count": 116,
   "metadata": {
    "datalore": {
     "hide_input_from_viewers": true,
     "hide_output_from_viewers": true,
     "node_id": "zGFu1qZ1tokE2SgtzTOfy1",
     "type": "CODE"
    }
   },
   "outputs": [],
   "source": [
    "def scf_adjoint(mol_name, a = 1.0, p = 2.0):\n",
    "    mol = molecules[mol_name]\n",
    "    scf_mol = gto.M(atom=mol, basis=\"6-31G\", unit=\"Bohr\", verbose=0)\n",
    "    calc_scf = dft.RKS(scf_mol)\n",
    "    calc_scf = calc_scf.define_xc_(custom_eval_xc_LDA(a, p), \"LDA\")\n",
    "    energy = calc_scf.kernel()\n",
    "\n",
    "    def eval_xc_wrt_a(rho):\n",
    "        dexc_wrt_da = rho ** (p - 1.0)\n",
    "        dvrho_wrt_da = p * rho ** (p - 1.0)\n",
    "        dvxc_wrt_da = (dvrho_wrt_da, None, None, None)\n",
    "        return dexc_wrt_da\n",
    "    def eval_xc_wrt_p(rho):\n",
    "        rho[numpy.where(rho == 0)] = numpy.finfo(float).eps # To avoid division by zero\n",
    "        dexc_wrt_dp = a * numpy.log(rho) * rho ** (p - 1.0)\n",
    "        dvrho_wrt_dp = a * p * numpy.log(rho) * rho ** (p - 1.0)\n",
    "        dvxc_wrt_dp = (dvrho_wrt_dp, None, None, None)\n",
    "        return dexc_wrt_dp\n",
    "\n",
    "    number_of_parameters = 2 # a and p\n",
    "\n",
    "    dE_wrt_dtheta_f = [ eval_xc_wrt_a, eval_xc_wrt_p ]\n",
    "\n",
    "    dm_in_nonorthogonal_basis = calc_scf.make_rdm1()\n",
    "    grids_coords = calc_scf.grids.coords\n",
    "    grids_weights = calc_scf.grids.weights\n",
    "    non_orthogonal_ao = dft.numint.eval_ao(calc_scf.mol, grids_coords, deriv=0)\n",
    "\n",
    "    rho = dft.numint.eval_rho(calc_scf.mol, non_orthogonal_ao, \n",
    "                            dm_in_nonorthogonal_basis, xctype='LDA')\n",
    "    \n",
    "    list_of_dexc_wrt_dtheta = []\n",
    "    for p_number in range(number_of_parameters):\n",
    "        dexc_wrt_dtheta_on_grid = dE_wrt_dtheta_f[p_number](rho)\n",
    "\n",
    "        current_dexc_wrt_dtheta = numpy.einsum('r,r,r->...', \n",
    "                                               dexc_wrt_dtheta_on_grid, \n",
    "                                               rho, \n",
    "                                               grids_weights)\n",
    "        list_of_dexc_wrt_dtheta.append(current_dexc_wrt_dtheta)\n",
    "    \n",
    "    return list_of_dexc_wrt_dtheta"
   ]
  },
  {
   "cell_type": "markdown",
   "metadata": {
    "datalore": {
     "hide_input_from_viewers": true,
     "hide_output_from_viewers": true,
     "node_id": "ipuFdlwmyGdslpwgLzeyhf",
     "type": "MD"
    }
   },
   "source": [
    "### Comparison of all derivative calculation methods"
   ]
  },
  {
   "cell_type": "code",
   "execution_count": 117,
   "metadata": {
    "datalore": {
     "hide_input_from_viewers": true,
     "hide_output_from_viewers": true,
     "node_id": "QoZufoWSgWiMVPZcFHDQE5",
     "type": "CODE"
    }
   },
   "outputs": [
    {
     "name": "stdout",
     "output_type": "stream",
     "text": [
      "* DQC finite diffs:\n",
      "For h2:\n",
      "dE/da = 0.7483576356291484\n",
      "dE/dp = 1.4715006613874593\n",
      "* PySCF finite diffs:\n",
      "For h2:\n",
      "dE/da = 0.7483589555845505\n",
      "dE/dp = 1.4715019695743514\n",
      "* DQC autograd:\n",
      "For h2:\n",
      "dE/da = 0.7483571267066685\n",
      "dE/dp = 1.471532010070177\n",
      "* PySCF 'adjoint':\n",
      "dE/da = 0.748358476101723\n",
      "dE/da = 1.4715333105617523\n",
      "---><---\n",
      "* DQC finite diffs:\n",
      "For n2:\n",
      "dE/da = 16.018380169872643\n",
      "dE/dp = -17.00610112038703\n",
      "* PySCF finite diffs:\n",
      "For n2:\n",
      "dE/da = 16.018396605818772\n",
      "dE/dp = -17.006171935207703\n",
      "* DQC autograd:\n",
      "For n2:\n",
      "dE/da = 16.018376599126125\n",
      "dE/dp = -17.005452504468206\n",
      "* PySCF 'adjoint':\n",
      "dE/da = 16.018393025744174\n",
      "dE/da = -17.005523335261252\n",
      "---><---\n",
      "* DQC finite diffs:\n",
      "For water:\n",
      "dE/da = 10.948979199902121\n",
      "dE/dp = -11.080577295174976\n",
      "* PySCF finite diffs:\n",
      "For water:\n",
      "dE/da = 10.948997128975645\n",
      "dE/dp = -11.08060462691185\n",
      "* DQC autograd:\n",
      "For water:\n",
      "dE/da = 10.948975989304921\n",
      "dE/dp = -11.080098561164457\n",
      "* PySCF 'adjoint':\n",
      "dE/da = 10.948995156980333\n",
      "dE/da = -11.08012795424238\n",
      "---><---\n",
      "* DQC finite diffs:\n",
      "For ammonia:\n",
      "dE/da = 9.335447785363199\n",
      "dE/dp = -6.2481031644523455\n",
      "* PySCF finite diffs:\n",
      "For ammonia:\n",
      "dE/da = 9.335451437368087\n",
      "dE/dp = -6.248094182836894\n",
      "* DQC autograd:\n",
      "For ammonia:\n",
      "dE/da = 9.33544516732291\n",
      "dE/dp = -6.247739839367764\n",
      "* PySCF 'adjoint':\n",
      "dE/da = 9.335449100082943\n",
      "dE/da = -6.247731219301018\n",
      "---><---\n"
     ]
    },
    {
     "name": "stderr",
     "output_type": "stream",
     "text": [
      "<ipython-input-86-ad976f8892da>:6: RuntimeWarning: divide by zero encountered in power\n",
      "  fxc = a * p * (p - 1.0) * rho ** (p - 2.0)\n"
     ]
    }
   ],
   "source": [
    "for mol in molecules:\n",
    "    print(\"* DQC finite diffs:\")\n",
    "    start = time.time()\n",
    "    ea, ep = fd(dqc_custom, mol, factor, power)\n",
    "    dur = time.time() - start\n",
    "    results[\"dqc\"][mol][\"ea\"] = ea.item()\n",
    "    results[\"dqc\"][mol][\"ep\"] = ep.item()\n",
    "    results[\"dqc\"][mol][\"time_d\"] = dur\n",
    "    print(\"* PySCF finite diffs:\")\n",
    "    start = time.time()\n",
    "    ea, ep = fd(scf_custom, mol, factor, power)\n",
    "    dur = time.time() - start\n",
    "    results[\"pyscf_custom\"][mol][\"ea\"] = ea\n",
    "    results[\"pyscf_custom\"][mol][\"ep\"] = ep\n",
    "    results[\"pyscf_custom\"][mol][\"time_d\"] = dur\n",
    "    print(\"* DQC autograd:\")\n",
    "    start = time.time()\n",
    "    ea, ep = dqc_autograd(mol, factor, power)\n",
    "    dur = time.time() - start\n",
    "    results[\"dqc_autograd\"][mol][\"ea\"] = ea.item()\n",
    "    results[\"dqc_autograd\"][mol][\"ep\"] = ep.item()\n",
    "    results[\"dqc_autograd\"][mol][\"time_d\"] = dur\n",
    "    print(\"* PySCF 'adjoint':\")\n",
    "    start = time.time()\n",
    "    ea, ep = scf_adjoint(mol, factor, power)\n",
    "    dur = time.time() - start\n",
    "    results[\"pyscf_adjoint\"][mol][\"ea\"] = ea\n",
    "    print(f\"dE/da = {ea}\")\n",
    "    results[\"pyscf_adjoint\"][mol][\"ep\"] = ep\n",
    "    results[\"pyscf_adjoint\"][mol][\"time_d\"] = dur\n",
    "    print(f\"dE/da = {ep}\")\n",
    "    print(\"---><---\")"
   ]
  },
  {
   "cell_type": "markdown",
   "metadata": {
    "datalore": {
     "hide_input_from_viewers": true,
     "hide_output_from_viewers": true,
     "node_id": "4wniOikfCjUQCcWzy5XUY9",
     "type": "MD"
    }
   },
   "source": [
    "## Results\n",
    "In this section, the results of all computations above are assembled."
   ]
  },
  {
   "cell_type": "markdown",
   "metadata": {
    "datalore": {
     "hide_input_from_viewers": true,
     "hide_output_from_viewers": true,
     "node_id": "hukIpEBzzZkQ1BKAoagtJH",
     "type": "MD"
    }
   },
   "source": [
    "### Energy computations"
   ]
  },
  {
   "cell_type": "code",
   "execution_count": 118,
   "metadata": {
    "datalore": {
     "hide_input_from_viewers": true,
     "hide_output_from_viewers": true,
     "node_id": "ihPew4R2jd1Z7ld8hKACgc",
     "type": "CODE"
    }
   },
   "outputs": [],
   "source": [
    "pretty_method_names = {\n",
    "    \"pyscf\": \"PySCF (Bulitin LDA)\",\n",
    "    \"pyscf_custom\": \"PySCF (Custom LDA)\",\n",
    "    \"pyscf_ccsdt\": \"PySCF (CCST(T))\",\n",
    "    \"dqc\": \"DQC (Custom LDA)\",\n",
    "    \"pyscf_adjoint\": \"Optimal PySCF\",\n",
    "    \"dqc_autograd\": \"DQC + Autograd\"\n",
    "}\n",
    "\n",
    "pretty_molecule_names = {\n",
    "    \"h2\": \"H<sub>2</sub>\",\n",
    "    \"n2\": \"N<sub>2</sub>\",\n",
    "    \"water\": \"Water\",\n",
    "    \"ammonia\": \"Ammonia\"\n",
    "}"
   ]
  },
  {
   "cell_type": "code",
   "execution_count": 119,
   "metadata": {
    "datalore": {
     "hide_input_from_viewers": true,
     "hide_output_from_viewers": true,
     "node_id": "o2vxywCndQXlqjHHSozaaj",
     "type": "CODE"
    }
   },
   "outputs": [],
   "source": [
    "energy_results = {}\n",
    "\n",
    "for mol in molecules:\n",
    "    energy_results[mol] = {}\n",
    "    for method in results:\n",
    "        if method not in [ \"pyscf_adjoint\", \"dqc_autograd\" ]:\n",
    "            energy_results[mol][pretty_method_names[method]] = {\n",
    "                                                            \"Energy\": results[method][mol][\"energy\"],\n",
    "                                                            \"Elapsed (s)\": results[method][mol][\"time\"]\n",
    "                                                        }"
   ]
  },
  {
   "cell_type": "code",
   "execution_count": 120,
   "metadata": {
    "datalore": {
     "hide_input_from_viewers": true,
     "hide_output_from_viewers": true,
     "node_id": "2LRvBzITeYkatHea79GpOP",
     "type": "CODE"
    }
   },
   "outputs": [
    {
     "data": {
      "text/html": [
       "<h2>Energy computations results</h2>"
      ]
     },
     "metadata": {},
     "output_type": "display_data"
    },
    {
     "data": {
      "text/html": [
       "<h3>H<sub>2</sub></h3><style type=\"text/css\">\n",
       "</style>\n",
       "<table id=\"T_9fc67_\">\n",
       "  <thead>\n",
       "    <tr>\n",
       "      <th class=\"blank level0\" >&nbsp;</th>\n",
       "      <th class=\"col_heading level0 col0\" >PySCF (Bulitin LDA)</th>\n",
       "      <th class=\"col_heading level0 col1\" >PySCF (Custom LDA)</th>\n",
       "      <th class=\"col_heading level0 col2\" >PySCF (CCST(T))</th>\n",
       "      <th class=\"col_heading level0 col3\" >DQC (Custom LDA)</th>\n",
       "    </tr>\n",
       "  </thead>\n",
       "  <tbody>\n",
       "    <tr>\n",
       "      <th id=\"T_9fc67_level0_row0\" class=\"row_heading level0 row0\" >Energy</th>\n",
       "      <td id=\"T_9fc67_row0_col0\" class=\"data row0 col0\" >-1.038618</td>\n",
       "      <td id=\"T_9fc67_row0_col1\" class=\"data row0 col1\" >-1.038618</td>\n",
       "      <td id=\"T_9fc67_row0_col2\" class=\"data row0 col2\" >-1.151679</td>\n",
       "      <td id=\"T_9fc67_row0_col3\" class=\"data row0 col3\" >-1.038617</td>\n",
       "    </tr>\n",
       "    <tr>\n",
       "      <th id=\"T_9fc67_level0_row1\" class=\"row_heading level0 row1\" >Elapsed (s)</th>\n",
       "      <td id=\"T_9fc67_row1_col0\" class=\"data row1 col0\" >0.381758</td>\n",
       "      <td id=\"T_9fc67_row1_col1\" class=\"data row1 col1\" >0.355675</td>\n",
       "      <td id=\"T_9fc67_row1_col2\" class=\"data row1 col2\" >0.245623</td>\n",
       "      <td id=\"T_9fc67_row1_col3\" class=\"data row1 col3\" >0.162077</td>\n",
       "    </tr>\n",
       "  </tbody>\n",
       "</table>\n"
      ]
     },
     "metadata": {},
     "output_type": "display_data"
    },
    {
     "data": {
      "text/html": [
       "<h3>N<sub>2</sub></h3><style type=\"text/css\">\n",
       "</style>\n",
       "<table id=\"T_bcd52_\">\n",
       "  <thead>\n",
       "    <tr>\n",
       "      <th class=\"blank level0\" >&nbsp;</th>\n",
       "      <th class=\"col_heading level0 col0\" >PySCF (Bulitin LDA)</th>\n",
       "      <th class=\"col_heading level0 col1\" >PySCF (Custom LDA)</th>\n",
       "      <th class=\"col_heading level0 col2\" >PySCF (CCST(T))</th>\n",
       "      <th class=\"col_heading level0 col3\" >DQC (Custom LDA)</th>\n",
       "    </tr>\n",
       "  </thead>\n",
       "  <tbody>\n",
       "    <tr>\n",
       "      <th id=\"T_bcd52_level0_row0\" class=\"row_heading level0 row0\" >Energy</th>\n",
       "      <td id=\"T_bcd52_row0_col0\" class=\"data row0 col0\" >-107.639474</td>\n",
       "      <td id=\"T_bcd52_row0_col1\" class=\"data row0 col1\" >-107.639474</td>\n",
       "      <td id=\"T_bcd52_row0_col2\" class=\"data row0 col2\" >-109.102647</td>\n",
       "      <td id=\"T_bcd52_row0_col3\" class=\"data row0 col3\" >-107.639473</td>\n",
       "    </tr>\n",
       "    <tr>\n",
       "      <th id=\"T_bcd52_level0_row1\" class=\"row_heading level0 row1\" >Elapsed (s)</th>\n",
       "      <td id=\"T_bcd52_row1_col0\" class=\"data row1 col0\" >0.647084</td>\n",
       "      <td id=\"T_bcd52_row1_col1\" class=\"data row1 col1\" >0.484608</td>\n",
       "      <td id=\"T_bcd52_row1_col2\" class=\"data row1 col2\" >0.642108</td>\n",
       "      <td id=\"T_bcd52_row1_col3\" class=\"data row1 col3\" >0.215354</td>\n",
       "    </tr>\n",
       "  </tbody>\n",
       "</table>\n"
      ]
     },
     "metadata": {},
     "output_type": "display_data"
    },
    {
     "data": {
      "text/html": [
       "<h3>Water</h3><style type=\"text/css\">\n",
       "</style>\n",
       "<table id=\"T_bcd09_\">\n",
       "  <thead>\n",
       "    <tr>\n",
       "      <th class=\"blank level0\" >&nbsp;</th>\n",
       "      <th class=\"col_heading level0 col0\" >PySCF (Bulitin LDA)</th>\n",
       "      <th class=\"col_heading level0 col1\" >PySCF (Custom LDA)</th>\n",
       "      <th class=\"col_heading level0 col2\" >PySCF (CCST(T))</th>\n",
       "      <th class=\"col_heading level0 col3\" >DQC (Custom LDA)</th>\n",
       "    </tr>\n",
       "  </thead>\n",
       "  <tbody>\n",
       "    <tr>\n",
       "      <th id=\"T_bcd09_level0_row0\" class=\"row_heading level0 row0\" >Energy</th>\n",
       "      <td id=\"T_bcd09_row0_col0\" class=\"data row0 col0\" >-75.154705</td>\n",
       "      <td id=\"T_bcd09_row0_col1\" class=\"data row0 col1\" >-75.154705</td>\n",
       "      <td id=\"T_bcd09_row0_col2\" class=\"data row0 col2\" >-76.120641</td>\n",
       "      <td id=\"T_bcd09_row0_col3\" class=\"data row0 col3\" >-75.154695</td>\n",
       "    </tr>\n",
       "    <tr>\n",
       "      <th id=\"T_bcd09_level0_row1\" class=\"row_heading level0 row1\" >Elapsed (s)</th>\n",
       "      <td id=\"T_bcd09_row1_col0\" class=\"data row1 col0\" >0.689575</td>\n",
       "      <td id=\"T_bcd09_row1_col1\" class=\"data row1 col1\" >0.690129</td>\n",
       "      <td id=\"T_bcd09_row1_col2\" class=\"data row1 col2\" >0.632575</td>\n",
       "      <td id=\"T_bcd09_row1_col3\" class=\"data row1 col3\" >0.300608</td>\n",
       "    </tr>\n",
       "  </tbody>\n",
       "</table>\n"
      ]
     },
     "metadata": {},
     "output_type": "display_data"
    },
    {
     "data": {
      "text/html": [
       "<h3>Ammonia</h3><style type=\"text/css\">\n",
       "</style>\n",
       "<table id=\"T_519b5_\">\n",
       "  <thead>\n",
       "    <tr>\n",
       "      <th class=\"blank level0\" >&nbsp;</th>\n",
       "      <th class=\"col_heading level0 col0\" >PySCF (Bulitin LDA)</th>\n",
       "      <th class=\"col_heading level0 col1\" >PySCF (Custom LDA)</th>\n",
       "      <th class=\"col_heading level0 col2\" >PySCF (CCST(T))</th>\n",
       "      <th class=\"col_heading level0 col3\" >DQC (Custom LDA)</th>\n",
       "    </tr>\n",
       "  </thead>\n",
       "  <tbody>\n",
       "    <tr>\n",
       "      <th id=\"T_519b5_level0_row0\" class=\"row_heading level0 row0\" >Energy</th>\n",
       "      <td id=\"T_519b5_row0_col0\" class=\"data row0 col0\" >-55.413604</td>\n",
       "      <td id=\"T_519b5_row0_col1\" class=\"data row0 col1\" >-55.413604</td>\n",
       "      <td id=\"T_519b5_row0_col2\" class=\"data row0 col2\" >-56.292149</td>\n",
       "      <td id=\"T_519b5_row0_col3\" class=\"data row0 col3\" >-55.413601</td>\n",
       "    </tr>\n",
       "    <tr>\n",
       "      <th id=\"T_519b5_level0_row1\" class=\"row_heading level0 row1\" >Elapsed (s)</th>\n",
       "      <td id=\"T_519b5_row1_col0\" class=\"data row1 col0\" >0.760687</td>\n",
       "      <td id=\"T_519b5_row1_col1\" class=\"data row1 col1\" >0.582593</td>\n",
       "      <td id=\"T_519b5_row1_col2\" class=\"data row1 col2\" >0.484069</td>\n",
       "      <td id=\"T_519b5_row1_col3\" class=\"data row1 col3\" >0.345989</td>\n",
       "    </tr>\n",
       "  </tbody>\n",
       "</table>\n"
      ]
     },
     "metadata": {},
     "output_type": "display_data"
    }
   ],
   "source": [
    "display(HTML(\"<h2>Energy computations results</h2>\"))\n",
    "for mol in molecules:\n",
    "    df = pd.DataFrame(energy_results[mol])\n",
    "    html = df.style.to_html()\n",
    "    display(HTML(f\"<h3>{pretty_molecule_names[mol]}</h3>\" + html))"
   ]
  },
  {
   "cell_type": "markdown",
   "metadata": {
    "datalore": {
     "hide_input_from_viewers": true,
     "hide_output_from_viewers": true,
     "node_id": "TE24Up54Ze41j7n7VhWblo",
     "type": "MD"
    }
   },
   "source": [
    "### Derivative computations"
   ]
  },
  {
   "cell_type": "code",
   "execution_count": 121,
   "metadata": {
    "datalore": {
     "hide_input_from_viewers": true,
     "hide_output_from_viewers": true,
     "node_id": "PLLtRerNFIXNiCDH920ZIg",
     "type": "CODE"
    }
   },
   "outputs": [],
   "source": [
    "derivative_results = {}\n",
    "\n",
    "for mol in molecules:\n",
    "    derivative_results[mol] = {}\n",
    "    for method in results:\n",
    "        if method not in [ \"pyscf\", \"pyscf_ccsdt\" ]:\n",
    "            derivative_results[mol][pretty_method_names[method]] = {\n",
    "                                                            \"<sup>dE</sup>&frasl;<sub>da</sub>\": results[method][mol][\"ea\"],\n",
    "                                                            \"<sup>dE</sup>&frasl;<sub>dp</sub>\": results[method][mol][\"ep\"],\n",
    "                                                            \"Elapsed (s)\": results[method][mol][\"time_d\"]\n",
    "                                                        }"
   ]
  },
  {
   "cell_type": "code",
   "execution_count": 122,
   "metadata": {
    "datalore": {
     "hide_input_from_viewers": true,
     "hide_output_from_viewers": true,
     "node_id": "Xy9H5ovh8u8rFtSTHr2DQd",
     "type": "CODE"
    }
   },
   "outputs": [
    {
     "data": {
      "text/html": [
       "<h2>Derivatives computations results</h2>"
      ]
     },
     "metadata": {},
     "output_type": "display_data"
    },
    {
     "data": {
      "text/html": [
       "<h3>H<sub>2</sub></h3><style type=\"text/css\">\n",
       "</style>\n",
       "<table id=\"T_d2b29_\">\n",
       "  <thead>\n",
       "    <tr>\n",
       "      <th class=\"blank level0\" >&nbsp;</th>\n",
       "      <th class=\"col_heading level0 col0\" >PySCF (Custom LDA)</th>\n",
       "      <th class=\"col_heading level0 col1\" >Optimal PySCF</th>\n",
       "      <th class=\"col_heading level0 col2\" >DQC (Custom LDA)</th>\n",
       "      <th class=\"col_heading level0 col3\" >DQC + Autograd</th>\n",
       "    </tr>\n",
       "  </thead>\n",
       "  <tbody>\n",
       "    <tr>\n",
       "      <th id=\"T_d2b29_level0_row0\" class=\"row_heading level0 row0\" ><sup>dE</sup>&frasl;<sub>da</sub></th>\n",
       "      <td id=\"T_d2b29_row0_col0\" class=\"data row0 col0\" >0.748359</td>\n",
       "      <td id=\"T_d2b29_row0_col1\" class=\"data row0 col1\" >0.748358</td>\n",
       "      <td id=\"T_d2b29_row0_col2\" class=\"data row0 col2\" >0.748358</td>\n",
       "      <td id=\"T_d2b29_row0_col3\" class=\"data row0 col3\" >0.748357</td>\n",
       "    </tr>\n",
       "    <tr>\n",
       "      <th id=\"T_d2b29_level0_row1\" class=\"row_heading level0 row1\" ><sup>dE</sup>&frasl;<sub>dp</sub></th>\n",
       "      <td id=\"T_d2b29_row1_col0\" class=\"data row1 col0\" >1.471502</td>\n",
       "      <td id=\"T_d2b29_row1_col1\" class=\"data row1 col1\" >1.471533</td>\n",
       "      <td id=\"T_d2b29_row1_col2\" class=\"data row1 col2\" >1.471501</td>\n",
       "      <td id=\"T_d2b29_row1_col3\" class=\"data row1 col3\" >1.471532</td>\n",
       "    </tr>\n",
       "    <tr>\n",
       "      <th id=\"T_d2b29_level0_row2\" class=\"row_heading level0 row2\" >Elapsed (s)</th>\n",
       "      <td id=\"T_d2b29_row2_col0\" class=\"data row2 col0\" >0.945121</td>\n",
       "      <td id=\"T_d2b29_row2_col1\" class=\"data row2 col1\" >0.374377</td>\n",
       "      <td id=\"T_d2b29_row2_col2\" class=\"data row2 col2\" >0.214796</td>\n",
       "      <td id=\"T_d2b29_row2_col3\" class=\"data row2 col3\" >0.196723</td>\n",
       "    </tr>\n",
       "  </tbody>\n",
       "</table>\n"
      ]
     },
     "metadata": {},
     "output_type": "display_data"
    },
    {
     "data": {
      "text/html": [
       "<h3>N<sub>2</sub></h3><style type=\"text/css\">\n",
       "</style>\n",
       "<table id=\"T_53796_\">\n",
       "  <thead>\n",
       "    <tr>\n",
       "      <th class=\"blank level0\" >&nbsp;</th>\n",
       "      <th class=\"col_heading level0 col0\" >PySCF (Custom LDA)</th>\n",
       "      <th class=\"col_heading level0 col1\" >Optimal PySCF</th>\n",
       "      <th class=\"col_heading level0 col2\" >DQC (Custom LDA)</th>\n",
       "      <th class=\"col_heading level0 col3\" >DQC + Autograd</th>\n",
       "    </tr>\n",
       "  </thead>\n",
       "  <tbody>\n",
       "    <tr>\n",
       "      <th id=\"T_53796_level0_row0\" class=\"row_heading level0 row0\" ><sup>dE</sup>&frasl;<sub>da</sub></th>\n",
       "      <td id=\"T_53796_row0_col0\" class=\"data row0 col0\" >16.018397</td>\n",
       "      <td id=\"T_53796_row0_col1\" class=\"data row0 col1\" >16.018393</td>\n",
       "      <td id=\"T_53796_row0_col2\" class=\"data row0 col2\" >16.018380</td>\n",
       "      <td id=\"T_53796_row0_col3\" class=\"data row0 col3\" >16.018377</td>\n",
       "    </tr>\n",
       "    <tr>\n",
       "      <th id=\"T_53796_level0_row1\" class=\"row_heading level0 row1\" ><sup>dE</sup>&frasl;<sub>dp</sub></th>\n",
       "      <td id=\"T_53796_row1_col0\" class=\"data row1 col0\" >-17.006172</td>\n",
       "      <td id=\"T_53796_row1_col1\" class=\"data row1 col1\" >-17.005523</td>\n",
       "      <td id=\"T_53796_row1_col2\" class=\"data row1 col2\" >-17.006101</td>\n",
       "      <td id=\"T_53796_row1_col3\" class=\"data row1 col3\" >-17.005453</td>\n",
       "    </tr>\n",
       "    <tr>\n",
       "      <th id=\"T_53796_level0_row2\" class=\"row_heading level0 row2\" >Elapsed (s)</th>\n",
       "      <td id=\"T_53796_row2_col0\" class=\"data row2 col0\" >1.980351</td>\n",
       "      <td id=\"T_53796_row2_col1\" class=\"data row2 col1\" >0.663213</td>\n",
       "      <td id=\"T_53796_row2_col2\" class=\"data row2 col2\" >0.641580</td>\n",
       "      <td id=\"T_53796_row2_col3\" class=\"data row2 col3\" >0.326232</td>\n",
       "    </tr>\n",
       "  </tbody>\n",
       "</table>\n"
      ]
     },
     "metadata": {},
     "output_type": "display_data"
    },
    {
     "data": {
      "text/html": [
       "<h3>Water</h3><style type=\"text/css\">\n",
       "</style>\n",
       "<table id=\"T_be446_\">\n",
       "  <thead>\n",
       "    <tr>\n",
       "      <th class=\"blank level0\" >&nbsp;</th>\n",
       "      <th class=\"col_heading level0 col0\" >PySCF (Custom LDA)</th>\n",
       "      <th class=\"col_heading level0 col1\" >Optimal PySCF</th>\n",
       "      <th class=\"col_heading level0 col2\" >DQC (Custom LDA)</th>\n",
       "      <th class=\"col_heading level0 col3\" >DQC + Autograd</th>\n",
       "    </tr>\n",
       "  </thead>\n",
       "  <tbody>\n",
       "    <tr>\n",
       "      <th id=\"T_be446_level0_row0\" class=\"row_heading level0 row0\" ><sup>dE</sup>&frasl;<sub>da</sub></th>\n",
       "      <td id=\"T_be446_row0_col0\" class=\"data row0 col0\" >10.948997</td>\n",
       "      <td id=\"T_be446_row0_col1\" class=\"data row0 col1\" >10.948995</td>\n",
       "      <td id=\"T_be446_row0_col2\" class=\"data row0 col2\" >10.948979</td>\n",
       "      <td id=\"T_be446_row0_col3\" class=\"data row0 col3\" >10.948976</td>\n",
       "    </tr>\n",
       "    <tr>\n",
       "      <th id=\"T_be446_level0_row1\" class=\"row_heading level0 row1\" ><sup>dE</sup>&frasl;<sub>dp</sub></th>\n",
       "      <td id=\"T_be446_row1_col0\" class=\"data row1 col0\" >-11.080605</td>\n",
       "      <td id=\"T_be446_row1_col1\" class=\"data row1 col1\" >-11.080128</td>\n",
       "      <td id=\"T_be446_row1_col2\" class=\"data row1 col2\" >-11.080577</td>\n",
       "      <td id=\"T_be446_row1_col3\" class=\"data row1 col3\" >-11.080099</td>\n",
       "    </tr>\n",
       "    <tr>\n",
       "      <th id=\"T_be446_level0_row2\" class=\"row_heading level0 row2\" >Elapsed (s)</th>\n",
       "      <td id=\"T_be446_row2_col0\" class=\"data row2 col0\" >2.129052</td>\n",
       "      <td id=\"T_be446_row2_col1\" class=\"data row2 col1\" >0.757619</td>\n",
       "      <td id=\"T_be446_row2_col2\" class=\"data row2 col2\" >0.683634</td>\n",
       "      <td id=\"T_be446_row2_col3\" class=\"data row2 col3\" >0.344997</td>\n",
       "    </tr>\n",
       "  </tbody>\n",
       "</table>\n"
      ]
     },
     "metadata": {},
     "output_type": "display_data"
    },
    {
     "data": {
      "text/html": [
       "<h3>Ammonia</h3><style type=\"text/css\">\n",
       "</style>\n",
       "<table id=\"T_9053c_\">\n",
       "  <thead>\n",
       "    <tr>\n",
       "      <th class=\"blank level0\" >&nbsp;</th>\n",
       "      <th class=\"col_heading level0 col0\" >PySCF (Custom LDA)</th>\n",
       "      <th class=\"col_heading level0 col1\" >Optimal PySCF</th>\n",
       "      <th class=\"col_heading level0 col2\" >DQC (Custom LDA)</th>\n",
       "      <th class=\"col_heading level0 col3\" >DQC + Autograd</th>\n",
       "    </tr>\n",
       "  </thead>\n",
       "  <tbody>\n",
       "    <tr>\n",
       "      <th id=\"T_9053c_level0_row0\" class=\"row_heading level0 row0\" ><sup>dE</sup>&frasl;<sub>da</sub></th>\n",
       "      <td id=\"T_9053c_row0_col0\" class=\"data row0 col0\" >9.335451</td>\n",
       "      <td id=\"T_9053c_row0_col1\" class=\"data row0 col1\" >9.335449</td>\n",
       "      <td id=\"T_9053c_row0_col2\" class=\"data row0 col2\" >9.335448</td>\n",
       "      <td id=\"T_9053c_row0_col3\" class=\"data row0 col3\" >9.335445</td>\n",
       "    </tr>\n",
       "    <tr>\n",
       "      <th id=\"T_9053c_level0_row1\" class=\"row_heading level0 row1\" ><sup>dE</sup>&frasl;<sub>dp</sub></th>\n",
       "      <td id=\"T_9053c_row1_col0\" class=\"data row1 col0\" >-6.248094</td>\n",
       "      <td id=\"T_9053c_row1_col1\" class=\"data row1 col1\" >-6.247731</td>\n",
       "      <td id=\"T_9053c_row1_col2\" class=\"data row1 col2\" >-6.248103</td>\n",
       "      <td id=\"T_9053c_row1_col3\" class=\"data row1 col3\" >-6.247740</td>\n",
       "    </tr>\n",
       "    <tr>\n",
       "      <th id=\"T_9053c_level0_row2\" class=\"row_heading level0 row2\" >Elapsed (s)</th>\n",
       "      <td id=\"T_9053c_row2_col0\" class=\"data row2 col0\" >2.239646</td>\n",
       "      <td id=\"T_9053c_row2_col1\" class=\"data row2 col1\" >0.835565</td>\n",
       "      <td id=\"T_9053c_row2_col2\" class=\"data row2 col2\" >0.932087</td>\n",
       "      <td id=\"T_9053c_row2_col3\" class=\"data row2 col3\" >0.505250</td>\n",
       "    </tr>\n",
       "  </tbody>\n",
       "</table>\n"
      ]
     },
     "metadata": {},
     "output_type": "display_data"
    }
   ],
   "source": [
    "display(HTML(\"<h2>Derivatives computations results</h2>\"))\n",
    "for mol in molecules:\n",
    "    df = pd.DataFrame(derivative_results[mol])\n",
    "    html = df.style.to_html()\n",
    "    display(HTML(f\"<h3>{pretty_molecule_names[mol]}</h3>\" + html))"
   ]
  },
  {
   "cell_type": "markdown",
   "metadata": {
    "datalore": {
     "hide_input_from_viewers": true,
     "hide_output_from_viewers": true,
     "node_id": "M97BbN12sLInMriPo4BARp",
     "type": "MD"
    }
   },
   "source": [
    "## Example of non-convergence\n",
    "\n",
    "$N_2$ with $a = 1.0$, $p = 2.0$."
   ]
  },
  {
   "cell_type": "code",
   "execution_count": 123,
   "metadata": {
    "datalore": {
     "hide_input_from_viewers": true,
     "hide_output_from_viewers": true,
     "node_id": "PiO20LNVCAPPOwsW1b8cCe",
     "type": "CODE"
    }
   },
   "outputs": [
    {
     "name": "stdout",
     "output_type": "stream",
     "text": [
      "For n2 energy=-54.32710066141748 (a=1.0, p=2.0)\n"
     ]
    },
    {
     "name": "stderr",
     "output_type": "stream",
     "text": [
      "Calculation for n2 did not converge\n"
     ]
    },
    {
     "data": {
      "text/plain": [
       "(-54.32710066141748, False, 3.783231735229492)"
      ]
     },
     "metadata": {},
     "output_type": "display_data"
    }
   ],
   "source": [
    "scf_custom('n2', 1.0, 2.0)"
   ]
  },
  {
   "cell_type": "code",
   "execution_count": 124,
   "metadata": {
    "datalore": {
     "hide_input_from_viewers": true,
     "hide_output_from_viewers": true,
     "node_id": "2eV3B05tU3JoTNqRk7v36M",
     "type": "CODE"
    }
   },
   "outputs": [
    {
     "name": "stdout",
     "output_type": "stream",
     "text": [
      "For n2 energy=-54.38520755799497 (a=1.0, p=2.0)\n"
     ]
    },
    {
     "name": "stderr",
     "output_type": "stream",
     "text": [
      "/opt/python/envs/default/lib/python3.8/site-packages/xitorch/_impls/optimize/root/rootsolver.py:163: ConvergenceWarning: The rootfinder does not converge after 50 iterations. Best |dx|=6.927e-02, |f|=3.072e-01 at iter 21\n",
      "  warnings.warn(ConvergenceWarning(msg))\n"
     ]
    },
    {
     "data": {
      "text/plain": [
       "(tensor(-54.3852, dtype=torch.float64, grad_fn=<AddBackward0>),\n",
       " True,\n",
       " 4.198075532913208)"
      ]
     },
     "metadata": {},
     "output_type": "display_data"
    }
   ],
   "source": [
    "dqc_custom('n2', 1.0, 2.0)"
   ]
  },
  {
   "cell_type": "code",
   "execution_count": null,
   "metadata": {
    "datalore": {
     "hide_input_from_viewers": true,
     "hide_output_from_viewers": true,
     "node_id": "3l3zgvcgNI6mE9DmxT7F4K",
     "type": "CODE"
    }
   },
   "outputs": [],
   "source": []
  }
 ],
 "metadata": {
  "datalore": {
   "base_environment": "default",
   "computation_mode": "JUPYTER",
   "package_manager": "pip",
   "packages": [
    {
     "name": "pyscf",
     "source": "PIP",
     "version": "2.1.1"
    },
    {
     "name": "pydqc",
     "source": "PIP",
     "version": "0.1.0"
    }
   ],
   "version": 1
  },
  "kernelspec": {
   "display_name": "Python 3 (ipykernel)",
   "language": "python",
   "name": "python3"
  },
  "language_info": {
   "codemirror_mode": {
    "name": "ipython",
    "version": 3
   },
   "file_extension": ".py",
   "mimetype": "text/x-python",
   "name": "python",
   "nbconvert_exporter": "python",
   "pygments_lexer": "ipython3",
   "version": "3.9.15"
  }
 },
 "nbformat": 4,
 "nbformat_minor": 4
}
