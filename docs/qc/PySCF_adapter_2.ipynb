{
 "cells": [
  {
   "cell_type": "code",
   "execution_count": 1,
   "id": "2c9b7929",
   "metadata": {},
   "outputs": [],
   "source": [
    "import pyscf\n",
    "from pyscf import gto, dft, scf"
   ]
  },
  {
   "cell_type": "markdown",
   "id": "9ca92f4c",
   "metadata": {},
   "source": [
    "Small system for tests:"
   ]
  },
  {
   "cell_type": "code",
   "execution_count": 2,
   "id": "151d2c71",
   "metadata": {},
   "outputs": [],
   "source": [
    "water = \"\"\"\n",
    "O        0.000000000      0.000000000      0.000000000;\n",
    "H        0.000000000      1.434938863      1.126357947;\n",
    "H        0.000000000     -1.434938863      1.126357947\n",
    "\"\"\"\n",
    "\n",
    "h2_system = \"H 0 0 0; H 1.4 0 0\"\n",
    "\n",
    "n2_system = \"N 0 0 0; N 2.07 0 0\"\n",
    "\n",
    "ammonia = \"\"\"\n",
    "N  0.000  0.000  0.000; \n",
    "H  0.000 -1.772 -0.721; \n",
    "H  1.535  0.886 -0.721; \n",
    "H -1.535  0.886 -0.721\n",
    "\"\"\"\n",
    "\n",
    "benzene = \"\"\"\n",
    "C        0.598362921      0.000000000     -4.742986733;\n",
    "C       -0.557705772     -0.354690359     -4.044822733;\n",
    "C        1.754431614      0.354690359     -4.044822733;\n",
    "H       -1.457130878     -0.630640582     -4.587995733;\n",
    "H        2.653856720      0.630640582     -4.587995733;\n",
    "C       -0.557705772     -0.354690359     -2.648492733;\n",
    "C        1.754431614      0.354690359     -2.648492733;\n",
    "H       -1.457130878     -0.630640582     -2.105319733;\n",
    "H        2.653856720      0.630640582     -2.105319733;\n",
    "C        0.598362921      0.000000000     -1.950328733;\n",
    "H        0.598362921      0.000000000     -0.863981733;\n",
    "H        0.598362921      0.000000000     -5.829333733\n",
    "\"\"\"\n",
    "\n",
    "test_systems = {\n",
    "    \"H2O\": water, \n",
    "    \"H2\": h2_system, \n",
    "    \"N2\": n2_system,\n",
    "    \"NH3\": ammonia,\n",
    "    \"C6H6\": benzene\n",
    "}"
   ]
  },
  {
   "cell_type": "markdown",
   "id": "4db405d8",
   "metadata": {},
   "source": [
    "Our grid-based calculation of $E_{XC}$ and $V_{XC}$:"
   ]
  },
  {
   "cell_type": "code",
   "execution_count": 3,
   "id": "140358cd",
   "metadata": {},
   "outputs": [],
   "source": [
    "import numpy\n",
    "from math import pi\n",
    "\n",
    "factor = -3.0/4.0 * (3.0 / pi)**(1.0/3.0)\n",
    "power = 4.0/3.0\n",
    "\n",
    "def custom_eval_xc_LDA(a, p):\n",
    "    def eval_xc(xc_code, rho, *args, **kwargs):\n",
    "        exc = a * rho ** (p - 1.0)\n",
    "        vrho = a * p * rho ** (p - 1.0)\n",
    "        vxc = (vrho, None, None, None)\n",
    "        fxc = a * p * (p - 1.0) * rho ** (p - 2.0)  # 2nd order functional derivative\n",
    "        return exc, vxc, fxc, None\n",
    "    return eval_xc"
   ]
  },
  {
   "cell_type": "markdown",
   "id": "507fb004",
   "metadata": {},
   "source": [
    "At first, reproduce C-implemented LDA with our grid-based LDA:"
   ]
  },
  {
   "cell_type": "code",
   "execution_count": 4,
   "id": "7e082cf9",
   "metadata": {
    "scrolled": true
   },
   "outputs": [
    {
     "name": "stdout",
     "output_type": "stream",
     "text": [
      "System name: H2O\n",
      "C-based results: -75.154705340357\n",
      "Grid-based results: -75.15470534035708\n",
      "Difference: -8.526512829121202e-14 \n",
      "\n",
      "System name: H2\n",
      "C-based results: -1.0386177856738832\n",
      "Grid-based results: -1.0386177856738827\n",
      "Difference: 4.440892098500626e-16 \n",
      "\n",
      "System name: N2\n",
      "C-based results: -107.63947353831051\n",
      "Grid-based results: -107.63947353831051\n",
      "Difference: 0.0 \n",
      "\n",
      "System name: NH3\n",
      "C-based results: -55.41360440678286\n",
      "Grid-based results: -55.413604406782774\n",
      "Difference: 8.526512829121202e-14 \n",
      "\n",
      "System name: C6H6\n",
      "C-based results: -213.41468421598614\n",
      "Grid-based results: -213.41468421592077\n",
      "Difference: 6.536993168992922e-11 \n",
      "\n"
     ]
    }
   ],
   "source": [
    "for system_name, system in test_systems.items():\n",
    "    print(\"System name:\", system_name)\n",
    "    mol = mol = gto.M(atom=system, basis=\"6-31G\", unit = 'Bohr', verbose=0)\n",
    "    calc_c = dft.RKS(mol)\n",
    "    calc_c.xc = \"lda,\"\n",
    "    ene_c = calc_c.kernel()\n",
    "    print(\"C-based results:\", ene_c)\n",
    "    \n",
    "    calc_grid = dft.RKS(mol)\n",
    "    calc_grid = calc_grid.define_xc_(custom_eval_xc_LDA(factor, power), 'LDA')\n",
    "    ene_grid = calc_grid.kernel()\n",
    "    print(\"Grid-based results:\", ene_grid)\n",
    "    print(\"Difference:\", ene_grid-ene_c, \"\\n\")"
   ]
  },
  {
   "cell_type": "markdown",
   "id": "5d9f4b20",
   "metadata": {},
   "source": [
    "\"Decorator\" for derivative calculation code:"
   ]
  },
  {
   "cell_type": "code",
   "execution_count": 5,
   "id": "bf87d329",
   "metadata": {},
   "outputs": [],
   "source": [
    "def initialize_LDA_derivatives_calculation(calc, a, p):\n",
    "    def eval_xc_wrt_a(xc_code, rho, *args, **kwargs):\n",
    "        dexc_wrt_da = rho ** (p - 1.0)\n",
    "        dvrho_wrt_da = p * rho ** (p - 1.0)\n",
    "        dvxc_wrt_da = (dvrho_wrt_da, None, None, None)\n",
    "        return dexc_wrt_da, dvxc_wrt_da, None, None\n",
    "    def eval_xc_wrt_p(xc_code, rho, *args, **kwargs):\n",
    "        dexc_wrt_dp = a * numpy.log(rho) * rho ** (p - 1.0)\n",
    "        dvrho_wrt_dp = a * p * numpy.log(rho) * rho ** (p - 1.0)\n",
    "        dvxc_wrt_dp = (dvrho_wrt_dp, None, None, None)\n",
    "        return dexc_wrt_dp, dvxc_wrt_dp, None, None\n",
    "    calc.number_of_DFT_parameters = 2\n",
    "    calc.partial_derivative_from_energy_wrt = [eval_xc_wrt_a, eval_xc_wrt_p]"
   ]
  },
  {
   "cell_type": "markdown",
   "id": "821d795a",
   "metadata": {},
   "source": [
    "Construct important grid values:"
   ]
  },
  {
   "cell_type": "code",
   "execution_count": 6,
   "id": "93879478",
   "metadata": {},
   "outputs": [],
   "source": [
    "import types\n",
    "\n",
    "def construct_on_grid_values(calc):\n",
    "    grid_values = types.SimpleNamespace()\n",
    "\n",
    "    dm_in_nonorthogonal_basis = calc.make_rdm1()\n",
    "    grid_values.coords = calc.grids.coords\n",
    "    grid_values.weights = calc.grids.weights\n",
    "    non_orthogonal_ao = pyscf.dft.numint.eval_ao(calc.mol, grid_values.coords, deriv=0)\n",
    "    grid_values.non_orthogonal_ao = non_orthogonal_ao\n",
    "    grid_values.rho = pyscf.dft.numint.eval_rho(calc.mol, non_orthogonal_ao, \n",
    "                                                dm_in_nonorthogonal_basis, xctype='LDA')\n",
    "    return grid_values"
   ]
  },
  {
   "cell_type": "markdown",
   "id": "1aa5adc9",
   "metadata": {},
   "source": [
    "Integrating over the grid:"
   ]
  },
  {
   "cell_type": "code",
   "execution_count": 7,
   "id": "552f8b56",
   "metadata": {},
   "outputs": [],
   "source": [
    "def calculate_LDA_derivatives(calc):\n",
    "    list_of_dexc_wrt_dtheta = []\n",
    "    list_of_dvxc_wrt_dtheta = []\n",
    "    \n",
    "    number_of_parameters = calc.number_of_DFT_parameters\n",
    "    grid_values = construct_on_grid_values(calc)\n",
    "    \n",
    "    for p_number in range(number_of_parameters):\n",
    "        dexc_wrt_dtheta_on_grid = calc.partial_derivative_from_energy_wrt[p_number]('LDA', grid_values.rho)[0]\n",
    "\n",
    "        current_dexc_wrt_dtheta = numpy.einsum('r,r,r->...', \n",
    "                                               dexc_wrt_dtheta_on_grid, \n",
    "                                               grid_values.rho, \n",
    "                                               grid_values.weights)\n",
    "        list_of_dexc_wrt_dtheta.append(current_dexc_wrt_dtheta)\n",
    "    return numpy.array(list_of_dexc_wrt_dtheta)"
   ]
  },
  {
   "cell_type": "markdown",
   "id": "7c5b7bad",
   "metadata": {},
   "source": [
    "Finite difference code:"
   ]
  },
  {
   "cell_type": "code",
   "execution_count": 8,
   "id": "802195bd",
   "metadata": {},
   "outputs": [],
   "source": [
    "def finite_difference_grid_based(mol, a, p, coeff=0.000001):\n",
    "    def PySCF_calculation(mol, a, p):\n",
    "        calc = dft.RKS(mol)\n",
    "        calc = calc.define_xc_(custom_eval_xc_LDA(a, p), 'LDA')\n",
    "        ene = calc.kernel()\n",
    "        return ene\n",
    "    y = PySCF_calculation(mol, a, p)\n",
    "    da = a * coeff\n",
    "    dp = p * coeff\n",
    "    y_plus_dy_a = PySCF_calculation(mol, a+da, p)\n",
    "    y_plus_dy_p = PySCF_calculation(mol, a, p+dp)\n",
    "    dy_wrt_da = (y_plus_dy_a - y) / da\n",
    "    dy_wrt_dp = (y_plus_dy_p - y) / dp\n",
    "    return numpy.array([dy_wrt_da, dy_wrt_dp])"
   ]
  },
  {
   "cell_type": "code",
   "execution_count": 9,
   "id": "8004220d",
   "metadata": {},
   "outputs": [
    {
     "name": "stdout",
     "output_type": "stream",
     "text": [
      "System name: H2O\n",
      "Fin diff: [ 10.94899416 -11.08017371]\n",
      "C-based results: [ 10.94899516 -11.08012795]\n",
      "Difference with fin diff: [9.99385783e-07 4.57537188e-05]\n",
      "Grid-based results: [ 10.94899516 -11.08012795]\n",
      "Difference with fin diff: [9.99385790e-07 4.57537188e-05] \n",
      "\n",
      "System name: H2\n",
      "Fin diff: [0.7483585  1.47153018]\n",
      "C-based results: [0.74835848 1.47153331]\n",
      "Difference with fin diff: [-2.09378173e-08  3.12685638e-06]\n",
      "Grid-based results: [0.74835848 1.47153331]\n",
      "Difference with fin diff: [-2.09378175e-08  3.12685638e-06] \n",
      "\n",
      "System name: N2\n",
      "Fin diff: [ 16.01839344 -17.00558817]\n",
      "C-based results: [ 16.01839303 -17.00552334]\n",
      "Difference with fin diff: [-4.12951362e-07  6.48343771e-05]\n",
      "Grid-based results: [ 16.01839303 -17.00552334]\n",
      "Difference with fin diff: [-4.12951330e-07  6.48343772e-05] \n",
      "\n",
      "System name: NH3\n",
      "Fin diff: [ 9.33544906 -6.24776715]\n",
      "C-based results: [ 9.3354491  -6.24773122]\n",
      "Difference with fin diff: [4.09435525e-08 3.59270047e-05]\n",
      "Grid-based results: [ 9.3354491  -6.24773122]\n",
      "Difference with fin diff: [4.09435774e-08 3.59270046e-05] \n",
      "\n",
      "System name: C6H6\n",
      "Fin diff: [ 48.74783372 -40.54566764]\n",
      "C-based results: [ 48.74784577 -40.54552819]\n",
      "Difference with fin diff: [1.20455467e-05 1.39458225e-04]\n",
      "Grid-based results: [ 48.74784577 -40.54552819]\n",
      "Difference with fin diff: [1.20454708e-05 1.39458453e-04] \n",
      "\n"
     ]
    }
   ],
   "source": [
    "for system_name, system in test_systems.items():\n",
    "    print(\"System name:\", system_name)\n",
    "    mol = gto.M(atom=system, basis=\"6-31G\", unit = 'Bohr', verbose=0)\n",
    "\n",
    "    findiff_der = finite_difference_grid_based(mol, factor, power)\n",
    "    print(\"Fin diff:\", findiff_der)\n",
    "    \n",
    "    calc_c = dft.RKS(mol)\n",
    "    calc_c.xc = \"lda,\"\n",
    "    calc_c.kernel()\n",
    "    initialize_LDA_derivatives_calculation(calc_c, factor, power)\n",
    "    c_der = calculate_LDA_derivatives(calc_c)\n",
    "    print(\"C-based results:\", c_der)\n",
    "    print(\"Difference with fin diff:\", c_der-findiff_der)\n",
    "    \n",
    "    calc_grid = dft.RKS(mol)\n",
    "    calc_grid = calc_grid.define_xc_(custom_eval_xc_LDA(factor, power), 'LDA')\n",
    "    calc_grid.kernel()\n",
    "    initialize_LDA_derivatives_calculation(calc_grid, factor, power)\n",
    "    grid_der = calculate_LDA_derivatives(calc_grid)\n",
    "    print(\"Grid-based results:\", grid_der)\n",
    "    print(\"Difference with fin diff:\", grid_der-findiff_der, \"\\n\")"
   ]
  }
 ],
 "metadata": {
  "kernelspec": {
   "display_name": "Python 3 (ipykernel)",
   "language": "python",
   "name": "python3"
  },
  "language_info": {
   "codemirror_mode": {
    "name": "ipython",
    "version": 3
   },
   "file_extension": ".py",
   "mimetype": "text/x-python",
   "name": "python",
   "nbconvert_exporter": "python",
   "pygments_lexer": "ipython3",
   "version": "3.9.13"
  }
 },
 "nbformat": 4,
 "nbformat_minor": 5
}
