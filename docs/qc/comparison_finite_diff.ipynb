{
 "cells": [
  {
   "cell_type": "markdown",
   "id": "special-treasury",
   "metadata": {},
   "source": [
    "# Imports"
   ]
  },
  {
   "cell_type": "code",
   "execution_count": 1,
   "id": "helpful-vampire",
   "metadata": {},
   "outputs": [],
   "source": [
    "import torch\n",
    "import dqc\n",
    "import dqc.xc\n",
    "import dqc.utils\n",
    "from importlib import reload \n",
    "import DQCAdapter as evg\n",
    "from pyscf import gto, dft"
   ]
  },
  {
   "cell_type": "markdown",
   "id": "incorrect-johnson",
   "metadata": {},
   "source": [
    "## Init for DQC"
   ]
  },
  {
   "cell_type": "code",
   "execution_count": 2,
   "id": "apparent-distributor",
   "metadata": {},
   "outputs": [],
   "source": [
    "class MyLDAX(dqc.xc.CustomXC):\n",
    "    def __init__(self, a_par, p_par):\n",
    "        super().__init__()\n",
    "        self.a_par = a_par\n",
    "        self.p_par = p_par\n",
    "        self.number_of_parameters = 2\n",
    "\n",
    "    @property\n",
    "    def family(self):\n",
    "        # 1 for LDA, 2 for GGA, 4 for MGGA\n",
    "        return 1\n",
    "\n",
    "    def get_edensityxc(self, densinfo):\n",
    "        # densinfo has up and down components\n",
    "        if isinstance(densinfo, dqc.utils.SpinParam):\n",
    "            # spin-scaling of the exchange energy\n",
    "            return 0.5 * (self.get_edensityxc(densinfo.u * 2) + self.get_edensityxc(densinfo.d * 2))\n",
    "        else:\n",
    "            rho = densinfo.value.abs() + 1e-15  # safeguarding from nan\n",
    "            return self.a_par * rho ** self.p_par\n",
    "        \n",
    "    def get_edensityxc_derivative(self, densinfo, number_of_parameter):\n",
    "        # densinfo has up and down components\n",
    "        if isinstance(densinfo, dqc.utils.SpinParam):\n",
    "            # spin-scaling of the exchange energy\n",
    "            return 0.5 * (self.get_edensityxc_derivative(densinfo.u * 2, number_of_parameter) \n",
    "                          + self.get_edensityxc_derivative(densinfo.d * 2, number_of_parameter))\n",
    "        else:\n",
    "            rho = densinfo.value.abs() + 1e-15  # safeguarding from nan\n",
    "            if number_of_parameter == 0: # parameter a\n",
    "                return rho ** self.p_par\n",
    "            elif number_of_parameter == 1: # parameter p\n",
    "                return self.a_par * torch.log(rho) * rho ** self.p_par"
   ]
  },
  {
   "cell_type": "markdown",
   "id": "australian-knife",
   "metadata": {},
   "source": [
    "## Custom xc for PySCF"
   ]
  },
  {
   "cell_type": "code",
   "execution_count": 4,
   "id": "characteristic-manor",
   "metadata": {},
   "outputs": [],
   "source": [
    "def custom_eval_xc(a, p):\n",
    "    def eval_xc(xc_code, rho, *args, **kwargs):\n",
    "        exc = a * rho ** (p - 1.0)\n",
    "        vrho = a * p * rho ** (p - 1.0)\n",
    "        vgamma = None\n",
    "        vlapl = None\n",
    "        vtau = None\n",
    "        vxc = (vrho, vgamma, vlapl, vtau)\n",
    "        fxc = None  # 2nd order functional derivative\n",
    "        kxc = None  # 3rd order functional derivative\n",
    "        return exc, vxc, fxc, kxc\n",
    "    return eval_xc"
   ]
  },
  {
   "cell_type": "markdown",
   "id": "variable-intellectual",
   "metadata": {},
   "source": [
    "## Systems"
   ]
  },
  {
   "cell_type": "code",
   "execution_count": 5,
   "id": "nominated-remainder",
   "metadata": {},
   "outputs": [],
   "source": [
    "water = \"\"\"\n",
    "O        0.000000000      0.000000000      0.000000000;\n",
    "H        0.000000000      1.434938863      1.126357947;\n",
    "H        0.000000000     -1.434938863      1.126357947\n",
    "\"\"\"\n",
    "\n",
    "h2_system = \"H 0 0 0; H 1.4 0 0\"\n",
    "\n",
    "n2_system = \"N 0 0 0; N 2.07 0 0\"\n",
    "\n",
    "ammonia = \"N 0.0 0.0 0.0; H 0.0 -1.772 -0.721; H 1.535 0.886 -0.721; H -1.535 0.886 -0.721\""
   ]
  },
  {
   "cell_type": "markdown",
   "id": "equipped-cargo",
   "metadata": {},
   "source": [
    "## Methods\n"
   ]
  },
  {
   "cell_type": "code",
   "execution_count": 25,
   "id": "blind-platform",
   "metadata": {},
   "outputs": [],
   "source": [
    "def PySCF_calculation(system, a, p, verbose=0):\n",
    "    xc = custom_eval_xc(a,p)\n",
    "    mol = gto.M(atom = system, basis=\"6-31G\", unit = 'Bohr')\n",
    "    calc = dft.RKS(mol)\n",
    "    calc = calc.define_xc_(xc, 'LDA')\n",
    "    calc.verbose = verbose\n",
    "    ene = calc.kernel()\n",
    "    return ene\n",
    "\n",
    "def DQC_calculation_tensors(system, a, p):\n",
    "    atomzs, atomposs = dqc.parse_moldesc(system)\n",
    "    mol = dqc.Mol((atomzs, atomposs), basis=\"6-31G\")\n",
    "    myxc = MyLDAX(a, p)\n",
    "    qc = dqc.KS(mol, xc=myxc).run()\n",
    "    return qc\n",
    "\n",
    "def DQC_calculation(system, a_value, p_value):\n",
    "    a = torch.nn.Parameter(torch.tensor(a_value, dtype=torch.double))\n",
    "    p = torch.nn.Parameter(torch.tensor(p_value, dtype=torch.double))\n",
    "    return DQC_calculation_tensors(system, a, p)\n",
    "\n",
    "def finite_difference(system, a_value, p_value, coeff=0.000001):\n",
    "    y = DQC_calculation(system, a_value, p_value).energy().detach()\n",
    "    print(\"Energy DQC: \", y)\n",
    "    da = a_value * coeff\n",
    "    dp = p_value * coeff\n",
    "    y_plus_dy_a = DQC_calculation(system, a_value+da, p_value)\n",
    "    y_plus_dy_p = DQC_calculation(system, a_value, p_value+dp)\n",
    "    dy_wrt_da = (y_plus_dy_a.energy().detach() - y) / da\n",
    "    dy_wrt_dp = (y_plus_dy_p.energy().detach() - y) / dp\n",
    "    return torch.tensor((dy_wrt_da, dy_wrt_dp))\n",
    "\n",
    "def finite_difference_pyscf(system, a, p, coeff=0.000001, verbose = 3):\n",
    "    y = PySCF_calculation(system, a, p, verbose)\n",
    "    print(\"Energy PySCF: \", y)\n",
    "    da = a * coeff\n",
    "    dp = p * coeff\n",
    "    y_plus_dy_a = PySCF_calculation(system, a+da, p)\n",
    "    y_plus_dy_p = PySCF_calculation(system, a, p+dp)\n",
    "    dy_wrt_da = (y_plus_dy_a - y) / da\n",
    "    dy_wrt_dp = (y_plus_dy_p - y) / dp\n",
    "    return torch.tensor((dy_wrt_da, dy_wrt_dp))\n",
    "\n",
    "\n",
    "def reverse_mode(system, a_value, p_value):\n",
    "    a = torch.nn.Parameter(torch.tensor(a_value, dtype=torch.double))\n",
    "    p = torch.nn.Parameter(torch.tensor(p_value, dtype=torch.double))\n",
    "    ene = DQC_calculation_tensors(system, a, p).energy()\n",
    "    print(\"Energy DQC: \", ene.detach())\n",
    "    grad_a, grad_p = torch.autograd.grad(ene, (a, p))\n",
    "    return torch.tensor((grad_a, grad_p))"
   ]
  },
  {
   "cell_type": "markdown",
   "id": "juvenile-scope",
   "metadata": {},
   "source": [
    "### Params a = 1.0, p = 2.0"
   ]
  },
  {
   "cell_type": "code",
   "execution_count": 26,
   "id": "pending-personality",
   "metadata": {
    "scrolled": true
   },
   "outputs": [
    {
     "name": "stdout",
     "output_type": "stream",
     "text": [
      "Energy DQC:  tensor(-38.2050, dtype=torch.float64)\n",
      "REVERSE:  tensor([ 9.9156, 19.0426], dtype=torch.float64)\n",
      "Energy DQC:  tensor(-38.2050, dtype=torch.float64)\n",
      "FIN DQC:  tensor([ 9.9156, 19.0426], dtype=torch.float64)\n",
      "converged SCF energy = -38.2049675343314\n",
      "Energy PySCF:  -38.204967534331374\n",
      "FIN PySCF:  tensor([ 9.9156, 19.0425], dtype=torch.float64)\n"
     ]
    }
   ],
   "source": [
    "print(\"REVERSE: \", reverse_mode(water, 1.0, 2.0))\n",
    "print(\"FIN DQC: \", finite_difference(water, 1.0, 2.0))\n",
    "print(\"FIN PySCF: \", finite_difference_pyscf(water, 1.0, 2.0))"
   ]
  },
  {
   "cell_type": "code",
   "execution_count": 27,
   "id": "artistic-payday",
   "metadata": {},
   "outputs": [
    {
     "name": "stdout",
     "output_type": "stream",
     "text": [
      "Energy DQC:  tensor(-0.4216, dtype=torch.float64)\n",
      "REVERSE:  tensor([ 0.0885, -0.2367], dtype=torch.float64)\n",
      "Energy DQC:  tensor(-0.4216, dtype=torch.float64)\n",
      "FIN DQC:  tensor([ 0.0885, -0.2367], dtype=torch.float64)\n",
      "converged SCF energy = -0.421604471748425\n",
      "Energy PySCF:  -0.42160447174842475\n",
      "FIN PySCF:  tensor([ 0.0885, -0.2367], dtype=torch.float64)\n"
     ]
    }
   ],
   "source": [
    "print(\"REVERSE: \", reverse_mode(h2_system, 1.0, 2.0))\n",
    "print(\"FIN DQC: \", finite_difference(h2_system, 1.0, 2.0))\n",
    "print(\"FIN PySCF: \", finite_difference_pyscf(h2_system, 1.0, 2.0))"
   ]
  },
  {
   "cell_type": "code",
   "execution_count": 28,
   "id": "pharmaceutical-freeware",
   "metadata": {},
   "outputs": [
    {
     "name": "stdout",
     "output_type": "stream",
     "text": [
      "Energy DQC:  tensor(-54.3589, dtype=torch.float64)\n",
      "REVERSE:  tensor([14.7676, 26.0215], dtype=torch.float64)\n",
      "Energy DQC:  tensor(-54.3589, dtype=torch.float64)\n",
      "FIN DQC:  tensor([ -4405.7811, -10939.0685], dtype=torch.float64)\n",
      "SCF not converged.\n",
      "SCF energy = -54.1815270434458\n",
      "Energy PySCF:  -54.18152704344585\n",
      "FIN PySCF:  tensor([-96134.5091, -67613.4090], dtype=torch.float64)\n"
     ]
    }
   ],
   "source": [
    "print(\"REVERSE: \", reverse_mode(n2_system, 1.0, 2.0))\n",
    "print(\"FIN DQC: \", finite_difference(n2_system, 1.0, 2.0))\n",
    "print(\"FIN PySCF: \", finite_difference_pyscf(n2_system, 1.0, 2.0))"
   ]
  },
  {
   "cell_type": "code",
   "execution_count": 29,
   "id": "compatible-deviation",
   "metadata": {},
   "outputs": [
    {
     "name": "stdout",
     "output_type": "stream",
     "text": [
      "Energy DQC:  tensor(-28.1712, dtype=torch.float64)\n",
      "REVERSE:  tensor([ 7.4649, 12.7271], dtype=torch.float64)\n",
      "Energy DQC:  tensor(-28.1712, dtype=torch.float64)\n",
      "FIN DQC:  tensor([ 7.4649, 12.7271], dtype=torch.float64)\n",
      "converged SCF energy = -28.1711795691315\n",
      "Energy PySCF:  -28.171179569131475\n",
      "FIN PySCF:  tensor([ 7.4649, 12.7270], dtype=torch.float64)\n"
     ]
    }
   ],
   "source": [
    "print(\"REVERSE: \", reverse_mode(ammonia, 1.0, 2.0))\n",
    "print(\"FIN DQC: \", finite_difference(ammonia, 1.0, 2.0))\n",
    "print(\"FIN PySCF: \", finite_difference_pyscf(ammonia, 1.0, 2.0))"
   ]
  },
  {
   "cell_type": "markdown",
   "id": "employed-wildlife",
   "metadata": {},
   "source": [
    "### Params a = 1.0, p = 3.0"
   ]
  },
  {
   "cell_type": "code",
   "execution_count": 30,
   "id": "northern-mention",
   "metadata": {},
   "outputs": [
    {
     "name": "stdout",
     "output_type": "stream",
     "text": [
      "Energy DQC:  tensor(-23.4711, dtype=torch.float64)\n",
      "REVERSE:  tensor([ 0.7208, -0.5884], dtype=torch.float64)\n",
      "Energy DQC:  tensor(-23.4711, dtype=torch.float64)\n",
      "FIN DQC:  tensor([2.4030, 3.8163], dtype=torch.float64)\n",
      "SCF not converged.\n",
      "SCF energy = 7608.73432429647\n",
      "Energy PySCF:  7608.734324296469\n",
      "FIN PySCF:  tensor([-7.6324e+09,  6.8018e+07], dtype=torch.float64)\n"
     ]
    }
   ],
   "source": [
    "print(\"REVERSE: \", reverse_mode(water, 1.0, 3.0))\n",
    "print(\"FIN DQC: \", finite_difference(water, 1.0, 3.0))\n",
    "print(\"FIN PySCF: \", finite_difference_pyscf(water, 1.0, 3.0))"
   ]
  },
  {
   "cell_type": "code",
   "execution_count": 31,
   "id": "blocked-proof",
   "metadata": {},
   "outputs": [
    {
     "name": "stdout",
     "output_type": "stream",
     "text": [
      "Energy DQC:  tensor(-0.5084, dtype=torch.float64)\n",
      "REVERSE:  tensor([ 0.0106, -0.0225], dtype=torch.float64)\n",
      "Energy DQC:  tensor(-0.5084, dtype=torch.float64)\n",
      "FIN DQC:  tensor([ 0.0106, -0.0225], dtype=torch.float64)\n",
      "converged SCF energy = -0.508449635787078\n",
      "Energy PySCF:  -0.5084496357870784\n",
      "FIN PySCF:  tensor([ 0.0106, -0.0225], dtype=torch.float64)\n"
     ]
    }
   ],
   "source": [
    "print(\"REVERSE: \", reverse_mode(h2_system, 1.0, 3.0))\n",
    "print(\"FIN DQC: \", finite_difference(h2_system, 1.0, 3.0))\n",
    "print(\"FIN PySCF: \", finite_difference_pyscf(h2_system, 1.0, 3.0))"
   ]
  },
  {
   "cell_type": "code",
   "execution_count": 32,
   "id": "accurate-concern",
   "metadata": {},
   "outputs": [
    {
     "name": "stdout",
     "output_type": "stream",
     "text": [
      "Energy DQC:  tensor(-33.5378, dtype=torch.float64)\n",
      "REVERSE:  tensor([ 1.4839, -1.2046], dtype=torch.float64)\n",
      "Energy DQC:  tensor(-33.5378, dtype=torch.float64)\n",
      "FIN DQC:  tensor([4.8555, 9.3064], dtype=torch.float64)\n",
      "converged SCF energy = -44.7751327106753\n",
      "Energy PySCF:  -44.77513271067529\n",
      "FIN PySCF:  tensor([5.0552, 2.9397], dtype=torch.float64)\n"
     ]
    }
   ],
   "source": [
    "print(\"REVERSE: \", reverse_mode(n2_system, 1.0, 3.0))\n",
    "print(\"FIN DQC: \", finite_difference(n2_system, 1.0, 3.0))\n",
    "print(\"FIN PySCF: \", finite_difference_pyscf(n2_system, 1.0, 3.0))"
   ]
  },
  {
   "cell_type": "code",
   "execution_count": 33,
   "id": "tight-chick",
   "metadata": {},
   "outputs": [
    {
     "name": "stderr",
     "output_type": "stream",
     "text": [
      "/home/rolan/miniconda3/envs/noa/lib/python3.9/site-packages/xitorch/_impls/optimize/root/rootsolver.py:163: ConvergenceWarning: The rootfinder does not converge after 50 iterations. Best |dx|=6.646e+02, |f|=6.592e+02 at iter 50\n",
      "  warnings.warn(ConvergenceWarning(msg))\n"
     ]
    },
    {
     "name": "stdout",
     "output_type": "stream",
     "text": [
      "Energy DQC:  tensor(-17.3388, dtype=torch.float64)\n",
      "REVERSE:  tensor([ 0.5239, -0.5451], dtype=torch.float64)\n",
      "Energy DQC:  tensor(-17.3388, dtype=torch.float64)\n",
      "FIN DQC:  tensor([2.0833, 3.6417], dtype=torch.float64)\n",
      "SCF not converged.\n",
      "SCF energy = -16.7893526102609\n",
      "Energy PySCF:  -16.78935261026087\n",
      "FIN PYSCF:  tensor([3.2849e+09, 1.1059e+09], dtype=torch.float64)\n"
     ]
    }
   ],
   "source": [
    "print(\"REVERSE: \", reverse_mode(ammonia, 1.0, 3.0))\n",
    "print(\"FIN DQC: \", finite_difference(ammonia, 1.0, 3.0))\n",
    "print(\"FIN PYSCF: \", finite_difference_pyscf(ammonia, 1.0, 3.0))"
   ]
  },
  {
   "cell_type": "markdown",
   "id": "sixth-commons",
   "metadata": {},
   "source": [
    "### Params a = -1.0, p = 2.0"
   ]
  },
  {
   "cell_type": "code",
   "execution_count": 34,
   "id": "standard-bishop",
   "metadata": {},
   "outputs": [
    {
     "name": "stdout",
     "output_type": "stream",
     "text": [
      "Energy DQC:  tensor(-155.4981, dtype=torch.float64)\n",
      "REVERSE:  tensor([  96.9847, -369.9213], dtype=torch.float64)\n",
      "Energy DQC:  tensor(-155.4981, dtype=torch.float64)\n",
      "FIN DQC:  tensor([  96.9847, -369.9230], dtype=torch.float64)\n",
      "converged SCF energy = -155.498198456975\n",
      "Energy PySCF:  -155.498198456975\n",
      "FIN PYSCF:  tensor([  96.9848, -369.9231], dtype=torch.float64)\n"
     ]
    }
   ],
   "source": [
    "print(\"REVERSE: \", reverse_mode(water, -1.0, 2.0))\n",
    "print(\"FIN DQC: \", finite_difference(water, -1.0, 2.0))\n",
    "print(\"FIN PYSCF: \", finite_difference_pyscf(water, -1.0, 2.0))"
   ]
  },
  {
   "cell_type": "code",
   "execution_count": 35,
   "id": "affecting-helmet",
   "metadata": {},
   "outputs": [
    {
     "name": "stdout",
     "output_type": "stream",
     "text": [
      "Energy DQC:  tensor(-0.6463, dtype=torch.float64)\n",
      "REVERSE:  tensor([0.1487, 0.3173], dtype=torch.float64)\n",
      "Energy DQC:  tensor(-0.6463, dtype=torch.float64)\n",
      "FIN DQC:  tensor([0.1487, 0.3173], dtype=torch.float64)\n",
      "converged SCF energy = -0.646311203597606\n",
      "Energy PySCF:  -0.6463112035976056\n",
      "FIN PYSCF:  tensor([0.1487, 0.3173], dtype=torch.float64)\n"
     ]
    }
   ],
   "source": [
    "print(\"REVERSE: \", reverse_mode(h2_system, -1.0, 2.0))\n",
    "print(\"FIN DQC: \", finite_difference(h2_system, -1.0, 2.0))\n",
    "print(\"FIN PYSCF: \", finite_difference_pyscf(h2_system, -1.0, 2.0))"
   ]
  },
  {
   "cell_type": "code",
   "execution_count": 36,
   "id": "further-milton",
   "metadata": {},
   "outputs": [
    {
     "name": "stdout",
     "output_type": "stream",
     "text": [
      "Energy DQC:  tensor(-206.3187, dtype=torch.float64)\n",
      "REVERSE:  tensor([ 113.7847, -413.4969], dtype=torch.float64)\n",
      "Energy DQC:  tensor(-206.3187, dtype=torch.float64)\n",
      "FIN DQC:  tensor([ 113.7847, -413.4986], dtype=torch.float64)\n",
      "converged SCF energy = -206.318984748372\n",
      "Energy PySCF:  -206.3189847483718\n",
      "FIN PYSCF:  tensor([ 113.7850, -413.5003], dtype=torch.float64)\n"
     ]
    }
   ],
   "source": [
    "print(\"REVERSE: \", reverse_mode(n2_system, -1.0, 2.0))\n",
    "print(\"FIN DQC: \", finite_difference(n2_system, -1.0, 2.0))\n",
    "print(\"FIN PYSCF: \", finite_difference_pyscf(n2_system, -1.0, 2.0))"
   ]
  },
  {
   "cell_type": "code",
   "execution_count": 37,
   "id": "tight-helen",
   "metadata": {},
   "outputs": [
    {
     "name": "stdout",
     "output_type": "stream",
     "text": [
      "Energy DQC:  tensor(-104.3939, dtype=torch.float64)\n",
      "REVERSE:  tensor([  58.7489, -208.1992], dtype=torch.float64)\n",
      "Energy DQC:  tensor(-104.3939, dtype=torch.float64)\n",
      "FIN DQC:  tensor([  58.7489, -208.2000], dtype=torch.float64)\n",
      "converged SCF energy = -104.394105081511\n",
      "Energy PySCF:  -104.39410508151116\n",
      "FIN PYSCF:  tensor([  58.7491, -208.2010], dtype=torch.float64)\n"
     ]
    }
   ],
   "source": [
    "print(\"REVERSE: \", reverse_mode(ammonia, -1.0, 2.0))\n",
    "print(\"FIN DQC: \", finite_difference(ammonia, -1.0, 2.0))\n",
    "print(\"FIN PYSCF: \", finite_difference_pyscf(ammonia, -1.0, 2.0))"
   ]
  },
  {
   "cell_type": "code",
   "execution_count": 38,
   "id": "4c957129",
   "metadata": {},
   "outputs": [],
   "source": [
    "benzene_coords = \"\"\"C        0.598362921      0.000000000     -4.742986733;\n",
    "                    C       -0.557705772     -0.354690359     -4.044822733;\n",
    "                    C        1.754431614      0.354690359     -4.044822733;\n",
    "                    H       -1.457130878     -0.630640582     -4.587995733;\n",
    "                    H        2.653856720      0.630640582     -4.587995733;\n",
    "                    C       -0.557705772     -0.354690359     -2.648492733;\n",
    "                    C        1.754431614      0.354690359     -2.648492733;\n",
    "                    H       -1.457130878     -0.630640582     -2.105319733;\n",
    "                    H        2.653856720      0.630640582     -2.105319733;\n",
    "                    C        0.598362921      0.000000000     -1.950328733;\n",
    "                    H        0.598362921      0.000000000     -0.863981733;\n",
    "                    H        0.598362921      0.000000000     -5.829333733\"\"\""
   ]
  },
  {
   "cell_type": "code",
   "execution_count": 41,
   "id": "e50368a8",
   "metadata": {},
   "outputs": [],
   "source": [
    "from math import pi\n",
    "factor = -3.0/4.0 * (3.0 / pi)**(1.0/3.0)\n",
    "power = 4.0/3.0"
   ]
  },
  {
   "cell_type": "code",
   "execution_count": 42,
   "id": "3a956f16",
   "metadata": {},
   "outputs": [
    {
     "name": "stdout",
     "output_type": "stream",
     "text": [
      "Energy DQC:  tensor(-213.4143, dtype=torch.float64)\n",
      "REVERSE:  tensor([ 48.7481, -40.5534], dtype=torch.float64)\n",
      "Energy DQC:  tensor(-213.4143, dtype=torch.float64)\n",
      "FIN DQC:  tensor([ 48.7481, -40.5536], dtype=torch.float64)\n",
      "converged SCF energy = -213.414684215988\n",
      "Energy PySCF:  -213.41468421598773\n",
      "FIN PySCF:  tensor([ 48.7478, -40.5456], dtype=torch.float64)\n"
     ]
    }
   ],
   "source": [
    "print(\"REVERSE: \", reverse_mode(benzene_coords, factor, power))\n",
    "print(\"FIN DQC: \", finite_difference(benzene_coords, factor, power))\n",
    "print(\"FIN PySCF: \", finite_difference_pyscf(benzene_coords, factor, power))"
   ]
  }
 ],
 "metadata": {
  "kernelspec": {
   "display_name": "Python 3 (ipykernel)",
   "language": "python",
   "name": "python3"
  },
  "language_info": {
   "codemirror_mode": {
    "name": "ipython",
    "version": 3
   },
   "file_extension": ".py",
   "mimetype": "text/x-python",
   "name": "python",
   "nbconvert_exporter": "python",
   "pygments_lexer": "ipython3",
   "version": "3.9.13"
  }
 },
 "nbformat": 4,
 "nbformat_minor": 5
}
