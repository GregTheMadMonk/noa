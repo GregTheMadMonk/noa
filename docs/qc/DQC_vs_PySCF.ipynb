{
 "cells": [
  {
   "cell_type": "code",
   "execution_count": 1,
   "id": "43262570",
   "metadata": {},
   "outputs": [],
   "source": [
    "import time\n",
    "import pyscf\n",
    "from pyscf import scf, gto, dft, cc\n",
    "import numpy as np"
   ]
  },
  {
   "cell_type": "code",
   "execution_count": null,
   "id": "b59fee82",
   "metadata": {},
   "outputs": [],
   "source": [
    "import numba as nb"
   ]
  },
  {
   "cell_type": "code",
   "execution_count": 29,
   "id": "d6e29ec0",
   "metadata": {},
   "outputs": [],
   "source": [
    "import torch\n",
    "import dqc\n",
    "\n",
    "def DQC_HF(system, basis):\n",
    "    atomzs, atomposs = dqc.parse_moldesc(system)\n",
    "    atomposs\n",
    "    mol = dqc.Mol((atomzs, atomposs), basis=basis)\n",
    "    qc = dqc.HF(mol).run()\n",
    "    ene = qc.energy()  # calculate the energy\n",
    "    \n",
    "    return ene\n",
    "\n",
    "def DQC_KS_PBE(system, basis):\n",
    "    atomzs, atomposs = dqc.parse_moldesc(system)\n",
    "    atomposs\n",
    "    mol = dqc.Mol((atomzs, atomposs), basis=basis)\n",
    "    qc = dqc.KS(mol, xc=\"gga_c_pbe\").run()\n",
    "    ene = qc.energy() # calculate the energy\n",
    "    return ene\n",
    "\n",
    "def DQC_KS_LDA_X(system, basis):\n",
    "    atomzs, atomposs = dqc.parse_moldesc(system)\n",
    "    atomposs\n",
    "    mol = dqc.Mol((atomzs, atomposs), basis=basis)\n",
    "    qc = dqc.KS(mol, xc=\"lda_x\").run()\n",
    "    ene = qc.energy() # calculate the energy\n",
    "    return ene"
   ]
  },
  {
   "cell_type": "code",
   "execution_count": 2,
   "id": "07b6c3c0",
   "metadata": {},
   "outputs": [],
   "source": [
    "def PySCF_HF(system, basis):\n",
    "    mol = gto.M(atom = system, basis = basis, unit=\"Bohr\", verbose=0) # NB: PySCF uses Angstrom by default\n",
    "    hf = scf.HF(mol)\n",
    "    ene = hf.kernel(verbose=0)\n",
    "    return ene"
   ]
  },
  {
   "cell_type": "code",
   "execution_count": 3,
   "id": "aa4ca180",
   "metadata": {},
   "outputs": [],
   "source": [
    "def PySCF_KS_PBE(system, basis):\n",
    "    mol = gto.M(atom = system, basis = basis, unit=\"Bohr\", verbose=0) # NB: PySCF uses Angstrom by default\n",
    "    ks = dft.RKS(mol)\n",
    "    ks.xc = \"pbe\"\n",
    "    ene = ks.kernel()\n",
    "    return ene"
   ]
  },
  {
   "cell_type": "code",
   "execution_count": 4,
   "id": "ff3b4a68",
   "metadata": {},
   "outputs": [],
   "source": [
    "def PySCF_KS_LDA_X(system, basis):\n",
    "    mol = gto.M(atom = system, basis = basis, unit=\"Bohr\", verbose=0) # NB: PySCF uses Angstrom by default\n",
    "    ks = dft.RKS(mol)\n",
    "    ks.xc = \"lda,\"\n",
    "    answer = ks.kernel()\n",
    "    return answer"
   ]
  },
  {
   "cell_type": "code",
   "execution_count": 5,
   "id": "301a5430",
   "metadata": {},
   "outputs": [],
   "source": [
    "def PySCF_CCSDT(system, basis):\n",
    "    mol = gto.M(atom = system, basis = basis, unit=\"Bohr\", verbose=0) # NB: PySCF uses Angstrom by default\n",
    "    hf = scf.HF(mol).run()\n",
    "    cc_ = cc.CCSD(hf)\n",
    "    ene = cc_.kernel()\n",
    "    et = cc_.ccsd_t()\n",
    "    return cc_.e_tot + et"
   ]
  },
  {
   "cell_type": "code",
   "execution_count": 6,
   "id": "34b4d0c5",
   "metadata": {},
   "outputs": [],
   "source": [
    "def print_timer(t):\n",
    "    print(f' took {round(time.time() - t, 3)} s.')"
   ]
  },
  {
   "cell_type": "code",
   "execution_count": 30,
   "id": "d0436d73",
   "metadata": {},
   "outputs": [],
   "source": [
    "def accuracy_comparison_DQC(system, basis):\n",
    "    t = time.time()\n",
    "    print(\"HF, DQC: \", DQC_HF(system, basis))\n",
    "    print_timer(t)\n",
    "    t = time.time()\n",
    "    print(\"PBE, DQC: \", DQC_KS_PBE(system, basis))\n",
    "    print_timer(t)"
   ]
  },
  {
   "cell_type": "code",
   "execution_count": 7,
   "id": "03cf7af9",
   "metadata": {},
   "outputs": [],
   "source": [
    "def accuracy_comparison_PYSCF(system, basis):\n",
    "    t = time.time()\n",
    "    print(\"HF, PySCF: \", PySCF_HF(system, basis))\n",
    "    print_timer(t)\n",
    "    t = time.time()\n",
    "    print(\"PBE, PySCF: \", PySCF_KS_PBE(system, basis))\n",
    "    print_timer(t)\n",
    "    t = time.time()\n",
    "    print(\"CCSD(T): \", PySCF_CCSDT(system, basis))\n",
    "    print_timer(t)"
   ]
  },
  {
   "cell_type": "markdown",
   "id": "66d9135a",
   "metadata": {},
   "source": [
    "Hydrogen at equlibrium point:"
   ]
  },
  {
   "cell_type": "code",
   "execution_count": 35,
   "id": "b486031b",
   "metadata": {},
   "outputs": [
    {
     "name": "stdout",
     "output_type": "stream",
     "text": [
      "HF, PySCF:  -1.1267427044517935\n",
      " took 0.069 s.\n",
      "PBE, PySCF:  -1.1619157577671024\n",
      " took 0.074 s.\n",
      "CCSD(T):  -1.1516791660767651\n",
      " took 0.067 s.\n"
     ]
    }
   ],
   "source": [
    "accuracy_comparison_PYSCF(\"H 0 0 0; H 1.4 0 0\", \"6-31G\")"
   ]
  },
  {
   "cell_type": "code",
   "execution_count": 34,
   "id": "106eb2f3",
   "metadata": {},
   "outputs": [
    {
     "name": "stdout",
     "output_type": "stream",
     "text": [
      "HF, DQC:  tensor(-1.1267, dtype=torch.float64)\n",
      " took 0.024 s.\n",
      "PBE, DQC:  tensor(-0.5625, dtype=torch.float64)\n",
      " took 0.097 s.\n"
     ]
    }
   ],
   "source": [
    "accuracy_comparison_DQC(\"H 0 0 0; H 1.4 0 0\", \"6-31G\")"
   ]
  },
  {
   "cell_type": "code",
   "execution_count": 41,
   "id": "531f298c",
   "metadata": {},
   "outputs": [
    {
     "name": "stdout",
     "output_type": "stream",
     "text": [
      "13.4 ms ± 87.7 µs per loop (mean ± std. dev. of 7 runs, 100 loops each)\n"
     ]
    }
   ],
   "source": [
    "%timeit DQC_HF(\"H 0 0 0; H 1.4 0 0\", \"6-31G\")"
   ]
  },
  {
   "cell_type": "code",
   "execution_count": 42,
   "id": "492a3fbe",
   "metadata": {},
   "outputs": [
    {
     "name": "stdout",
     "output_type": "stream",
     "text": [
      "57.7 ms ± 1.19 ms per loop (mean ± std. dev. of 7 runs, 10 loops each)\n"
     ]
    }
   ],
   "source": [
    "%timeit PySCF_HF(\"H 0 0 0; H 1.4 0 0\", \"6-31G\")"
   ]
  },
  {
   "cell_type": "code",
   "execution_count": 43,
   "id": "e4131856",
   "metadata": {},
   "outputs": [
    {
     "name": "stdout",
     "output_type": "stream",
     "text": [
      "444 ms ± 40.7 ms per loop (mean ± std. dev. of 7 runs, 1 loop each)\n"
     ]
    }
   ],
   "source": [
    "%timeit DQC_KS_PBE(\"H 0 0 0; H 1.4 0 0\", \"6-31G\")"
   ]
  },
  {
   "cell_type": "code",
   "execution_count": 39,
   "id": "d7aadec9",
   "metadata": {},
   "outputs": [
    {
     "name": "stdout",
     "output_type": "stream",
     "text": [
      "88.3 ms ± 1.35 ms per loop (mean ± std. dev. of 7 runs, 10 loops each)\n"
     ]
    }
   ],
   "source": [
    "%timeit PySCF_KS_PBE(\"H 0 0 0; H 1.4 0 0\", \"6-31G\")"
   ]
  },
  {
   "cell_type": "markdown",
   "id": "a65dd5bb",
   "metadata": {},
   "source": [
    "Nitrogen at equlibrium point:"
   ]
  },
  {
   "cell_type": "code",
   "execution_count": 37,
   "id": "80a913df",
   "metadata": {},
   "outputs": [
    {
     "name": "stdout",
     "output_type": "stream",
     "text": [
      "HF, PySCF:  -108.86787508005202\n",
      " took 0.076 s.\n",
      "PBE, PySCF:  -109.3533492341709\n",
      " took 0.145 s.\n",
      "CCSD(T):  -109.10264680238787\n",
      " took 0.176 s.\n"
     ]
    }
   ],
   "source": [
    "accuracy_comparison_PYSCF(\"N 0 0 0; N 2.07 0 0\", \"6-31G\")"
   ]
  },
  {
   "cell_type": "code",
   "execution_count": 38,
   "id": "df5dae53",
   "metadata": {},
   "outputs": [
    {
     "name": "stdout",
     "output_type": "stream",
     "text": [
      "HF, DQC:  tensor(-108.8679, dtype=torch.float64)\n",
      " took 0.039 s.\n",
      "PBE, DQC:  tensor(-96.5082, dtype=torch.float64)\n",
      " took 0.258 s.\n"
     ]
    }
   ],
   "source": [
    "accuracy_comparison_DQC(\"N 0 0 0; N 2.07 0 0\", \"6-31G\")"
   ]
  },
  {
   "cell_type": "code",
   "execution_count": null,
   "id": "323dc3db",
   "metadata": {},
   "outputs": [],
   "source": [
    "%timeit DQC_HF(\"N 0 0 0; N 2.07 0 0\", \"6-31G\")"
   ]
  },
  {
   "cell_type": "code",
   "execution_count": null,
   "id": "5c31770d",
   "metadata": {},
   "outputs": [],
   "source": [
    "%timeit PySCF_HF(\"N 0 0 0; N 2.07 0 0\", \"6-31G\")"
   ]
  },
  {
   "cell_type": "code",
   "execution_count": null,
   "id": "6a063fbf",
   "metadata": {},
   "outputs": [],
   "source": [
    "%timeit DQC_KS_PBE(\"N 0 0 0; N 2.07 0 0\", \"6-31G\")"
   ]
  },
  {
   "cell_type": "code",
   "execution_count": null,
   "id": "0c43ae1f",
   "metadata": {},
   "outputs": [],
   "source": [
    "%timeit PySCF_KS_PBE(\"N 0 0 0; N 2.07 0 0\", \"6-31G\")"
   ]
  },
  {
   "cell_type": "markdown",
   "id": "0f92ebcb",
   "metadata": {},
   "source": [
    "Ammonia at equlibrium point:"
   ]
  },
  {
   "cell_type": "code",
   "execution_count": 10,
   "id": "95cd33c4",
   "metadata": {},
   "outputs": [
    {
     "name": "stdout",
     "output_type": "stream",
     "text": [
      "HF, PySCF:  -56.16102378396442\n",
      " took 0.08 s.\n",
      "PBE, PySCF:  -56.451363472681926\n",
      " took 0.157 s.\n",
      "CCSD(T):  -56.2921491649041\n",
      " took 0.274 s.\n"
     ]
    }
   ],
   "source": [
    "accuracy_comparison_PYSCF(\"N 0.0 0.0 0.0; H 0.0 -1.772 -0.721; H 1.535 0.886 -0.721; H -1.535 0.886 -0.721\", \"6-31G\")"
   ]
  },
  {
   "cell_type": "code",
   "execution_count": 40,
   "id": "eecd9fe5",
   "metadata": {},
   "outputs": [
    {
     "name": "stdout",
     "output_type": "stream",
     "text": [
      "HF, DQC:  tensor(-56.1610, dtype=torch.float64)\n",
      " took 0.039 s.\n",
      "PBE, DQC:  tensor(-49.0140, dtype=torch.float64)\n",
      " took 0.459 s.\n"
     ]
    }
   ],
   "source": [
    "accuracy_comparison_DQC(\"N 0.0 0.0 0.0; H 0.0 -1.772 -0.721; H 1.535 0.886 -0.721; H -1.535 0.886 -0.721\", \"6-31G\")"
   ]
  },
  {
   "cell_type": "code",
   "execution_count": 41,
   "id": "6fc32a39",
   "metadata": {},
   "outputs": [
    {
     "name": "stdout",
     "output_type": "stream",
     "text": [
      "16.5 ms ± 839 µs per loop (mean ± std. dev. of 7 runs, 100 loops each)\n"
     ]
    }
   ],
   "source": [
    "%timeit DQC_HF(\"N 0.0 0.0 0.0; H 0.0 -1.772 -0.721; H 1.535 0.886 -0.721; H -1.535 0.886 -0.721\", \"6-31G\")"
   ]
  },
  {
   "cell_type": "code",
   "execution_count": null,
   "id": "5620ad20",
   "metadata": {},
   "outputs": [],
   "source": [
    "%timeit PySCF_HF(\"N 0.0 0.0 0.0; H 0.0 -1.772 -0.721; H 1.535 0.886 -0.721; H -1.535 0.886 -0.721\", \"6-31G\")"
   ]
  },
  {
   "cell_type": "code",
   "execution_count": null,
   "id": "be04a77c",
   "metadata": {},
   "outputs": [],
   "source": [
    "%timeit DQC_KS_PBE(\"N 0.0 0.0 0.0; H 0.0 -1.772 -0.721; H 1.535 0.886 -0.721; H -1.535 0.886 -0.721\", \"6-31G\")"
   ]
  },
  {
   "cell_type": "code",
   "execution_count": null,
   "id": "52d505b7",
   "metadata": {},
   "outputs": [],
   "source": [
    "%timeit PySCF_KS_PBE(\"N 0.0 0.0 0.0; H 0.0 -1.772 -0.721; H 1.535 0.886 -0.721; H -1.535 0.886 -0.721\", \"6-31G\")"
   ]
  },
  {
   "cell_type": "markdown",
   "id": "3336cae2",
   "metadata": {},
   "source": [
    "Benzene at equlibrium point:"
   ]
  },
  {
   "cell_type": "code",
   "execution_count": 12,
   "id": "681e1c52",
   "metadata": {},
   "outputs": [],
   "source": [
    "benzene_coords = \"\"\"C        0.598362921      0.000000000     -4.742986733;\n",
    "                    C       -0.557705772     -0.354690359     -4.044822733;\n",
    "                    C        1.754431614      0.354690359     -4.044822733;\n",
    "                    H       -1.457130878     -0.630640582     -4.587995733;\n",
    "                    H        2.653856720      0.630640582     -4.587995733;\n",
    "                    C       -0.557705772     -0.354690359     -2.648492733;\n",
    "                    C        1.754431614      0.354690359     -2.648492733;\n",
    "                    H       -1.457130878     -0.630640582     -2.105319733;\n",
    "                    H        2.653856720      0.630640582     -2.105319733;\n",
    "                    C        0.598362921      0.000000000     -1.950328733;\n",
    "                    H        0.598362921      0.000000000     -0.863981733;\n",
    "                    H        0.598362921      0.000000000     -5.829333733\"\"\""
   ]
  },
  {
   "cell_type": "code",
   "execution_count": 13,
   "id": "baf39742",
   "metadata": {},
   "outputs": [
    {
     "name": "stdout",
     "output_type": "stream",
     "text": [
      "HF, PySCF:  -216.74175971291947\n",
      " took 0.206 s.\n",
      "PBE, PySCF:  -218.0955795467098\n",
      " took 1.026 s.\n",
      "CCSD(T):  -217.07797043623268\n",
      " took 3.377 s.\n"
     ]
    }
   ],
   "source": [
    "accuracy_comparison_PYSCF(benzene_coords, \"6-31G\")"
   ]
  },
  {
   "cell_type": "code",
   "execution_count": 43,
   "id": "575d06b9",
   "metadata": {},
   "outputs": [
    {
     "name": "stdout",
     "output_type": "stream",
     "text": [
      "HF, DQC:  tensor(-216.7411, dtype=torch.float64)\n",
      " took 2.238 s.\n",
      "PBE, DQC:  tensor(-179.7154, dtype=torch.float64)\n",
      " took 9.126 s.\n"
     ]
    }
   ],
   "source": [
    "accuracy_comparison_DQC(benzene_coords, \"6-31G\")"
   ]
  },
  {
   "cell_type": "code",
   "execution_count": null,
   "id": "4033c74c",
   "metadata": {},
   "outputs": [],
   "source": [
    "%timeit DQC_HF(benzene_coords, \"6-31G\")"
   ]
  },
  {
   "cell_type": "code",
   "execution_count": null,
   "id": "35d7360b",
   "metadata": {},
   "outputs": [],
   "source": [
    "%timeit PySCF_HF(benzene_coords, \"6-31G\")"
   ]
  },
  {
   "cell_type": "code",
   "execution_count": null,
   "id": "ebcca695",
   "metadata": {},
   "outputs": [],
   "source": [
    "%timeit DQC_KS_PBE(benzene_coords, \"6-31G\")"
   ]
  },
  {
   "cell_type": "code",
   "execution_count": null,
   "id": "5a124d47",
   "metadata": {},
   "outputs": [],
   "source": [
    "%timeit PySCF_KS_PBE(benzene_coords, \"6-31G\")"
   ]
  },
  {
   "cell_type": "markdown",
   "id": "bc39a509",
   "metadata": {},
   "source": [
    "Naphtalene at equlibrium point:"
   ]
  },
  {
   "cell_type": "code",
   "execution_count": 15,
   "id": "8b9b87bf",
   "metadata": {},
   "outputs": [],
   "source": [
    "naphtalene_coords = \"\"\"H       -1.057571674      0.000000000     -4.361571149;\n",
    "                    C       -1.057571674      0.487597890     -3.390034963;\n",
    "                    C       -1.057571674      1.860916946     -3.299493774;\n",
    "                    C       -1.057571674      2.493399263     -2.031832408;\n",
    "                    C       -1.057571674      1.739878824     -0.880133713;\n",
    "                    C       -1.057571674      0.320033769     -0.937967730;\n",
    "                    C       -1.057571674     -0.320033769     -2.220831877;\n",
    "                    C       -1.057571674     -1.739878824     -2.278665893;\n",
    "                    C       -1.057571674     -2.493399263     -1.126967199;\n",
    "                    C       -1.057571674     -1.860916946      0.140694168;\n",
    "                    C       -1.057571674     -0.487597890      0.231235357;\n",
    "                    H       -1.057571674      2.466184811     -4.201283252;\n",
    "                    H       -1.057571674      3.577893185     -1.973126484;\n",
    "                    H       -1.057571674      2.222891720      0.093690092;\n",
    "                    H       -1.057571674      0.000000000      1.202771542;\n",
    "                    H       -1.057571674     -2.466184811      1.042483645;\n",
    "                    H       -1.057571674     -3.577893185     -1.185673122;\n",
    "                    H       -1.057571674     -2.222891720     -3.252489699\"\"\""
   ]
  },
  {
   "cell_type": "code",
   "execution_count": 16,
   "id": "c8e9a76f",
   "metadata": {},
   "outputs": [
    {
     "name": "stdout",
     "output_type": "stream",
     "text": [
      "HF, PySCF:  -359.6605290903001\n",
      " took 1.085 s.\n",
      "PBE, PySCF:  -361.9417375268738\n",
      " took 5.003 s.\n",
      "CCSD(T):  -360.24270683546575\n",
      " took 39.031 s.\n"
     ]
    }
   ],
   "source": [
    "accuracy_comparison_PYSCF(naphtalene_coords, \"6-31G\")"
   ]
  },
  {
   "cell_type": "code",
   "execution_count": 44,
   "id": "7256ef8a",
   "metadata": {},
   "outputs": [
    {
     "name": "stdout",
     "output_type": "stream",
     "text": [
      "HF, DQC:  tensor(-359.6521, dtype=torch.float64)\n",
      " took 18.503 s.\n",
      "PBE, DQC:  tensor(-298.3350, dtype=torch.float64)\n",
      " took 51.88 s.\n"
     ]
    }
   ],
   "source": [
    "accuracy_comparison_DQC(naphtalene_coords, \"6-31G\")"
   ]
  },
  {
   "cell_type": "code",
   "execution_count": null,
   "id": "5c9cb3b8",
   "metadata": {},
   "outputs": [],
   "source": [
    "%timeit DQC_HF(naphtalene_coords, \"6-31G\")"
   ]
  },
  {
   "cell_type": "code",
   "execution_count": null,
   "id": "947a2a8f",
   "metadata": {},
   "outputs": [],
   "source": [
    "%timeit PySCF_HF(naphtalene_coords, \"6-31G\")"
   ]
  },
  {
   "cell_type": "code",
   "execution_count": null,
   "id": "aabadfe4",
   "metadata": {},
   "outputs": [],
   "source": [
    "%timeit DQC_KS_PBE(naphtalene_coords, \"6-31G\")"
   ]
  },
  {
   "cell_type": "code",
   "execution_count": null,
   "id": "b40f32cc",
   "metadata": {},
   "outputs": [],
   "source": [
    "%timeit PySCF_KS_PBE(naphtalene_coords, \"6-31G\")"
   ]
  },
  {
   "cell_type": "markdown",
   "id": "b4699f9c",
   "metadata": {},
   "source": [
    "Anthracene at equlibrium point:"
   ]
  },
  {
   "cell_type": "code",
   "execution_count": null,
   "id": "f7837bfd",
   "metadata": {},
   "outputs": [],
   "source": [
    "anthracene_coords = \"\"\"C        1.044178831     -0.528233237     -4.684523771;\n",
    "C        1.044178831     -0.552713285     -3.254782652;\n",
    "C        1.044178831     -1.749044624     -2.526815306;\n",
    "C        1.044178831      0.704131514     -2.541488804;\n",
    "C        1.044178831      0.692578077     -1.141127549;\n",
    "C        1.044178831     -0.503753261     -0.413160203;\n",
    "C        1.044178831     -1.760598060     -1.126454051;\n",
    "C        1.044178831      0.658108897     -5.368920348;\n",
    "C        1.044178831      1.919058175     -3.295618865;\n",
    "H        1.044178831      1.638563069     -0.604255156;\n",
    "C        1.044178831     -0.528233309      1.016580916;\n",
    "C        1.044178831     -2.975524721     -0.372323990;\n",
    "C        1.044178831     -2.954793300      0.997119891;\n",
    "C        1.044178831     -1.714574573      1.700977987;\n",
    "H        1.044178831      0.418178836      1.551045394;\n",
    "H        1.044178831     -3.919661467     -0.910797789;\n",
    "H        1.044178831     -3.885538136      1.556731594;\n",
    "H        1.044178831     -1.717772077      2.786998206;\n",
    "C        1.044178831      1.898326754     -4.665062745;\n",
    "H        1.044178831     -1.474645383     -5.218988249;\n",
    "H        1.044178831     -2.695029615     -3.063687699;\n",
    "H        1.044178831      0.661305531     -6.454941061;\n",
    "H        1.044178831      2.863194921     -2.757145066;\n",
    "H        1.044178831      2.829071589     -5.224674449\"\"\""
   ]
  },
  {
   "cell_type": "code",
   "execution_count": null,
   "id": "f4951cdc",
   "metadata": {},
   "outputs": [],
   "source": [
    "t = time.time()\n",
    "print(\"HF, DQC: \", DQC_HF(anthracene_coords, \"6-31G\"))\n",
    "print_timer(t)"
   ]
  },
  {
   "cell_type": "code",
   "execution_count": null,
   "id": "df94bd02",
   "metadata": {},
   "outputs": [],
   "source": [
    "t = time.time()\n",
    "print(\"HF, PySCF: \", PySCF_HF(anthracene_coords, \"6-31G\"))\n",
    "print_timer(t)"
   ]
  },
  {
   "cell_type": "code",
   "execution_count": null,
   "id": "c20a944d",
   "metadata": {},
   "outputs": [],
   "source": [
    "t = time.time()\n",
    "print(\"PBE, PySCF: \", PySCF_KS_PBE(anthracene_coords, \"6-31G\"))\n",
    "print_timer(t)"
   ]
  },
  {
   "cell_type": "code",
   "execution_count": null,
   "id": "f0a5b59a",
   "metadata": {},
   "outputs": [],
   "source": [
    "t = time.time()\n",
    "print(\"PBE, DQC: \", DQC_KS_PBE(anthracene_coords, \"6-31G\"))\n",
    "print_timer(t)"
   ]
  },
  {
   "cell_type": "code",
   "execution_count": null,
   "id": "939e85be",
   "metadata": {},
   "outputs": [],
   "source": [
    "t = time.time()\n",
    "print(\"CCSD(T): \", PySCF_CCSDT(anthracene_coords, \"6-31G\"))\n",
    "print_timer(t)"
   ]
  },
  {
   "cell_type": "markdown",
   "id": "a0c5d54f",
   "metadata": {},
   "source": [
    "Trying to set up HEG LDA functional:"
   ]
  },
  {
   "cell_type": "code",
   "execution_count": 19,
   "id": "a76ad117",
   "metadata": {},
   "outputs": [],
   "source": [
    "from math import pi\n",
    "\n",
    "factor = -3.0/4.0 * (3.0 / pi)**(1.0/3.0)\n",
    "power = 4.0/3.0"
   ]
  },
  {
   "cell_type": "code",
   "execution_count": 20,
   "id": "476a82c1",
   "metadata": {},
   "outputs": [],
   "source": [
    "water = \"\"\"\n",
    "O        0.000000000      0.000000000      0.000000000;\n",
    "H        0.000000000      1.434938863      1.126357947;\n",
    "H        0.000000000     -1.434938863      1.126357947\n",
    "\"\"\"\n",
    "ammonia = \"\"\"\n",
    "N 0.0 0.0 0.0; \n",
    "H 0.0 -1.772 -0.721; \n",
    "H 1.535 0.886 -0.721; \n",
    "H -1.535 0.886 -0.721\n",
    "\"\"\""
   ]
  },
  {
   "cell_type": "code",
   "execution_count": 45,
   "id": "1eafad72",
   "metadata": {},
   "outputs": [],
   "source": [
    "class MyLDAX(dqc.xc.CustomXC):\n",
    "    def __init__(self, a, p):\n",
    "        super().__init__()\n",
    "        self.a = a\n",
    "        self.p = p\n",
    "\n",
    "    @property\n",
    "    def family(self):\n",
    "        # 1 for LDA, 2 for GGA, 4 for MGGA\n",
    "        return 1\n",
    "\n",
    "    def get_edensityxc(self, densinfo):\n",
    "        # densinfo has up and down components\n",
    "        if isinstance(densinfo, dqc.utils.SpinParam):\n",
    "            # spin-scaling of the exchange energy\n",
    "            return 0.5 * (self.get_edensityxc(densinfo.u * 2) \n",
    "                          + self.get_edensityxc(densinfo.d * 2))\n",
    "        else:\n",
    "            rho = densinfo.value.abs() + 1e-15  # safeguarding from nan\n",
    "            return self.a * rho ** self.p\n",
    "a = torch.nn.Parameter(torch.tensor(factor, dtype=torch.double))\n",
    "p = torch.nn.Parameter(torch.tensor(power, dtype=torch.double))\n",
    "myxc = MyLDAX(a, p)"
   ]
  },
  {
   "cell_type": "code",
   "execution_count": 46,
   "id": "563d34eb",
   "metadata": {},
   "outputs": [],
   "source": [
    "def dqc_compute(system, basis=\"6-31G\", xc=myxc):\n",
    "    mol = dqc.Mol(moldesc=system, basis=basis)\n",
    "    qc = dqc.KS(mol, xc=xc).run()\n",
    "    ene = qc.energy()\n",
    "    return ene"
   ]
  },
  {
   "cell_type": "markdown",
   "id": "245a74b7",
   "metadata": {},
   "source": [
    "**NB:**\n",
    "\n",
    "`exc` is not $\\epsilon * \\rho$, but $\\epsilon$.\n",
    "\n",
    "`vrho` is not $\\frac{d\\epsilon}{d\\rho}$, but $\\frac{d\\epsilon * \\rho}{d\\rho}$"
   ]
  },
  {
   "cell_type": "code",
   "execution_count": 21,
   "id": "b661047b",
   "metadata": {},
   "outputs": [],
   "source": [
    "def my_eval_xc(a,p):    \n",
    "    def eval_xc(xc_code, rho, *args, **kwargs):\n",
    "        exc = a * rho ** (p-1.0) # NB: it is epsilon, not epsilon * rho!\n",
    "        vrho = a * p * rho ** (p-1.0)\n",
    "        vgamma = None\n",
    "        vlapl = None\n",
    "        vtau = None\n",
    "        vxc = (vrho, vgamma, vlapl, vtau)\n",
    "        fxc = None  # 2nd order functional derivative\n",
    "        kxc = None  # 3rd order functional derivative\n",
    "        return exc, vxc, fxc, kxc\n",
    "    return eval_xc"
   ]
  },
  {
   "cell_type": "code",
   "execution_count": 22,
   "id": "296ac82d",
   "metadata": {},
   "outputs": [],
   "source": [
    "def scf_compute(system, basis=\"6-31G\", xc = my_eval_xc(factor,power), verbose=0):\n",
    "    scf_mol = pyscf.gto.M(atom = system, basis=basis, unit=\"Bohr\")\n",
    "    mf = pyscf.dft.RKS(scf_mol)\n",
    "    mf = mf.define_xc_(xc, 'LDA')\n",
    "    mf.verbose = verbose\n",
    "    answer = mf.kernel()\n",
    "    return answer"
   ]
  },
  {
   "cell_type": "code",
   "execution_count": 47,
   "id": "f4a52640",
   "metadata": {},
   "outputs": [
    {
     "name": "stdout",
     "output_type": "stream",
     "text": [
      "DQC, custom: tensor(-55.4136, dtype=torch.float64, grad_fn=<AddBackward0>)\n",
      "DQC, from library: tensor(-55.4136, dtype=torch.float64)\n"
     ]
    }
   ],
   "source": [
    "print(\"DQC, custom:\", dqc_compute(ammonia))\n",
    "print(\"DQC, from library:\", DQC_KS_LDA_X(ammonia, \"6-31G\"))"
   ]
  },
  {
   "cell_type": "code",
   "execution_count": 23,
   "id": "e6e6cc76",
   "metadata": {},
   "outputs": [
    {
     "name": "stdout",
     "output_type": "stream",
     "text": [
      "PySCF, custom: -55.41360440678283\n",
      "PySCF, from library: -55.41360440678283\n"
     ]
    }
   ],
   "source": [
    "print(\"PySCF, custom:\", scf_compute(ammonia, verbose=0))\n",
    "print(\"PySCF, from library:\", PySCF_KS_LDA_X(ammonia, \"6-31G\"))"
   ]
  },
  {
   "cell_type": "code",
   "execution_count": 49,
   "id": "abcd469c",
   "metadata": {},
   "outputs": [
    {
     "name": "stdout",
     "output_type": "stream",
     "text": [
      "The 6-31G basis for atomz 8 does not exist, but we will download it\n",
      "Downloaded to /home/rolandgrinis.linux/miniconda3/envs/noa/lib/python3.9/site-packages/dqc/api/.database/6-31g/08.gaussian94\n",
      "DQC, custom: tensor(-75.1547, dtype=torch.float64, grad_fn=<AddBackward0>)\n",
      "DQC, from library: tensor(-75.1547, dtype=torch.float64)\n"
     ]
    }
   ],
   "source": [
    "print(\"DQC, custom:\", dqc_compute(water))\n",
    "print(\"DQC, from library:\", DQC_KS_LDA_X(water, \"6-31G\"))"
   ]
  },
  {
   "cell_type": "code",
   "execution_count": 48,
   "id": "1ebcd6ce",
   "metadata": {},
   "outputs": [
    {
     "name": "stdout",
     "output_type": "stream",
     "text": [
      "PySCF, custom: -75.15470534035698\n",
      "PySCF, from library: -75.1547053403571\n"
     ]
    }
   ],
   "source": [
    "print(\"PySCF, custom:\", scf_compute(water, verbose=0))\n",
    "print(\"PySCF, from library:\", PySCF_KS_LDA_X(water, \"6-31G\"))"
   ]
  },
  {
   "cell_type": "code",
   "execution_count": 50,
   "id": "8c9ae9e7",
   "metadata": {},
   "outputs": [
    {
     "name": "stdout",
     "output_type": "stream",
     "text": [
      "DQC, custom: tensor(-213.4143, dtype=torch.float64, grad_fn=<AddBackward0>)\n",
      "DQC, from library: tensor(-213.4143, dtype=torch.float64)\n"
     ]
    }
   ],
   "source": [
    "print(\"DQC, custom:\", dqc_compute(benzene_coords))\n",
    "print(\"DQC, from library:\", DQC_KS_LDA_X(benzene_coords, \"6-31G\"))"
   ]
  },
  {
   "cell_type": "code",
   "execution_count": 25,
   "id": "8ca37525",
   "metadata": {},
   "outputs": [
    {
     "name": "stdout",
     "output_type": "stream",
     "text": [
      "PySCF, custom: -213.41468421595175\n",
      "PySCF, from library: -213.41468421598665\n"
     ]
    }
   ],
   "source": [
    "print(\"PySCF, custom:\", scf_compute(benzene_coords, verbose=0))\n",
    "print(\"PySCF, from library:\", PySCF_KS_LDA_X(benzene_coords, \"6-31G\"))"
   ]
  },
  {
   "cell_type": "code",
   "execution_count": 51,
   "id": "462e5cdf",
   "metadata": {},
   "outputs": [
    {
     "name": "stdout",
     "output_type": "stream",
     "text": [
      "1.83 s ± 3.3 ms per loop (mean ± std. dev. of 7 runs, 1 loop each)\n"
     ]
    }
   ],
   "source": [
    "%timeit scf_compute(benzene_coords, verbose=0)"
   ]
  },
  {
   "cell_type": "code",
   "execution_count": 52,
   "id": "98367735",
   "metadata": {},
   "outputs": [
    {
     "name": "stdout",
     "output_type": "stream",
     "text": [
      "5.39 s ± 38.7 ms per loop (mean ± std. dev. of 7 runs, 1 loop each)\n"
     ]
    }
   ],
   "source": [
    "%timeit dqc_compute(benzene_coords)"
   ]
  }
 ],
 "metadata": {
  "kernelspec": {
   "display_name": "Python 3 (ipykernel)",
   "language": "python",
   "name": "python3"
  },
  "language_info": {
   "codemirror_mode": {
    "name": "ipython",
    "version": 3
   },
   "file_extension": ".py",
   "mimetype": "text/x-python",
   "name": "python",
   "nbconvert_exporter": "python",
   "pygments_lexer": "ipython3",
   "version": "3.9.13"
  }
 },
 "nbformat": 4,
 "nbformat_minor": 5
}
