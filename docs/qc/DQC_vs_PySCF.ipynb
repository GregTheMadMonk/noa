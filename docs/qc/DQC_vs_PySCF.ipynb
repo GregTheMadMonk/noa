{
 "cells": [
  {
   "cell_type": "code",
   "execution_count": 1,
   "id": "43262570",
   "metadata": {},
   "outputs": [],
   "source": [
    "import torch\n",
    "import dqc\n",
    "\n",
    "import pyscf"
   ]
  },
  {
   "cell_type": "code",
   "execution_count": 2,
   "id": "d6e29ec0",
   "metadata": {},
   "outputs": [],
   "source": [
    "def DQC_HF(system, basis):\n",
    "    atomzs, atomposs = dqc.parse_moldesc(system)\n",
    "    atomposs\n",
    "    mol = dqc.Mol((atomzs, atomposs), basis=basis)\n",
    "    qc = dqc.HF(mol).run()\n",
    "    ene = qc.energy()  # calculate the energy\n",
    "    return ene"
   ]
  },
  {
   "cell_type": "code",
   "execution_count": 3,
   "id": "07b6c3c0",
   "metadata": {},
   "outputs": [],
   "source": [
    "def PySCF_HF(system, basis):\n",
    "    mol = pyscf.gto.M(atom = system, basis = basis, unit=\"Bohr\", verbose=0) # NB: PySCF uses Angstrom by default\n",
    "    hf = pyscf.scf.HF(mol)\n",
    "    ene = hf.kernel(verbose=0)\n",
    "    return ene"
   ]
  },
  {
   "cell_type": "code",
   "execution_count": 4,
   "id": "627fa51c",
   "metadata": {},
   "outputs": [],
   "source": [
    "def DQC_KS_PBE(system, basis):\n",
    "    atomzs, atomposs = dqc.parse_moldesc(system)\n",
    "    atomposs\n",
    "    mol = dqc.Mol((atomzs, atomposs), basis=basis)\n",
    "    qc = dqc.KS(mol, xc=\"gga_c_pbe\").run()\n",
    "    ene = qc.energy() # calculate the energy\n",
    "    return ene"
   ]
  },
  {
   "cell_type": "code",
   "execution_count": 5,
   "id": "aa4ca180",
   "metadata": {},
   "outputs": [],
   "source": [
    "from pyscf import gto, dft\n",
    "\n",
    "def PySCF_KS_PBE(system, basis):\n",
    "    mol = pyscf.gto.M(atom = system, basis = basis, unit=\"Bohr\", verbose=0) # NB: PySCF uses Angstrom by default\n",
    "    ks = dft.RKS(mol)\n",
    "    ks.xc = \"pbe\"\n",
    "    ene = ks.kernel()\n",
    "    return ene"
   ]
  },
  {
   "cell_type": "code",
   "execution_count": 6,
   "id": "301a5430",
   "metadata": {},
   "outputs": [],
   "source": [
    "from pyscf import cc\n",
    "\n",
    "def PySCF_CCSDT(system, basis):\n",
    "    mol = pyscf.gto.M(atom = system, basis = basis, unit=\"Bohr\", verbose=0) # NB: PySCF uses Angstrom by default\n",
    "    hf = pyscf.scf.HF(mol).run()\n",
    "    cc = pyscf.cc.CCSD(hf)\n",
    "    ene = cc.kernel()\n",
    "    et = cc.ccsd_t()\n",
    "    return cc.e_tot + et"
   ]
  },
  {
   "cell_type": "code",
   "execution_count": 7,
   "id": "03cf7af9",
   "metadata": {},
   "outputs": [],
   "source": [
    "def accuracy_comparison(system, basis):\n",
    "    print(\"CCSD(T): \", PySCF_CCSDT(system, basis))\n",
    "    print(\"HF, DQC: \", DQC_HF(system, basis))\n",
    "    print(\"HF, PySCF: \", PySCF_HF(system, basis))\n",
    "    print(\"PBE, DQC: \", DQC_KS_PBE(system, basis))\n",
    "    print(\"PBE, PySCF: \", PySCF_KS_PBE(system, basis))"
   ]
  },
  {
   "cell_type": "markdown",
   "id": "66d9135a",
   "metadata": {},
   "source": [
    "Hydrogen at equlibrium point:"
   ]
  },
  {
   "cell_type": "code",
   "execution_count": 8,
   "id": "b486031b",
   "metadata": {},
   "outputs": [
    {
     "name": "stdout",
     "output_type": "stream",
     "text": [
      "CCSD(T):  -1.1516791660767665\n",
      "The 6-31G basis for atomz 1 does not exist, but we will download it\n",
      "Downloaded to /home/rolan/miniconda3/envs/noa/lib/python3.9/site-packages/dqc/api/.database/6-31g/01.gaussian94\n",
      "HF, DQC:  tensor(-1.1267, dtype=torch.float64)\n",
      "HF, PySCF:  -1.1267427044517944\n",
      "PBE, DQC:  tensor(-0.5625, dtype=torch.float64)\n",
      "PBE, PySCF:  -1.1619157577671002\n"
     ]
    }
   ],
   "source": [
    "accuracy_comparison(\"H 0 0 0; H 1.4 0 0\", \"6-31G\")"
   ]
  },
  {
   "cell_type": "code",
   "execution_count": 9,
   "id": "531f298c",
   "metadata": {},
   "outputs": [
    {
     "name": "stdout",
     "output_type": "stream",
     "text": [
      "8.56 ms ± 134 µs per loop (mean ± std. dev. of 7 runs, 100 loops each)\n"
     ]
    }
   ],
   "source": [
    "%timeit DQC_HF(\"H 0 0 0; H 1.4 0 0\", \"6-31G\")"
   ]
  },
  {
   "cell_type": "code",
   "execution_count": 10,
   "id": "492a3fbe",
   "metadata": {},
   "outputs": [
    {
     "name": "stdout",
     "output_type": "stream",
     "text": [
      "51.2 ms ± 750 µs per loop (mean ± std. dev. of 7 runs, 10 loops each)\n"
     ]
    }
   ],
   "source": [
    "%timeit PySCF_HF(\"H 0 0 0; H 1.4 0 0\", \"6-31G\")"
   ]
  },
  {
   "cell_type": "code",
   "execution_count": 23,
   "id": "0291fc97",
   "metadata": {},
   "outputs": [
    {
     "name": "stdout",
     "output_type": "stream",
     "text": [
      "93.2 ms ± 1.79 ms per loop (mean ± std. dev. of 7 runs, 10 loops each)\n"
     ]
    }
   ],
   "source": [
    "%timeit DQC_KS_PBE(\"H 0 0 0; H 1.4 0 0\", \"6-31G\")"
   ]
  },
  {
   "cell_type": "code",
   "execution_count": 24,
   "id": "a50c83ba",
   "metadata": {},
   "outputs": [
    {
     "name": "stdout",
     "output_type": "stream",
     "text": [
      "94.4 ms ± 1.11 ms per loop (mean ± std. dev. of 7 runs, 10 loops each)\n"
     ]
    }
   ],
   "source": [
    "%timeit PySCF_KS_PBE(\"H 0 0 0; H 1.4 0 0\", \"6-31G\")"
   ]
  },
  {
   "cell_type": "markdown",
   "id": "a65dd5bb",
   "metadata": {},
   "source": [
    "Nitrogen at equlibrium point:"
   ]
  },
  {
   "cell_type": "code",
   "execution_count": 11,
   "id": "80a913df",
   "metadata": {},
   "outputs": [
    {
     "name": "stdout",
     "output_type": "stream",
     "text": [
      "CCSD(T):  -109.10264679990786\n",
      "The 6-31G basis for atomz 7 does not exist, but we will download it\n",
      "Downloaded to /home/rolan/miniconda3/envs/noa/lib/python3.9/site-packages/dqc/api/.database/6-31g/07.gaussian94\n",
      "HF, DQC:  tensor(-108.8679, dtype=torch.float64)\n",
      "HF, PySCF:  -108.86787508005202\n",
      "PBE, DQC:  tensor(-96.5082, dtype=torch.float64)\n",
      "PBE, PySCF:  -109.35334923417099\n"
     ]
    }
   ],
   "source": [
    "accuracy_comparison(\"N 0 0 0; N 2.07 0 0\", \"6-31G\")"
   ]
  },
  {
   "cell_type": "code",
   "execution_count": 12,
   "id": "323dc3db",
   "metadata": {},
   "outputs": [
    {
     "name": "stdout",
     "output_type": "stream",
     "text": [
      "22.6 ms ± 236 µs per loop (mean ± std. dev. of 7 runs, 10 loops each)\n"
     ]
    }
   ],
   "source": [
    "%timeit DQC_HF(\"N 0 0 0; N 2.07 0 0\", \"6-31G\")"
   ]
  },
  {
   "cell_type": "code",
   "execution_count": 13,
   "id": "5c31770d",
   "metadata": {},
   "outputs": [
    {
     "name": "stdout",
     "output_type": "stream",
     "text": [
      "57.2 ms ± 1.44 ms per loop (mean ± std. dev. of 7 runs, 10 loops each)\n"
     ]
    }
   ],
   "source": [
    "%timeit PySCF_HF(\"N 0 0 0; N 2.07 0 0\", \"6-31G\")"
   ]
  },
  {
   "cell_type": "code",
   "execution_count": 26,
   "id": "af11e276",
   "metadata": {},
   "outputs": [
    {
     "name": "stdout",
     "output_type": "stream",
     "text": [
      "220 ms ± 5.26 ms per loop (mean ± std. dev. of 7 runs, 10 loops each)\n"
     ]
    }
   ],
   "source": [
    "%timeit DQC_KS_PBE(\"N 0 0 0; N 2.07 0 0\", \"6-31G\")"
   ]
  },
  {
   "cell_type": "code",
   "execution_count": 27,
   "id": "1c55ab5b",
   "metadata": {},
   "outputs": [
    {
     "name": "stdout",
     "output_type": "stream",
     "text": [
      "154 ms ± 1.42 ms per loop (mean ± std. dev. of 7 runs, 10 loops each)\n"
     ]
    }
   ],
   "source": [
    "%timeit PySCF_KS_PBE(\"N 0 0 0; N 2.07 0 0\", \"6-31G\")"
   ]
  },
  {
   "cell_type": "markdown",
   "id": "0f92ebcb",
   "metadata": {},
   "source": [
    "Ammonia at equlibrium point:"
   ]
  },
  {
   "cell_type": "code",
   "execution_count": 14,
   "id": "95cd33c4",
   "metadata": {},
   "outputs": [
    {
     "name": "stdout",
     "output_type": "stream",
     "text": [
      "CCSD(T):  -56.29214916490406\n",
      "HF, DQC:  tensor(-56.1610, dtype=torch.float64)\n",
      "HF, PySCF:  -56.16102378396442\n",
      "PBE, DQC:  tensor(-49.0140, dtype=torch.float64)\n",
      "PBE, PySCF:  -56.451363472681926\n"
     ]
    }
   ],
   "source": [
    "accuracy_comparison(\"N 0.0 0.0 0.0; H 0.0 -1.772 -0.721; H 1.535 0.886 -0.721; H -1.535 0.886 -0.721\", \"6-31G\")"
   ]
  },
  {
   "cell_type": "code",
   "execution_count": 15,
   "id": "6fc32a39",
   "metadata": {},
   "outputs": [
    {
     "name": "stdout",
     "output_type": "stream",
     "text": [
      "25.6 ms ± 805 µs per loop (mean ± std. dev. of 7 runs, 10 loops each)\n"
     ]
    }
   ],
   "source": [
    "%timeit DQC_HF(\"N 0.0 0.0 0.0; H 0.0 -1.772 -0.721; H 1.535 0.886 -0.721; H -1.535 0.886 -0.721\", \"6-31G\")"
   ]
  },
  {
   "cell_type": "code",
   "execution_count": 16,
   "id": "5620ad20",
   "metadata": {},
   "outputs": [
    {
     "name": "stdout",
     "output_type": "stream",
     "text": [
      "67.3 ms ± 974 µs per loop (mean ± std. dev. of 7 runs, 10 loops each)\n"
     ]
    }
   ],
   "source": [
    "%timeit PySCF_HF(\"N 0.0 0.0 0.0; H 0.0 -1.772 -0.721; H 1.535 0.886 -0.721; H -1.535 0.886 -0.721\", \"6-31G\")"
   ]
  },
  {
   "cell_type": "code",
   "execution_count": 28,
   "id": "56bef0c8",
   "metadata": {},
   "outputs": [
    {
     "name": "stdout",
     "output_type": "stream",
     "text": [
      "401 ms ± 9.11 ms per loop (mean ± std. dev. of 7 runs, 1 loop each)\n"
     ]
    }
   ],
   "source": [
    "%timeit DQC_KS_PBE(\"N 0.0 0.0 0.0; H 0.0 -1.772 -0.721; H 1.535 0.886 -0.721; H -1.535 0.886 -0.721\", \"6-31G\")"
   ]
  },
  {
   "cell_type": "code",
   "execution_count": 29,
   "id": "e66c1f9c",
   "metadata": {},
   "outputs": [
    {
     "name": "stdout",
     "output_type": "stream",
     "text": [
      "217 ms ± 1.08 ms per loop (mean ± std. dev. of 7 runs, 1 loop each)\n"
     ]
    }
   ],
   "source": [
    "%timeit PySCF_KS_PBE(\"N 0.0 0.0 0.0; H 0.0 -1.772 -0.721; H 1.535 0.886 -0.721; H -1.535 0.886 -0.721\", \"6-31G\")"
   ]
  },
  {
   "cell_type": "markdown",
   "id": "3336cae2",
   "metadata": {},
   "source": [
    "Benzene at equlibrium point:"
   ]
  },
  {
   "cell_type": "code",
   "execution_count": 17,
   "id": "681e1c52",
   "metadata": {},
   "outputs": [],
   "source": [
    "benzene_coords = \"\"\"C        0.598362921      0.000000000     -4.742986733;\n",
    "                    C       -0.557705772     -0.354690359     -4.044822733;\n",
    "                    C        1.754431614      0.354690359     -4.044822733;\n",
    "                    H       -1.457130878     -0.630640582     -4.587995733;\n",
    "                    H        2.653856720      0.630640582     -4.587995733;\n",
    "                    C       -0.557705772     -0.354690359     -2.648492733;\n",
    "                    C        1.754431614      0.354690359     -2.648492733;\n",
    "                    H       -1.457130878     -0.630640582     -2.105319733;\n",
    "                    H        2.653856720      0.630640582     -2.105319733;\n",
    "                    C        0.598362921      0.000000000     -1.950328733;\n",
    "                    H        0.598362921      0.000000000     -0.863981733;\n",
    "                    H        0.598362921      0.000000000     -5.829333733\"\"\""
   ]
  },
  {
   "cell_type": "code",
   "execution_count": 18,
   "id": "baf39742",
   "metadata": {},
   "outputs": [
    {
     "name": "stdout",
     "output_type": "stream",
     "text": [
      "CCSD(T):  -217.07797043617236\n",
      "The 6-31G basis for atomz 6 does not exist, but we will download it\n",
      "Downloaded to /home/rolan/miniconda3/envs/noa/lib/python3.9/site-packages/dqc/api/.database/6-31g/06.gaussian94\n",
      "HF, DQC:  tensor(-216.7411, dtype=torch.float64)\n",
      "HF, PySCF:  -216.74175971296125\n",
      "PBE, DQC:  tensor(-179.7154, dtype=torch.float64)\n",
      "PBE, PySCF:  -218.09557954669657\n"
     ]
    }
   ],
   "source": [
    "accuracy_comparison(benzene_coords, \"6-31G\")"
   ]
  },
  {
   "cell_type": "code",
   "execution_count": 19,
   "id": "4033c74c",
   "metadata": {},
   "outputs": [
    {
     "name": "stdout",
     "output_type": "stream",
     "text": [
      "971 ms ± 12.5 ms per loop (mean ± std. dev. of 7 runs, 1 loop each)\n"
     ]
    }
   ],
   "source": [
    "%timeit DQC_HF(benzene_coords, \"6-31G\")"
   ]
  },
  {
   "cell_type": "code",
   "execution_count": 20,
   "id": "35d7360b",
   "metadata": {},
   "outputs": [
    {
     "name": "stdout",
     "output_type": "stream",
     "text": [
      "317 ms ± 7.12 ms per loop (mean ± std. dev. of 7 runs, 1 loop each)\n"
     ]
    }
   ],
   "source": [
    "%timeit PySCF_HF(benzene_coords, \"6-31G\")"
   ]
  },
  {
   "cell_type": "code",
   "execution_count": 30,
   "id": "448aa783",
   "metadata": {},
   "outputs": [
    {
     "name": "stdout",
     "output_type": "stream",
     "text": [
      "5.85 s ± 147 ms per loop (mean ± std. dev. of 7 runs, 1 loop each)\n"
     ]
    }
   ],
   "source": [
    "%timeit DQC_KS_PBE(benzene_coords, \"6-31G\")"
   ]
  },
  {
   "cell_type": "code",
   "execution_count": 31,
   "id": "e3afc9cd",
   "metadata": {},
   "outputs": [
    {
     "name": "stdout",
     "output_type": "stream",
     "text": [
      "2.23 s ± 32.6 ms per loop (mean ± std. dev. of 7 runs, 1 loop each)\n"
     ]
    }
   ],
   "source": [
    "%timeit PySCF_KS_PBE(benzene_coords, \"6-31G\")"
   ]
  },
  {
   "cell_type": "markdown",
   "id": "bc39a509",
   "metadata": {},
   "source": [
    "Naphtalene at equlibrium point:"
   ]
  },
  {
   "cell_type": "code",
   "execution_count": 21,
   "id": "8b9b87bf",
   "metadata": {},
   "outputs": [],
   "source": [
    "naphtalene_coords = \"\"\"H       -1.057571674      0.000000000     -4.361571149;\n",
    "                    C       -1.057571674      0.487597890     -3.390034963;\n",
    "                    C       -1.057571674      1.860916946     -3.299493774;\n",
    "                    C       -1.057571674      2.493399263     -2.031832408;\n",
    "                    C       -1.057571674      1.739878824     -0.880133713;\n",
    "                    C       -1.057571674      0.320033769     -0.937967730;\n",
    "                    C       -1.057571674     -0.320033769     -2.220831877;\n",
    "                    C       -1.057571674     -1.739878824     -2.278665893;\n",
    "                    C       -1.057571674     -2.493399263     -1.126967199;\n",
    "                    C       -1.057571674     -1.860916946      0.140694168;\n",
    "                    C       -1.057571674     -0.487597890      0.231235357;\n",
    "                    H       -1.057571674      2.466184811     -4.201283252;\n",
    "                    H       -1.057571674      3.577893185     -1.973126484;\n",
    "                    H       -1.057571674      2.222891720      0.093690092;\n",
    "                    H       -1.057571674      0.000000000      1.202771542;\n",
    "                    H       -1.057571674     -2.466184811      1.042483645;\n",
    "                    H       -1.057571674     -3.577893185     -1.185673122;\n",
    "                    H       -1.057571674     -2.222891720     -3.252489699\"\"\""
   ]
  },
  {
   "cell_type": "code",
   "execution_count": 22,
   "id": "c8e9a76f",
   "metadata": {},
   "outputs": [
    {
     "name": "stdout",
     "output_type": "stream",
     "text": [
      "CCSD(T):  -360.2427068139756\n",
      "HF, DQC:  tensor(-359.6521, dtype=torch.float64)\n",
      "HF, PySCF:  -359.6605290721104\n",
      "PBE, DQC:  tensor(-298.3350, dtype=torch.float64)\n",
      "PBE, PySCF:  -361.94173756372174\n"
     ]
    }
   ],
   "source": [
    "accuracy_comparison(naphtalene_coords, \"6-31G\")"
   ]
  },
  {
   "cell_type": "code",
   "execution_count": 83,
   "id": "5c9cb3b8",
   "metadata": {},
   "outputs": [
    {
     "name": "stdout",
     "output_type": "stream",
     "text": [
      "12.7 s ± 1.9 s per loop (mean ± std. dev. of 7 runs, 1 loop each)\n"
     ]
    }
   ],
   "source": [
    "%timeit DQC_HF(naphtalene_coords, \"6-31G\")"
   ]
  },
  {
   "cell_type": "code",
   "execution_count": 84,
   "id": "947a2a8f",
   "metadata": {},
   "outputs": [
    {
     "name": "stdout",
     "output_type": "stream",
     "text": [
      "4.31 s ± 1.18 s per loop (mean ± std. dev. of 7 runs, 1 loop each)\n"
     ]
    }
   ],
   "source": [
    "%timeit PySCF_HF(naphtalene_coords, \"6-31G\")"
   ]
  },
  {
   "cell_type": "code",
   "execution_count": 32,
   "id": "9781d20f",
   "metadata": {},
   "outputs": [
    {
     "name": "stdout",
     "output_type": "stream",
     "text": [
      "32.4 s ± 945 ms per loop (mean ± std. dev. of 7 runs, 1 loop each)\n"
     ]
    }
   ],
   "source": [
    "%timeit DQC_KS_PBE(naphtalene_coords, \"6-31G\")"
   ]
  },
  {
   "cell_type": "code",
   "execution_count": 33,
   "id": "205ddbda",
   "metadata": {},
   "outputs": [
    {
     "name": "stdout",
     "output_type": "stream",
     "text": [
      "17.2 s ± 4.29 s per loop (mean ± std. dev. of 7 runs, 1 loop each)\n"
     ]
    }
   ],
   "source": [
    "%timeit PySCF_KS_PBE(naphtalene_coords, \"6-31G\")"
   ]
  },
  {
   "cell_type": "markdown",
   "id": "b4699f9c",
   "metadata": {},
   "source": [
    "Anthracene at equlibrium point:"
   ]
  },
  {
   "cell_type": "code",
   "execution_count": 35,
   "id": "f7837bfd",
   "metadata": {},
   "outputs": [],
   "source": [
    "anthracene_coords = \"\"\"C        1.044178831     -0.528233237     -4.684523771;\n",
    "C        1.044178831     -0.552713285     -3.254782652;\n",
    "C        1.044178831     -1.749044624     -2.526815306;\n",
    "C        1.044178831      0.704131514     -2.541488804;\n",
    "C        1.044178831      0.692578077     -1.141127549;\n",
    "C        1.044178831     -0.503753261     -0.413160203;\n",
    "C        1.044178831     -1.760598060     -1.126454051;\n",
    "C        1.044178831      0.658108897     -5.368920348;\n",
    "C        1.044178831      1.919058175     -3.295618865;\n",
    "H        1.044178831      1.638563069     -0.604255156;\n",
    "C        1.044178831     -0.528233309      1.016580916;\n",
    "C        1.044178831     -2.975524721     -0.372323990;\n",
    "C        1.044178831     -2.954793300      0.997119891;\n",
    "C        1.044178831     -1.714574573      1.700977987;\n",
    "H        1.044178831      0.418178836      1.551045394;\n",
    "H        1.044178831     -3.919661467     -0.910797789;\n",
    "H        1.044178831     -3.885538136      1.556731594;\n",
    "H        1.044178831     -1.717772077      2.786998206;\n",
    "C        1.044178831      1.898326754     -4.665062745;\n",
    "H        1.044178831     -1.474645383     -5.218988249;\n",
    "H        1.044178831     -2.695029615     -3.063687699;\n",
    "H        1.044178831      0.661305531     -6.454941061;\n",
    "H        1.044178831      2.863194921     -2.757145066;\n",
    "H        1.044178831      2.829071589     -5.224674449\"\"\""
   ]
  }
 ],
 "metadata": {
  "kernelspec": {
   "display_name": "Python 3 (ipykernel)",
   "language": "python",
   "name": "python3"
  },
  "language_info": {
   "codemirror_mode": {
    "name": "ipython",
    "version": 3
   },
   "file_extension": ".py",
   "mimetype": "text/x-python",
   "name": "python",
   "nbconvert_exporter": "python",
   "pygments_lexer": "ipython3",
   "version": "3.9.12"
  }
 },
 "nbformat": 4,
 "nbformat_minor": 5
}
