{
 "cells": [
  {
   "cell_type": "code",
   "execution_count": 1,
   "id": "43262570",
   "metadata": {},
   "outputs": [],
   "source": [
    "import torch\n",
    "import dqc\n",
    "import time\n",
    "import pyscf\n",
    "from pyscf import gto, dft, cc\n",
    "import numpy as np \n",
    "import numba as nb"
   ]
  },
  {
   "cell_type": "code",
   "execution_count": null,
   "id": "d6e29ec0",
   "metadata": {},
   "outputs": [],
   "source": [
    "def DQC_HF(system, basis):\n",
    "    atomzs, atomposs = dqc.parse_moldesc(system)\n",
    "    atomposs\n",
    "    mol = dqc.Mol((atomzs, atomposs), basis=basis)\n",
    "    qc = dqc.HF(mol).run()\n",
    "    ene = qc.energy()  # calculate the energy\n",
    "    \n",
    "    return ene"
   ]
  },
  {
   "cell_type": "code",
   "execution_count": null,
   "id": "07b6c3c0",
   "metadata": {},
   "outputs": [],
   "source": [
    "def PySCF_HF(system, basis):\n",
    "    mol = gto.M(atom = system, basis = basis, unit=\"Bohr\", verbose=0) # NB: PySCF uses Angstrom by default\n",
    "    hf = scf.HF(mol)\n",
    "    ene = hf.kernel(verbose=0)\n",
    "    return ene"
   ]
  },
  {
   "cell_type": "code",
   "execution_count": null,
   "id": "627fa51c",
   "metadata": {},
   "outputs": [],
   "source": [
    "def DQC_KS_PBE(system, basis):\n",
    "    atomzs, atomposs = dqc.parse_moldesc(system)\n",
    "    atomposs\n",
    "    mol = dqc.Mol((atomzs, atomposs), basis=basis)\n",
    "    qc = dqc.KS(mol, xc=\"gga_c_pbe\").run()\n",
    "    ene = qc.energy() # calculate the energy\n",
    "    return ene"
   ]
  },
  {
   "cell_type": "code",
   "execution_count": null,
   "id": "aa4ca180",
   "metadata": {},
   "outputs": [],
   "source": [
    "def PySCF_KS_PBE(system, basis):\n",
    "    mol = gto.M(atom = system, basis = basis, unit=\"Bohr\", verbose=0) # NB: PySCF uses Angstrom by default\n",
    "    ks = dft.RKS(mol)\n",
    "    ks.xc = \"pbe\"\n",
    "    ene = ks.kernel()\n",
    "    return ene"
   ]
  },
  {
   "cell_type": "code",
   "execution_count": null,
   "id": "301a5430",
   "metadata": {},
   "outputs": [],
   "source": [
    "def PySCF_CCSDT(system, basis):\n",
    "    mol = gto.M(atom = system, basis = basis, unit=\"Bohr\", verbose=0) # NB: PySCF uses Angstrom by default\n",
    "    hf = scf.HF(mol).run()\n",
    "    cc_ = cc.CCSD(hf)\n",
    "    ene = cc_.kernel()\n",
    "    et = cc_cc.ccsd_t()\n",
    "    return cc_.e_tot + et"
   ]
  },
  {
   "cell_type": "code",
   "execution_count": null,
   "id": "34b4d0c5",
   "metadata": {},
   "outputs": [],
   "source": [
    "def print_timer(t):\n",
    "    print(f' took {round(time.time() - t, 3)} s.')"
   ]
  },
  {
   "cell_type": "code",
   "execution_count": null,
   "id": "03cf7af9",
   "metadata": {},
   "outputs": [],
   "source": [
    "def accuracy_comparison(system, basis):\n",
    "    t = time.time()\n",
    "    print(\"HF, DQC: \", DQC_HF(system, basis))\n",
    "    print_timer(t)\n",
    "    t = time.time()\n",
    "    print(\"HF, PySCF: \", PySCF_HF(system, basis))\n",
    "    print_timer(t)\n",
    "    t = time.time()\n",
    "    print(\"PBE, DQC: \", DQC_KS_PBE(system, basis))\n",
    "    print_timer(t)\n",
    "    t = time.time()\n",
    "    print(\"PBE, PySCF: \", PySCF_KS_PBE(system, basis))\n",
    "    print_timer(t)\n",
    "    t = time.time()\n",
    "    print(\"CCSD(T): \", PySCF_CCSDT(system, basis))\n",
    "    print_timer(t)"
   ]
  },
  {
   "cell_type": "markdown",
   "id": "66d9135a",
   "metadata": {},
   "source": [
    "Hydrogen at equlibrium point:"
   ]
  },
  {
   "cell_type": "code",
   "execution_count": null,
   "id": "b486031b",
   "metadata": {},
   "outputs": [],
   "source": [
    "accuracy_comparison(\"H 0 0 0; H 1.4 0 0\", \"6-31G\")"
   ]
  },
  {
   "cell_type": "code",
   "execution_count": null,
   "id": "531f298c",
   "metadata": {},
   "outputs": [],
   "source": [
    "%timeit DQC_HF(\"H 0 0 0; H 1.4 0 0\", \"6-31G\")"
   ]
  },
  {
   "cell_type": "code",
   "execution_count": null,
   "id": "492a3fbe",
   "metadata": {},
   "outputs": [],
   "source": [
    "%timeit PySCF_HF(\"H 0 0 0; H 1.4 0 0\", \"6-31G\")"
   ]
  },
  {
   "cell_type": "code",
   "execution_count": null,
   "id": "e4131856",
   "metadata": {},
   "outputs": [],
   "source": [
    "%timeit DQC_KS_PBE(\"H 0 0 0; H 1.4 0 0\", \"6-31G\")"
   ]
  },
  {
   "cell_type": "code",
   "execution_count": null,
   "id": "d7aadec9",
   "metadata": {},
   "outputs": [],
   "source": [
    "%timeit PySCF_KS_PBE(\"H 0 0 0; H 1.4 0 0\", \"6-31G\")"
   ]
  },
  {
   "cell_type": "markdown",
   "id": "a65dd5bb",
   "metadata": {},
   "source": [
    "Nitrogen at equlibrium point:"
   ]
  },
  {
   "cell_type": "code",
   "execution_count": null,
   "id": "80a913df",
   "metadata": {},
   "outputs": [],
   "source": [
    "accuracy_comparison(\"N 0 0 0; N 2.07 0 0\", \"6-31G\")"
   ]
  },
  {
   "cell_type": "code",
   "execution_count": null,
   "id": "323dc3db",
   "metadata": {},
   "outputs": [],
   "source": [
    "%timeit DQC_HF(\"N 0 0 0; N 2.07 0 0\", \"6-31G\")"
   ]
  },
  {
   "cell_type": "code",
   "execution_count": null,
   "id": "5c31770d",
   "metadata": {},
   "outputs": [],
   "source": [
    "%timeit PySCF_HF(\"N 0 0 0; N 2.07 0 0\", \"6-31G\")"
   ]
  },
  {
   "cell_type": "code",
   "execution_count": null,
   "id": "6a063fbf",
   "metadata": {},
   "outputs": [],
   "source": [
    "%timeit DQC_KS_PBE(\"N 0 0 0; N 2.07 0 0\", \"6-31G\")"
   ]
  },
  {
   "cell_type": "code",
   "execution_count": null,
   "id": "0c43ae1f",
   "metadata": {},
   "outputs": [],
   "source": [
    "%timeit PySCF_KS_PBE(\"N 0 0 0; N 2.07 0 0\", \"6-31G\")"
   ]
  },
  {
   "cell_type": "markdown",
   "id": "0f92ebcb",
   "metadata": {},
   "source": [
    "Ammonia at equlibrium point:"
   ]
  },
  {
   "cell_type": "code",
   "execution_count": null,
   "id": "95cd33c4",
   "metadata": {},
   "outputs": [],
   "source": [
    "accuracy_comparison(\"N 0.0 0.0 0.0; H 0.0 -1.772 -0.721; H 1.535 0.886 -0.721; H -1.535 0.886 -0.721\", \"6-31G\")"
   ]
  },
  {
   "cell_type": "code",
   "execution_count": null,
   "id": "6fc32a39",
   "metadata": {},
   "outputs": [],
   "source": [
    "%timeit DQC_HF(\"N 0.0 0.0 0.0; H 0.0 -1.772 -0.721; H 1.535 0.886 -0.721; H -1.535 0.886 -0.721\", \"6-31G\")"
   ]
  },
  {
   "cell_type": "code",
   "execution_count": null,
   "id": "5620ad20",
   "metadata": {},
   "outputs": [],
   "source": [
    "%timeit PySCF_HF(\"N 0.0 0.0 0.0; H 0.0 -1.772 -0.721; H 1.535 0.886 -0.721; H -1.535 0.886 -0.721\", \"6-31G\")"
   ]
  },
  {
   "cell_type": "code",
   "execution_count": null,
   "id": "be04a77c",
   "metadata": {},
   "outputs": [],
   "source": [
    "%timeit DQC_KS_PBE(\"N 0.0 0.0 0.0; H 0.0 -1.772 -0.721; H 1.535 0.886 -0.721; H -1.535 0.886 -0.721\", \"6-31G\")"
   ]
  },
  {
   "cell_type": "code",
   "execution_count": null,
   "id": "52d505b7",
   "metadata": {},
   "outputs": [],
   "source": [
    "%timeit PySCF_KS_PBE(\"N 0.0 0.0 0.0; H 0.0 -1.772 -0.721; H 1.535 0.886 -0.721; H -1.535 0.886 -0.721\", \"6-31G\")"
   ]
  },
  {
   "cell_type": "markdown",
   "id": "3336cae2",
   "metadata": {},
   "source": [
    "Benzene at equlibrium point:"
   ]
  },
  {
   "cell_type": "code",
   "execution_count": null,
   "id": "681e1c52",
   "metadata": {},
   "outputs": [],
   "source": [
    "benzene_coords = \"\"\"C        0.598362921      0.000000000     -4.742986733;\n",
    "                    C       -0.557705772     -0.354690359     -4.044822733;\n",
    "                    C        1.754431614      0.354690359     -4.044822733;\n",
    "                    H       -1.457130878     -0.630640582     -4.587995733;\n",
    "                    H        2.653856720      0.630640582     -4.587995733;\n",
    "                    C       -0.557705772     -0.354690359     -2.648492733;\n",
    "                    C        1.754431614      0.354690359     -2.648492733;\n",
    "                    H       -1.457130878     -0.630640582     -2.105319733;\n",
    "                    H        2.653856720      0.630640582     -2.105319733;\n",
    "                    C        0.598362921      0.000000000     -1.950328733;\n",
    "                    H        0.598362921      0.000000000     -0.863981733;\n",
    "                    H        0.598362921      0.000000000     -5.829333733\"\"\""
   ]
  },
  {
   "cell_type": "code",
   "execution_count": null,
   "id": "baf39742",
   "metadata": {},
   "outputs": [],
   "source": [
    "accuracy_comparison(benzene_coords, \"6-31G\")"
   ]
  },
  {
   "cell_type": "code",
   "execution_count": null,
   "id": "4033c74c",
   "metadata": {},
   "outputs": [],
   "source": [
    "%timeit DQC_HF(benzene_coords, \"6-31G\")"
   ]
  },
  {
   "cell_type": "code",
   "execution_count": null,
   "id": "35d7360b",
   "metadata": {},
   "outputs": [],
   "source": [
    "%timeit PySCF_HF(benzene_coords, \"6-31G\")"
   ]
  },
  {
   "cell_type": "code",
   "execution_count": null,
   "id": "ebcca695",
   "metadata": {},
   "outputs": [],
   "source": [
    "%timeit DQC_KS_PBE(benzene_coords, \"6-31G\")"
   ]
  },
  {
   "cell_type": "code",
   "execution_count": null,
   "id": "5a124d47",
   "metadata": {},
   "outputs": [],
   "source": [
    "%timeit PySCF_KS_PBE(benzene_coords, \"6-31G\")"
   ]
  },
  {
   "cell_type": "markdown",
   "id": "bc39a509",
   "metadata": {},
   "source": [
    "Naphtalene at equlibrium point:"
   ]
  },
  {
   "cell_type": "code",
   "execution_count": null,
   "id": "8b9b87bf",
   "metadata": {},
   "outputs": [],
   "source": [
    "naphtalene_coords = \"\"\"H       -1.057571674      0.000000000     -4.361571149;\n",
    "                    C       -1.057571674      0.487597890     -3.390034963;\n",
    "                    C       -1.057571674      1.860916946     -3.299493774;\n",
    "                    C       -1.057571674      2.493399263     -2.031832408;\n",
    "                    C       -1.057571674      1.739878824     -0.880133713;\n",
    "                    C       -1.057571674      0.320033769     -0.937967730;\n",
    "                    C       -1.057571674     -0.320033769     -2.220831877;\n",
    "                    C       -1.057571674     -1.739878824     -2.278665893;\n",
    "                    C       -1.057571674     -2.493399263     -1.126967199;\n",
    "                    C       -1.057571674     -1.860916946      0.140694168;\n",
    "                    C       -1.057571674     -0.487597890      0.231235357;\n",
    "                    H       -1.057571674      2.466184811     -4.201283252;\n",
    "                    H       -1.057571674      3.577893185     -1.973126484;\n",
    "                    H       -1.057571674      2.222891720      0.093690092;\n",
    "                    H       -1.057571674      0.000000000      1.202771542;\n",
    "                    H       -1.057571674     -2.466184811      1.042483645;\n",
    "                    H       -1.057571674     -3.577893185     -1.185673122;\n",
    "                    H       -1.057571674     -2.222891720     -3.252489699\"\"\""
   ]
  },
  {
   "cell_type": "code",
   "execution_count": null,
   "id": "c8e9a76f",
   "metadata": {},
   "outputs": [],
   "source": [
    "accuracy_comparison(naphtalene_coords, \"6-31G\")"
   ]
  },
  {
   "cell_type": "code",
   "execution_count": null,
   "id": "5c9cb3b8",
   "metadata": {},
   "outputs": [],
   "source": [
    "%timeit DQC_HF(naphtalene_coords, \"6-31G\")"
   ]
  },
  {
   "cell_type": "code",
   "execution_count": null,
   "id": "947a2a8f",
   "metadata": {},
   "outputs": [],
   "source": [
    "%timeit PySCF_HF(naphtalene_coords, \"6-31G\")"
   ]
  },
  {
   "cell_type": "code",
   "execution_count": null,
   "id": "aabadfe4",
   "metadata": {},
   "outputs": [],
   "source": [
    "%timeit DQC_KS_PBE(naphtalene_coords, \"6-31G\")"
   ]
  },
  {
   "cell_type": "code",
   "execution_count": null,
   "id": "b40f32cc",
   "metadata": {},
   "outputs": [],
   "source": [
    "%timeit PySCF_KS_PBE(naphtalene_coords, \"6-31G\")"
   ]
  },
  {
   "cell_type": "markdown",
   "id": "b4699f9c",
   "metadata": {},
   "source": [
    "Anthracene at equlibrium point:"
   ]
  },
  {
   "cell_type": "code",
   "execution_count": null,
   "id": "f7837bfd",
   "metadata": {},
   "outputs": [],
   "source": [
    "anthracene_coords = \"\"\"C        1.044178831     -0.528233237     -4.684523771;\n",
    "C        1.044178831     -0.552713285     -3.254782652;\n",
    "C        1.044178831     -1.749044624     -2.526815306;\n",
    "C        1.044178831      0.704131514     -2.541488804;\n",
    "C        1.044178831      0.692578077     -1.141127549;\n",
    "C        1.044178831     -0.503753261     -0.413160203;\n",
    "C        1.044178831     -1.760598060     -1.126454051;\n",
    "C        1.044178831      0.658108897     -5.368920348;\n",
    "C        1.044178831      1.919058175     -3.295618865;\n",
    "H        1.044178831      1.638563069     -0.604255156;\n",
    "C        1.044178831     -0.528233309      1.016580916;\n",
    "C        1.044178831     -2.975524721     -0.372323990;\n",
    "C        1.044178831     -2.954793300      0.997119891;\n",
    "C        1.044178831     -1.714574573      1.700977987;\n",
    "H        1.044178831      0.418178836      1.551045394;\n",
    "H        1.044178831     -3.919661467     -0.910797789;\n",
    "H        1.044178831     -3.885538136      1.556731594;\n",
    "H        1.044178831     -1.717772077      2.786998206;\n",
    "C        1.044178831      1.898326754     -4.665062745;\n",
    "H        1.044178831     -1.474645383     -5.218988249;\n",
    "H        1.044178831     -2.695029615     -3.063687699;\n",
    "H        1.044178831      0.661305531     -6.454941061;\n",
    "H        1.044178831      2.863194921     -2.757145066;\n",
    "H        1.044178831      2.829071589     -5.224674449\"\"\""
   ]
  },
  {
   "cell_type": "code",
   "execution_count": null,
   "id": "f4951cdc",
   "metadata": {},
   "outputs": [],
   "source": [
    "t = time.time()\n",
    "print(\"HF, DQC: \", DQC_HF(anthracene_coords, \"6-31G\"))\n",
    "print_timer(t)"
   ]
  },
  {
   "cell_type": "code",
   "execution_count": null,
   "id": "df94bd02",
   "metadata": {},
   "outputs": [],
   "source": [
    "t = time.time()\n",
    "print(\"HF, PySCF: \", PySCF_HF(anthracene_coords, \"6-31G\"))\n",
    "print_timer(t)"
   ]
  },
  {
   "cell_type": "code",
   "execution_count": null,
   "id": "c20a944d",
   "metadata": {},
   "outputs": [],
   "source": [
    "t = time.time()\n",
    "print(\"PBE, PySCF: \", PySCF_KS_PBE(anthracene_coords, \"6-31G\"))\n",
    "print_timer(t)"
   ]
  },
  {
   "cell_type": "code",
   "execution_count": null,
   "id": "f0a5b59a",
   "metadata": {},
   "outputs": [],
   "source": [
    "t = time.time()\n",
    "print(\"PBE, DQC: \", DQC_KS_PBE(anthracene_coords, \"6-31G\"))\n",
    "print_timer(t)"
   ]
  },
  {
   "cell_type": "code",
   "execution_count": null,
   "id": "939e85be",
   "metadata": {},
   "outputs": [],
   "source": [
    "t = time.time()\n",
    "print(\"CCSD(T): \", PySCF_CCSDT(anthracene_coords, \"6-31G\"))\n",
    "print_timer(t)"
   ]
  },
  {
   "cell_type": "markdown",
   "id": "a0c5d54f",
   "metadata": {},
   "source": [
    "Trying to set up HEG LDA functional:"
   ]
  },
  {
   "cell_type": "code",
   "execution_count": 2,
   "id": "a76ad117",
   "metadata": {},
   "outputs": [],
   "source": [
    "from math import pi\n",
    "\n",
    "\n",
    "factor = -3.0/4.0 * (3.0 / pi)**(1.0/3.0)\n",
    "power = 4.0/3.0\n",
    "conversion_factor = (1.8897259885789)**(3 * power - 3)"
   ]
  },
  {
   "cell_type": "code",
   "execution_count": 3,
   "id": "476a82c1",
   "metadata": {},
   "outputs": [],
   "source": [
    "water = \"\"\"\n",
    "O        0.000000000      0.000000000      0.000000000;\n",
    "H        0.000000000      1.434938863      1.126357947;\n",
    "H        0.000000000     -1.434938863      1.126357947\n",
    "\"\"\""
   ]
  },
  {
   "cell_type": "code",
   "execution_count": 5,
   "id": "1eafad72",
   "metadata": {},
   "outputs": [],
   "source": [
    "class MyLDAX(dqc.xc.CustomXC):\n",
    "    def __init__(self, a, p):\n",
    "        super().__init__()\n",
    "        self.a = a\n",
    "        self.p = p\n",
    "\n",
    "    @property\n",
    "    def family(self):\n",
    "        # 1 for LDA, 2 for GGA, 4 for MGGA\n",
    "        return 1\n",
    "\n",
    "    def get_edensityxc(self, densinfo):\n",
    "        # densinfo has up and down components\n",
    "        if isinstance(densinfo, dqc.utils.SpinParam):\n",
    "            # spin-scaling of the exchange energy\n",
    "            return 0.5 * (self.get_edensityxc(densinfo.u * 2) \n",
    "                          + self.get_edensityxc(densinfo.d * 2))\n",
    "        else:\n",
    "            rho = densinfo.value.abs() + 1e-15  # safeguarding from nan\n",
    "            return self.a * rho ** self.p\n",
    "a = torch.nn.Parameter(torch.tensor(factor, dtype=torch.double))\n",
    "p = torch.nn.Parameter(torch.tensor(power, dtype=torch.double))\n",
    "myxc = MyLDAX(a, p)"
   ]
  },
  {
   "cell_type": "code",
   "execution_count": null,
   "id": "44435aa2",
   "metadata": {},
   "outputs": [],
   "source": [
    "class CustomLDAX(dqc.xc.CustomXC):\n",
    "    def __init__(self, param):\n",
    "        super().__init__()\n",
    "        self.p = param\n",
    "\n",
    "    @property\n",
    "    def family(self):\n",
    "        # 1 for LDA, 2 for GGA, 4 for MGGA\n",
    "        return 1\n",
    "\n",
    "    def get_edensityxc(self, densinfo):\n",
    "        # densinfo has up and down components\n",
    "        if isinstance(densinfo, dqc.utils.SpinParam):\n",
    "            # spin-scaling of the exchange energy\n",
    "            return 0.5 * (self.get_edensityxc(densinfo.u * 2) \n",
    "                          + self.get_edensityxc(densinfo.d * 2))\n",
    "        else:\n",
    "            rho = densinfo.value.abs() + 1e-15  # safeguarding from nan\n",
    "            return self.p[0] * rho ** self.p[1]\n",
    "param = torch.tensor([1.0,2.0], dtype=torch.double)\n",
    "#torch.nn.Parameter(torch.tensor([1.0,2.0], dtype=torch.double))\n",
    "lda_xc = CustomLDAX(param)"
   ]
  },
  {
   "cell_type": "code",
   "execution_count": 6,
   "id": "563d34eb",
   "metadata": {},
   "outputs": [],
   "source": [
    "def dqc_compute(system, basis=\"6-31G\", xc=myxc):\n",
    "    mol = dqc.Mol(moldesc=system, basis=basis)\n",
    "    qc = dqc.KS(mol, xc=xc).run()\n",
    "    ene = qc.energy()\n",
    "    return ene"
   ]
  },
  {
   "cell_type": "code",
   "execution_count": null,
   "id": "41249e00",
   "metadata": {},
   "outputs": [],
   "source": [
    "en = dqc_compute(water)\n",
    "en"
   ]
  },
  {
   "cell_type": "code",
   "execution_count": null,
   "id": "0f0381d5",
   "metadata": {},
   "outputs": [],
   "source": [
    "ene = dqc_compute(water, xc = lda_xc)\n",
    "ene"
   ]
  },
  {
   "cell_type": "code",
   "execution_count": null,
   "id": "cac9ce33",
   "metadata": {},
   "outputs": [],
   "source": [
    "%timeit dqc_compute(benzene_coords, basis=\"6-31G\", xc=myxc)"
   ]
  },
  {
   "cell_type": "code",
   "execution_count": null,
   "id": "db56b2b9",
   "metadata": {},
   "outputs": [],
   "source": [
    "%timeit dqc_compute(benzene_coords, basis=\"6-31G\", xc=lda_xc)"
   ]
  },
  {
   "cell_type": "code",
   "execution_count": 7,
   "id": "b661047b",
   "metadata": {},
   "outputs": [],
   "source": [
    "def my_eval_xc(a,p):    \n",
    "    def eval_xc(xc_code, rho, spin=0, relativity=0, deriv=1, verbose=None):\n",
    "        exc = a * rho**p\n",
    "        vrho = a * p * rho**(p-1)\n",
    "        vgamma = None\n",
    "        vlapl = None\n",
    "        vtau = None\n",
    "        vxc = (vrho, vgamma, vlapl, vtau)\n",
    "        fxc = None  # 2nd order functional derivative\n",
    "        kxc = None  # 3rd order functional derivative\n",
    "        return exc, vxc, fxc, kxc\n",
    "    return eval_xc"
   ]
  },
  {
   "cell_type": "code",
   "execution_count": null,
   "id": "c00f6491",
   "metadata": {},
   "outputs": [],
   "source": [
    "with torch.inference_mode():\n",
    "    a = torch.rand(2).requires_grad_()\n",
    "    print(a*a)"
   ]
  },
  {
   "cell_type": "code",
   "execution_count": null,
   "id": "1f6809f1",
   "metadata": {},
   "outputs": [],
   "source": [
    "a = torch.rand(2).requires_grad_()\n",
    "print(a*a)"
   ]
  },
  {
   "cell_type": "code",
   "execution_count": null,
   "id": "12014af2",
   "metadata": {},
   "outputs": [],
   "source": [
    "@nb.njit\n",
    "def exc_jit(rho, a, p):\n",
    "    return a * rho**p\n",
    "\n",
    "@nb.njit\n",
    "def vrho_jit(rho, a, p):\n",
    "    return a * p * rho**(p-1)\n",
    "\n",
    "@nb.njit\n",
    "def eval_xc_jit(xc_code, rho, spin=0, relativity=0, deriv=1, verbose=None):\n",
    "    a = 1\n",
    "    p = 2\n",
    "    exc = exc_jit(rho, a, p)\n",
    "    vrho = vrho_jit(rho, a, p)\n",
    "    vgamma = None\n",
    "    vlapl = None\n",
    "    vtau = None\n",
    "    vxc = (vrho, vgamma, vlapl, vtau)\n",
    "    fxc = None  # 2nd order functional derivative\n",
    "    kxc = None  # 3rd order functional derivative\n",
    "    return exc, vxc, fxc, kxc"
   ]
  },
  {
   "cell_type": "code",
   "execution_count": 8,
   "id": "296ac82d",
   "metadata": {},
   "outputs": [],
   "source": [
    "def scf_compute(system, basis=\"6-31G\", xc = my_eval_xc(factor/conversion_factor,power), verbose=0):\n",
    "    scf_mol = pyscf.gto.M(atom = system, basis=basis, unit=\"Bohr\")\n",
    "    mf = pyscf.dft.RKS(scf_mol)\n",
    "    mf = mf.define_xc_(xc, 'LDA')\n",
    "    mf.verbose = verbose\n",
    "    return mf.kernel()"
   ]
  },
  {
   "cell_type": "code",
   "execution_count": null,
   "id": "7f81b77a",
   "metadata": {},
   "outputs": [],
   "source": [
    "scf_compute(benzene_coords, verbose=3)"
   ]
  },
  {
   "cell_type": "code",
   "execution_count": null,
   "id": "7749f1b4",
   "metadata": {},
   "outputs": [],
   "source": [
    "scf_compute(benzene_coords, xc=eval_xc_jit, verbose=3)"
   ]
  },
  {
   "cell_type": "code",
   "execution_count": 9,
   "id": "40dbb2f7",
   "metadata": {},
   "outputs": [
    {
     "name": "stdout",
     "output_type": "stream",
     "text": [
      "converged SCF energy = -194.443774776631\n"
     ]
    },
    {
     "data": {
      "text/plain": [
       "-194.44377477663124"
      ]
     },
     "execution_count": 9,
     "metadata": {},
     "output_type": "execute_result"
    }
   ],
   "source": [
    "scf_compute(water, verbose=3)"
   ]
  },
  {
   "cell_type": "code",
   "execution_count": 10,
   "id": "bbad815c",
   "metadata": {},
   "outputs": [
    {
     "data": {
      "text/plain": [
       "tensor(-75.1547, dtype=torch.float64, grad_fn=<AddBackward0>)"
      ]
     },
     "execution_count": 10,
     "metadata": {},
     "output_type": "execute_result"
    }
   ],
   "source": [
    "dqc_compute(water)"
   ]
  },
  {
   "cell_type": "code",
   "execution_count": null,
   "id": "890ff072",
   "metadata": {},
   "outputs": [],
   "source": [
    "%timeit scf_compute(benzene_coords)"
   ]
  },
  {
   "cell_type": "code",
   "execution_count": null,
   "id": "ac99f8de",
   "metadata": {},
   "outputs": [],
   "source": [
    "%timeit scf_compute(benzene_coords, xc=eval_xc_jit)"
   ]
  },
  {
   "cell_type": "code",
   "execution_count": null,
   "id": "92fbd988",
   "metadata": {},
   "outputs": [],
   "source": [
    "%timeit dqc_compute(benzene_coords)"
   ]
  },
  {
   "cell_type": "code",
   "execution_count": null,
   "id": "d3aa436f",
   "metadata": {},
   "outputs": [],
   "source": [
    "%timeit scf_compute(water)"
   ]
  },
  {
   "cell_type": "code",
   "execution_count": null,
   "id": "c806349f",
   "metadata": {},
   "outputs": [],
   "source": [
    "%timeit dqc_compute(water)"
   ]
  }
 ],
 "metadata": {
  "kernelspec": {
   "display_name": "Python 3 (ipykernel)",
   "language": "python",
   "name": "python3"
  },
  "language_info": {
   "codemirror_mode": {
    "name": "ipython",
    "version": 3
   },
   "file_extension": ".py",
   "mimetype": "text/x-python",
   "name": "python",
   "nbconvert_exporter": "python",
   "pygments_lexer": "ipython3",
   "version": "3.9.7"
  }
 },
 "nbformat": 4,
 "nbformat_minor": 5
}
