{
 "cells": [
  {
   "cell_type": "code",
   "execution_count": 1,
   "id": "2c9b7929",
   "metadata": {},
   "outputs": [],
   "source": [
    "from pyscf import gto, dft, scf"
   ]
  },
  {
   "cell_type": "code",
   "execution_count": 17,
   "id": "8d2e847d",
   "metadata": {},
   "outputs": [],
   "source": [
    "from PySCFAdapter import PySCFAdapter\n",
    "from DQCAdapter import DQCAdapter"
   ]
  },
  {
   "cell_type": "code",
   "execution_count": 3,
   "id": "842c452d",
   "metadata": {},
   "outputs": [],
   "source": [
    "water = \"\"\"\n",
    "O        0.000000000      0.000000000      0.000000000;\n",
    "H        0.000000000      1.434938863      1.126357947;\n",
    "H        0.000000000     -1.434938863      1.126357947\n",
    "\"\"\"\n",
    "\n",
    "h2_system = \"H 0 0 0; H 1.4 0 0\"\n",
    "\n",
    "n2_system = \"N 0 0 0; N 2.07 0 0\"\n",
    "\n",
    "ammonia = \"\"\"\n",
    "N  0.000  0.000  0.000; \n",
    "H  0.000 -1.772 -0.721; \n",
    "H  1.535  0.886 -0.721; \n",
    "H -1.535  0.886 -0.721\n",
    "\"\"\""
   ]
  },
  {
   "cell_type": "code",
   "execution_count": 4,
   "id": "4857a0e9",
   "metadata": {},
   "outputs": [],
   "source": [
    "from math import pi\n",
    "\n",
    "factor = -3.0/4.0 * (3.0 / pi)**(1.0/3.0)\n",
    "power = 4.0/3.0"
   ]
  },
  {
   "cell_type": "code",
   "execution_count": 13,
   "id": "21b01076",
   "metadata": {},
   "outputs": [],
   "source": [
    "import torch\n",
    "import dqc\n",
    "import dqc.xc\n",
    "import dqc.utils\n",
    "\n",
    "\n",
    "class MyLDAX(dqc.xc.CustomXC):\n",
    "    def __init__(self, a_par, p_par):\n",
    "        super().__init__()\n",
    "        self.a_par = a_par\n",
    "        self.p_par = p_par\n",
    "        self.number_of_parameters = 2\n",
    "\n",
    "    @property\n",
    "    def family(self):\n",
    "        # 1 for LDA, 2 for GGA, 4 for MGGA\n",
    "        return 1\n",
    "\n",
    "    def get_edensityxc(self, densinfo):\n",
    "        # densinfo has up and down components\n",
    "        if isinstance(densinfo, dqc.utils.SpinParam):\n",
    "            # spin-scaling of the exchange energy\n",
    "            return 0.5 * (self.get_edensityxc(densinfo.u * 2) + self.get_edensityxc(densinfo.d * 2))\n",
    "        else:\n",
    "            rho = densinfo.value.abs() + 1e-15  # safeguarding from nan\n",
    "            return self.a_par * rho ** self.p_par\n",
    "        \n",
    "    def get_edensityxc_derivative(self, densinfo, number_of_parameter):\n",
    "        # densinfo has up and down components\n",
    "        if isinstance(densinfo, dqc.utils.SpinParam):\n",
    "            # spin-scaling of the exchange energy\n",
    "            return 0.5 * (self.get_edensityxc_derivative(densinfo.u * 2, number_of_parameter) \n",
    "                          + self.get_edensityxc_derivative(densinfo.d * 2, number_of_parameter))\n",
    "        else:\n",
    "            rho = densinfo.value.abs() + 1e-15  # safeguarding from nan\n",
    "            if number_of_parameter == 0: # parameter a\n",
    "                return rho ** self.p_par\n",
    "            elif number_of_parameter == 1: # parameter p\n",
    "                return self.a_par * torch.log(rho) * rho ** self.p_par\n",
    "            \n",
    "a_par = torch.nn.Parameter(torch.tensor(factor, dtype=torch.double))\n",
    "p_par = torch.nn.Parameter(torch.tensor(power, dtype=torch.double))\n",
    "myxc = MyLDAX(a_par, p_par)"
   ]
  },
  {
   "cell_type": "code",
   "execution_count": 18,
   "id": "1e1950c4",
   "metadata": {},
   "outputs": [
    {
     "name": "stdout",
     "output_type": "stream",
     "text": [
      "density info torch.Size([33420])\n",
      "started the four term integral computation for torch.Size([33420, 4])...\n",
      "g_p: tensor([0.7484, 1.4715], dtype=torch.float64)\n",
      "g_x^t norm: 1.386610552568249\n",
      "lambda norm: 1.3128781020836782\n",
      "f_p norm: 1.43435492572186\n",
      "lambda_t * f_p: tensor([ 1.5958e-16, -4.1825e-17], dtype=torch.float64)\n",
      "f_x^-t norm: 9.160860424774633\n",
      "f_x^-1 * f_p norm: 0.8323438554981616\n",
      "g_x^t * f_x^-1 * f_p: tensor([ 1.6404e-16, -4.1557e-17], dtype=torch.float64)\n"
     ]
    }
   ],
   "source": [
    "mol_dqc = dqc.Mol(moldesc=h2_system, basis=\"6-31G\")\n",
    "qc_dqc = dqc.KS(mol_dqc, xc=myxc).run()\n",
    "ene = qc_dqc.energy()\n",
    "dqc_adapter = DQCAdapter(qc_dqc)"
   ]
  },
  {
   "cell_type": "code",
   "execution_count": 19,
   "id": "f501e1d7",
   "metadata": {},
   "outputs": [
    {
     "name": "stdout",
     "output_type": "stream",
     "text": [
      "Modified overlap:\n",
      " tensor([[ 1.0000e+00,  1.2075e-15,  1.1112e-16,  6.6457e-16],\n",
      "        [ 1.0546e-15,  1.0000e+00, -1.9159e-16,  1.2880e-16],\n",
      "        [ 5.1892e-16, -1.6251e-16,  1.0000e+00,  2.1072e-16],\n",
      "        [ 9.1132e-16,  2.1353e-16,  2.5082e-16,  1.0000e+00]],\n",
      "       dtype=torch.float64)\n",
      "Modified Fockian:\n",
      " tensor([[ 6.8396e-01,  5.6922e-16, -5.0047e-01,  3.8433e-16],\n",
      "        [ 6.7048e-16,  5.9425e-01,  8.4385e-17,  5.3440e-02],\n",
      "        [-5.0047e-01,  2.4980e-16,  5.5621e-01, -1.1752e-16],\n",
      "        [ 2.3624e-16,  5.3440e-02, -1.7168e-16, -3.2512e-01]],\n",
      "       dtype=torch.float64)\n",
      "Orbital energies tensor([-0.3282], dtype=torch.float64)\n",
      "Modified orbital coefficients:\n",
      " tensor([[-7.0637e-16],\n",
      "        [-5.7835e-02],\n",
      "        [-3.2083e-16],\n",
      "        [ 9.9833e-01]], dtype=torch.float64)\n",
      "Orbital occupancies tensor([2.], dtype=torch.float64)\n",
      "Number of occupied orbitals: 1\n",
      "Number of all orbitals: 4\n",
      "Number of DFT parameters: 2\n",
      "Derivative of exc with respect to parameters:\n",
      " tensor([0.7484, 1.4715], dtype=torch.float64)\n",
      "Derivative of vxc with respect to parameters:\n",
      " tensor([[[ 2.4555e-01,  6.0336e-01],\n",
      "         [ 3.4089e-16,  3.4474e-16],\n",
      "         [-1.4680e-01,  4.7776e-02],\n",
      "         [ 2.6616e-16,  5.3029e-16]],\n",
      "\n",
      "        [[ 3.4089e-16,  3.4474e-16],\n",
      "         [ 4.0906e-01,  6.1013e-01],\n",
      "         [ 1.8504e-16, -2.9435e-17],\n",
      "         [-2.0670e-01,  4.6776e-02]],\n",
      "\n",
      "        [[-1.4680e-01,  4.7776e-02],\n",
      "         [ 1.8504e-16, -2.9435e-17],\n",
      "         [ 5.7299e-01,  6.7762e-01],\n",
      "         [-1.6308e-16, -1.2129e-16]],\n",
      "\n",
      "        [[ 2.6616e-16,  5.3029e-16],\n",
      "         [-2.0670e-01,  4.6776e-02],\n",
      "         [-1.6308e-16, -1.2129e-16],\n",
      "         [ 4.7526e-01,  7.1041e-01]]], dtype=torch.float64)\n"
     ]
    }
   ],
   "source": [
    "print(\"Modified overlap:\\n\", dqc_adapter.get_overlap_matrix())\n",
    "print(\"Modified Fockian:\\n\", dqc_adapter.get_fockian())\n",
    "print(\"Orbital energies\", dqc_adapter.get_orbital_energies())\n",
    "print(\"Modified orbital coefficients:\\n\", dqc_adapter.get_orbital_coefficients())\n",
    "print(\"Orbital occupancies\", dqc_adapter.get_orbital_occupancy())\n",
    "print(\"Number of occupied orbitals:\", dqc_adapter.get_number_of_occupied_orbitals())\n",
    "print(\"Number of all orbitals:\", dqc_adapter.get_number_of_all_orbitals())\n",
    "print(\"Number of DFT parameters:\", dqc_adapter.get_number_of_parameters())\n",
    "print(\"Derivative of exc with respect to parameters:\\n\", dqc_adapter.get_derivative_of_exc_wrt_theta())\n",
    "print(\"Derivative of vxc with respect to parameters:\\n\", dqc_adapter.get_derivative_of_vxc_wrt_theta())"
   ]
  },
  {
   "cell_type": "code",
   "execution_count": 5,
   "id": "140358cd",
   "metadata": {},
   "outputs": [],
   "source": [
    "import numpy\n",
    "\n",
    "def custom_eval_xc(a, p):\n",
    "    def eval_xc(xc_code, rho, *args, **kwargs):\n",
    "        exc = a * rho ** (p - 1.0)\n",
    "        vrho = a * p * rho ** (p - 1.0)\n",
    "        vxc = (vrho, None, None, None)\n",
    "        fxc = a * p * (p - 1.0) * rho ** (p - 2.0)  # 2nd order functional derivative\n",
    "        kxc = None  # 3rd order functional derivative\n",
    "        return exc, vxc, fxc, kxc\n",
    "    def eval_xc_wrt_a(xc_code, rho, *args, **kwargs):\n",
    "        dexc_wrt_da = rho ** (p - 1.0)\n",
    "        dvrho_wrt_da = p * rho ** (p - 1.0)\n",
    "        dvxc_wrt_da = (dvrho_wrt_da, None, None, None)\n",
    "        return dexc_wrt_da, dvxc_wrt_da, None, None\n",
    "    def eval_xc_wrt_p(xc_code, rho, *args, **kwargs):\n",
    "        dexc_wrt_dp = a * numpy.log(rho) * rho ** (p - 1.0)\n",
    "        dvrho_wrt_dp = a * p * numpy.log(rho) * rho ** (p - 1.0)\n",
    "        dvxc_wrt_dp = (dvrho_wrt_dp, None, None, None)\n",
    "        return dexc_wrt_dp, dvxc_wrt_dp, None, None\n",
    "    eval_xc.number_of_parameters = 2\n",
    "    eval_xc.wrt = [eval_xc_wrt_a, eval_xc_wrt_p]\n",
    "    return eval_xc"
   ]
  },
  {
   "cell_type": "code",
   "execution_count": 6,
   "id": "2e70f43d",
   "metadata": {},
   "outputs": [
    {
     "name": "stdout",
     "output_type": "stream",
     "text": [
      "converged SCF energy = -1.03861778567388\n"
     ]
    }
   ],
   "source": [
    "mol = gto.M(atom = h2_system, basis=\"6-31G\", unit = 'Bohr')\n",
    "calc = dft.RKS(mol)\n",
    "calc = calc.define_xc_(custom_eval_xc(factor, power), 'LDA')\n",
    "ene = calc.kernel()"
   ]
  },
  {
   "cell_type": "code",
   "execution_count": 8,
   "id": "2318ad3a",
   "metadata": {},
   "outputs": [
    {
     "data": {
      "text/plain": [
       "(17308, 4)"
      ]
     },
     "execution_count": 8,
     "metadata": {},
     "output_type": "execute_result"
    }
   ],
   "source": [
    "qc = calc\n",
    "dm_in_nonorthogonal_basis = qc.make_rdm1()\n",
    "coords_of_grid = qc.grids.coords\n",
    "weights_of_grid = qc.grids.weights\n",
    "ao_value_on_grid = dft.numint.eval_ao(qc.mol, coords_of_grid, deriv=0)\n",
    "rho_on_grid = dft.numint.eval_rho(qc.mol, ao_value_on_grid, dm_in_nonorthogonal_basis, xctype='LDA')\n",
    "qc._numint.eval_xc('LDA', rho_on_grid)[1][0].shape\n",
    "ao_value_on_grid.shape"
   ]
  },
  {
   "cell_type": "code",
   "execution_count": 9,
   "id": "304903d3",
   "metadata": {},
   "outputs": [],
   "source": [
    "adapter = PySCFAdapter(calc)"
   ]
  },
  {
   "cell_type": "code",
   "execution_count": 10,
   "id": "52f01b3b",
   "metadata": {},
   "outputs": [
    {
     "name": "stdout",
     "output_type": "stream",
     "text": [
      "Initial overlap:\n",
      " [[1.         0.65829205 0.45453899 0.50876163]\n",
      " [0.65829205 1.         0.50876163 0.85380517]\n",
      " [0.45453899 0.50876163 1.         0.65829205]\n",
      " [0.50876163 0.85380517 0.65829205 1.        ]]\n",
      "Modified overlap:\n",
      " [[ 1.00000000e+00  2.82300720e-16  1.19720313e-15  6.81910665e-16]\n",
      " [-4.64167708e-15  1.00000000e+00 -3.41826478e-15 -2.59359187e-15]\n",
      " [-4.56201820e-16 -8.07188108e-16  1.00000000e+00 -4.14697636e-16]\n",
      " [ 4.79416190e-15  4.69297585e-15  2.88264341e-15  1.00000000e+00]]\n",
      "Initial Fockian:\n",
      " [[ 0.04765594 -0.30967894 -0.32883878 -0.29320283]\n",
      " [-0.30967894 -0.17082453 -0.29320283 -0.19135331]\n",
      " [-0.32883878 -0.29320283  0.04765594 -0.30967894]\n",
      " [-0.29320283 -0.19135331 -0.30967894 -0.17082453]]\n",
      "Modified Fockian:\n",
      " [[ 0.51419684 -0.4504878  -0.3548006  -0.0116299 ]\n",
      " [-0.4504878   0.24045611 -0.0116299  -0.13072311]\n",
      " [-0.3548006  -0.0116299   0.51419684 -0.4504878 ]\n",
      " [-0.0116299  -0.13072311 -0.4504878   0.24045611]]\n",
      "Orbital energies [-0.32821985  0.11555682  0.59734892  1.12461969]\n",
      "Initial orbital coefficients:\n",
      " [[ 0.31575288 -0.17716564  0.77130552 -1.11464629]\n",
      " [ 0.28184644 -1.64521511 -0.682328    1.43037596]\n",
      " [ 0.31575288  0.17716564  0.77130552  1.11464629]\n",
      " [ 0.28184644  1.64521511 -0.682328   -1.43037596]]\n",
      "Modified orbital coefficients:\n",
      " [[ 0.48640083 -0.35589781  0.51323896 -0.61101289]]\n",
      "Orbital occupancies [2. 0. 0. 0.]\n",
      "Number of occupied orbitals: 1\n",
      "Number of all orbitals: 4\n",
      "Number of DFT parameters: 2\n",
      "Derivative of exc with respect to parameters:\n",
      " [0.74835848 1.47153331]\n",
      "Derivative of vxc with respect to parameters:\n",
      " [[[ 0.63431875  0.02406849  0.00600442  0.04340933]\n",
      "  [ 0.02406849  0.21710992  0.04340933  0.02688285]\n",
      "  [ 0.00600442  0.04340933  0.63431875  0.02406849]\n",
      "  [ 0.04340933  0.02688285  0.02406849  0.21710992]]\n",
      "\n",
      " [[ 0.97500053  0.06434742 -0.01460601  0.01456397]\n",
      "  [ 0.06434742  0.79738427  0.01456397  0.05259475]\n",
      "  [-0.01460601  0.01456397  0.97500053  0.06434742]\n",
      "  [ 0.01456397  0.05259475  0.06434742  0.79738427]]]\n"
     ]
    }
   ],
   "source": [
    "print(\"Initial overlap:\\n\", calc.get_ovlp())\n",
    "print(\"Modified overlap:\\n\", adapter.get_overlap_matrix())\n",
    "print(\"Initial Fockian:\\n\", calc.get_fock())\n",
    "print(\"Modified Fockian:\\n\", adapter.get_fockian())\n",
    "print(\"Orbital energies\", adapter.get_orbital_energies())\n",
    "print(\"Initial orbital coefficients:\\n\", scf.hf.kernel(calc)[3])\n",
    "print(\"Modified orbital coefficients:\\n\", adapter.get_orbital_coefficients())\n",
    "print(\"Orbital occupancies\", adapter.get_orbital_occupancy())\n",
    "print(\"Number of occupied orbitals:\", adapter.get_number_of_occupied_orbitals())\n",
    "print(\"Number of all orbitals:\", adapter.get_number_of_all_orbitals())\n",
    "print(\"Number of DFT parameters:\", adapter.get_number_of_parameters())\n",
    "print(\"Derivative of exc with respect to parameters:\\n\", adapter.get_derivative_of_exc_wrt_theta())\n",
    "print(\"Derivative of vxc with respect to parameters:\\n\", adapter.get_derivative_of_vxc_wrt_theta())"
   ]
  },
  {
   "cell_type": "markdown",
   "id": "df13e5e9",
   "metadata": {},
   "source": [
    "$FC=SCE$\n",
    "\n",
    "$FS^{-\\frac{1}{2}}S^{\\frac{1}{2}}C=SCE$\n",
    "\n",
    "$FS^{-\\frac{1}{2}}S^{\\frac{1}{2}}C=S^{\\frac{1}{2}}S^{\\frac{1}{2}}CE$\n",
    "\n",
    "$\\hat{C} = S^{\\frac{1}{2}}C$\n",
    "\n",
    "$FS^{-\\frac{1}{2}}\\hat{C}=S^{\\frac{1}{2}}\\hat{C}E$\n",
    "\n",
    "$S^{-\\frac{1}{2}}FS^{-\\frac{1}{2}}\\hat{C}=\\hat{C}E$\n",
    "\n",
    "$S^{-\\frac{1}{2}}FS^{-\\frac{1}{2}} = \\hat{F}$\n",
    "\n",
    "$\\hat{F}\\hat{C}=\\hat{C}E$"
   ]
  },
  {
   "cell_type": "code",
   "execution_count": 11,
   "id": "b20f67f5",
   "metadata": {},
   "outputs": [
    {
     "name": "stdout",
     "output_type": "stream",
     "text": [
      "converged SCF energy = -1.13266912566127\n"
     ]
    },
    {
     "data": {
      "text/plain": [
       "array([[ 1.29356261, -0.50155666, -0.19466961,  0.07534272],\n",
       "       [-0.50155666,  1.99085479,  0.07534272, -1.03777583],\n",
       "       [-0.19466961,  0.07534272,  1.29356261, -0.50155666],\n",
       "       [ 0.07534272, -1.03777583, -0.50155666,  1.99085479]])"
      ]
     },
     "execution_count": 11,
     "metadata": {},
     "output_type": "execute_result"
    }
   ],
   "source": [
    "import scipy\n",
    "mol = gto.M(atom = h2_system, basis=\"6-31G\", unit = 'Bohr')\n",
    "calc = dft.RKS(mol)\n",
    "ene = calc.kernel()\n",
    "basis_set_orthogonalization_matrix = scipy.linalg.fractional_matrix_power(calc.get_ovlp(), -0.5)\n",
    "basis_set_orthogonalization_matrix"
   ]
  }
 ],
 "metadata": {
  "kernelspec": {
   "display_name": "Python 3 (ipykernel)",
   "language": "python",
   "name": "python3"
  },
  "language_info": {
   "codemirror_mode": {
    "name": "ipython",
    "version": 3
   },
   "file_extension": ".py",
   "mimetype": "text/x-python",
   "name": "python",
   "nbconvert_exporter": "python",
   "pygments_lexer": "ipython3",
   "version": "3.9.12"
  }
 },
 "nbformat": 4,
 "nbformat_minor": 5
}
