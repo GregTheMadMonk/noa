{
 "cells": [
  {
   "cell_type": "code",
   "execution_count": 1,
   "id": "2c9b7929",
   "metadata": {},
   "outputs": [],
   "source": [
    "from pyscf import gto, dft, scf"
   ]
  },
  {
   "cell_type": "code",
   "execution_count": 2,
   "id": "8d2e847d",
   "metadata": {},
   "outputs": [],
   "source": [
    "from PySCFAdapter import PySCFAdapter\n",
    "from DQCAdapter import DQCAdapter"
   ]
  },
  {
   "cell_type": "code",
   "execution_count": 3,
   "id": "842c452d",
   "metadata": {},
   "outputs": [],
   "source": [
    "water = \"\"\"\n",
    "O        0.000000000      0.000000000      0.000000000;\n",
    "H        0.000000000      1.434938863      1.126357947;\n",
    "H        0.000000000     -1.434938863      1.126357947\n",
    "\"\"\"\n",
    "\n",
    "h2_system = \"H 0 0 0; H 1.4 0 0\"\n",
    "\n",
    "n2_system = \"N 0 0 0; N 2.07 0 0\"\n",
    "\n",
    "ammonia = \"\"\"\n",
    "N  0.000  0.000  0.000; \n",
    "H  0.000 -1.772 -0.721; \n",
    "H  1.535  0.886 -0.721; \n",
    "H -1.535  0.886 -0.721\n",
    "\"\"\""
   ]
  },
  {
   "cell_type": "code",
   "execution_count": 4,
   "id": "4857a0e9",
   "metadata": {},
   "outputs": [],
   "source": [
    "from math import pi\n",
    "\n",
    "factor = -3.0/4.0 * (3.0 / pi)**(1.0/3.0)\n",
    "power = 4.0/3.0"
   ]
  },
  {
   "cell_type": "code",
   "execution_count": 5,
   "id": "21b01076",
   "metadata": {},
   "outputs": [],
   "source": [
    "import torch\n",
    "import dqc\n",
    "import dqc.xc\n",
    "import dqc.utils\n",
    "\n",
    "\n",
    "class MyLDAX(dqc.xc.CustomXC):\n",
    "    def __init__(self, a_par, p_par):\n",
    "        super().__init__()\n",
    "        self.a_par = a_par\n",
    "        self.p_par = p_par\n",
    "        self.number_of_parameters = 2\n",
    "\n",
    "    @property\n",
    "    def family(self):\n",
    "        # 1 for LDA, 2 for GGA, 4 for MGGA\n",
    "        return 1\n",
    "\n",
    "    def get_edensityxc(self, densinfo):\n",
    "        # densinfo has up and down components\n",
    "        if isinstance(densinfo, dqc.utils.SpinParam):\n",
    "            # spin-scaling of the exchange energy\n",
    "            return 0.5 * (self.get_edensityxc(densinfo.u * 2) + self.get_edensityxc(densinfo.d * 2))\n",
    "        else:\n",
    "            rho = densinfo.value.abs() + 1e-15  # safeguarding from nan\n",
    "            return self.a_par * rho ** self.p_par\n",
    "        \n",
    "    def get_edensityxc_derivative(self, densinfo, number_of_parameter):\n",
    "        # densinfo has up and down components\n",
    "        if isinstance(densinfo, dqc.utils.SpinParam):\n",
    "            # spin-scaling of the exchange energy\n",
    "            return 0.5 * (self.get_edensityxc_derivative(densinfo.u * 2, number_of_parameter) \n",
    "                          + self.get_edensityxc_derivative(densinfo.d * 2, number_of_parameter))\n",
    "        else:\n",
    "            rho = densinfo.value.abs() + 1e-15  # safeguarding from nan\n",
    "            if number_of_parameter == 0: # parameter a\n",
    "                return rho ** self.p_par\n",
    "            elif number_of_parameter == 1: # parameter p\n",
    "                return self.a_par * torch.log(rho) * rho ** self.p_par\n",
    "            \n",
    "a_par = torch.nn.Parameter(torch.tensor(factor, dtype=torch.double))\n",
    "p_par = torch.nn.Parameter(torch.tensor(power, dtype=torch.double))\n",
    "myxc = MyLDAX(a_par, p_par)"
   ]
  },
  {
   "cell_type": "code",
   "execution_count": 6,
   "id": "1e1950c4",
   "metadata": {},
   "outputs": [
    {
     "name": "stdout",
     "output_type": "stream",
     "text": [
      "density info torch.Size([52366])\n",
      "started the four term integral computation for torch.Size([52366, 13])...\n",
      "g_p: tensor([ 10.9490, -11.0801], dtype=torch.float64)\n",
      "g_x^t norm: 139.44220156340134\n",
      "lambda norm: 80.89165246224454\n",
      "f_p norm: 44.59154644003647\n",
      "lambda_t * f_p: tensor([-2.6071e-15,  9.0339e-15], dtype=torch.float64)\n",
      "f_x^-t norm: 1007.5233081497582\n",
      "f_x^-1 * f_p norm: 18.110984676464824\n",
      "g_x^t * f_x^-1 * f_p: tensor([-4.1455e-16, -3.3245e-15], dtype=torch.float64)\n"
     ]
    }
   ],
   "source": [
    "mol_dqc = dqc.Mol(moldesc=water, basis=\"6-31G\")\n",
    "qc_dqc = dqc.KS(mol_dqc, xc=myxc).run()\n",
    "ene = qc_dqc.energy()\n",
    "dqc_adapter = DQCAdapter(qc_dqc)"
   ]
  },
  {
   "cell_type": "code",
   "execution_count": 7,
   "id": "f501e1d7",
   "metadata": {},
   "outputs": [],
   "source": [
    "# print(\"Modified overlap:\\n\", dqc_adapter.get_overlap_matrix())\n",
    "# print(\"Modified Fockian:\\n\", dqc_adapter.get_fockian())\n",
    "# print(\"Orbital energies\", dqc_adapter.get_orbital_energies())\n",
    "# print(\"Modified orbital coefficients:\\n\", dqc_adapter.get_orbital_coefficients())\n",
    "# print(\"Orbital occupancies\", dqc_adapter.get_orbital_occupancy())\n",
    "# print(\"Number of occupied orbitals:\", dqc_adapter.get_number_of_occupied_orbitals())\n",
    "# print(\"Number of all orbitals:\", dqc_adapter.get_number_of_all_orbitals())\n",
    "# print(\"Number of DFT parameters:\", dqc_adapter.get_number_of_parameters())\n",
    "# print(\"Derivative of exc with respect to parameters:\\n\", dqc_adapter.get_derivative_of_exc_wrt_theta())\n",
    "# print(\"Derivative of vxc with respect to parameters:\\n\", dqc_adapter.get_derivative_of_vxc_wrt_theta())"
   ]
  },
  {
   "cell_type": "code",
   "execution_count": 8,
   "id": "140358cd",
   "metadata": {},
   "outputs": [],
   "source": [
    "import numpy\n",
    "\n",
    "def custom_eval_xc(a, p):\n",
    "    def eval_xc(xc_code, rho, *args, **kwargs):\n",
    "        exc = a * rho ** (p - 1.0)\n",
    "        vrho = a * p * rho ** (p - 1.0)\n",
    "        vxc = (vrho, None, None, None)\n",
    "        fxc = a * p * (p - 1.0) * rho ** (p - 2.0)  # 2nd order functional derivative\n",
    "        return exc, vxc, fxc, None\n",
    "    def eval_xc_wrt_a(xc_code, rho, *args, **kwargs):\n",
    "        dexc_wrt_da = rho ** (p - 1.0)\n",
    "        dvrho_wrt_da = p * rho ** (p - 1.0)\n",
    "        dvxc_wrt_da = (dvrho_wrt_da, None, None, None)\n",
    "        return dexc_wrt_da, dvxc_wrt_da, None, None\n",
    "    def eval_xc_wrt_p(xc_code, rho, *args, **kwargs):\n",
    "        dexc_wrt_dp = a * numpy.log(rho) * rho ** (p - 1.0)\n",
    "        dvrho_wrt_dp = a * p * numpy.log(rho) * rho ** (p - 1.0)\n",
    "        dvxc_wrt_dp = (dvrho_wrt_dp, None, None, None)\n",
    "        return dexc_wrt_dp, dvxc_wrt_dp, None, None\n",
    "    eval_xc.number_of_parameters = 2\n",
    "    eval_xc.wrt = [eval_xc_wrt_a, eval_xc_wrt_p]\n",
    "    return eval_xc"
   ]
  },
  {
   "cell_type": "code",
   "execution_count": 9,
   "id": "2e70f43d",
   "metadata": {},
   "outputs": [
    {
     "name": "stdout",
     "output_type": "stream",
     "text": [
      "converged SCF energy = -75.154705340357\n"
     ]
    }
   ],
   "source": [
    "mol = gto.M(atom = water, basis=\"6-31G\", unit = 'Bohr')\n",
    "calc = dft.RKS(mol)\n",
    "calc = calc.define_xc_(custom_eval_xc(factor, power), 'LDA')\n",
    "ene = calc.kernel()"
   ]
  },
  {
   "cell_type": "code",
   "execution_count": 10,
   "id": "304903d3",
   "metadata": {},
   "outputs": [
    {
     "name": "stdout",
     "output_type": "stream",
     "text": [
      "Shape of dE/depsilon tensor: (5,)\n",
      "Shape of elrep tensor: (13, 5, 13, 5)\n",
      "Shape of dvxc/drho tensor: (13, 5, 13, 5)\n",
      "Shape of fourDtensor: (13, 5, 13, 5)\n",
      "Shape of dE/dC: (5, 13)\n",
      "Shape of expand_dim'ed dE/depsilon: (5, 1)\n",
      "Shape of dRoothan/dC: (13, 5, 13, 5)\n",
      "Shape of dRoothan/depsilon: (13, 5, 5)\n",
      "g_p: [ 10.94899516 -11.08012795]\n",
      "g_x^t norm: 107.94364724360116\n",
      "lambda norm: 80.8915693478313\n",
      "f_p norm: 31.60508759656454\n",
      "lambda_t * f_p: [ 3.06893295e-06 -5.55802934e-07]\n",
      "f_x^-t norm: 3429.066014605868\n",
      "f_x^-1 * f_p norm: 565.2055150615222\n",
      "g_x^t * f_x^-1 * f_p: [ 3.06893295e-06 -5.55802938e-07]\n"
     ]
    }
   ],
   "source": [
    "adapter = PySCFAdapter(calc)"
   ]
  },
  {
   "cell_type": "code",
   "execution_count": 11,
   "id": "49fdbcfc",
   "metadata": {},
   "outputs": [],
   "source": [
    "elrep = mol.intor('int2e', aosym='s1')\n",
    "for i in range(adapter.get_number_of_all_orbitals()):\n",
    "    for j in range(adapter.get_number_of_all_orbitals()):\n",
    "        for k in range(adapter.get_number_of_all_orbitals()):\n",
    "            for l in range(adapter.get_number_of_all_orbitals()):\n",
    "                assert(abs(elrep[i,j,k,l] - elrep[j,i,l,k])<10**-9),(elrep[i,j,k,l],elrep[j,i,l,k])"
   ]
  },
  {
   "cell_type": "code",
   "execution_count": 12,
   "id": "52f01b3b",
   "metadata": {},
   "outputs": [],
   "source": [
    "# print(\"Initial overlap:\\n\", calc.get_ovlp())\n",
    "# print(\"Modified overlap:\\n\", adapter.get_overlap_matrix())\n",
    "# print(\"Initial Fockian:\\n\", calc.get_fock())\n",
    "# print(\"Modified Fockian:\\n\", adapter.get_fockian())\n",
    "# print(\"Orbital energies\", adapter.get_orbital_energies())\n",
    "# print(\"Initial orbital coefficients:\\n\", scf.hf.kernel(calc)[3])\n",
    "# print(\"Modified orbital coefficients:\\n\", adapter.get_orbital_coefficients())\n",
    "# print(\"Orbital occupancies\", adapter.get_orbital_occupancy())\n",
    "# print(\"Number of occupied orbitals:\", adapter.get_number_of_occupied_orbitals())\n",
    "# print(\"Number of all orbitals:\", adapter.get_number_of_all_orbitals())\n",
    "# print(\"Number of DFT parameters:\", adapter.get_number_of_parameters())\n",
    "# print(\"Derivative of exc with respect to parameters:\\n\", adapter.get_derivative_of_exc_wrt_theta())\n",
    "# print(\"Derivative of vxc with respect to parameters:\\n\", adapter.get_derivative_of_vxc_wrt_theta())"
   ]
  },
  {
   "cell_type": "markdown",
   "id": "df13e5e9",
   "metadata": {},
   "source": [
    "$FC=SCE$\n",
    "\n",
    "$FS^{-\\frac{1}{2}}S^{\\frac{1}{2}}C=S^{\\frac{1}{2}}S^{\\frac{1}{2}}CE$\n",
    "\n",
    "$\\hat{C} = S^{\\frac{1}{2}}C$\n",
    "\n",
    "$FS^{-\\frac{1}{2}}\\hat{C}=S^{\\frac{1}{2}}\\hat{C}E$\n",
    "\n",
    "$S^{-\\frac{1}{2}}FS^{-\\frac{1}{2}}\\hat{C}=\\hat{C}E$\n",
    "\n",
    "$S^{-\\frac{1}{2}}FS^{-\\frac{1}{2}} = \\hat{F}$\n",
    "\n",
    "$\\hat{F}\\hat{C}=\\hat{C}E$"
   ]
  },
  {
   "cell_type": "code",
   "execution_count": 13,
   "id": "fef09556",
   "metadata": {},
   "outputs": [
    {
     "name": "stdout",
     "output_type": "stream",
     "text": [
      "[-4.07394430e-01 -3.67833515e-01 -9.89961729e-02 -6.38375115e-02\n",
      " -5.86494465e-02 -4.29681534e-02 -3.25763093e-02 -2.70500610e-02\n",
      " -2.41909732e-02 -2.04925080e-02 -1.76165211e-02 -1.33652385e-02\n",
      " -1.18107922e-02 -9.43306814e-03 -8.66765025e-03 -8.32608740e-03\n",
      " -6.14288220e-03 -5.24462515e-03 -4.59362050e-03 -4.16485778e-03\n",
      " -3.07644752e-03 -2.72385482e-03 -2.64043467e-03 -2.29814745e-03\n",
      " -1.99110246e-03 -1.71809267e-03 -1.58614207e-03 -1.38817027e-03\n",
      " -1.14515469e-03 -9.54436433e-04 -7.43045078e-04 -6.86294764e-04\n",
      " -6.31744877e-04 -5.94207239e-04 -4.71212013e-04 -4.23126874e-04\n",
      " -3.32834739e-04 -3.10476143e-04 -2.88206522e-04 -2.23901406e-04\n",
      " -1.59284150e-04 -1.22579359e-04 -9.18320006e-05 -8.54198315e-05\n",
      " -5.92528834e-05 -5.54448458e-05 -4.75689379e-05 -3.44254325e-05\n",
      " -2.43602178e-05 -2.03723452e-05 -1.55348416e-05 -1.17212904e-05\n",
      " -1.00829601e-05 -6.22115153e-06 -1.62211100e-06 -5.98388647e-16\n",
      " -8.59327007e-17 -6.55255769e-17 -9.28153348e-18  1.04680942e-18\n",
      "  1.87298826e-17  4.47416778e-17  8.25392396e-17  1.17095501e-16\n",
      "  1.76447863e-16]\n",
      "[-4.58889053e-01 -1.26808159e-01 -7.91732438e-02 -7.80140690e-02\n",
      " -7.37532007e-02 -6.87898434e-02 -6.66495049e-02 -4.95744462e-02\n",
      " -3.77808423e-02 -3.70534894e-02 -3.53063325e-02 -3.51114663e-02\n",
      " -3.41182648e-02 -3.22610738e-02 -3.16359890e-02 -3.15400096e-02\n",
      " -2.80241553e-02 -2.38427236e-02 -2.29859045e-02 -1.83534445e-02\n",
      " -1.69666254e-02 -1.69311532e-02 -1.65422699e-02 -1.64896987e-02\n",
      " -1.38151879e-02 -1.23655586e-02 -1.12306946e-02 -4.21124980e-03\n",
      " -2.85332877e-03 -2.58073982e-03 -2.53914250e-03 -2.44880994e-03\n",
      " -2.18010016e-03 -1.65091362e-03 -1.14045360e-03 -8.09863672e-04\n",
      " -4.41640497e-04 -2.56629367e-04 -2.25584601e-04 -8.37591495e-05\n",
      " -7.14785668e-05 -6.11066181e-05 -5.55976761e-05 -5.24309085e-05\n",
      " -5.18872710e-05 -3.11407585e-05 -2.18758859e-05 -8.66826748e-06\n",
      " -6.40661457e-06 -3.09476146e-06 -1.39437683e-06 -8.02520975e-07\n",
      " -7.99267585e-07 -5.71120280e-08 -5.15960680e-08 -2.95288186e-16\n",
      " -3.30940577e-17  1.94774958e-18  2.17296037e-17  4.64887487e-17\n",
      "  7.12908412e-17  7.31259146e-17  1.02640360e-16  2.21110591e-16\n",
      "  4.21997978e-16]\n"
     ]
    },
    {
     "data": {
      "text/plain": [
       "0.7604358848137946"
      ]
     },
     "execution_count": 13,
     "metadata": {},
     "output_type": "execute_result"
    }
   ],
   "source": [
    "print(numpy.linalg.eigh(dqc_adapter.get_four_center_xc_tensor().numpy().reshape((13*5,13*5)))[0])\n",
    "print(numpy.linalg.eigh(adapter.get_four_center_xc_tensor().reshape((13*5,13*5)))[0])\n",
    "numpy.abs(numpy.linalg.eigh(dqc_adapter.get_four_center_xc_tensor().numpy().reshape((13*5,13*5)))[0] - numpy.linalg.eigh(adapter.get_four_center_xc_tensor().reshape((13*5,13*5)))[0]).sum()"
   ]
  }
 ],
 "metadata": {
  "kernelspec": {
   "display_name": "Python 3 (ipykernel)",
   "language": "python",
   "name": "python3"
  },
  "language_info": {
   "codemirror_mode": {
    "name": "ipython",
    "version": 3
   },
   "file_extension": ".py",
   "mimetype": "text/x-python",
   "name": "python",
   "nbconvert_exporter": "python",
   "pygments_lexer": "ipython3",
   "version": "3.9.12"
  }
 },
 "nbformat": 4,
 "nbformat_minor": 5
}
