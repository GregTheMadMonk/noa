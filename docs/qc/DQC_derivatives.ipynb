{
 "cells": [
  {
   "cell_type": "markdown",
   "id": "43e13932",
   "metadata": {},
   "source": [
    "# Initialization:"
   ]
  },
  {
   "cell_type": "code",
   "execution_count": 1,
   "id": "8bbb2b55",
   "metadata": {},
   "outputs": [],
   "source": [
    "import torch\n",
    "import dqc\n",
    "import dqc.xc\n",
    "import dqc.utils\n",
    "\n",
    "from DQCAdapter import DQCAdapter"
   ]
  },
  {
   "cell_type": "code",
   "execution_count": 2,
   "id": "e63589dc",
   "metadata": {},
   "outputs": [],
   "source": [
    "class MyLDAX(dqc.xc.CustomXC):\n",
    "    def __init__(self, a, p):\n",
    "        super().__init__()\n",
    "        self.a = a\n",
    "        self.p = p\n",
    "\n",
    "    @property\n",
    "    def family(self):\n",
    "        # 1 for LDA, 2 for GGA, 4 for MGGA\n",
    "        return 1\n",
    "\n",
    "    def get_edensityxc(self, densinfo):\n",
    "        # densinfo has up and down components\n",
    "        if isinstance(densinfo, dqc.utils.SpinParam):\n",
    "            # spin-scaling of the exchange energy\n",
    "            return 0.5 * (self.get_edensityxc(densinfo.u * 2) + self.get_edensityxc(densinfo.d * 2))\n",
    "        else:\n",
    "            rho = densinfo.value.abs() + 1e-15  # safeguarding from nan\n",
    "            return self.a * rho ** self.p\n",
    "        \n",
    "    def get_edensityxc_derivative(self, densinfo, number_of_parameter):\n",
    "        # densinfo has up and down components\n",
    "        if isinstance(densinfo, dqc.utils.SpinParam):\n",
    "            # spin-scaling of the exchange energy\n",
    "            return 0.5 * (self.get_edensityxc_derivative(densinfo.u * 2, number_of_parameter) \n",
    "                          + self.get_edensityxc_derivative(densinfo.d * 2, number_of_parameter))\n",
    "        else:\n",
    "            rho = densinfo.value.abs() + 1e-15  # safeguarding from nan\n",
    "            if number_of_parameter == 0: # parameter a\n",
    "                return rho ** self.p\n",
    "            elif number_of_parameter == 1: # parameter p\n",
    "                return self.a * rho ** (self.p - 1)"
   ]
  },
  {
   "cell_type": "code",
   "execution_count": 3,
   "id": "205232f4",
   "metadata": {},
   "outputs": [],
   "source": [
    "a = torch.nn.Parameter(torch.tensor(1.0, dtype=torch.double))\n",
    "p = torch.nn.Parameter(torch.tensor(2.0, dtype=torch.double))\n",
    "myxc = MyLDAX(a, p)"
   ]
  },
  {
   "cell_type": "code",
   "execution_count": 4,
   "id": "fbe6aaac",
   "metadata": {
    "scrolled": true
   },
   "outputs": [
    {
     "name": "stdout",
     "output_type": "stream",
     "text": [
      "tensor(-54.0932, dtype=torch.float64, grad_fn=<AddBackward0>)\n"
     ]
    },
    {
     "name": "stderr",
     "output_type": "stream",
     "text": [
      "/home/radium/miniconda3/lib/python3.9/site-packages/xitorch/_impls/optimize/root/rootsolver.py:163: ConvergenceWarning: The rootfinder does not converge after 50 iterations. Best |dx|=2.508e-02, |f|=2.288e-01 at iter 32\n",
      "  warnings.warn(ConvergenceWarning(msg))\n"
     ]
    }
   ],
   "source": [
    "mol = dqc.Mol(moldesc=\"N -1 0 0; N 1 0 0\", basis=\"3-21G\")\n",
    "qc = dqc.KS(mol, xc=myxc).run()\n",
    "ene = qc.energy()\n",
    "print(ene)"
   ]
  },
  {
   "cell_type": "code",
   "execution_count": 5,
   "id": "a24d2df2",
   "metadata": {},
   "outputs": [],
   "source": [
    "adapter = DQCAdapter(qc)"
   ]
  },
  {
   "cell_type": "code",
   "execution_count": 6,
   "id": "714ac12d",
   "metadata": {},
   "outputs": [
    {
     "name": "stdout",
     "output_type": "stream",
     "text": [
      "torch.Size([18, 18])\n"
     ]
    }
   ],
   "source": [
    "fockian = adapter.get_fockian()\n",
    "print(fockian.size())"
   ]
  },
  {
   "cell_type": "code",
   "execution_count": 7,
   "id": "cc3330eb",
   "metadata": {},
   "outputs": [
    {
     "data": {
      "text/plain": [
       "torch.Size([18, 7])"
      ]
     },
     "execution_count": 7,
     "metadata": {},
     "output_type": "execute_result"
    }
   ],
   "source": [
    "coefficients = adapter.get_orbital_coefficients()\n",
    "coefficients.size()"
   ]
  },
  {
   "cell_type": "code",
   "execution_count": 8,
   "id": "89b7eb5b",
   "metadata": {},
   "outputs": [
    {
     "data": {
      "text/plain": [
       "torch.Size([7])"
      ]
     },
     "execution_count": 8,
     "metadata": {},
     "output_type": "execute_result"
    }
   ],
   "source": [
    "orbital_energies = adapter.get_orbital_energies()\n",
    "orbital_energies.size()"
   ]
  },
  {
   "cell_type": "code",
   "execution_count": 9,
   "id": "c3257ed0",
   "metadata": {},
   "outputs": [
    {
     "data": {
      "text/plain": [
       "torch.Size([7])"
      ]
     },
     "execution_count": 9,
     "metadata": {},
     "output_type": "execute_result"
    }
   ],
   "source": [
    "occupancy = adapter.get_orbital_occupancy()\n",
    "occupancy.size()"
   ]
  },
  {
   "cell_type": "code",
   "execution_count": 10,
   "id": "8ff1a799",
   "metadata": {},
   "outputs": [],
   "source": [
    "number_of_occupied_orbitals = adapter.get_number_of_occupied_orbitals()"
   ]
  },
  {
   "cell_type": "markdown",
   "id": "90c1c6a6",
   "metadata": {},
   "source": [
    "# Calculating adjoint derivatives:"
   ]
  },
  {
   "cell_type": "markdown",
   "id": "f800900b",
   "metadata": {},
   "source": [
    "## Derivatives from energy:"
   ]
  },
  {
   "cell_type": "markdown",
   "id": "5cf9d566",
   "metadata": {},
   "source": [
    "### Calculating $\\frac{\\partial E[\\rho](\\vec{\\theta})}{\\partial \\textbf{C}}$"
   ]
  },
  {
   "cell_type": "markdown",
   "id": "fd4cef84",
   "metadata": {},
   "source": [
    "#### The first way to calculate derivative from energy with respect to coefficients:\n",
    "Every type of orbitals can be used"
   ]
  },
  {
   "cell_type": "markdown",
   "id": "2d9bce73",
   "metadata": {},
   "source": [
    "$$ \\frac{\\partial E[\\rho](\\vec{\\theta})}{\\partial C_{bj}} = 2f_b \\sum_i C_{bi}F_{ij}$$\n",
    "so\n",
    "$$ \\frac{\\partial E[\\rho](\\vec{\\theta})}{\\partial \\textbf{C}} = 2\\textbf{f}\\textbf{C}\\textbf{F}$$\n",
    "$\\textbf{f}$ here is matrix: $f_{ab}=\\delta_{ab}f_a$"
   ]
  },
  {
   "cell_type": "code",
   "execution_count": 11,
   "id": "195b02f6",
   "metadata": {},
   "outputs": [
    {
     "data": {
      "text/plain": [
       "torch.Size([7, 18])"
      ]
     },
     "execution_count": 11,
     "metadata": {},
     "output_type": "execute_result"
    }
   ],
   "source": [
    "dE_wrt_dC_first_way = 2 * torch.einsum(\"b,ib,ij->bj\", occupancy, coefficients, fockian)\n",
    "dE_wrt_dC_first_way.size()"
   ]
  },
  {
   "cell_type": "markdown",
   "id": "aa114351",
   "metadata": {},
   "source": [
    "#### The second way to calculate derivative from energy with respect to coefficients\n",
    "Only canonical (i.e. eigenfunctions of fockian) orbitals can be used"
   ]
  },
  {
   "cell_type": "markdown",
   "id": "d5c00c33",
   "metadata": {},
   "source": [
    "from the other hand, \n",
    "$$ \\frac{\\partial E[\\rho](\\vec{\\theta})}{\\partial C_{bj}} = 2f_b \\sum_i C_{bi}F_{ij} = 2f_b \\epsilon_b C_{bj}$$\n",
    "so\n",
    "$$ \\frac{\\partial E[\\rho](\\vec{\\theta})}{\\partial \\textbf{C}} = 2\\textbf{f}\\epsilon\\textbf{C}$$\n",
    "$\\epsilon$ here is matrix: $\\epsilon_{ab}=\\delta_{ab}\\epsilon_a$"
   ]
  },
  {
   "cell_type": "code",
   "execution_count": 12,
   "id": "ce7125a8",
   "metadata": {},
   "outputs": [
    {
     "data": {
      "text/plain": [
       "torch.Size([7, 18])"
      ]
     },
     "execution_count": 12,
     "metadata": {},
     "output_type": "execute_result"
    }
   ],
   "source": [
    "dE_wrt_dC_second_way = 2 * torch.einsum(\"b,b,jb->bj\", occupancy, orbital_energies, coefficients)\n",
    "dE_wrt_dC_second_way.size()"
   ]
  },
  {
   "cell_type": "markdown",
   "id": "6b99fd94",
   "metadata": {},
   "source": [
    "Check that both ways lead to the same results:"
   ]
  },
  {
   "cell_type": "code",
   "execution_count": 13,
   "id": "74884155",
   "metadata": {},
   "outputs": [
    {
     "name": "stdout",
     "output_type": "stream",
     "text": [
      "tensor(2.7748e-13, dtype=torch.float64, grad_fn=<CopyBackwards>)\n"
     ]
    }
   ],
   "source": [
    "print(torch.linalg.matrix_norm(dE_wrt_dC_first_way - dE_wrt_dC_second_way))"
   ]
  },
  {
   "cell_type": "markdown",
   "id": "4125a801",
   "metadata": {},
   "source": [
    "### Calculating $\\frac{\\partial E[\\rho](\\vec{\\theta})}{\\partial \\vec{\\epsilon}}$"
   ]
  },
  {
   "cell_type": "markdown",
   "id": "4f28a9eb",
   "metadata": {},
   "source": [
    "$$\\frac{\\partial E[\\rho](\\vec{\\theta})}{\\partial \\epsilon_{b}} = 0$$ for all $\\epsilon_b$. So:"
   ]
  },
  {
   "cell_type": "code",
   "execution_count": 14,
   "id": "f114886f",
   "metadata": {},
   "outputs": [
    {
     "data": {
      "text/plain": [
       "torch.Size([7])"
      ]
     },
     "execution_count": 14,
     "metadata": {},
     "output_type": "execute_result"
    }
   ],
   "source": [
    "dE_wrt_depsilon = torch.zeros(number_of_occupied_orbitals)\n",
    "dE_wrt_depsilon.size()"
   ]
  },
  {
   "cell_type": "markdown",
   "id": "76446fb9",
   "metadata": {},
   "source": [
    "## Derivatives from normalization equations:"
   ]
  },
  {
   "cell_type": "markdown",
   "id": "a11c1afb",
   "metadata": {},
   "source": [
    "### Calculating $\\frac{\\partial \\vec{r}(\\textbf{C})}{\\partial \\textbf{C}}$"
   ]
  },
  {
   "cell_type": "markdown",
   "id": "ca72aade",
   "metadata": {},
   "source": [
    "$$\\frac{\\partial r_{a}(\\textbf{C})}{\\partial C_{ck}} = 2\\delta_{ac}C_{ck}$$\n"
   ]
  },
  {
   "cell_type": "code",
   "execution_count": 15,
   "id": "4e4c044a",
   "metadata": {},
   "outputs": [],
   "source": [
    "occupied_orbitals_kronecker = torch.eye(number_of_occupied_orbitals)"
   ]
  },
  {
   "cell_type": "code",
   "execution_count": 19,
   "id": "bc74d797",
   "metadata": {},
   "outputs": [
    {
     "data": {
      "text/plain": [
       "torch.Size([7, 18, 7])"
      ]
     },
     "execution_count": 19,
     "metadata": {},
     "output_type": "execute_result"
    }
   ],
   "source": [
    "dnorm_wrt_dC = 2 * torch.einsum(\"ac,kc->akc\", occupied_orbitals_kronecker, coefficients)\n",
    "dnorm_wrt_dC.size()"
   ]
  },
  {
   "cell_type": "markdown",
   "id": "f7046e72",
   "metadata": {},
   "source": [
    "### Calculating $\\frac{\\partial \\vec{r}(\\textbf{C})}{\\partial \\vec{\\epsilon}}$"
   ]
  },
  {
   "cell_type": "markdown",
   "id": "1d67466c",
   "metadata": {},
   "source": [
    "$$\\frac{\\partial r_{a}(\\textbf{C})}{\\partial \\epsilon_b} = 0$$\n"
   ]
  },
  {
   "cell_type": "code",
   "execution_count": 18,
   "id": "7809a6de",
   "metadata": {},
   "outputs": [
    {
     "data": {
      "text/plain": [
       "torch.Size([7, 7])"
      ]
     },
     "execution_count": 18,
     "metadata": {},
     "output_type": "execute_result"
    }
   ],
   "source": [
    "dnorm_wrt_depsilon = torch.zeros((number_of_occupied_orbitals, number_of_occupied_orbitals))\n",
    "dnorm_wrt_depsilon.size()"
   ]
  },
  {
   "cell_type": "markdown",
   "id": "e10baf35",
   "metadata": {},
   "source": [
    "## Derivatives from Roothan equations:"
   ]
  },
  {
   "cell_type": "markdown",
   "id": "8841b93a",
   "metadata": {},
   "source": [
    "### Calculating $\\frac{\\partial \\textbf{r}(\\textbf{C};\\;\\vec{\\theta})}{\\partial \\textbf{C}}$"
   ]
  },
  {
   "cell_type": "markdown",
   "id": "606bd6cc",
   "metadata": {},
   "source": [
    "$$G_{Cou, ijkl} = \\iint b_i(\\vec{r}) \\frac{b_k(\\vec{r'})b_l(\\vec{r'})}{|\\vec{r}-\\vec{r'}|} b_j(\\vec{r})d\\vec{r'}d\\vec{r}$$\n",
    "$$G_{XC, ijkl} = \n",
    "\\int b_i(\\vec{r}) b_k(\\vec{r}) \\frac{\\partial V_{XC}[\\rho](\\vec{r};\\;\\vec{\\theta})}{\\partial \\rho(\\vec{r})}b_l(\\vec{r})b_j(\\vec{r})d\\vec{r}$$\n",
    "$$\\frac{\\partial r_{ia}(\\textbf{C};\\;\\vec{\\theta})}{\\partial C_{ck}} = \n",
    "(F_{ik}[\\rho](\\vec{\\theta}) - \\epsilon_c\\delta_{ik})\\delta_{ac} +\n",
    "2f_c\\sum_j \\sum_{l}C_{cl}\\left(G_{Cou,ijkl} + G_{XC,ijkl}\\right)C_{aj}\n",
    "$$"
   ]
  },
  {
   "cell_type": "markdown",
   "id": "f4efb0f5",
   "metadata": {},
   "source": [
    "First term:"
   ]
  },
  {
   "cell_type": "code",
   "execution_count": 24,
   "id": "555fd2e4",
   "metadata": {},
   "outputs": [
    {
     "data": {
      "text/plain": [
       "torch.Size([18, 7, 7, 18])"
      ]
     },
     "execution_count": 24,
     "metadata": {},
     "output_type": "execute_result"
    }
   ],
   "source": [
    "number_of_all_orbitals = adapter.get_number_of_all_orbitals()\n",
    "all_orbitals_kronecker = torch.eye(number_of_all_orbitals)\n",
    "dRoothan_wrt_dC_first_first_term = torch.einsum(\"ik,ac->iack\", fockian, occupied_orbitals_kronecker)\n",
    "dRoothan_wrt_dC_first_second_term = torch.einsum(\"c,ik,ac->iack\", orbital_energies, all_orbitals_kronecker, occupied_orbitals_kronecker)\n",
    "dRoothan_wrt_dC_first_term = dRoothan_wrt_dC_first_first_term + dRoothan_wrt_dC_first_second_term\n",
    "dRoothan_wrt_dC_first_term.size()"
   ]
  },
  {
   "cell_type": "markdown",
   "id": "63e2aede",
   "metadata": {},
   "source": [
    "Second term:\n",
    "(NB: fourDtensor loses symmetry of XC-tensor):"
   ]
  },
  {
   "cell_type": "code",
   "execution_count": 26,
   "id": "66e19b9a",
   "metadata": {},
   "outputs": [
    {
     "data": {
      "text/plain": [
       "torch.Size([18, 7, 7, 18])"
      ]
     },
     "execution_count": 26,
     "metadata": {},
     "output_type": "execute_result"
    }
   ],
   "source": [
    "fourDtensor = adapter.get_four_center_elrep_tensor() + adapter.get_four_center_xc_tensor()\n",
    "dRoothan_wrt_dC_second_term = 2 * torch.einsum(\"c,ijkl,lc,ja->iack\", occupancy, fourDtensor, coefficients, coefficients)\n",
    "dRoothan_wrt_dC_second_term.size()"
   ]
  },
  {
   "cell_type": "markdown",
   "id": "72642a50",
   "metadata": {},
   "source": [
    "The sum:"
   ]
  },
  {
   "cell_type": "code",
   "execution_count": 27,
   "id": "f36154e7",
   "metadata": {},
   "outputs": [
    {
     "data": {
      "text/plain": [
       "torch.Size([18, 7, 7, 18])"
      ]
     },
     "execution_count": 27,
     "metadata": {},
     "output_type": "execute_result"
    }
   ],
   "source": [
    "dRoothan_wrt_dC = dRoothan_wrt_dC_first_term + dRoothan_wrt_dC_second_term\n",
    "dRoothan_wrt_dC.size()"
   ]
  },
  {
   "cell_type": "markdown",
   "id": "39bbf2eb",
   "metadata": {},
   "source": [
    "### Calculating $\\frac{\\partial \\textbf{r}(\\textbf{C};\\;\\vec{\\theta})}{\\partial \\vec{\\epsilon}}$\n"
   ]
  },
  {
   "cell_type": "markdown",
   "id": "da7bdd70",
   "metadata": {},
   "source": [
    "$$\\frac{\\partial r_{ia}(\\textbf{C};\\;\\vec{\\theta})}{\\partial \\epsilon_{c}} = -\\delta_{ac}C_{ai}$$"
   ]
  },
  {
   "cell_type": "code",
   "execution_count": 20,
   "id": "aa1e1f0d",
   "metadata": {},
   "outputs": [
    {
     "data": {
      "text/plain": [
       "torch.Size([7, 18, 7])"
      ]
     },
     "execution_count": 20,
     "metadata": {},
     "output_type": "execute_result"
    }
   ],
   "source": [
    "dRoothan_wrt_depsilon = -1 * torch.einsum(\"ac,kc->akc\", occupied_orbitals_kronecker, coefficients)\n",
    "dRoothan_wrt_depsilon.size()"
   ]
  }
 ],
 "metadata": {
  "kernelspec": {
   "display_name": "Python 3 (ipykernel)",
   "language": "python",
   "name": "python3"
  },
  "language_info": {
   "codemirror_mode": {
    "name": "ipython",
    "version": 3
   },
   "file_extension": ".py",
   "mimetype": "text/x-python",
   "name": "python",
   "nbconvert_exporter": "python",
   "pygments_lexer": "ipython3",
   "version": "3.9.12"
  }
 },
 "nbformat": 4,
 "nbformat_minor": 5
}
