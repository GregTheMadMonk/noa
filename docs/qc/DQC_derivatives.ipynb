{
 "cells": [
  {
   "cell_type": "markdown",
   "id": "43e13932",
   "metadata": {},
   "source": [
    "# Initialization:"
   ]
  },
  {
   "cell_type": "code",
   "execution_count": 1,
   "id": "8bbb2b55",
   "metadata": {},
   "outputs": [],
   "source": [
    "import torch\n",
    "import dqc\n",
    "import dqc.xc\n",
    "import dqc.utils\n",
    "\n",
    "from DQCAdapter import DQCAdapter"
   ]
  },
  {
   "cell_type": "code",
   "execution_count": 2,
   "id": "e63589dc",
   "metadata": {},
   "outputs": [],
   "source": [
    "class MyLDAX(dqc.xc.CustomXC):\n",
    "    def __init__(self, a_par, p_par):\n",
    "        super().__init__()\n",
    "        self.a_par = a_par\n",
    "        self.p_par = p_par\n",
    "        self.number_of_parameters = 2\n",
    "\n",
    "    @property\n",
    "    def family(self):\n",
    "        # 1 for LDA, 2 for GGA, 4 for MGGA\n",
    "        return 1\n",
    "\n",
    "    def get_edensityxc(self, densinfo):\n",
    "        # densinfo has up and down components\n",
    "        if isinstance(densinfo, dqc.utils.SpinParam):\n",
    "            # spin-scaling of the exchange energy\n",
    "            return 0.5 * (self.get_edensityxc(densinfo.u * 2) + self.get_edensityxc(densinfo.d * 2))\n",
    "        else:\n",
    "            rho = densinfo.value.abs() + 1e-15  # safeguarding from nan\n",
    "            return self.a_par * rho ** self.p_par\n",
    "        \n",
    "    def get_edensityxc_derivative(self, densinfo, number_of_parameter):\n",
    "        # densinfo has up and down components\n",
    "        if isinstance(densinfo, dqc.utils.SpinParam):\n",
    "            # spin-scaling of the exchange energy\n",
    "            return 0.5 * (self.get_edensityxc_derivative(densinfo.u * 2, number_of_parameter) \n",
    "                          + self.get_edensityxc_derivative(densinfo.d * 2, number_of_parameter))\n",
    "        else:\n",
    "            rho = densinfo.value.abs() + 1e-15  # safeguarding from nan\n",
    "            if number_of_parameter == 0: # parameter a\n",
    "                return rho ** self.p_par\n",
    "            elif number_of_parameter == 1: # parameter p\n",
    "                return self.a_par * torch.log(rho) * rho ** self.p_par"
   ]
  },
  {
   "cell_type": "code",
   "execution_count": 3,
   "id": "205232f4",
   "metadata": {},
   "outputs": [],
   "source": [
    "a_par = torch.nn.Parameter(torch.tensor(1.0, dtype=torch.double))\n",
    "p_par = torch.nn.Parameter(torch.tensor(2.0, dtype=torch.double))\n",
    "myxc = MyLDAX(a_par, p_par)"
   ]
  },
  {
   "cell_type": "code",
   "execution_count": 4,
   "id": "fbe6aaac",
   "metadata": {
    "scrolled": true
   },
   "outputs": [
    {
     "name": "stdout",
     "output_type": "stream",
     "text": [
      "tensor(-38.2050, dtype=torch.float64, grad_fn=<AddBackward0>)\n"
     ]
    }
   ],
   "source": [
    "water = \"\"\"\n",
    "O        0.000000000      0.000000000      0.000000000;\n",
    "H        0.000000000      1.434938863      1.126357947;\n",
    "H        0.000000000     -1.434938863      1.126357947\n",
    "\"\"\"\n",
    "\n",
    "mol = dqc.Mol(moldesc=water, basis=\"6-31G\")\n",
    "qc = dqc.KS(mol, xc=myxc).run()\n",
    "ene = qc.energy()\n",
    "print(ene)"
   ]
  },
  {
   "cell_type": "code",
   "execution_count": 5,
   "id": "a24d2df2",
   "metadata": {},
   "outputs": [],
   "source": [
    "adapter = DQCAdapter(qc)"
   ]
  },
  {
   "cell_type": "code",
   "execution_count": 6,
   "id": "714ac12d",
   "metadata": {},
   "outputs": [
    {
     "name": "stdout",
     "output_type": "stream",
     "text": [
      "torch.Size([13, 13])\n"
     ]
    }
   ],
   "source": [
    "fockian = adapter.get_fockian()\n",
    "print(fockian.size())"
   ]
  },
  {
   "cell_type": "code",
   "execution_count": 7,
   "id": "cc3330eb",
   "metadata": {},
   "outputs": [
    {
     "data": {
      "text/plain": [
       "torch.Size([13, 5])"
      ]
     },
     "execution_count": 7,
     "metadata": {},
     "output_type": "execute_result"
    }
   ],
   "source": [
    "coefficients = adapter.get_orbital_coefficients()\n",
    "coefficients.size()"
   ]
  },
  {
   "cell_type": "code",
   "execution_count": 8,
   "id": "89b7eb5b",
   "metadata": {},
   "outputs": [
    {
     "data": {
      "text/plain": [
       "torch.Size([5])"
      ]
     },
     "execution_count": 8,
     "metadata": {},
     "output_type": "execute_result"
    }
   ],
   "source": [
    "orbital_energies = adapter.get_orbital_energies()\n",
    "orbital_energies.size()"
   ]
  },
  {
   "cell_type": "code",
   "execution_count": 9,
   "id": "c3257ed0",
   "metadata": {},
   "outputs": [
    {
     "data": {
      "text/plain": [
       "torch.Size([5])"
      ]
     },
     "execution_count": 9,
     "metadata": {},
     "output_type": "execute_result"
    }
   ],
   "source": [
    "occupancy = adapter.get_orbital_occupancy()\n",
    "occupancy.size()"
   ]
  },
  {
   "cell_type": "code",
   "execution_count": 10,
   "id": "8ff1a799",
   "metadata": {},
   "outputs": [],
   "source": [
    "number_of_occupied_orbitals = adapter.get_number_of_occupied_orbitals()"
   ]
  },
  {
   "cell_type": "markdown",
   "id": "90c1c6a6",
   "metadata": {},
   "source": [
    "# Calculating adjoint derivatives:"
   ]
  },
  {
   "cell_type": "markdown",
   "id": "f800900b",
   "metadata": {},
   "source": [
    "## Derivatives from energy:"
   ]
  },
  {
   "cell_type": "markdown",
   "id": "5cf9d566",
   "metadata": {},
   "source": [
    "### Calculating $\\frac{\\partial E[\\rho](\\vec{\\theta})}{\\partial \\textbf{C}}$"
   ]
  },
  {
   "cell_type": "markdown",
   "id": "fd4cef84",
   "metadata": {},
   "source": [
    "#### The first way to calculate derivative from energy with respect to coefficients:\n",
    "Every type of orbitals can be used"
   ]
  },
  {
   "cell_type": "markdown",
   "id": "2d9bce73",
   "metadata": {},
   "source": [
    "$$ \\frac{\\partial E[\\rho](\\vec{\\theta})}{\\partial C_{bj}} = 2f_b \\sum_i C_{bi}F_{ij}$$\n",
    "so\n",
    "$$ \\frac{\\partial E[\\rho](\\vec{\\theta})}{\\partial \\textbf{C}} = 2\\textbf{f}\\textbf{C}\\textbf{F}$$\n",
    "$\\textbf{f}$ here is matrix: $f_{ab}=\\delta_{ab}f_a$"
   ]
  },
  {
   "cell_type": "code",
   "execution_count": 11,
   "id": "195b02f6",
   "metadata": {},
   "outputs": [
    {
     "data": {
      "text/plain": [
       "torch.Size([5, 13])"
      ]
     },
     "execution_count": 11,
     "metadata": {},
     "output_type": "execute_result"
    }
   ],
   "source": [
    "dE_wrt_dC_first_way = 2 * torch.einsum(\"b,ib,ij->bj\", occupancy, coefficients, fockian)\n",
    "dE_wrt_dC_first_way.size()"
   ]
  },
  {
   "cell_type": "markdown",
   "id": "aa114351",
   "metadata": {},
   "source": [
    "#### The second way to calculate derivative from energy with respect to coefficients\n",
    "Only canonical (i.e. eigenfunctions of fockian) orbitals can be used"
   ]
  },
  {
   "cell_type": "markdown",
   "id": "d5c00c33",
   "metadata": {},
   "source": [
    "from the other hand, \n",
    "$$ \\frac{\\partial E[\\rho](\\vec{\\theta})}{\\partial C_{bj}} = 2f_b \\sum_i C_{bi}F_{ij} = 2f_b \\epsilon_b C_{bj}$$\n",
    "so\n",
    "$$ \\frac{\\partial E[\\rho](\\vec{\\theta})}{\\partial \\textbf{C}} = 2\\textbf{f}\\epsilon\\textbf{C}$$\n",
    "$\\epsilon$ here is matrix: $\\epsilon_{ab}=\\delta_{ab}\\epsilon_a$"
   ]
  },
  {
   "cell_type": "code",
   "execution_count": 12,
   "id": "ce7125a8",
   "metadata": {},
   "outputs": [
    {
     "data": {
      "text/plain": [
       "torch.Size([5, 13])"
      ]
     },
     "execution_count": 12,
     "metadata": {},
     "output_type": "execute_result"
    }
   ],
   "source": [
    "dE_wrt_dC_second_way = 2 * torch.einsum(\"b,b,jb->bj\", occupancy, orbital_energies, coefficients)\n",
    "dE_wrt_dC_second_way.size()"
   ]
  },
  {
   "cell_type": "markdown",
   "id": "6b99fd94",
   "metadata": {},
   "source": [
    "Check that both ways lead to the same results:"
   ]
  },
  {
   "cell_type": "code",
   "execution_count": 13,
   "id": "74884155",
   "metadata": {},
   "outputs": [
    {
     "name": "stdout",
     "output_type": "stream",
     "text": [
      "tensor(8.7654e-14, dtype=torch.float64, grad_fn=<CopyBackwards>)\n"
     ]
    }
   ],
   "source": [
    "print(torch.linalg.matrix_norm(dE_wrt_dC_first_way - dE_wrt_dC_second_way))"
   ]
  },
  {
   "cell_type": "markdown",
   "id": "4125a801",
   "metadata": {},
   "source": [
    "### Calculating $\\frac{\\partial E[\\rho](\\vec{\\theta})}{\\partial \\vec{\\epsilon}}$"
   ]
  },
  {
   "cell_type": "markdown",
   "id": "4f28a9eb",
   "metadata": {},
   "source": [
    "$$\\frac{\\partial E[\\rho](\\vec{\\theta})}{\\partial \\epsilon_{b}} = 0$$ for all $\\epsilon_b$. So:"
   ]
  },
  {
   "cell_type": "code",
   "execution_count": 14,
   "id": "f114886f",
   "metadata": {},
   "outputs": [
    {
     "data": {
      "text/plain": [
       "torch.Size([5])"
      ]
     },
     "execution_count": 14,
     "metadata": {},
     "output_type": "execute_result"
    }
   ],
   "source": [
    "dE_wrt_depsilon = torch.zeros(number_of_occupied_orbitals)\n",
    "dE_wrt_depsilon.size()"
   ]
  },
  {
   "cell_type": "markdown",
   "id": "76446fb9",
   "metadata": {},
   "source": [
    "## Derivatives from normalization equations:"
   ]
  },
  {
   "cell_type": "markdown",
   "id": "a11c1afb",
   "metadata": {},
   "source": [
    "### Calculating $\\frac{\\partial \\vec{r}(\\textbf{C})}{\\partial \\textbf{C}}$"
   ]
  },
  {
   "cell_type": "markdown",
   "id": "ca72aade",
   "metadata": {},
   "source": [
    "$$\\frac{\\partial r_{a}(\\textbf{C})}{\\partial C_{ck}} = 2\\delta_{ac}C_{ck}$$\n"
   ]
  },
  {
   "cell_type": "code",
   "execution_count": 15,
   "id": "4e4c044a",
   "metadata": {},
   "outputs": [],
   "source": [
    "occupied_orbitals_kronecker = torch.eye(number_of_occupied_orbitals)"
   ]
  },
  {
   "cell_type": "code",
   "execution_count": 16,
   "id": "bc74d797",
   "metadata": {},
   "outputs": [
    {
     "data": {
      "text/plain": [
       "torch.Size([13, 5, 5])"
      ]
     },
     "execution_count": 16,
     "metadata": {},
     "output_type": "execute_result"
    }
   ],
   "source": [
    "dnorm_wrt_dC = 2 * torch.einsum(\"ac,kc->kac\", occupied_orbitals_kronecker, coefficients)\n",
    "dnorm_wrt_dC.size()"
   ]
  },
  {
   "cell_type": "markdown",
   "id": "f7046e72",
   "metadata": {},
   "source": [
    "### Calculating $\\frac{\\partial \\vec{r}(\\textbf{C})}{\\partial \\vec{\\epsilon}}$"
   ]
  },
  {
   "cell_type": "markdown",
   "id": "1d67466c",
   "metadata": {},
   "source": [
    "$$\\frac{\\partial r_{a}(\\textbf{C})}{\\partial \\epsilon_b} = 0$$\n"
   ]
  },
  {
   "cell_type": "code",
   "execution_count": 17,
   "id": "7809a6de",
   "metadata": {},
   "outputs": [
    {
     "data": {
      "text/plain": [
       "torch.Size([5, 5])"
      ]
     },
     "execution_count": 17,
     "metadata": {},
     "output_type": "execute_result"
    }
   ],
   "source": [
    "dnorm_wrt_depsilon = torch.zeros((number_of_occupied_orbitals, number_of_occupied_orbitals))\n",
    "dnorm_wrt_depsilon.size()"
   ]
  },
  {
   "cell_type": "markdown",
   "id": "e10baf35",
   "metadata": {},
   "source": [
    "## Derivatives from Roothan equations:"
   ]
  },
  {
   "cell_type": "markdown",
   "id": "8841b93a",
   "metadata": {},
   "source": [
    "### Calculating $\\frac{\\partial \\textbf{r}(\\textbf{C};\\;\\vec{\\theta})}{\\partial \\textbf{C}}$"
   ]
  },
  {
   "cell_type": "markdown",
   "id": "606bd6cc",
   "metadata": {},
   "source": [
    "$$G_{Cou, ijkl} = \\iint b_i(\\vec{r}) \\frac{b_k(\\vec{r'})b_l(\\vec{r'})}{|\\vec{r}-\\vec{r'}|} b_j(\\vec{r})d\\vec{r'}d\\vec{r}$$\n",
    "$$G_{XC, ijkl} = \n",
    "\\int b_i(\\vec{r}) b_k(\\vec{r}) \\frac{\\partial V_{XC}[\\rho](\\vec{r};\\;\\vec{\\theta})}{\\partial \\rho(\\vec{r})}b_l(\\vec{r})b_j(\\vec{r})d\\vec{r}$$\n",
    "$$\\frac{\\partial r_{ia}(\\textbf{C};\\;\\vec{\\theta})}{\\partial C_{ck}} = \n",
    "(F_{ik}[\\rho](\\vec{\\theta}) - \\epsilon_c\\delta_{ik})\\delta_{ac} +\n",
    "2f_c\\sum_j \\sum_{l}C_{cl}\\left(G_{Cou,ijkl} + G_{XC,ijkl}\\right)C_{aj}\n",
    "$$"
   ]
  },
  {
   "cell_type": "markdown",
   "id": "f4efb0f5",
   "metadata": {},
   "source": [
    "First term:"
   ]
  },
  {
   "cell_type": "code",
   "execution_count": 18,
   "id": "555fd2e4",
   "metadata": {},
   "outputs": [
    {
     "data": {
      "text/plain": [
       "torch.Size([13, 5, 13, 5])"
      ]
     },
     "execution_count": 18,
     "metadata": {},
     "output_type": "execute_result"
    }
   ],
   "source": [
    "number_of_all_orbitals = adapter.get_number_of_all_orbitals()\n",
    "all_orbitals_kronecker = torch.eye(number_of_all_orbitals)\n",
    "dRoothan_wrt_dC_first_term = torch.einsum(\"ik,ac->iakc\", fockian, occupied_orbitals_kronecker)\n",
    "dRoothan_wrt_dC_first_term -= torch.einsum(\"c,ik,ac->iakc\", orbital_energies, all_orbitals_kronecker, occupied_orbitals_kronecker)\n",
    "dRoothan_wrt_dC_first_term.size()"
   ]
  },
  {
   "cell_type": "markdown",
   "id": "63e2aede",
   "metadata": {},
   "source": [
    "Second term:\n",
    "(NB: fourDtensor loses symmetry of XC-tensor):"
   ]
  },
  {
   "cell_type": "code",
   "execution_count": 19,
   "id": "66e19b9a",
   "metadata": {},
   "outputs": [
    {
     "data": {
      "text/plain": [
       "torch.Size([13, 5, 13, 5])"
      ]
     },
     "execution_count": 19,
     "metadata": {},
     "output_type": "execute_result"
    }
   ],
   "source": [
    "fourDtensor = adapter.get_four_center_elrep_tensor() + adapter.get_four_center_xc_tensor()\n",
    "dRoothan_wrt_dC_second_term = 2 * torch.einsum(\"c,ijkl,lc,ja->iakc\", occupancy, fourDtensor, coefficients, coefficients)\n",
    "dRoothan_wrt_dC_second_term.size()"
   ]
  },
  {
   "cell_type": "markdown",
   "id": "72642a50",
   "metadata": {},
   "source": [
    "The sum:"
   ]
  },
  {
   "cell_type": "code",
   "execution_count": 20,
   "id": "f36154e7",
   "metadata": {},
   "outputs": [
    {
     "data": {
      "text/plain": [
       "torch.Size([13, 5, 13, 5])"
      ]
     },
     "execution_count": 20,
     "metadata": {},
     "output_type": "execute_result"
    }
   ],
   "source": [
    "dRoothan_wrt_dC = dRoothan_wrt_dC_first_term + dRoothan_wrt_dC_second_term\n",
    "dRoothan_wrt_dC.size()"
   ]
  },
  {
   "cell_type": "markdown",
   "id": "39bbf2eb",
   "metadata": {},
   "source": [
    "### Calculating $\\frac{\\partial \\textbf{r}(\\textbf{C};\\;\\vec{\\theta})}{\\partial \\vec{\\epsilon}}$\n"
   ]
  },
  {
   "cell_type": "markdown",
   "id": "da7bdd70",
   "metadata": {},
   "source": [
    "$$\\frac{\\partial r_{ia}(\\textbf{C};\\;\\vec{\\theta})}{\\partial \\epsilon_{c}} = -\\delta_{ac}C_{ai}$$"
   ]
  },
  {
   "cell_type": "code",
   "execution_count": 21,
   "id": "aa1e1f0d",
   "metadata": {},
   "outputs": [
    {
     "data": {
      "text/plain": [
       "torch.Size([13, 5, 5])"
      ]
     },
     "execution_count": 21,
     "metadata": {},
     "output_type": "execute_result"
    }
   ],
   "source": [
    "dRoothan_wrt_depsilon = -1 * torch.einsum(\"ac,ia->iac\", occupied_orbitals_kronecker, coefficients)\n",
    "dRoothan_wrt_depsilon.size()"
   ]
  },
  {
   "cell_type": "markdown",
   "id": "0e2698f6",
   "metadata": {},
   "source": [
    "# Calculate adjoint vector"
   ]
  },
  {
   "cell_type": "markdown",
   "id": "c021b34a",
   "metadata": {},
   "source": [
    "## Concatenate tensors:"
   ]
  },
  {
   "cell_type": "markdown",
   "id": "907941ca",
   "metadata": {},
   "source": [
    "### $\\frac{\\partial E}{\\partial \\vec{X}}$"
   ]
  },
  {
   "cell_type": "markdown",
   "id": "13cb5aee",
   "metadata": {},
   "source": [
    "$$\\left( \\frac{\\partial E}{\\partial \\vec{X}} \\right)_{N_{ao}j+c} =  \\begin{cases}\n",
    "   \\frac{\\partial E}{\\partial С_{cj}} &\\text{if $0 \\le j < N_{orb}$} \\\\\n",
    "   \\frac{\\partial E}{\\partial \\epsilon_{c}} &\\text{if $j = N_{orb}$}\n",
    " \\end{cases}$$"
   ]
  },
  {
   "cell_type": "code",
   "execution_count": 22,
   "id": "eeac91d0",
   "metadata": {
    "scrolled": true
   },
   "outputs": [
    {
     "name": "stdout",
     "output_type": "stream",
     "text": [
      "torch.Size([5, 1])\n",
      "torch.Size([5, 13])\n",
      "torch.Size([5, 14])\n",
      "torch.Size([70])\n"
     ]
    }
   ],
   "source": [
    "print(dE_wrt_depsilon.unsqueeze(-1).size())\n",
    "print(dE_wrt_dC_second_way.size())\n",
    "dE_wrt_dX = torch.cat((dE_wrt_dC_second_way, dE_wrt_depsilon.unsqueeze(-1)), 1)\n",
    "print(dE_wrt_dX.size())\n",
    "dE_wrt_dX = dE_wrt_dX.t().reshape(-1,)\n",
    "print(dE_wrt_dX.size())"
   ]
  },
  {
   "cell_type": "markdown",
   "id": "9e0d65c7",
   "metadata": {},
   "source": [
    "Check it:"
   ]
  },
  {
   "cell_type": "code",
   "execution_count": 23,
   "id": "ab8faac9",
   "metadata": {},
   "outputs": [],
   "source": [
    "for j in range(number_of_all_orbitals + 1):\n",
    "    for c in range(number_of_occupied_orbitals):\n",
    "        index = number_of_occupied_orbitals * j + c\n",
    "        if (j < number_of_all_orbitals):\n",
    "            assert(dE_wrt_dX[index] == dE_wrt_dC_second_way[c][j])\n",
    "        else:\n",
    "            assert(dE_wrt_dX[index] == dE_wrt_depsilon[c])"
   ]
  },
  {
   "cell_type": "markdown",
   "id": "f98e8e7c",
   "metadata": {},
   "source": [
    "### $\\frac{\\partial \\vec{Y}}{\\partial \\vec{X}}$"
   ]
  },
  {
   "cell_type": "markdown",
   "id": "4c4b930d",
   "metadata": {},
   "source": [
    "$$\\left( \\frac{\\partial \\vec{Y}}{\\partial \\vec{X}} \\right)_{N_{ao}i+a,N_{ao}j+c} =  \\begin{cases}\n",
    "   \\frac{\\partial r_{ia}}{\\partial С_{cj}} &\\text{if $0 \\le i < N_{orb}$ and $0 \\le j < N_{orb}$} \\\\\n",
    "   \\frac{\\partial r_{ia}}{\\partial \\epsilon_{c}} &\\text{if $0 \\le i < N_{orb}$ and $j = N_{orb}$} \\\\\n",
    "   \\frac{\\partial r_{a}}{\\partial С_{cj}} &\\text{if $i = N_{orb}$ and $0 \\le j < N_{orb}$} \\\\\n",
    "   \\frac{\\partial r_{a}}{\\partial \\epsilon_{c}} &\\text{if $i = N_{orb}$ and $j = N_{orb}$}\n",
    " \\end{cases}$$"
   ]
  },
  {
   "cell_type": "code",
   "execution_count": 24,
   "id": "4f3825fd",
   "metadata": {},
   "outputs": [
    {
     "name": "stdout",
     "output_type": "stream",
     "text": [
      "torch.Size([13, 5, 13, 5]) => torch.Size([65, 65])\n",
      "torch.Size([13, 5, 5]) => torch.Size([65, 5])\n",
      "torch.Size([65, 65]) + torch.Size([65, 5]) = torch.Size([65, 70])\n"
     ]
    }
   ],
   "source": [
    "nao_norb_product = number_of_all_orbitals * number_of_occupied_orbitals\n",
    "upper_left = dRoothan_wrt_dC.reshape((nao_norb_product,nao_norb_product))\n",
    "print(dRoothan_wrt_dC.size(), \"=>\", upper_left.size())\n",
    "upper_right = dRoothan_wrt_depsilon.reshape((nao_norb_product, number_of_occupied_orbitals))\n",
    "print(dRoothan_wrt_depsilon.size(), \"=>\", upper_right.size())\n",
    "upper = torch.cat((upper_left, upper_right), 1)\n",
    "print(upper_left.size(), \"+\", upper_right.size(), \"=\", upper.size())"
   ]
  },
  {
   "cell_type": "code",
   "execution_count": 25,
   "id": "00e2a788",
   "metadata": {},
   "outputs": [
    {
     "name": "stdout",
     "output_type": "stream",
     "text": [
      "torch.Size([13, 5, 5]) => torch.Size([5, 65])\n",
      "torch.Size([5, 65]) + torch.Size([5, 5]) = torch.Size([5, 70])\n"
     ]
    }
   ],
   "source": [
    "lower_left = dnorm_wrt_dC.reshape(nao_norb_product, number_of_occupied_orbitals).t()\n",
    "print(dnorm_wrt_dC.size(), \"=>\", lower_left.size())\n",
    "lower = torch.cat((lower_left, dnorm_wrt_depsilon), 1)\n",
    "print(lower_left.size(), \"+\", dnorm_wrt_depsilon.size(), \"=\", lower.size())"
   ]
  },
  {
   "cell_type": "code",
   "execution_count": 26,
   "id": "44994869",
   "metadata": {},
   "outputs": [
    {
     "name": "stdout",
     "output_type": "stream",
     "text": [
      "torch.Size([65, 70]) + torch.Size([5, 70]) = torch.Size([70, 70])\n"
     ]
    }
   ],
   "source": [
    "dY_wrt_dX = torch.cat((upper, lower), 0)\n",
    "print(upper.size(), \"+\", lower.size(), \"=\", dY_wrt_dX.size())"
   ]
  },
  {
   "cell_type": "markdown",
   "id": "f1e57a64",
   "metadata": {},
   "source": [
    "Check it:"
   ]
  },
  {
   "cell_type": "code",
   "execution_count": 27,
   "id": "f9dab092",
   "metadata": {},
   "outputs": [],
   "source": [
    "for i in range(number_of_all_orbitals + 1):\n",
    "    for a in range(number_of_occupied_orbitals):\n",
    "        for j in range(number_of_all_orbitals + 1):\n",
    "            for c in range(number_of_occupied_orbitals):\n",
    "                index = (number_of_occupied_orbitals * i + a, number_of_occupied_orbitals * j + c)\n",
    "                if (i < number_of_all_orbitals):\n",
    "                    if (j < number_of_all_orbitals):\n",
    "                        assert(dY_wrt_dX[index[0]][index[1]] == dRoothan_wrt_dC[i][a][j][c]),(i,a,j,c)\n",
    "                    else:\n",
    "                        assert(dY_wrt_dX[index[0]][index[1]] == dRoothan_wrt_depsilon[i][a][c]),(i,a,c)\n",
    "                else:\n",
    "                    if (j < number_of_all_orbitals):\n",
    "                        assert(dY_wrt_dX[index[0]][index[1]] == dnorm_wrt_dC[j][a][c]),(j,a,c)\n",
    "                    else:\n",
    "                        assert(dY_wrt_dX[index[0]][index[1]] == dnorm_wrt_depsilon[a][c]),(a,c)"
   ]
  },
  {
   "cell_type": "markdown",
   "id": "85d3ee3e",
   "metadata": {},
   "source": [
    "## Find inverse matrix of $\\frac{\\partial \\vec{Y}}{\\partial \\vec{X}}$"
   ]
  },
  {
   "cell_type": "code",
   "execution_count": 28,
   "id": "69e5ac76",
   "metadata": {},
   "outputs": [
    {
     "name": "stdout",
     "output_type": "stream",
     "text": [
      "torch.Size([70, 70])\n"
     ]
    }
   ],
   "source": [
    "dY_wrt_dX_inverse = torch.linalg.inv(dY_wrt_dX)\n",
    "print(dY_wrt_dX_inverse.size())"
   ]
  },
  {
   "cell_type": "code",
   "execution_count": 29,
   "id": "bce41a97",
   "metadata": {
    "scrolled": true
   },
   "outputs": [
    {
     "data": {
      "text/plain": [
       "tensor([[ 1.5837e-01, -7.1862e-03, -8.0783e-03,  ...,  1.1285e-04,\n",
       "          9.2958e-03,  1.7079e-02],\n",
       "        [-7.1862e-03,  7.9609e-01, -1.1530e-02,  ...,  1.5451e-03,\n",
       "          1.7847e-02,  1.2349e-02],\n",
       "        [-8.0783e-03, -1.1530e-02,  7.4811e-01,  ...,  1.2581e-01,\n",
       "          1.2147e-01,  6.2812e-02],\n",
       "        ...,\n",
       "        [-2.2569e-04, -3.0903e-03, -2.5163e-01,  ...,  9.1648e-01,\n",
       "          7.9537e-01,  7.3286e-01],\n",
       "        [-1.8592e-02, -3.5693e-02, -2.4293e-01,  ...,  7.9537e-01,\n",
       "          1.3765e+00,  8.0069e-01],\n",
       "        [-3.4157e-02, -2.4698e-02, -1.2562e-01,  ...,  7.3286e-01,\n",
       "          8.0069e-01,  8.6596e-01]], dtype=torch.float64,\n",
       "       grad_fn=<LinalgInvExBackward0>)"
      ]
     },
     "execution_count": 29,
     "metadata": {},
     "output_type": "execute_result"
    }
   ],
   "source": [
    "dY_wrt_dX_inverse"
   ]
  },
  {
   "cell_type": "code",
   "execution_count": 30,
   "id": "852dcffd",
   "metadata": {},
   "outputs": [
    {
     "data": {
      "text/plain": [
       "tensor(5.0420e-13, dtype=torch.float64, grad_fn=<CopyBackwards>)"
      ]
     },
     "execution_count": 30,
     "metadata": {},
     "output_type": "execute_result"
    }
   ],
   "source": [
    "torch.linalg.matrix_norm((dY_wrt_dX_inverse @ dY_wrt_dX) - torch.eye(dY_wrt_dX.shape[0]))\n",
    "torch.linalg.matrix_norm((dY_wrt_dX @ dY_wrt_dX_inverse) - torch.eye(dY_wrt_dX.shape[0]))"
   ]
  },
  {
   "cell_type": "markdown",
   "id": "f56ab985",
   "metadata": {},
   "source": [
    "## Find adjoint vector:"
   ]
  },
  {
   "cell_type": "code",
   "execution_count": 31,
   "id": "5eac3431",
   "metadata": {},
   "outputs": [
    {
     "name": "stdout",
     "output_type": "stream",
     "text": [
      "torch.Size([70])\n"
     ]
    }
   ],
   "source": [
    "adjoint_vector = torch.matmul(dY_wrt_dX_inverse, dE_wrt_dX)\n",
    "print(adjoint_vector.size())"
   ]
  },
  {
   "cell_type": "markdown",
   "id": "97a2fb89",
   "metadata": {},
   "source": [
    "# Calculating derivatives with respect to parameters"
   ]
  },
  {
   "cell_type": "markdown",
   "id": "f4a5a6a4",
   "metadata": {},
   "source": [
    "## Derivative from energy: $\\frac{\\partial E[\\rho](\\vec{\\theta})}{\\partial \\vec{\\theta}}$"
   ]
  },
  {
   "cell_type": "markdown",
   "id": "6615dcb6",
   "metadata": {},
   "source": [
    "$$ \\frac{\\partial E[\\rho](\\vec{\\theta})}{\\partial \\vec{\\theta}} = \n",
    " \\int  \\frac{\\partial \\rho(\\vec{r})\\epsilon_{XC}[\\rho](\\vec{r};\\;\\vec{\\theta})}{\\partial \\vec{\\theta}}d\\vec{r} \n",
    "$$\n",
    "so we just can put $\\frac{\\partial \\rho(\\vec{r})\\epsilon_{XC}[\\rho](\\vec{r};\\;\\vec{\\theta})}{\\partial \\vec{\\theta}}$ instead of $\\rho(\\vec{r})\\epsilon_{XC}[\\rho](\\vec{r};\\;\\vec{\\theta})$ to DQC calculation."
   ]
  },
  {
   "cell_type": "code",
   "execution_count": 32,
   "id": "c3fd3ec9",
   "metadata": {},
   "outputs": [
    {
     "name": "stdout",
     "output_type": "stream",
     "text": [
      "torch.Size([2])\n"
     ]
    }
   ],
   "source": [
    "dE_wrt_dtheta = adapter.get_derivative_of_exc_wrt_theta()\n",
    "print(dE_wrt_dtheta.size())"
   ]
  },
  {
   "cell_type": "markdown",
   "id": "65b5b737",
   "metadata": {},
   "source": [
    "## Derivative from normalization equations:"
   ]
  },
  {
   "cell_type": "markdown",
   "id": "ae40090f",
   "metadata": {},
   "source": [
    "$$\\frac{\\partial r_{a}(\\textbf{C})}{\\partial\\vec{\\theta}}= 0$$ so"
   ]
  },
  {
   "cell_type": "code",
   "execution_count": 33,
   "id": "7d4eac7b",
   "metadata": {},
   "outputs": [
    {
     "name": "stdout",
     "output_type": "stream",
     "text": [
      "torch.Size([5, 2])\n"
     ]
    }
   ],
   "source": [
    "number_of_parameters = adapter.get_number_of_parameters()\n",
    "dnorm_wrt_dtheta = torch.zeros(number_of_occupied_orbitals, number_of_parameters)\n",
    "print(dnorm_wrt_dtheta.size())"
   ]
  },
  {
   "cell_type": "markdown",
   "id": "90d18aa9",
   "metadata": {},
   "source": [
    "## Derivative from Roothan equations: "
   ]
  },
  {
   "cell_type": "markdown",
   "id": "6a666731",
   "metadata": {},
   "source": [
    "$$\\frac{\\partial r_{ia}(\\textbf{C};\\;\\vec{\\theta})}{\\partial \\vec{\\theta}} =\n",
    "\\sum_j C_{aj}\\int b_i(\\vec{r}) \\frac{\\partial V_{XC}[\\rho](\\vec{r};\\;\\vec{\\theta})}{\\partial \\vec{\\theta}} b_j(\\vec{r})d\\vec{r}$$\n",
    "\n",
    "As we know, $$V_{XC}[\\rho](\\vec{r};\\;\\vec{\\theta}) = \\frac{\\partial E_{XC}[\\rho]}{\\partial\\rho(\\vec{r})} = \\frac{\\partial \\rho(\\vec{r})\\epsilon_{XC}[\\rho](\\vec{r};\\;\\vec{\\theta})}{\\partial\\rho(\\vec{r})}$$\n",
    "So\n",
    "\n",
    "$$\\frac{\\partial r_{ia}(\\textbf{C};\\;\\vec{\\theta})}{\\partial \\vec{\\theta}} =\n",
    "\\sum_j C_{aj}\\int b_i(\\vec{r}) \\frac{\\partial\\rho(\\vec{r})\\epsilon_{XC}[\\rho](\\vec{r};\\;\\vec{\\theta})}{\\partial \\vec{\\theta}\\partial\\rho(\\vec{r})} b_j(\\vec{r})d\\vec{r} = \n",
    "\\sum_j C_{aj}\\int b_i(\\vec{r}) \\frac{ \\frac{\\partial \\rho(\\vec{r})\\epsilon_{XC}[\\rho](\\vec{r};\\;\\vec{\\theta})}{\\partial \\vec{\\theta}}}{\\partial\\rho(\\vec{r})} b_j(\\vec{r})d\\vec{r}\n",
    "$$\n",
    "It means, we can use $\\frac{\\partial \\rho(\\vec{r})\\epsilon_{XC}[\\rho](\\vec{r};\\;\\vec{\\theta})}{\\partial \\vec{\\theta}}$ instead of $\\rho(\\vec{r})\\epsilon_{XC}[\\rho](\\vec{r};\\;\\vec{\\theta})$ in DQC function`get_vxc()`and get suitable result. This function takes densinfo and takes functional derivative with respect to density."
   ]
  },
  {
   "cell_type": "code",
   "execution_count": 34,
   "id": "d47c98b0",
   "metadata": {},
   "outputs": [
    {
     "name": "stdout",
     "output_type": "stream",
     "text": [
      "torch.Size([13, 13, 2])\n"
     ]
    }
   ],
   "source": [
    "dvxc_wrt_dtheta = adapter.get_derivative_of_vxc_wrt_theta()\n",
    "print(dvxc_wrt_dtheta.size())"
   ]
  },
  {
   "cell_type": "code",
   "execution_count": 35,
   "id": "0ae8573d",
   "metadata": {},
   "outputs": [
    {
     "name": "stdout",
     "output_type": "stream",
     "text": [
      "torch.Size([13, 5, 2])\n"
     ]
    }
   ],
   "source": [
    "dRoothan_wrt_dtheta = torch.einsum(\"ijt,ja->iat\", dvxc_wrt_dtheta, coefficients)\n",
    "print(dRoothan_wrt_dtheta.size())"
   ]
  },
  {
   "cell_type": "markdown",
   "id": "67247347",
   "metadata": {},
   "source": [
    "# Concatenate derivatives with respect to parameters"
   ]
  },
  {
   "cell_type": "code",
   "execution_count": 36,
   "id": "f7c2ae2e",
   "metadata": {},
   "outputs": [
    {
     "name": "stdout",
     "output_type": "stream",
     "text": [
      "torch.Size([13, 5, 2]) => torch.Size([65, 2])\n",
      "torch.Size([70, 2])\n"
     ]
    }
   ],
   "source": [
    "dY_wrt_dtheta = dRoothan_wrt_dtheta.reshape(nao_norb_product, number_of_parameters)\n",
    "print(dRoothan_wrt_dtheta.size(), \"=>\", dY_wrt_dtheta.size())\n",
    "dY_wrt_dtheta = torch.cat((dY_wrt_dtheta, dnorm_wrt_dtheta), 0)\n",
    "print(dY_wrt_dtheta.size())"
   ]
  },
  {
   "cell_type": "markdown",
   "id": "74a2eec0",
   "metadata": {},
   "source": [
    "Check it:"
   ]
  },
  {
   "cell_type": "code",
   "execution_count": 37,
   "id": "01f9a626",
   "metadata": {},
   "outputs": [],
   "source": [
    "for t in range(number_of_parameters):\n",
    "    for i in range(number_of_all_orbitals + 1):\n",
    "        for a in range(number_of_occupied_orbitals):\n",
    "            index = number_of_occupied_orbitals * i + a\n",
    "            if (i < number_of_all_orbitals):\n",
    "                assert(dY_wrt_dtheta[index][t] == dRoothan_wrt_dtheta[i][a][t]),(i,a,t)\n",
    "            else:\n",
    "                assert(dY_wrt_dtheta[index][t] == dnorm_wrt_dtheta[a][t]),(a,t)"
   ]
  },
  {
   "cell_type": "markdown",
   "id": "34cc06a1",
   "metadata": {},
   "source": [
    "# Total derivative:"
   ]
  },
  {
   "cell_type": "code",
   "execution_count": 38,
   "id": "fff35c9e",
   "metadata": {},
   "outputs": [
    {
     "name": "stdout",
     "output_type": "stream",
     "text": [
      "partial derivative: tensor([ 9.9156, 19.0426], dtype=torch.float64, grad_fn=<CatBackward0>)\n",
      "tensor([-8.9951e-15, -3.3579e-14], dtype=torch.float64,\n",
      "       grad_fn=<SqueezeBackward3>)\n",
      "full derivative: tensor([ 9.9156, 19.0426], dtype=torch.float64, grad_fn=<SubBackward0>)\n"
     ]
    }
   ],
   "source": [
    "print(\"partial derivative:\", dE_wrt_dtheta)\n",
    "print(torch.matmul(adjoint_vector, dY_wrt_dtheta))\n",
    "total_dE_wrt_dtheta = dE_wrt_dtheta - torch.matmul(adjoint_vector, dY_wrt_dtheta)\n",
    "print(\"full derivative:\", total_dE_wrt_dtheta)"
   ]
  },
  {
   "cell_type": "code",
   "execution_count": 44,
   "id": "fdecbbda",
   "metadata": {},
   "outputs": [
    {
     "data": {
      "text/plain": [
       "(tensor(9.9156, dtype=torch.float64, grad_fn=<DivBackward0>),\n",
       " tensor(19.0426, dtype=torch.float64, grad_fn=<DivBackward0>))"
      ]
     },
     "execution_count": 44,
     "metadata": {},
     "output_type": "execute_result"
    }
   ],
   "source": [
    "def DQC_calculation_tensors(system, a, p):\n",
    "    atomzs, atomposs = dqc.parse_moldesc(system)\n",
    "    mol = dqc.Mol((atomzs, atomposs), basis=\"6-31G\")\n",
    "    \n",
    "    myxc = MyLDAX(a, p)\n",
    "\n",
    "    qc = dqc.KS(mol, xc=myxc).run()\n",
    "    ene = qc.energy()  # calculate the energy\n",
    "    return ene\n",
    "\n",
    "def DQC_calculation_values(system, a_value, p_value):\n",
    "    a = torch.nn.Parameter(torch.tensor(a_value, dtype=torch.double))\n",
    "    p = torch.nn.Parameter(torch.tensor(p_value, dtype=torch.double))\n",
    "    return DQC_calculation_tensors(system, a, p)\n",
    "\n",
    "def finite_difference(system, a_value, p_value, coeff):\n",
    "    y = DQC_calculation_values(system, a_value, p_value)\n",
    "    da = a_value * coeff\n",
    "    dp = p_value * coeff\n",
    "    y_plus_dy_a = DQC_calculation_values(system, a_value+da, p_value)\n",
    "    y_plus_dy_p = DQC_calculation_values(system, a_value, p_value+dp)\n",
    "    dy_wrt_da = (y_plus_dy_a - y) / da\n",
    "    dy_wrt_dp = (y_plus_dy_p - y) / dp\n",
    "    return (dy_wrt_da, dy_wrt_dp)\n",
    "\n",
    "finite_difference(water, 1.0, 2.0, 0.000001)"
   ]
  },
  {
   "cell_type": "code",
   "execution_count": 39,
   "id": "1c3b60a2",
   "metadata": {},
   "outputs": [
    {
     "name": "stdout",
     "output_type": "stream",
     "text": [
      "tensor(9.9156, dtype=torch.float64) tensor(19.0426, dtype=torch.float64)\n"
     ]
    }
   ],
   "source": [
    "grad_a, grad_p = torch.autograd.grad(ene, (a_par, p_par))\n",
    "print(grad_a, grad_p)"
   ]
  }
 ],
 "metadata": {
  "kernelspec": {
   "display_name": "Python 3 (ipykernel)",
   "language": "python",
   "name": "python3"
  },
  "language_info": {
   "codemirror_mode": {
    "name": "ipython",
    "version": 3
   },
   "file_extension": ".py",
   "mimetype": "text/x-python",
   "name": "python",
   "nbconvert_exporter": "python",
   "pygments_lexer": "ipython3",
   "version": "3.9.7"
  }
 },
 "nbformat": 4,
 "nbformat_minor": 5
}
