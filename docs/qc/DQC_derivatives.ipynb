{
 "cells": [
  {
   "cell_type": "markdown",
   "id": "43e13932",
   "metadata": {},
   "source": [
    "# Initialization:"
   ]
  },
  {
   "cell_type": "code",
   "execution_count": 4,
   "id": "8bbb2b55",
   "metadata": {},
   "outputs": [],
   "source": [
    "import torch\n",
    "import dqc\n",
    "import dqc.xc\n",
    "import dqc.utils\n",
    "from importlib import reload \n",
    "import DQCAdapter as evg"
   ]
  },
  {
   "cell_type": "code",
   "execution_count": 5,
   "id": "e63589dc",
   "metadata": {},
   "outputs": [],
   "source": [
    "class MyLDAX(dqc.xc.CustomXC):\n",
    "    def __init__(self, a_par, p_par):\n",
    "        super().__init__()\n",
    "        self.a_par = a_par\n",
    "        self.p_par = p_par\n",
    "        self.number_of_parameters = 2\n",
    "\n",
    "    @property\n",
    "    def family(self):\n",
    "        # 1 for LDA, 2 for GGA, 4 for MGGA\n",
    "        return 1\n",
    "\n",
    "    def get_edensityxc(self, densinfo):\n",
    "        # densinfo has up and down components\n",
    "        if isinstance(densinfo, dqc.utils.SpinParam):\n",
    "            # spin-scaling of the exchange energy\n",
    "            return 0.5 * (self.get_edensityxc(densinfo.u * 2) + self.get_edensityxc(densinfo.d * 2))\n",
    "        else:\n",
    "            rho = densinfo.value.abs() + 1e-15  # safeguarding from nan\n",
    "            return self.a_par * rho ** self.p_par\n",
    "        \n",
    "    def get_edensityxc_derivative(self, densinfo, number_of_parameter):\n",
    "        # densinfo has up and down components\n",
    "        if isinstance(densinfo, dqc.utils.SpinParam):\n",
    "            # spin-scaling of the exchange energy\n",
    "            return 0.5 * (self.get_edensityxc_derivative(densinfo.u * 2, number_of_parameter) \n",
    "                          + self.get_edensityxc_derivative(densinfo.d * 2, number_of_parameter))\n",
    "        else:\n",
    "            rho = densinfo.value.abs() + 1e-15  # safeguarding from nan\n",
    "            if number_of_parameter == 0: # parameter a\n",
    "                return rho ** self.p_par\n",
    "            elif number_of_parameter == 1: # parameter p\n",
    "                return self.a_par * torch.log(rho) * rho ** self.p_par"
   ]
  },
  {
   "cell_type": "code",
   "execution_count": 6,
   "id": "205232f4",
   "metadata": {},
   "outputs": [],
   "source": [
    "a_par = torch.nn.Parameter(torch.tensor(1.0, dtype=torch.double))\n",
    "p_par = torch.nn.Parameter(torch.tensor(2.0, dtype=torch.double))\n",
    "myxc = MyLDAX(a_par, p_par)"
   ]
  },
  {
   "cell_type": "code",
   "execution_count": 7,
   "id": "fbe6aaac",
   "metadata": {
    "scrolled": true
   },
   "outputs": [
    {
     "name": "stdout",
     "output_type": "stream",
     "text": [
      "The 6-31G basis for atomz 8 does not exist, but we will download it\n",
      "Downloaded to /home/rolan/miniconda3/envs/noa-docs/lib/python3.9/site-packages/dqc/api/.database/6-31g/08.gaussian94\n",
      "The 6-31G basis for atomz 1 does not exist, but we will download it\n",
      "Downloaded to /home/rolan/miniconda3/envs/noa-docs/lib/python3.9/site-packages/dqc/api/.database/6-31g/01.gaussian94\n"
     ]
    },
    {
     "data": {
      "text/plain": [
       "tensor(-38.2050, dtype=torch.float64)"
      ]
     },
     "execution_count": 7,
     "metadata": {},
     "output_type": "execute_result"
    }
   ],
   "source": [
    "water = \"\"\"\n",
    "O        0.000000000      0.000000000      0.000000000;\n",
    "H        0.000000000      1.434938863      1.126357947;\n",
    "H        0.000000000     -1.434938863      1.126357947\n",
    "\"\"\"\n",
    "\n",
    "mol = dqc.Mol(moldesc=water, basis=\"6-31G\")\n",
    "qc = dqc.KS(mol, xc=myxc).run()\n",
    "ene = qc.energy()\n",
    "ene.detach()"
   ]
  },
  {
   "cell_type": "code",
   "execution_count": 24,
   "id": "a24d2df2",
   "metadata": {},
   "outputs": [
    {
     "name": "stdout",
     "output_type": "stream",
     "text": [
      "partial g: tensor([ 9.9156, 19.0426], dtype=torch.float64)\n",
      "adjoint: 15.576124348236934\n",
      "partial f: 46.60346291417592\n",
      "product: tensor([8.0394e-15, 3.9445e-14], dtype=torch.float64)\n"
     ]
    }
   ],
   "source": [
    "reload(evg);\n",
    "adapter = evg.DQCAdapter(qc)"
   ]
  },
  {
   "cell_type": "code",
   "execution_count": 6,
   "id": "714ac12d",
   "metadata": {},
   "outputs": [],
   "source": [
    "fockian = adapter.get_fockian()"
   ]
  },
  {
   "cell_type": "code",
   "execution_count": 7,
   "id": "cc3330eb",
   "metadata": {},
   "outputs": [],
   "source": [
    "coefficients = adapter.get_orbital_coefficients()"
   ]
  },
  {
   "cell_type": "code",
   "execution_count": 8,
   "id": "89b7eb5b",
   "metadata": {},
   "outputs": [],
   "source": [
    "orbital_energies = adapter.get_orbital_energies()"
   ]
  },
  {
   "cell_type": "code",
   "execution_count": 9,
   "id": "c3257ed0",
   "metadata": {},
   "outputs": [],
   "source": [
    "occupancy = adapter.get_orbital_occupancy()"
   ]
  },
  {
   "cell_type": "code",
   "execution_count": 10,
   "id": "8ff1a799",
   "metadata": {},
   "outputs": [],
   "source": [
    "number_of_occupied_orbitals = adapter.get_number_of_occupied_orbitals()"
   ]
  },
  {
   "cell_type": "markdown",
   "id": "90c1c6a6",
   "metadata": {},
   "source": [
    "# Calculating adjoint derivatives:"
   ]
  },
  {
   "cell_type": "markdown",
   "id": "f800900b",
   "metadata": {},
   "source": [
    "## Derivatives from energy:"
   ]
  },
  {
   "cell_type": "markdown",
   "id": "5cf9d566",
   "metadata": {},
   "source": [
    "### Calculating $\\frac{\\partial E[\\rho](\\vec{\\theta})}{\\partial \\textbf{C}}$"
   ]
  },
  {
   "cell_type": "markdown",
   "id": "fd4cef84",
   "metadata": {},
   "source": [
    "#### The first way to calculate derivative from energy with respect to coefficients:\n",
    "Every type of orbitals can be used"
   ]
  },
  {
   "cell_type": "markdown",
   "id": "2d9bce73",
   "metadata": {},
   "source": [
    "$$ \\frac{\\partial E[\\rho](\\vec{\\theta})}{\\partial C_{bj}} = 2f_b \\sum_i C_{bi}F_{ij}$$\n",
    "so\n",
    "$$ \\frac{\\partial E[\\rho](\\vec{\\theta})}{\\partial \\textbf{C}} = 2\\textbf{f}\\textbf{C}\\textbf{F}$$\n",
    "$\\textbf{f}$ here is matrix: $f_{ab}=\\delta_{ab}f_a$"
   ]
  },
  {
   "cell_type": "code",
   "execution_count": 11,
   "id": "195b02f6",
   "metadata": {},
   "outputs": [],
   "source": [
    "dE_wrt_dC_first_way = 2 * torch.einsum(\"b,ib,ij->bj\", occupancy, coefficients, fockian)"
   ]
  },
  {
   "cell_type": "code",
   "execution_count": 12,
   "id": "c7e88415",
   "metadata": {},
   "outputs": [
    {
     "data": {
      "text/plain": [
       "tensor(0., dtype=torch.float64)"
      ]
     },
     "execution_count": 12,
     "metadata": {},
     "output_type": "execute_result"
    }
   ],
   "source": [
    "dE_by_dC = 2 * occupancy.view((5,1)) * coefficients.t() @ fockian\n",
    "torch.dist(dE_by_dC, dE_wrt_dC_first_way)"
   ]
  },
  {
   "cell_type": "code",
   "execution_count": 14,
   "id": "4bd0f7ce",
   "metadata": {},
   "outputs": [
    {
     "name": "stdout",
     "output_type": "stream",
     "text": [
      "7.77 µs ± 130 ns per loop (mean ± std. dev. of 7 runs, 100,000 loops each)\n"
     ]
    }
   ],
   "source": [
    "%timeit occupancy.view((5,1)) * coefficients.t() @ fockian"
   ]
  },
  {
   "cell_type": "code",
   "execution_count": 15,
   "id": "3f908773",
   "metadata": {},
   "outputs": [
    {
     "name": "stdout",
     "output_type": "stream",
     "text": [
      "20.8 µs ± 199 ns per loop (mean ± std. dev. of 7 runs, 10,000 loops each)\n"
     ]
    }
   ],
   "source": [
    "%timeit torch.einsum(\"b,ib,ij->bj\", occupancy, coefficients, fockian)"
   ]
  },
  {
   "cell_type": "markdown",
   "id": "aa114351",
   "metadata": {},
   "source": [
    "#### The second way to calculate derivative from energy with respect to coefficients\n",
    "Only canonical (i.e. eigenfunctions of fockian) orbitals can be used"
   ]
  },
  {
   "cell_type": "markdown",
   "id": "d5c00c33",
   "metadata": {},
   "source": [
    "from the other hand, \n",
    "$$ \\frac{\\partial E[\\rho](\\vec{\\theta})}{\\partial C_{bj}} = 2f_b \\sum_i C_{bi}F_{ij} = 2f_b \\epsilon_b C_{bj}$$\n",
    "so\n",
    "$$ \\frac{\\partial E[\\rho](\\vec{\\theta})}{\\partial \\textbf{C}} = 2\\textbf{f}\\epsilon\\textbf{C}$$\n",
    "$\\epsilon$ here is matrix: $\\epsilon_{ab}=\\delta_{ab}\\epsilon_a$"
   ]
  },
  {
   "cell_type": "code",
   "execution_count": 16,
   "id": "ce7125a8",
   "metadata": {},
   "outputs": [],
   "source": [
    "dE_wrt_dC_second_way = 2 * torch.einsum(\"b,b,jb->bj\", occupancy, orbital_energies, coefficients)"
   ]
  },
  {
   "cell_type": "markdown",
   "id": "6b99fd94",
   "metadata": {},
   "source": [
    "Check that both ways lead to the same results:"
   ]
  },
  {
   "cell_type": "code",
   "execution_count": 17,
   "id": "74884155",
   "metadata": {},
   "outputs": [
    {
     "name": "stdout",
     "output_type": "stream",
     "text": [
      "tensor(8.4341e-14, dtype=torch.float64)\n"
     ]
    }
   ],
   "source": [
    "print(torch.linalg.matrix_norm(dE_wrt_dC_first_way - dE_wrt_dC_second_way))"
   ]
  },
  {
   "cell_type": "markdown",
   "id": "4125a801",
   "metadata": {},
   "source": [
    "### Calculating $\\frac{\\partial E[\\rho](\\vec{\\theta})}{\\partial \\vec{\\epsilon}}$"
   ]
  },
  {
   "cell_type": "markdown",
   "id": "4f28a9eb",
   "metadata": {},
   "source": [
    "$$\\frac{\\partial E[\\rho](\\vec{\\theta})}{\\partial \\epsilon_{b}} = 0$$ for all $\\epsilon_b$. So:"
   ]
  },
  {
   "cell_type": "code",
   "execution_count": 34,
   "id": "f114886f",
   "metadata": {},
   "outputs": [],
   "source": [
    "dE_wrt_depsilon = torch.zeros(number_of_occupied_orbitals)"
   ]
  },
  {
   "cell_type": "markdown",
   "id": "76446fb9",
   "metadata": {},
   "source": [
    "## Derivatives from normalization equations:"
   ]
  },
  {
   "cell_type": "markdown",
   "id": "a11c1afb",
   "metadata": {},
   "source": [
    "### Calculating $\\frac{\\partial \\vec{r}(\\textbf{C})}{\\partial \\textbf{C}}$"
   ]
  },
  {
   "cell_type": "markdown",
   "id": "ca72aade",
   "metadata": {},
   "source": [
    "$$\\frac{\\partial r_{a}(\\textbf{C})}{\\partial C_{ck}} = 2\\delta_{ac}C_{ck}$$\n"
   ]
  },
  {
   "cell_type": "code",
   "execution_count": 18,
   "id": "4e4c044a",
   "metadata": {},
   "outputs": [],
   "source": [
    "occupied_orbitals_kronecker = torch.eye(number_of_occupied_orbitals)"
   ]
  },
  {
   "cell_type": "code",
   "execution_count": 19,
   "id": "bc74d797",
   "metadata": {},
   "outputs": [],
   "source": [
    "dnorm_wrt_dC = 2 * torch.einsum(\"ac,kc->kac\", occupied_orbitals_kronecker, coefficients)"
   ]
  },
  {
   "cell_type": "markdown",
   "id": "f7046e72",
   "metadata": {},
   "source": [
    "### Calculating $\\frac{\\partial \\vec{r}(\\textbf{C})}{\\partial \\vec{\\epsilon}}$"
   ]
  },
  {
   "cell_type": "markdown",
   "id": "1d67466c",
   "metadata": {},
   "source": [
    "$$\\frac{\\partial r_{a}(\\textbf{C})}{\\partial \\epsilon_b} = 0$$\n"
   ]
  },
  {
   "cell_type": "code",
   "execution_count": 20,
   "id": "7809a6de",
   "metadata": {},
   "outputs": [],
   "source": [
    "dnorm_wrt_depsilon = torch.zeros((number_of_occupied_orbitals, number_of_occupied_orbitals))"
   ]
  },
  {
   "cell_type": "markdown",
   "id": "e10baf35",
   "metadata": {},
   "source": [
    "## Derivatives from Roothan equations:"
   ]
  },
  {
   "cell_type": "markdown",
   "id": "8841b93a",
   "metadata": {},
   "source": [
    "### Calculating $\\frac{\\partial \\textbf{r}(\\textbf{C};\\;\\vec{\\theta})}{\\partial \\textbf{C}}$"
   ]
  },
  {
   "cell_type": "markdown",
   "id": "606bd6cc",
   "metadata": {},
   "source": [
    "$$G_{Cou, ijkl} = \\iint b_i(\\vec{r}) \\frac{b_k(\\vec{r'})b_l(\\vec{r'})}{|\\vec{r}-\\vec{r'}|} b_j(\\vec{r})d\\vec{r'}d\\vec{r}$$\n",
    "$$G_{XC, ijkl} = \n",
    "\\int b_i(\\vec{r}) b_k(\\vec{r}) \\frac{\\partial V_{XC}[\\rho](\\vec{r};\\;\\vec{\\theta})}{\\partial \\rho(\\vec{r})}b_l(\\vec{r})b_j(\\vec{r})d\\vec{r}$$\n",
    "$$\\frac{\\partial r_{ia}(\\textbf{C};\\;\\vec{\\theta})}{\\partial C_{ck}} = \n",
    "(F_{ik}[\\rho](\\vec{\\theta}) - \\epsilon_c\\delta_{ik})\\delta_{ac} +\n",
    "2f_c\\sum_j \\sum_{l}C_{cl}\\left(G_{Cou,ijkl} + G_{XC,ijkl}\\right)C_{aj}\n",
    "$$"
   ]
  },
  {
   "cell_type": "markdown",
   "id": "f4efb0f5",
   "metadata": {},
   "source": [
    "First term:"
   ]
  },
  {
   "cell_type": "code",
   "execution_count": 21,
   "id": "555fd2e4",
   "metadata": {},
   "outputs": [],
   "source": [
    "number_of_all_orbitals = adapter.get_number_of_all_orbitals()\n",
    "all_orbitals_kronecker = torch.eye(number_of_all_orbitals)\n",
    "dRoothan_wrt_dC_first_term = torch.einsum(\"ik,ac->iakc\", fockian, occupied_orbitals_kronecker)\n",
    "dRoothan_wrt_dC_first_term -= torch.einsum(\"c,ik,ac->iakc\", orbital_energies, all_orbitals_kronecker, occupied_orbitals_kronecker)"
   ]
  },
  {
   "cell_type": "markdown",
   "id": "63e2aede",
   "metadata": {},
   "source": [
    "Second term:\n",
    "(NB: fourDtensor loses symmetry of XC-tensor):"
   ]
  },
  {
   "cell_type": "code",
   "execution_count": 22,
   "id": "66e19b9a",
   "metadata": {},
   "outputs": [],
   "source": [
    "fourDtensor = adapter.get_four_center_elrep_tensor() + adapter.get_four_center_xc_tensor()\n",
    "dRoothan_wrt_dC_second_term = 2 * torch.einsum(\"c,ijkl,lc,ja->iakc\", occupancy, fourDtensor, coefficients, coefficients)"
   ]
  },
  {
   "cell_type": "markdown",
   "id": "72642a50",
   "metadata": {},
   "source": [
    "The sum:"
   ]
  },
  {
   "cell_type": "code",
   "execution_count": 23,
   "id": "f36154e7",
   "metadata": {},
   "outputs": [],
   "source": [
    "dRoothan_wrt_dC = dRoothan_wrt_dC_first_term + dRoothan_wrt_dC_second_term"
   ]
  },
  {
   "cell_type": "markdown",
   "id": "39bbf2eb",
   "metadata": {},
   "source": [
    "### Calculating $\\frac{\\partial \\textbf{r}(\\textbf{C};\\;\\vec{\\theta})}{\\partial \\vec{\\epsilon}}$\n"
   ]
  },
  {
   "cell_type": "markdown",
   "id": "da7bdd70",
   "metadata": {},
   "source": [
    "$$\\frac{\\partial r_{ia}(\\textbf{C};\\;\\vec{\\theta})}{\\partial \\epsilon_{c}} = -\\delta_{ac}C_{ai}$$"
   ]
  },
  {
   "cell_type": "code",
   "execution_count": 32,
   "id": "aa1e1f0d",
   "metadata": {},
   "outputs": [],
   "source": [
    "dRoothan_wrt_depsilon = -1 * torch.einsum(\"ac,ia->iac\", occupied_orbitals_kronecker, coefficients)"
   ]
  },
  {
   "cell_type": "markdown",
   "id": "0e2698f6",
   "metadata": {},
   "source": [
    "# Calculate adjoint vector"
   ]
  },
  {
   "cell_type": "markdown",
   "id": "c021b34a",
   "metadata": {},
   "source": [
    "## Concatenate tensors:"
   ]
  },
  {
   "cell_type": "markdown",
   "id": "907941ca",
   "metadata": {},
   "source": [
    "### $\\frac{\\partial E}{\\partial \\vec{X}}$"
   ]
  },
  {
   "cell_type": "markdown",
   "id": "13cb5aee",
   "metadata": {},
   "source": [
    "$$\\left( \\frac{\\partial E}{\\partial \\vec{X}} \\right)_{N_{ao}j+c} =  \\begin{cases}\n",
    "   \\frac{\\partial E}{\\partial С_{cj}} &\\text{if $0 \\le j < N_{orb}$} \\\\\n",
    "   \\frac{\\partial E}{\\partial \\epsilon_{c}} &\\text{if $j = N_{orb}$}\n",
    " \\end{cases}$$"
   ]
  },
  {
   "cell_type": "code",
   "execution_count": 45,
   "id": "eeac91d0",
   "metadata": {
    "scrolled": true
   },
   "outputs": [
    {
     "name": "stdout",
     "output_type": "stream",
     "text": [
      "torch.Size([5, 1])\n",
      "torch.Size([5, 13])\n",
      "torch.Size([5, 14])\n",
      "torch.Size([70])\n"
     ]
    }
   ],
   "source": [
    "print(dE_wrt_depsilon.unsqueeze(-1).size())\n",
    "print(dE_wrt_dC_second_way.size())\n",
    "dE_wrt_dX = torch.cat((dE_wrt_dC_second_way, dE_wrt_depsilon.unsqueeze(-1)), 1)\n",
    "print(dE_wrt_dX.size())\n",
    "dE_wrt_dX = dE_wrt_dX.t().reshape(-1,)\n",
    "print(dE_wrt_dX.size())"
   ]
  },
  {
   "cell_type": "markdown",
   "id": "9e0d65c7",
   "metadata": {},
   "source": [
    "Check it:"
   ]
  },
  {
   "cell_type": "code",
   "execution_count": 23,
   "id": "ab8faac9",
   "metadata": {},
   "outputs": [],
   "source": [
    "for j in range(number_of_all_orbitals + 1):\n",
    "    for c in range(number_of_occupied_orbitals):\n",
    "        index = number_of_occupied_orbitals * j + c\n",
    "        if (j < number_of_all_orbitals):\n",
    "            assert(dE_wrt_dX[index] == dE_wrt_dC_second_way[c][j])\n",
    "        else:\n",
    "            assert(dE_wrt_dX[index] == dE_wrt_depsilon[c])"
   ]
  },
  {
   "cell_type": "markdown",
   "id": "f98e8e7c",
   "metadata": {},
   "source": [
    "### $\\frac{\\partial \\vec{Y}}{\\partial \\vec{X}}$"
   ]
  },
  {
   "cell_type": "markdown",
   "id": "4c4b930d",
   "metadata": {},
   "source": [
    "$$\\left( \\frac{\\partial \\vec{Y}}{\\partial \\vec{X}} \\right)_{N_{ao}i+a,N_{ao}j+c} =  \\begin{cases}\n",
    "   \\frac{\\partial r_{ia}}{\\partial С_{cj}} &\\text{if $0 \\le i < N_{orb}$ and $0 \\le j < N_{orb}$} \\\\\n",
    "   \\frac{\\partial r_{ia}}{\\partial \\epsilon_{c}} &\\text{if $0 \\le i < N_{orb}$ and $j = N_{orb}$} \\\\\n",
    "   \\frac{\\partial r_{a}}{\\partial С_{cj}} &\\text{if $i = N_{orb}$ and $0 \\le j < N_{orb}$} \\\\\n",
    "   \\frac{\\partial r_{a}}{\\partial \\epsilon_{c}} &\\text{if $i = N_{orb}$ and $j = N_{orb}$}\n",
    " \\end{cases}$$"
   ]
  },
  {
   "cell_type": "code",
   "execution_count": 46,
   "id": "4f3825fd",
   "metadata": {},
   "outputs": [
    {
     "name": "stdout",
     "output_type": "stream",
     "text": [
      "torch.Size([13, 5, 13, 5]) => torch.Size([65, 65])\n",
      "torch.Size([13, 5, 5]) => torch.Size([65, 5])\n",
      "torch.Size([65, 65]) + torch.Size([65, 5]) = torch.Size([65, 70])\n"
     ]
    }
   ],
   "source": [
    "nao_norb_product = number_of_all_orbitals * number_of_occupied_orbitals\n",
    "upper_left = dRoothan_wrt_dC.reshape((nao_norb_product,nao_norb_product))\n",
    "print(dRoothan_wrt_dC.size(), \"=>\", upper_left.size())\n",
    "upper_right = dRoothan_wrt_depsilon.reshape((nao_norb_product, number_of_occupied_orbitals))\n",
    "print(dRoothan_wrt_depsilon.size(), \"=>\", upper_right.size())\n",
    "upper = torch.cat((upper_left, upper_right), 1)\n",
    "print(upper_left.size(), \"+\", upper_right.size(), \"=\", upper.size())"
   ]
  },
  {
   "cell_type": "code",
   "execution_count": 47,
   "id": "00e2a788",
   "metadata": {},
   "outputs": [
    {
     "name": "stdout",
     "output_type": "stream",
     "text": [
      "torch.Size([13, 5, 5]) => torch.Size([5, 65])\n",
      "torch.Size([5, 65]) + torch.Size([5, 5]) = torch.Size([5, 70])\n"
     ]
    }
   ],
   "source": [
    "lower_left = dnorm_wrt_dC.reshape(nao_norb_product, number_of_occupied_orbitals).t()\n",
    "print(dnorm_wrt_dC.size(), \"=>\", lower_left.size())\n",
    "lower = torch.cat((lower_left, dnorm_wrt_depsilon), 1)\n",
    "print(lower_left.size(), \"+\", dnorm_wrt_depsilon.size(), \"=\", lower.size())"
   ]
  },
  {
   "cell_type": "code",
   "execution_count": 49,
   "id": "44994869",
   "metadata": {},
   "outputs": [
    {
     "name": "stdout",
     "output_type": "stream",
     "text": [
      "torch.Size([65, 70]) + torch.Size([5, 70]) = torch.Size([70, 70])\n"
     ]
    }
   ],
   "source": [
    "dY_wrt_dX = torch.cat((upper, lower), 0)\n",
    "print(upper.size(), \"+\", lower.size(), \"=\", dY_wrt_dX.size())"
   ]
  },
  {
   "cell_type": "markdown",
   "id": "f1e57a64",
   "metadata": {},
   "source": [
    "Check it:"
   ]
  },
  {
   "cell_type": "code",
   "execution_count": 27,
   "id": "f9dab092",
   "metadata": {},
   "outputs": [],
   "source": [
    "for i in range(number_of_all_orbitals + 1):\n",
    "    for a in range(number_of_occupied_orbitals):\n",
    "        for j in range(number_of_all_orbitals + 1):\n",
    "            for c in range(number_of_occupied_orbitals):\n",
    "                index = (number_of_occupied_orbitals * i + a, number_of_occupied_orbitals * j + c)\n",
    "                if (i < number_of_all_orbitals):\n",
    "                    if (j < number_of_all_orbitals):\n",
    "                        assert(dY_wrt_dX[index[0]][index[1]] == dRoothan_wrt_dC[i][a][j][c]),(i,a,j,c)\n",
    "                    else:\n",
    "                        assert(dY_wrt_dX[index[0]][index[1]] == dRoothan_wrt_depsilon[i][a][c]),(i,a,c)\n",
    "                else:\n",
    "                    if (j < number_of_all_orbitals):\n",
    "                        assert(dY_wrt_dX[index[0]][index[1]] == dnorm_wrt_dC[j][a][c]),(j,a,c)\n",
    "                    else:\n",
    "                        assert(dY_wrt_dX[index[0]][index[1]] == dnorm_wrt_depsilon[a][c]),(a,c)"
   ]
  },
  {
   "cell_type": "markdown",
   "id": "85d3ee3e",
   "metadata": {},
   "source": [
    "## Find inverse matrix of $\\frac{\\partial \\vec{Y}}{\\partial \\vec{X}}$"
   ]
  },
  {
   "cell_type": "code",
   "execution_count": 50,
   "id": "69e5ac76",
   "metadata": {},
   "outputs": [
    {
     "name": "stdout",
     "output_type": "stream",
     "text": [
      "torch.Size([70, 70])\n"
     ]
    }
   ],
   "source": [
    "dY_wrt_dX_inverse = torch.linalg.inv(dY_wrt_dX)\n",
    "print(dY_wrt_dX_inverse.size())"
   ]
  },
  {
   "cell_type": "code",
   "execution_count": 51,
   "id": "852dcffd",
   "metadata": {},
   "outputs": [
    {
     "data": {
      "text/plain": [
       "tensor(7.8064e-13, dtype=torch.float64)"
      ]
     },
     "execution_count": 51,
     "metadata": {},
     "output_type": "execute_result"
    }
   ],
   "source": [
    "torch.linalg.matrix_norm((dY_wrt_dX_inverse @ dY_wrt_dX) - torch.eye(dY_wrt_dX.shape[0]))\n",
    "torch.linalg.matrix_norm((dY_wrt_dX @ dY_wrt_dX_inverse) - torch.eye(dY_wrt_dX.shape[0]))"
   ]
  },
  {
   "cell_type": "markdown",
   "id": "f56ab985",
   "metadata": {},
   "source": [
    "## Find adjoint vector:"
   ]
  },
  {
   "cell_type": "code",
   "execution_count": 61,
   "id": "5eac3431",
   "metadata": {},
   "outputs": [
    {
     "name": "stdout",
     "output_type": "stream",
     "text": [
      "torch.Size([70])\n"
     ]
    }
   ],
   "source": [
    "adjoint_vector = torch.matmul(dY_wrt_dX_inverse, dE_wrt_dX)\n",
    "print(adjoint_vector.size())"
   ]
  },
  {
   "cell_type": "markdown",
   "id": "97a2fb89",
   "metadata": {},
   "source": [
    "# Calculating derivatives with respect to parameters"
   ]
  },
  {
   "cell_type": "markdown",
   "id": "f4a5a6a4",
   "metadata": {},
   "source": [
    "## Derivative from energy: $\\frac{\\partial E[\\rho](\\vec{\\theta})}{\\partial \\vec{\\theta}}$"
   ]
  },
  {
   "cell_type": "markdown",
   "id": "6615dcb6",
   "metadata": {},
   "source": [
    "$$ \\frac{\\partial E[\\rho](\\vec{\\theta})}{\\partial \\vec{\\theta}} = \n",
    " \\int  \\frac{\\partial \\rho(\\vec{r})\\epsilon_{XC}[\\rho](\\vec{r};\\;\\vec{\\theta})}{\\partial \\vec{\\theta}}d\\vec{r} \n",
    "$$\n",
    "so we just can put $\\frac{\\partial \\rho(\\vec{r})\\epsilon_{XC}[\\rho](\\vec{r};\\;\\vec{\\theta})}{\\partial \\vec{\\theta}}$ instead of $\\rho(\\vec{r})\\epsilon_{XC}[\\rho](\\vec{r};\\;\\vec{\\theta})$ to DQC calculation."
   ]
  },
  {
   "cell_type": "code",
   "execution_count": 67,
   "id": "c3fd3ec9",
   "metadata": {},
   "outputs": [
    {
     "name": "stdout",
     "output_type": "stream",
     "text": [
      "torch.Size([2])\n"
     ]
    }
   ],
   "source": [
    "dE_wrt_dtheta = adapter.get_derivative_of_exc_wrt_theta()\n",
    "print(dE_wrt_dtheta.size())"
   ]
  },
  {
   "cell_type": "markdown",
   "id": "65b5b737",
   "metadata": {},
   "source": [
    "## Derivative from normalization equations:"
   ]
  },
  {
   "cell_type": "markdown",
   "id": "ae40090f",
   "metadata": {},
   "source": [
    "$$\\frac{\\partial r_{a}(\\textbf{C})}{\\partial\\vec{\\theta}}= 0$$ so"
   ]
  },
  {
   "cell_type": "code",
   "execution_count": 66,
   "id": "7d4eac7b",
   "metadata": {},
   "outputs": [
    {
     "name": "stdout",
     "output_type": "stream",
     "text": [
      "torch.Size([5, 2])\n"
     ]
    }
   ],
   "source": [
    "number_of_parameters = adapter.get_number_of_parameters()\n",
    "dnorm_wrt_dtheta = torch.zeros(number_of_occupied_orbitals, number_of_parameters)\n",
    "print(dnorm_wrt_dtheta.size())"
   ]
  },
  {
   "cell_type": "markdown",
   "id": "90d18aa9",
   "metadata": {},
   "source": [
    "## Derivative from Roothan equations: "
   ]
  },
  {
   "cell_type": "markdown",
   "id": "6a666731",
   "metadata": {},
   "source": [
    "$$\\frac{\\partial r_{ia}(\\textbf{C};\\;\\vec{\\theta})}{\\partial \\vec{\\theta}} =\n",
    "\\sum_j C_{aj}\\int b_i(\\vec{r}) \\frac{\\partial V_{XC}[\\rho](\\vec{r};\\;\\vec{\\theta})}{\\partial \\vec{\\theta}} b_j(\\vec{r})d\\vec{r}$$\n",
    "\n",
    "As we know, $$V_{XC}[\\rho](\\vec{r};\\;\\vec{\\theta}) = \\frac{\\partial E_{XC}[\\rho]}{\\partial\\rho(\\vec{r})} = \\frac{\\partial \\rho(\\vec{r})\\epsilon_{XC}[\\rho](\\vec{r};\\;\\vec{\\theta})}{\\partial\\rho(\\vec{r})}$$\n",
    "So\n",
    "\n",
    "$$\\frac{\\partial r_{ia}(\\textbf{C};\\;\\vec{\\theta})}{\\partial \\vec{\\theta}} =\n",
    "\\sum_j C_{aj}\\int b_i(\\vec{r}) \\frac{\\partial\\rho(\\vec{r})\\epsilon_{XC}[\\rho](\\vec{r};\\;\\vec{\\theta})}{\\partial \\vec{\\theta}\\partial\\rho(\\vec{r})} b_j(\\vec{r})d\\vec{r} = \n",
    "\\sum_j C_{aj}\\int b_i(\\vec{r}) \\frac{ \\frac{\\partial \\rho(\\vec{r})\\epsilon_{XC}[\\rho](\\vec{r};\\;\\vec{\\theta})}{\\partial \\vec{\\theta}}}{\\partial\\rho(\\vec{r})} b_j(\\vec{r})d\\vec{r}\n",
    "$$\n",
    "It means, we can use $\\frac{\\partial \\rho(\\vec{r})\\epsilon_{XC}[\\rho](\\vec{r};\\;\\vec{\\theta})}{\\partial \\vec{\\theta}}$ instead of $\\rho(\\vec{r})\\epsilon_{XC}[\\rho](\\vec{r};\\;\\vec{\\theta})$ in DQC function`get_vxc()`and get suitable result. This function takes densinfo and takes functional derivative with respect to density."
   ]
  },
  {
   "cell_type": "code",
   "execution_count": 63,
   "id": "d47c98b0",
   "metadata": {},
   "outputs": [],
   "source": [
    "dvxc_wrt_dtheta = adapter.get_derivative_of_vxc_wrt_theta()"
   ]
  },
  {
   "cell_type": "code",
   "execution_count": 64,
   "id": "0ae8573d",
   "metadata": {},
   "outputs": [],
   "source": [
    "dRoothan_wrt_dtheta = torch.einsum(\"ijt,ja->iat\", dvxc_wrt_dtheta, coefficients)"
   ]
  },
  {
   "cell_type": "markdown",
   "id": "67247347",
   "metadata": {},
   "source": [
    "# Concatenate derivatives with respect to parameters"
   ]
  },
  {
   "cell_type": "code",
   "execution_count": 68,
   "id": "f7c2ae2e",
   "metadata": {},
   "outputs": [
    {
     "name": "stdout",
     "output_type": "stream",
     "text": [
      "torch.Size([13, 5, 2]) => torch.Size([65, 2])\n",
      "torch.Size([70, 2])\n"
     ]
    }
   ],
   "source": [
    "dY_wrt_dtheta = dRoothan_wrt_dtheta.reshape(nao_norb_product, number_of_parameters)\n",
    "print(dRoothan_wrt_dtheta.size(), \"=>\", dY_wrt_dtheta.size())\n",
    "dY_wrt_dtheta = torch.cat((dY_wrt_dtheta, dnorm_wrt_dtheta), 0)\n",
    "print(dY_wrt_dtheta.size())"
   ]
  },
  {
   "cell_type": "markdown",
   "id": "74a2eec0",
   "metadata": {},
   "source": [
    "Check it:"
   ]
  },
  {
   "cell_type": "code",
   "execution_count": 69,
   "id": "01f9a626",
   "metadata": {},
   "outputs": [],
   "source": [
    "for t in range(number_of_parameters):\n",
    "    for i in range(number_of_all_orbitals + 1):\n",
    "        for a in range(number_of_occupied_orbitals):\n",
    "            index = number_of_occupied_orbitals * i + a\n",
    "            if (i < number_of_all_orbitals):\n",
    "                assert(dY_wrt_dtheta[index][t] == dRoothan_wrt_dtheta[i][a][t]),(i,a,t)\n",
    "            else:\n",
    "                assert(dY_wrt_dtheta[index][t] == dnorm_wrt_dtheta[a][t]),(a,t)"
   ]
  },
  {
   "cell_type": "markdown",
   "id": "34cc06a1",
   "metadata": {},
   "source": [
    "# Total derivative:"
   ]
  },
  {
   "cell_type": "code",
   "execution_count": 72,
   "id": "fff35c9e",
   "metadata": {},
   "outputs": [
    {
     "name": "stdout",
     "output_type": "stream",
     "text": [
      "partial derivative: tensor([ 9.9156, 19.0426], dtype=torch.float64, grad_fn=<CatBackward0>)\n",
      "tensor([9.3625e-15, 3.5054e-14], dtype=torch.float64,\n",
      "       grad_fn=<SqueezeBackward3>)\n",
      "full derivative: tensor([ 9.9156, 19.0426], dtype=torch.float64, grad_fn=<SubBackward0>)\n"
     ]
    }
   ],
   "source": [
    "print(\"partial derivative:\", dE_wrt_dtheta)\n",
    "print(torch.matmul(adjoint_vector, dY_wrt_dtheta))\n",
    "total_dE_wrt_dtheta = dE_wrt_dtheta - torch.matmul(adjoint_vector, dY_wrt_dtheta)\n",
    "print(\"full derivative:\", total_dE_wrt_dtheta)"
   ]
  },
  {
   "cell_type": "code",
   "execution_count": 10,
   "id": "fdecbbda",
   "metadata": {},
   "outputs": [],
   "source": [
    "def DQC_calculation_tensors(system, a, p):\n",
    "    atomzs, atomposs = dqc.parse_moldesc(system)\n",
    "    mol = dqc.Mol((atomzs, atomposs), basis=\"6-31G\")\n",
    "    myxc = MyLDAX(a, p)\n",
    "    qc = dqc.KS(mol, xc=myxc).run()\n",
    "    return qc\n",
    "\n",
    "def DQC_calculation(system, a_value, p_value):\n",
    "    a = torch.nn.Parameter(torch.tensor(a_value, dtype=torch.double))\n",
    "    p = torch.nn.Parameter(torch.tensor(p_value, dtype=torch.double))\n",
    "    return DQC_calculation_tensors(system, a, p)\n",
    "\n",
    "def finite_difference(system, a_value, p_value, coeff=0.000001):\n",
    "    y = DQC_calculation(system, a_value, p_value).energy().detach()\n",
    "    da = a_value * coeff\n",
    "    dp = p_value * coeff\n",
    "    y_plus_dy_a = DQC_calculation(system, a_value+da, p_value)\n",
    "    y_plus_dy_p = DQC_calculation(system, a_value, p_value+dp)\n",
    "    dy_wrt_da = (y_plus_dy_a.energy().detach() - y) / da\n",
    "    dy_wrt_dp = (y_plus_dy_p.energy().detach() - y) / dp\n",
    "    return torch.tensor((dy_wrt_da, dy_wrt_dp))\n",
    "\n",
    "def reverse_mode(system, a_value, p_value):\n",
    "    a = torch.nn.Parameter(torch.tensor(a_value, dtype=torch.double))\n",
    "    p = torch.nn.Parameter(torch.tensor(p_value, dtype=torch.double))\n",
    "    ene = DQC_calculation_tensors(system, a, p).energy()\n",
    "    grad_a, grad_p = torch.autograd.grad(ene, (a, p))\n",
    "    print(ene.detach())\n",
    "    return torch.tensor((grad_a, grad_p))\n",
    "\n",
    "def adjoint_method(system, a_value, p_value):\n",
    "    qc = DQC_calculation(system, a_value, p_value)\n",
    "    adapter = evg.DQCAdapter(qc)\n",
    "    return adapter.get_derivative()"
   ]
  },
  {
   "cell_type": "code",
   "execution_count": 73,
   "id": "1c3b60a2",
   "metadata": {},
   "outputs": [
    {
     "name": "stdout",
     "output_type": "stream",
     "text": [
      "tensor(-38.2050, dtype=torch.float64)\n"
     ]
    },
    {
     "data": {
      "text/plain": [
       "tensor([ 9.9156, 19.0426], dtype=torch.float64)"
      ]
     },
     "execution_count": 73,
     "metadata": {},
     "output_type": "execute_result"
    }
   ],
   "source": [
    "reverse_mode(water, 1.0, 2.0)"
   ]
  },
  {
   "cell_type": "code",
   "execution_count": 74,
   "id": "4cb1ed4e",
   "metadata": {},
   "outputs": [
    {
     "data": {
      "text/plain": [
       "tensor([ 9.9156, 19.0426], dtype=torch.float64)"
      ]
     },
     "execution_count": 74,
     "metadata": {},
     "output_type": "execute_result"
    }
   ],
   "source": [
    "finite_difference(water, 1.0, 2.0)"
   ]
  },
  {
   "cell_type": "code",
   "execution_count": 25,
   "id": "c6c3dacc",
   "metadata": {},
   "outputs": [
    {
     "name": "stdout",
     "output_type": "stream",
     "text": [
      "partial g: tensor([ 9.9156, 19.0426], dtype=torch.float64)\n",
      "adjoint: 15.576124348236934\n",
      "partial f: 46.60346291417592\n",
      "product: tensor([8.0394e-15, 3.9445e-14], dtype=torch.float64)\n"
     ]
    },
    {
     "data": {
      "text/plain": [
       "tensor([ 9.9156, 19.0426], dtype=torch.float64)"
      ]
     },
     "execution_count": 25,
     "metadata": {},
     "output_type": "execute_result"
    }
   ],
   "source": [
    "adjoint_method(water, 1.0, 2.0)"
   ]
  },
  {
   "cell_type": "code",
   "execution_count": 13,
   "id": "b0511a58",
   "metadata": {},
   "outputs": [
    {
     "name": "stdout",
     "output_type": "stream",
     "text": [
      "tensor(-0.4216, dtype=torch.float64)\n"
     ]
    },
    {
     "data": {
      "text/plain": [
       "tensor([ 0.0885, -0.2367], dtype=torch.float64)"
      ]
     },
     "execution_count": 13,
     "metadata": {},
     "output_type": "execute_result"
    }
   ],
   "source": [
    "h2_system = \"H 0 0 0; H 1.4 0 0\"\n",
    "reverse_mode(h2_system, 1.0, 2.0)"
   ]
  },
  {
   "cell_type": "code",
   "execution_count": 16,
   "id": "9a4f8977",
   "metadata": {},
   "outputs": [
    {
     "data": {
      "text/plain": [
       "tensor([ 0.0885, -0.2367], dtype=torch.float64)"
      ]
     },
     "execution_count": 16,
     "metadata": {},
     "output_type": "execute_result"
    }
   ],
   "source": [
    "finite_difference(h2_system, 1.0, 2.0)"
   ]
  },
  {
   "cell_type": "code",
   "execution_count": 26,
   "id": "cf5ba5e8",
   "metadata": {},
   "outputs": [
    {
     "name": "stdout",
     "output_type": "stream",
     "text": [
      "partial g: tensor([ 0.0885, -0.2367], dtype=torch.float64)\n",
      "adjoint: 0.048828658997428526\n",
      "partial f: 0.2578241139072411\n",
      "product: tensor([-1.7153e-18,  2.5180e-18], dtype=torch.float64)\n"
     ]
    },
    {
     "data": {
      "text/plain": [
       "tensor([ 0.0885, -0.2367], dtype=torch.float64)"
      ]
     },
     "execution_count": 26,
     "metadata": {},
     "output_type": "execute_result"
    }
   ],
   "source": [
    "adjoint_method(h2_system, 1.0, 2.0)"
   ]
  },
  {
   "cell_type": "code",
   "execution_count": 18,
   "id": "1191fe4d",
   "metadata": {},
   "outputs": [
    {
     "name": "stdout",
     "output_type": "stream",
     "text": [
      "tensor(-0.5196, dtype=torch.float64)\n"
     ]
    },
    {
     "data": {
      "text/plain": [
       "tensor([ 1.5659e-08, -1.0437e-06], dtype=torch.float64)"
      ]
     },
     "execution_count": 18,
     "metadata": {},
     "output_type": "execute_result"
    }
   ],
   "source": [
    "reverse_mode(h2_system, 44, 11)"
   ]
  },
  {
   "cell_type": "code",
   "execution_count": 19,
   "id": "147b1100",
   "metadata": {},
   "outputs": [
    {
     "data": {
      "text/plain": [
       "tensor([ 1.5654e-08, -1.0438e-06], dtype=torch.float64)"
      ]
     },
     "execution_count": 19,
     "metadata": {},
     "output_type": "execute_result"
    }
   ],
   "source": [
    "finite_difference(h2_system, 44, 11)"
   ]
  },
  {
   "cell_type": "code",
   "execution_count": 27,
   "id": "c9b696db",
   "metadata": {},
   "outputs": [
    {
     "name": "stdout",
     "output_type": "stream",
     "text": [
      "partial g: tensor([ 1.5659e-08, -1.0437e-06], dtype=torch.float64)\n",
      "adjoint: 0.18948747907059468\n",
      "partial f: 1.0588627019790408e-05\n",
      "product: tensor([ 3.5226e-23, -2.1861e-21], dtype=torch.float64)\n"
     ]
    },
    {
     "data": {
      "text/plain": [
       "tensor([ 1.5659e-08, -1.0437e-06], dtype=torch.float64)"
      ]
     },
     "execution_count": 27,
     "metadata": {},
     "output_type": "execute_result"
    }
   ],
   "source": [
    "adjoint_method(h2_system, 44, 11)"
   ]
  },
  {
   "cell_type": "code",
   "execution_count": 21,
   "id": "3742fbb7",
   "metadata": {},
   "outputs": [
    {
     "name": "stdout",
     "output_type": "stream",
     "text": [
      "The 6-31G basis for atomz 7 does not exist, but we will download it\n",
      "Downloaded to /home/rolan/miniconda3/envs/noa-docs/lib/python3.9/site-packages/dqc/api/.database/6-31g/07.gaussian94\n"
     ]
    },
    {
     "name": "stderr",
     "output_type": "stream",
     "text": [
      "/home/rolan/miniconda3/envs/noa-docs/lib/python3.9/site-packages/xitorch/_impls/optimize/root/rootsolver.py:163: ConvergenceWarning: The rootfinder does not converge after 50 iterations. Best |dx|=2.810e-02, |f|=3.013e-01 at iter 39\n",
      "  warnings.warn(ConvergenceWarning(msg))\n"
     ]
    },
    {
     "name": "stdout",
     "output_type": "stream",
     "text": [
      "tensor(-54.3529, dtype=torch.float64)\n"
     ]
    },
    {
     "data": {
      "text/plain": [
       "tensor([14.7435, 25.8682], dtype=torch.float64)"
      ]
     },
     "execution_count": 21,
     "metadata": {},
     "output_type": "execute_result"
    }
   ],
   "source": [
    "n2_system = \"N 0 0 0; N 2.07 0 0\"\n",
    "reverse_mode(n2_system, 1.0, 2.0)"
   ]
  },
  {
   "cell_type": "code",
   "execution_count": 28,
   "id": "7d51e639",
   "metadata": {},
   "outputs": [
    {
     "name": "stderr",
     "output_type": "stream",
     "text": [
      "/home/rolan/miniconda3/envs/noa-docs/lib/python3.9/site-packages/xitorch/_impls/optimize/root/rootsolver.py:163: ConvergenceWarning: The rootfinder does not converge after 50 iterations. Best |dx|=2.810e-02, |f|=3.013e-01 at iter 39\n",
      "  warnings.warn(ConvergenceWarning(msg))\n",
      "/home/rolan/miniconda3/envs/noa-docs/lib/python3.9/site-packages/xitorch/_impls/optimize/root/rootsolver.py:163: ConvergenceWarning: The rootfinder does not converge after 50 iterations. Best |dx|=2.862e-02, |f|=2.400e-01 at iter 31\n",
      "  warnings.warn(ConvergenceWarning(msg))\n",
      "/home/rolan/miniconda3/envs/noa-docs/lib/python3.9/site-packages/xitorch/_impls/optimize/root/rootsolver.py:163: ConvergenceWarning: The rootfinder does not converge after 50 iterations. Best |dx|=1.865e-01, |f|=2.699e-01 at iter 46\n",
      "  warnings.warn(ConvergenceWarning(msg))\n"
     ]
    },
    {
     "data": {
      "text/plain": [
       "tensor([13.0084, 24.6871], dtype=torch.float64)"
      ]
     },
     "execution_count": 28,
     "metadata": {},
     "output_type": "execute_result"
    }
   ],
   "source": [
    "finite_difference(n2_system, 1.0, 2.0, 0.01)"
   ]
  },
  {
   "cell_type": "code",
   "execution_count": 29,
   "id": "5f6082f8",
   "metadata": {},
   "outputs": [
    {
     "name": "stdout",
     "output_type": "stream",
     "text": [
      "partial g: tensor([14.8463, 26.2175], dtype=torch.float64)\n",
      "adjoint: 16.737336037940327\n",
      "partial f: 46.10746032150164\n",
      "product: tensor([2.9897e-14, 2.2423e-14], dtype=torch.float64)\n"
     ]
    },
    {
     "data": {
      "text/plain": [
       "tensor([14.8463, 26.2175], dtype=torch.float64)"
      ]
     },
     "execution_count": 29,
     "metadata": {},
     "output_type": "execute_result"
    }
   ],
   "source": [
    "adjoint_method(n2_system, 1.0, 2.0)"
   ]
  },
  {
   "cell_type": "code",
   "execution_count": 30,
   "id": "1b83cc95",
   "metadata": {},
   "outputs": [
    {
     "name": "stdout",
     "output_type": "stream",
     "text": [
      "tensor(-28.1712, dtype=torch.float64)\n"
     ]
    },
    {
     "data": {
      "text/plain": [
       "tensor([ 7.4649, 12.7271], dtype=torch.float64)"
      ]
     },
     "execution_count": 30,
     "metadata": {},
     "output_type": "execute_result"
    }
   ],
   "source": [
    "ammonia = \"N 0.0 0.0 0.0; H 0.0 -1.772 -0.721; H 1.535 0.886 -0.721; H -1.535 0.886 -0.721\"\n",
    "reverse_mode(ammonia, 1.0, 2.0)"
   ]
  },
  {
   "cell_type": "code",
   "execution_count": 32,
   "id": "1983f9e5",
   "metadata": {},
   "outputs": [
    {
     "data": {
      "text/plain": [
       "tensor([ 7.4649, 12.7271], dtype=torch.float64)"
      ]
     },
     "execution_count": 32,
     "metadata": {},
     "output_type": "execute_result"
    }
   ],
   "source": [
    "finite_difference(ammonia, 1.0, 2.0)"
   ]
  },
  {
   "cell_type": "code",
   "execution_count": 33,
   "id": "a046e136",
   "metadata": {},
   "outputs": [
    {
     "name": "stdout",
     "output_type": "stream",
     "text": [
      "partial g: tensor([ 7.4649, 12.7271], dtype=torch.float64)\n",
      "adjoint: 11.980852386582916\n",
      "partial f: 32.279433090828455\n",
      "product: tensor([-4.7408e-15, -3.3333e-14], dtype=torch.float64)\n"
     ]
    },
    {
     "data": {
      "text/plain": [
       "tensor([ 7.4649, 12.7271], dtype=torch.float64)"
      ]
     },
     "execution_count": 33,
     "metadata": {},
     "output_type": "execute_result"
    }
   ],
   "source": [
    "adjoint_method(ammonia, 1.0, 2.0)"
   ]
  },
  {
   "cell_type": "code",
   "execution_count": 34,
   "id": "b506db45",
   "metadata": {},
   "outputs": [
    {
     "name": "stdout",
     "output_type": "stream",
     "text": [
      "The 6-31G basis for atomz 6 does not exist, but we will download it\n",
      "Downloaded to /home/rolan/miniconda3/envs/noa-docs/lib/python3.9/site-packages/dqc/api/.database/6-31g/06.gaussian94\n"
     ]
    },
    {
     "name": "stderr",
     "output_type": "stream",
     "text": [
      "/home/rolan/miniconda3/envs/noa-docs/lib/python3.9/site-packages/xitorch/_impls/optimize/root/rootsolver.py:163: ConvergenceWarning: The rootfinder does not converge after 50 iterations. Best |dx|=6.229e-02, |f|=3.108e-01 at iter 39\n",
      "  warnings.warn(ConvergenceWarning(msg))\n"
     ]
    },
    {
     "name": "stdout",
     "output_type": "stream",
     "text": [
      "tensor(-82.6662, dtype=torch.float64)\n"
     ]
    },
    {
     "data": {
      "text/plain": [
       "tensor([43.1028, 51.3126], dtype=torch.float64)"
      ]
     },
     "execution_count": 34,
     "metadata": {},
     "output_type": "execute_result"
    }
   ],
   "source": [
    "benzene_coords = \"\"\"C        0.598362921      0.000000000     -4.742986733;\n",
    "                    C       -0.557705772     -0.354690359     -4.044822733;\n",
    "                    C        1.754431614      0.354690359     -4.044822733;\n",
    "                    H       -1.457130878     -0.630640582     -4.587995733;\n",
    "                    H        2.653856720      0.630640582     -4.587995733;\n",
    "                    C       -0.557705772     -0.354690359     -2.648492733;\n",
    "                    C        1.754431614      0.354690359     -2.648492733;\n",
    "                    H       -1.457130878     -0.630640582     -2.105319733;\n",
    "                    H        2.653856720      0.630640582     -2.105319733;\n",
    "                    C        0.598362921      0.000000000     -1.950328733;\n",
    "                    H        0.598362921      0.000000000     -0.863981733;\n",
    "                    H        0.598362921      0.000000000     -5.829333733\"\"\"\n",
    "reverse_mode(benzene_coords, 1.0, 2.0)"
   ]
  },
  {
   "cell_type": "code",
   "execution_count": 35,
   "id": "37c6243b",
   "metadata": {},
   "outputs": [
    {
     "name": "stderr",
     "output_type": "stream",
     "text": [
      "/home/rolan/miniconda3/envs/noa-docs/lib/python3.9/site-packages/xitorch/_impls/optimize/root/rootsolver.py:163: ConvergenceWarning: The rootfinder does not converge after 50 iterations. Best |dx|=1.024e-01, |f|=2.134e-01 at iter 49\n",
      "  warnings.warn(ConvergenceWarning(msg))\n",
      "/home/rolan/miniconda3/envs/noa-docs/lib/python3.9/site-packages/xitorch/_impls/optimize/root/rootsolver.py:163: ConvergenceWarning: The rootfinder does not converge after 50 iterations. Best |dx|=4.371e-02, |f|=2.873e-01 at iter 34\n",
      "  warnings.warn(ConvergenceWarning(msg))\n"
     ]
    },
    {
     "data": {
      "text/plain": [
       "tensor([42.4951, 50.1887], dtype=torch.float64)"
      ]
     },
     "execution_count": 35,
     "metadata": {},
     "output_type": "execute_result"
    }
   ],
   "source": [
    "finite_difference(benzene_coords, 1.0, 2.0, 0.01)"
   ]
  },
  {
   "cell_type": "code",
   "execution_count": null,
   "id": "70f0fbee",
   "metadata": {},
   "outputs": [],
   "source": [
    "adjoint_method(benzene_coords, 1.0, 2.0)"
   ]
  }
 ],
 "metadata": {
  "kernelspec": {
   "display_name": "Python 3 (ipykernel)",
   "language": "python",
   "name": "python3"
  },
  "language_info": {
   "codemirror_mode": {
    "name": "ipython",
    "version": 3
   },
   "file_extension": ".py",
   "mimetype": "text/x-python",
   "name": "python",
   "nbconvert_exporter": "python",
   "pygments_lexer": "ipython3",
   "version": "3.9.12"
  }
 },
 "nbformat": 4,
 "nbformat_minor": 5
}
