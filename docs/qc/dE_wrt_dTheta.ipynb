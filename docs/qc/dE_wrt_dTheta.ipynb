{
 "cells": [
  {
   "cell_type": "code",
   "execution_count": 1,
   "id": "b414e818",
   "metadata": {},
   "outputs": [],
   "source": [
    "import torch\n",
    "import dqc\n",
    "import dqc.xc\n",
    "import dqc.utils"
   ]
  },
  {
   "cell_type": "code",
   "execution_count": 23,
   "id": "f800ca30",
   "metadata": {},
   "outputs": [],
   "source": [
    "class MyLDAX(dqc.xc.CustomXC):\n",
    "    def __init__(self, a, p):\n",
    "        super().__init__()\n",
    "        self.a = a\n",
    "        self.p = p\n",
    "\n",
    "    @property\n",
    "    def family(self):\n",
    "        # 1 for LDA, 2 for GGA, 4 for MGGA\n",
    "        return 1\n",
    "\n",
    "    def get_edensityxc(self, densinfo):\n",
    "        # densinfo has up and down components\n",
    "        if isinstance(densinfo, dqc.utils.SpinParam):\n",
    "            # spin-scaling of the exchange energy\n",
    "            return 0.5 * (self.get_edensityxc(densinfo.u * 2) + self.get_edensityxc(densinfo.d * 2))\n",
    "        else:\n",
    "            rho = densinfo.value.abs() + 1e-15  # safeguarding from nan\n",
    "            return self.a * rho ** self.p\n",
    "        \n",
    "    def get_edensityxc_derivative(self, densinfo, number_of_parameter):\n",
    "        # densinfo has up and down components\n",
    "        if isinstance(densinfo, dqc.utils.SpinParam):\n",
    "            # spin-scaling of the exchange energy\n",
    "            return 0.5 * (self.get_edensityxc_derivative(densinfo.u * 2, number_of_parameter) \n",
    "                          + self.get_edensityxc_derivative(densinfo.d * 2, number_of_parameter))\n",
    "        else:\n",
    "            rho = densinfo.value.abs() + 1e-15  # safeguarding from nan\n",
    "            if number_of_parameter == 0: # parameter a\n",
    "                return rho ** self.p\n",
    "            elif number_of_parameter == 1: # parameter p\n",
    "                return self.a * rho ** (self.p - 1)"
   ]
  },
  {
   "cell_type": "code",
   "execution_count": 24,
   "id": "9bfd4bb8",
   "metadata": {},
   "outputs": [],
   "source": [
    "a = torch.nn.Parameter(torch.tensor(1.0, dtype=torch.double))\n",
    "p = torch.nn.Parameter(torch.tensor(2.0, dtype=torch.double))\n",
    "myxc = MyLDAX(a, p)"
   ]
  },
  {
   "cell_type": "code",
   "execution_count": 25,
   "id": "9d775b10",
   "metadata": {},
   "outputs": [
    {
     "name": "stdout",
     "output_type": "stream",
     "text": [
      "tensor(-0.4645, dtype=torch.float64, grad_fn=<AddBackward0>)\n"
     ]
    }
   ],
   "source": [
    "mol = dqc.Mol(moldesc=\"H -1 0 0; H 1 0 0\", basis=\"3-21G\")\n",
    "qc = dqc.KS(mol, xc=myxc).run()\n",
    "ene = qc.energy()\n",
    "print(ene)"
   ]
  },
  {
   "cell_type": "code",
   "execution_count": 26,
   "id": "471dc388",
   "metadata": {},
   "outputs": [
    {
     "data": {
      "text/plain": [
       "tensor([[ 4.3848e-31, -1.4465e-16, -6.4918e-31, -9.2522e-16],\n",
       "        [-1.4465e-16,  4.7720e-02,  2.1416e-16,  3.0523e-01],\n",
       "        [-6.4918e-31,  2.1416e-16,  9.6112e-31,  1.3698e-15],\n",
       "        [-9.2522e-16,  3.0523e-01,  1.3698e-15,  1.9523e+00]],\n",
       "       dtype=torch.float64)"
      ]
     },
     "execution_count": 26,
     "metadata": {},
     "output_type": "execute_result"
    }
   ],
   "source": [
    "dm = qc._dm.detach().clone() # density matrix\n",
    "dm"
   ]
  },
  {
   "cell_type": "code",
   "execution_count": 27,
   "id": "2cfd9bf5",
   "metadata": {},
   "outputs": [
    {
     "data": {
      "text/plain": [
       "tensor([[ 9.6457e-01, -2.8980e-15,  5.4515e-01,  4.7631e-16],\n",
       "        [-3.1963e-15,  1.2073e+00, -8.7513e-16, -1.7958e-01],\n",
       "        [ 5.4515e-01, -8.5431e-16,  7.4000e-01,  3.4311e-16],\n",
       "        [ 4.8325e-16, -1.7958e-01,  2.7372e-16,  8.6715e-02]],\n",
       "       dtype=torch.float64)"
      ]
     },
     "execution_count": 27,
     "metadata": {},
     "output_type": "execute_result"
    }
   ],
   "source": [
    "fock = qc._engine.dm2scp(dm).detach().clone()\n",
    "fock"
   ]
  },
  {
   "cell_type": "code",
   "execution_count": 28,
   "id": "b579aeb1",
   "metadata": {},
   "outputs": [],
   "source": [
    "from typing import List, Optional, Union, overload, Tuple, Type\n",
    "from dqc.utils.datastruct import AtomCGTOBasis, ValGrad, SpinParam, DensityFitInfo\n",
    "\n",
    "# calculate partitial derivative of (full) energy with respect to parameters of xc-functional\n",
    "def get_e_xc_derivative(hamiltonian, dm: Union[torch.Tensor, SpinParam[torch.Tensor]], number_of_parameter) -> torch.Tensor:\n",
    "    densinfo = SpinParam.apply_fcn(\n",
    "        lambda dm_: hamiltonian._dm2densinfo(dm_), dm)  # (spin) value: (*BD, nr)\n",
    "    edens_derivative = hamiltonian.xc.get_edensityxc_derivative(densinfo, number_of_parameter)  # (*BD, nr)\n",
    "    return torch.sum(hamiltonian.grid.get_dvolume() * edens_derivative, dim=-1)"
   ]
  },
  {
   "cell_type": "code",
   "execution_count": 32,
   "id": "9042408b",
   "metadata": {},
   "outputs": [
    {
     "data": {
      "text/plain": [
       "tensor(0.0711, dtype=torch.float64, grad_fn=<SumBackward1>)"
      ]
     },
     "execution_count": 32,
     "metadata": {},
     "output_type": "execute_result"
    }
   ],
   "source": [
    "get_e_xc_derivative(qc.get_system().get_hamiltonian(), dm, 0)"
   ]
  },
  {
   "cell_type": "code",
   "execution_count": 33,
   "id": "5a829e14",
   "metadata": {},
   "outputs": [
    {
     "data": {
      "text/plain": [
       "tensor(2.0000, dtype=torch.float64, grad_fn=<SumBackward1>)"
      ]
     },
     "execution_count": 33,
     "metadata": {},
     "output_type": "execute_result"
    }
   ],
   "source": [
    "get_e_xc_derivative(qc.get_system().get_hamiltonian(), dm, 1)"
   ]
  }
 ],
 "metadata": {
  "kernelspec": {
   "display_name": "Python 3 (ipykernel)",
   "language": "python",
   "name": "python3"
  },
  "language_info": {
   "codemirror_mode": {
    "name": "ipython",
    "version": 3
   },
   "file_extension": ".py",
   "mimetype": "text/x-python",
   "name": "python",
   "nbconvert_exporter": "python",
   "pygments_lexer": "ipython3",
   "version": "3.9.7"
  }
 },
 "nbformat": 4,
 "nbformat_minor": 5
}
