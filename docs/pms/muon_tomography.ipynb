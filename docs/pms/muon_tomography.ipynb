{
 "cells": [
  {
   "cell_type": "markdown",
   "id": "9126fa92",
   "metadata": {},
   "source": [
    "#  First order techniques for muon tomography\n",
    "#### Roland Grinis  -  Researcher at MIPT Nuclear Physics Methods lab  -  CTO at GrinisRIT (grinisrit.com)"
   ]
  },
  {
   "cell_type": "markdown",
   "id": "5be5c097",
   "metadata": {},
   "source": [
    "## Introduction\n",
    "\n",
    "We develop a computational framework for muography \n",
    "where one can easily incorporate domain knowledge \n",
    "(e.g. data from gravimetry), \n",
    "quantify uncertainty in a hypothesis about \n",
    "the value of the model parameters, \n",
    "update the scientific hypothesis as new data is available, \n",
    "and perform inference in a situation where the amount of data \n",
    "is small compared to the complexity of the physical model \n",
    "or the measurements are very noisy."
   ]
  },
  {
   "cell_type": "markdown",
   "id": "92501fb4",
   "metadata": {},
   "source": [
    "## Differentiable Backward Monte-Carlo\n",
    "\n",
    "The MC state is given by kinetic energy, position and direction: \n",
    "$$\n",
    "\\textbf{s} = \\{ \\epsilon, \\textbf{r},  \\textbf{u}\\}\n",
    "$$\n",
    "\n",
    "Atomic cross-sections do not depend on the medium density."
   ]
  },
  {
   "cell_type": "markdown",
   "id": "bde5fd8b",
   "metadata": {},
   "source": [
    "## Medium triangulation"
   ]
  },
  {
   "cell_type": "code",
   "execution_count": 2,
   "id": "163a1a0f",
   "metadata": {},
   "outputs": [],
   "source": [
    "import torch\n",
    "import pyvista as pv\n",
    "opts = {'jupyter_backend': 'pythreejs', 'window_size' : [800, 350]}"
   ]
  },
  {
   "cell_type": "code",
   "execution_count": 3,
   "id": "0e7ded49",
   "metadata": {},
   "outputs": [],
   "source": [
    "grid = pv.UniformGrid(dims=(3, 3, 3))\n",
    "gridpoints = pv.PolyData(grid.points)\n",
    "tmesh = gridpoints.delaunay_3d()"
   ]
  },
  {
   "cell_type": "code",
   "execution_count": 6,
   "id": "d639f79c",
   "metadata": {},
   "outputs": [
    {
     "data": {
      "application/vnd.jupyter.widget-view+json": {
       "model_id": "971099f757664ab9bd6476c8e8726977",
       "version_major": 2,
       "version_minor": 0
      },
      "text/plain": [
       "Renderer(camera=PerspectiveCamera(aspect=2.2857142857142856, children=(DirectionalLight(intensity=0.25, positi…"
      ]
     },
     "metadata": {},
     "output_type": "display_data"
    }
   ],
   "source": [
    "pl = pv.Plotter()\n",
    "pl.add_mesh(tmesh, show_edges=True, color='white', opacity=0.5)\n",
    "pl.add_points(tmesh.points, color='red', point_size=20)\n",
    "\n",
    "single_cell = tmesh.extract_cells(tmesh.n_cells - 10)\n",
    "\n",
    "pl.add_mesh(single_cell, color='pink', edge_color='blue',\n",
    "            line_width=5, show_edges=True)\n",
    "pl.show(**opts)"
   ]
  },
  {
   "cell_type": "markdown",
   "id": "f382454e",
   "metadata": {},
   "source": [
    "References:\n",
    "* V. Niess et al., *Backward Monte-Carlo applied to muon transport*, Comput. Phys. Comm. (2018)\n",
    "* R. Grinis, *Differentiable programming for particle physics simulations*, JETP, 161(2) (2022)"
   ]
  }
 ],
 "metadata": {
  "kernelspec": {
   "display_name": "Python 3 (ipykernel)",
   "language": "python",
   "name": "python3"
  },
  "language_info": {
   "codemirror_mode": {
    "name": "ipython",
    "version": 3
   },
   "file_extension": ".py",
   "mimetype": "text/x-python",
   "name": "python",
   "nbconvert_exporter": "python",
   "pygments_lexer": "ipython3",
   "version": "3.9.12"
  }
 },
 "nbformat": 4,
 "nbformat_minor": 5
}
