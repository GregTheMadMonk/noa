{
 "cells": [
  {
   "cell_type": "code",
   "metadata": {
    "collapsed": true,
    "pycharm": {
     "name": "#%%\n"
    }
   },
   "source": [
    "import numpy as np\n",
    "from docs.quant.heat_equation.HeatSolver import *\n",
    "import matplotlib.pyplot as plt"
   ],
   "execution_count": 8,
   "outputs": []
  },
  {
   "cell_type": "markdown",
   "source": [
    "## Heat Equation\n",
    "\n",
    "\\begin{equation}\n",
    "  \\frac{\\partial y}{\\partial t} = \\sigma (t,x) \\frac{\\partial^2 y}{\\partial x^2}\n",
    "\\end{equation}\n",
    "\n",
    "$\\sigma(t,x)$ is an arbitrary function.\n",
    "Firstly, lets assume, that $\\sigma (t,x) = \\Sigma$ = const.\n",
    "\n",
    "## Middle-stage problem\n",
    "\n",
    "Evaluate $ \\frac{\\partial y}{\\partial \\sigma} $ via Adjoint method (and compare it to one calculated with finite differences)\n"
   ],
   "metadata": {
    "collapsed": false,
    "pycharm": {
     "name": "#%% md\n"
    }
   }
  },
  {
   "cell_type": "code",
   "execution_count": 9,
   "outputs": [
    {
     "data": {
      "text/plain": "[<matplotlib.lines.Line2D at 0x25af71f3880>]"
     },
     "execution_count": 9,
     "metadata": {},
     "output_type": "execute_result"
    },
    {
     "data": {
      "text/plain": "<Figure size 432x288 with 1 Axes>",
      "image/png": "[encoded data removed]"
     },
     "metadata": {
      "needs_background": "light"
     },
     "output_type": "display_data"
    }
   ],
   "source": [
    "# for example set constant sigma\n",
    "sigma = 1\n",
    "def g_func(t, x):\n",
    "    # q = 2*r/sigma**2 == 0 as r = 0\n",
    "    return np.exp(t/4) * np.maximum(np.zeros_like(x), np.exp(-x/2) - np.exp(x/2))\n",
    "\n",
    "t = np.linspace(0, 1, 100)\n",
    "\n",
    "plt.plot(g_func(t, -3))"
   ],
   "metadata": {
    "collapsed": false,
    "pycharm": {
     "name": "#%%\n"
    }
   }
  },
  {
   "cell_type": "code",
   "execution_count": 10,
   "outputs": [],
   "source": [
    "size = 10\n",
    "lambda_ = 0.5"
   ],
   "metadata": {
    "collapsed": false,
    "pycharm": {
     "name": "#%%\n"
    }
   }
  },
  {
   "cell_type": "code",
   "execution_count": 13,
   "outputs": [
    {
     "data": {
      "text/plain": "array([[ 1.5 , -0.25,  0.  ,  0.  ,  0.  ,  0.  ,  0.  ,  0.  ,  0.  ],\n       [-0.25,  1.5 , -0.25,  0.  ,  0.  ,  0.  ,  0.  ,  0.  ,  0.  ],\n       [ 0.  , -0.25,  1.5 , -0.25,  0.  ,  0.  ,  0.  ,  0.  ,  0.  ],\n       [ 0.  ,  0.  , -0.25,  1.5 , -0.25,  0.  ,  0.  ,  0.  ,  0.  ],\n       [ 0.  ,  0.  ,  0.  , -0.25,  1.5 , -0.25,  0.  ,  0.  ,  0.  ],\n       [ 0.  ,  0.  ,  0.  ,  0.  , -0.25,  1.5 , -0.25,  0.  ,  0.  ],\n       [ 0.  ,  0.  ,  0.  ,  0.  ,  0.  , -0.25,  1.5 , -0.25,  0.  ],\n       [ 0.  ,  0.  ,  0.  ,  0.  ,  0.  ,  0.  , -0.25,  1.5 , -0.25],\n       [ 0.  ,  0.  ,  0.  ,  0.  ,  0.  ,  0.  ,  0.  , -0.25,  1.5 ]])"
     },
     "execution_count": 13,
     "metadata": {},
     "output_type": "execute_result"
    }
   ],
   "source": [
    "A = np.diag(np.ones(size) * (1 + lambda_))\n",
    "B = np.diag(np.ones(size) * (1 - lambda_))\n",
    "size = size - 1\n",
    "for i in range(1, size+1):\n",
    "    A[i, i - 1] = -lambda_ / 2\n",
    "    A[i - 1, i] = -lambda_ / 2\n",
    "    B[i, i - 1] = lambda_ / 2\n",
    "    B[i - 1, i] = lambda_ / 2\n",
    "# A[0, 0] = 1\n",
    "# A[size, size] = 1\n",
    "# A[0, 1] = 0\n",
    "# A[size, size-1] = 0\n",
    "# B[0, 0] = 1\n",
    "# B[size, size] = 1\n",
    "# B[0, 1] = 0\n",
    "# B[size, size-1] = 0\n",
    "\n",
    "A"
   ],
   "metadata": {
    "collapsed": false,
    "pycharm": {
     "name": "#%%\n"
    }
   }
  },
  {
   "cell_type": "code",
   "execution_count": 12,
   "outputs": [
    {
     "data": {
      "text/plain": "array([[1.  , 0.  , 0.  , 0.  , 0.  , 0.  , 0.  , 0.  , 0.  , 0.  ],\n       [0.25, 0.5 , 0.25, 0.  , 0.  , 0.  , 0.  , 0.  , 0.  , 0.  ],\n       [0.  , 0.25, 0.5 , 0.25, 0.  , 0.  , 0.  , 0.  , 0.  , 0.  ],\n       [0.  , 0.  , 0.25, 0.5 , 0.25, 0.  , 0.  , 0.  , 0.  , 0.  ],\n       [0.  , 0.  , 0.  , 0.25, 0.5 , 0.25, 0.  , 0.  , 0.  , 0.  ],\n       [0.  , 0.  , 0.  , 0.  , 0.25, 0.5 , 0.25, 0.  , 0.  , 0.  ],\n       [0.  , 0.  , 0.  , 0.  , 0.  , 0.25, 0.5 , 0.25, 0.  , 0.  ],\n       [0.  , 0.  , 0.  , 0.  , 0.  , 0.  , 0.25, 0.5 , 0.25, 0.  ],\n       [0.  , 0.  , 0.  , 0.  , 0.  , 0.  , 0.  , 0.25, 0.5 , 0.25],\n       [0.  , 0.  , 0.  , 0.  , 0.  , 0.  , 0.  , 0.  , 0.  , 1.  ]])"
     },
     "execution_count": 12,
     "metadata": {},
     "output_type": "execute_result"
    }
   ],
   "source": [
    "B"
   ],
   "metadata": {
    "collapsed": false,
    "pycharm": {
     "name": "#%%\n"
    }
   }
  },
  {
   "cell_type": "markdown",
   "source": [
    "## Obstacle Problem\n",
    "#### \"Free Boundary Problem\"\n",
    "\n",
    "Consider an \"obstacle\" $g$ satisfying $b$ $g>0$ for a subinterval of $-1<x<1, g \\in C^2, g^{\\prime \\prime} \\leq 0, g(-1)<0$ and $g(1)<0$.\n",
    "A function $y \\in C^1$ with minimal length, and with $y(-1)=y(1)=0$ and $y \\geq g$ for the $g$ of the figure can be characterized as follows: There is $\\alpha, \\beta$ such that\n",
    "$$\n",
    "\\begin{array}{rll}\n",
    "-1<x<\\alpha: & y^{\\prime \\prime}=0 & (y>g) \\\\\n",
    "\\alpha<x<\\beta: & y=g & \\left(y^{\\prime \\prime}=g^{\\prime \\prime} \\leq 0\\right) \\\\\n",
    "\\beta<x<1: & y^{\\prime \\prime}=0 & (y>g)\n",
    "\\end{array}\n",
    "$$\n",
    "This expresses a complementarity in the sense of\n",
    "in case $y-g>0$, then $y^{\\prime \\prime}=0$,\n",
    "in case $y-g=0$, then $y^{\\prime \\prime} \\leq 0$.\n",
    "\n",
    "For the simple obstacle problem an equivalent formulation is\n",
    "Find a function $y$ such that\n",
    "$$\n",
    "\\begin{aligned}\n",
    "& y^{\\prime \\prime}(y-g)=0, \\quad-y^{\\prime \\prime} \\geq 0, \\quad y-g \\geq 0, \\\\\n",
    "& y(-1)=y(1)=0, y \\in \\mathcal{C}^1[-1,1]\n",
    "\\end{aligned}\n",
    "$$\n",
    "In this version, $\\alpha$ and $\\beta$ do not occur explicitly. After the numerical solution, the values of $\\alpha$ and $\\beta$ will become apparent.\n",
    "\n",
    "$$\n",
    "\\left.\\begin{array}{r}\n",
    "\\left(\\frac{\\partial y}{\\partial t} - \\sigma(t,x)\\frac{\\partial^2 y}{\\partial x^2}\\right)(y-g)=0 \\\\\n",
    "\\frac{\\partial y}{\\partial t} - \\sigma(t,x) \\frac{\\partial^2 y}{\\partial x^2} \\geq 0 \\\\\n",
    "y-g \\geq 0\n",
    "\\end{array}\\right\\}\n",
    "$$\n",
    "\n",
    "where $g$ corresponds to the obstacle form. For example (option's payoff in terms of heat equation):\n",
    "$$\n",
    "g(t, x) = \\exp \\left(\\frac{1}{4}(k+1)^{2}t\\right) \\left(e^{(k-1)x/2} - e^{(k+1)x/2} \\right)^{+}\n",
    "$$\n",
    "\n",
    "for $ k = 0 $ obstacle function becomes:\n",
    "$$\n",
    "g(t, x) = \\exp \\left(\\frac{t}{4}\\right) \\left(e^{-x/2} - e^{x/2} \\right)^{+}\n",
    "$$\n",
    "\n",
    "## Main Problem\n",
    "\n",
    "Derive the Adjoint equation for Brennan Schwarz Algorithm, combined with Crank Nickolson Scheme and implement it."
   ],
   "metadata": {
    "collapsed": false,
    "pycharm": {
     "name": "#%% md\n"
    }
   }
  },
  {
   "cell_type": "markdown",
   "source": [
    "#### Brennan-Schwarz algorithm\n",
    "\n",
    "The algorithm is based on a Gaussian elimination where the early\n",
    "exercise constraint is handled in a simple manner.\n",
    "At each time step $\\nu$, the problem needs to be solved:\n",
    "$$\n",
    "\\left\\{\\begin{array}{c}\n",
    "Aw^{(\\nu+1)} \\geq b^{(\\nu)} \\\\\n",
    "w^{(\\nu+1)} \\geq g \\\\\n",
    "\\left(Aw^{(\\nu+1)}-b^{(\\nu)}\\right)^T\\left(w^{(\\nu+1)}-g\\right)=0\n",
    "\\end{array}\\right.\n",
    "$$\n",
    "\n",
    "The algorithm is the following: The Gaussian elimination transforms rows of the system of linear equations\n",
    "$Aw=b$ to the form:\n",
    "$$\n",
    "p_i w_i+s_i w_{i+1}=k_i, \\ \\ \\ (*)\n",
    "$$\n",
    "for $i=1, \\ldots, m$, where the coefficients can be chosen to be\n",
    "$$\n",
    "\\begin{gathered}\n",
    "p_1=a_{11}, \\quad s_1=a_{12}, \\quad k_1=b_1 \\\\\n",
    "p_i=a_{i i}-\\frac{a_{i i-1}}{p_{i-1}} a_{i-1 i}, \\quad s_i=a_{i i+1}, \\quad k_i=b_i-\\frac{a_{i i-1}}{p_{i-1}} k_{i-1} \\\\\n",
    "p_m=a_{m m}-\\frac{a_{m m-1}}{p_{m-1}} a_{m-1 m} \\quad \\text { and } \\quad k_m=b_m-\\frac{p_{m-1}}{a_{m m-1}} k_{m-1}\n",
    "\\end{gathered}\n",
    "$$\n",
    "\n",
    "The solution $y$ for the system of inequalities above is obtained by using the equation (*) and the payoff\n",
    "function of the put option.\n",
    "Starting by solving from $i = m$, if $w_m$ is less than the payoff value then set $w_m = g_m$. Then to solve $w_{m−1}$ and so on..."
   ],
   "metadata": {
    "collapsed": false,
    "pycharm": {
     "name": "#%% md\n"
    }
   }
  }
 ],
 "metadata": {
  "kernelspec": {
   "display_name": "Python 3",
   "language": "python",
   "name": "python3"
  },
  "language_info": {
   "codemirror_mode": {
    "name": "ipython",
    "version": 2
   },
   "file_extension": ".py",
   "mimetype": "text/x-python",
   "name": "python",
   "nbconvert_exporter": "python",
   "pygments_lexer": "ipython2",
   "version": "2.7.6"
  }
 },
 "nbformat": 4,
 "nbformat_minor": 0
}