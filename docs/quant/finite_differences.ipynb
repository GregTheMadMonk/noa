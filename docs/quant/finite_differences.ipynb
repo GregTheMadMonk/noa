{
 "cells": [
  {
   "cell_type": "markdown",
   "metadata": {
    "id": "S_--LLDWJY5-"
   },
   "source": [
    "2.1. Consider $g(t, S_t)$ where $g$ is a function of time as well as a random variable $S_t$. Keeping only first degree $dt$ terms and $dS_t$ terms with degree $\\leq 2$ of Taylor expansion, we obtain:\n",
    "\\begin{equation}\n",
    "  dg = \\frac{\\partial g}{\\partial t} dt + \\frac{\\partial g}{\\partial S} dS_t + \\frac12 \\frac{\\partial^2 g}{\\partial S^2} dS_t^2\n",
    "\\end{equation}\n",
    "Since $dS_t = \\mu S_t dt + \\sigma S_t dW_t$\n",
    "\\begin{equation}\n",
    "  dg = \\frac{\\partial g}{\\partial t} dt + \\frac{\\partial g}{\\partial S} (\\mu S_t dt + \\sigma S_t dW_t) + \\frac12 \\frac{\\partial^2 g}{\\partial S^2} (\\mu S_t dt + \\sigma S_t dW_t)^2\n",
    "\\end{equation}\n",
    "\\begin{equation}\n",
    "  (\\mu S_t dt + \\sigma S_t dW_t)^2 = \\mu^2 S_t^2 dt^2 + 2 \\mu \\sigma S_t^2 dt dW_t + \\sigma^2 S_t^2 dW_t^2\n",
    "\\end{equation}\n",
    "Given that $dW_t = \\sqrt{dt}$\n",
    "\\begin{equation}\n",
    "  (\\mu S_t dt + \\sigma S_t dW_t)^2 = \\mu^2 S_t^2 dt^2 + 2 \\mu \\sigma S_t^2 dt^{3/2} + \\sigma^2 S_t^2 dt\n",
    "\\end{equation}\n",
    "We see that $\\sigma^2 S_t^2 dt$ is the leading term:\n",
    "\\begin{equation}\n",
    "  dg = \\left( \\frac{\\partial g}{\\partial t} + \\frac{\\partial g}{\\partial S} \\mu S_t + \\frac12 \\frac{\\partial^2 g}{\\partial S^2} \\sigma^2 S_t^2 \\right) dt + \\frac{\\partial g}{\\partial S} \\sigma S_t dW_t\n",
    "\\end{equation}\n",
    "\n",
    "From here we will derive the Black-Scholes equation. To do this let us construct\n",
    "a portfolio $\\Pi = V - \\Delta S$ where $V = g(t, S_t)$. This portfolio consists of one option $V$ and we assign to $\\Delta$, a number which scales\n",
    "the underlying, $S$.\n",
    "\n",
    "\\begin{equation}\n",
    "  d\\Pi = dV - \\Delta dS = \\left( \\frac{\\partial V}{\\partial t} + \\frac{\\partial V}{\\partial S} \\mu S + \\frac12 \\frac{\\partial^2 V}{\\partial S^2} \\sigma^2 S^2 \\right) dt + \\frac{\\partial V}{\\partial S} \\sigma S dW - \\Delta \\mu S dt - \\Delta \\sigma S dW\n",
    "\\end{equation}\n",
    "\n",
    "We can eliminate the random component of $d\\Pi$ if $\\Delta = \\frac{\\partial V}{\\partial S}$\n",
    "\\begin{equation}\n",
    "  d\\Pi = \\left( \\frac{\\partial V}{\\partial t} + \\frac12 \\frac{\\partial^2 V}{\\partial S^2} \\sigma^2 S^2 \\right) dt\n",
    "\\end{equation}\n",
    "\n",
    "According to risk neutral dynamics $d\\Pi = r \\Pi dt$ where $r$ is spot interest rate.\n",
    "\n",
    "\\begin{equation}\n",
    "  d\\Pi = r(V - \\Delta S)dt = r\\left(V - \\frac{\\partial V}{\\partial S} S \\right) dt = \\left( \\frac{\\partial V}{\\partial t} + \\frac12 \\frac{\\partial^2 V}{\\partial S^2} \\sigma^2 S^2 \\right) dt\n",
    "\\end{equation}\n",
    "\n",
    "Finally, we have derived Black-Scholes PDE:\n",
    "\\begin{equation}\n",
    "  \\frac{\\partial V}{\\partial t} + \\frac12 \\frac{\\partial^2 V}{\\partial S^2} \\sigma^2 S^2 + \\frac{\\partial V}{\\partial S} rS - rV = 0, S \\ge 0, 0 \\leq t \\leq T\n",
    "\\end{equation}"
   ]
  },
  {
   "cell_type": "markdown",
   "metadata": {
    "id": "hN82ffkPU7E3"
   },
   "source": [
    "2.2. At maturity $t = T$ the call option price $C(S,T) = (S - K)^+$. If $S = 0$ at any time, the option becomes worthless $C(0,t) = 0$ (price of underlying $S$ will never become $>0$). On\n",
    "the other hand, if $S$ becomes very large, then the option will almost certainly\n",
    "be exercised, and the exercise price is negligible compared to $S$: $C(t, S) \\sim S$ as $S \\rightarrow \\infty$. Therefore, the initial conditions for call:\n",
    "\\begin{equation}\n",
    "\\begin{aligned}\n",
    "  &C(S,T) = (S - K)^+ \\\\\n",
    "  &C(0,t) = 0 \\\\\n",
    "  &C(t, S) \\sim S \\text{ as } S \\rightarrow \\infty\n",
    "\\end{aligned}\n",
    "\\end{equation}\n",
    "\n",
    "Initial conditions for put can be obtained the same way:\n",
    "\\begin{equation}\n",
    "\\begin{aligned}\n",
    "  &P(S,T) = (K - S)^+ \\\\\n",
    "  &P(0,t) = K e^{-r(T - t)} \\\\\n",
    "  &P(t, S) \\rightarrow 0 \\text{ as } S \\rightarrow \\infty\n",
    "\\end{aligned}\n",
    "\\end{equation}\n",
    "\n",
    "Let us transform the Black-Scholes PDE into a heat equation.\n",
    "\\begin{equation}\n",
    "  S = K e^x, t = T - \\frac{\\tau}{\\sigma^2}\n",
    "\\end{equation}\n",
    "\n",
    "\\begin{equation}\n",
    "  V(S, t) = Kv(x, \\tau) = Kv \\left(\\ln(S / K), \\frac{\\sigma^2}{2} (T - t) \\right)\n",
    "\\end{equation}\n",
    "\n",
    "\\begin{equation}\n",
    "  \\frac{\\partial V}{\\partial t} = K \\frac{\\partial v}{\\partial \\tau} \\frac{\\partial \\tau}{\\partial t} = - \\frac{K \\sigma^2}{2} \\frac{\\partial v}{\\partial \\tau}\n",
    "\\end{equation}\n",
    "\n",
    "\\begin{equation}\n",
    "  \\frac{\\partial V}{\\partial S} = K \\frac{\\partial v}{\\partial x} \\frac{\\partial x}{\\partial S} = \\frac{K}{S} \\frac{\\partial v}{\\partial x}\n",
    "\\end{equation}\n",
    "\n",
    "\\begin{equation}\n",
    "  \\frac{\\partial^2 V}{\\partial S^2} = K \\frac{\\partial}{\\partial S}\\left(\\frac{\\partial v}{\\partial S}\\right) = \\frac{\\partial}{\\partial S}\\left(\\frac{K}{S} \\frac{\\partial v}{\\partial x}\\right) = -\\frac{K}{S^2} \\frac{\\partial v}{\\partial x} + \\frac{K}{S} \\frac{\\partial^2 v}{\\partial x^2} \\frac{\\partial x}{\\partial S} = -\\frac{K}{S^2} \\frac{\\partial v}{\\partial x} + \\frac{K}{S^2} \\frac{\\partial^2 v}{\\partial x^2}\n",
    "\\end{equation}\n",
    "\n",
    "Substituting the new derivatives back into the Black-Scholes equation and grouping like terms:\n",
    "\\begin{equation}\n",
    "  \\frac{\\partial v}{\\partial \\tau} = \\frac{\\partial^2 v}{\\partial x^2} + ( k - 1)\\frac{\\partial v}{\\partial x} - k v\n",
    "\\end{equation}\n",
    "where $k = \\frac{2r}{\\sigma^2}$, $-\\infty < x < \\infty$, $0 \\le \\tau \\le \\frac{\\sigma^2}{2} T$. The equation above is still not a heat equation. To simplify even further, we try writing\n",
    "\\begin{equation}\n",
    "  v(x, \\tau) = e^{\\alpha x + \\beta \\tau} y(x, \\tau)\n",
    "\\end{equation}\n",
    "\n",
    "Differentiating, we find\n",
    "\\begin{equation}\n",
    "  \\frac{\\partial v}{\\partial \\tau} = e^{\\alpha x + \\beta \\tau} \\left(\\beta u + \\frac{\\partial u}{\\partial \\tau}\\right)\n",
    "\\end{equation}\n",
    "\n",
    "\\begin{equation}\n",
    "  \\frac{\\partial v}{\\partial x} = e^{\\alpha x + \\beta \\tau} \\left(\\alpha y + \\frac{\\partial y}{\\partial x}\\right)\n",
    "\\end{equation}\n",
    "\n",
    "\\begin{equation}\n",
    "  \\frac{\\partial^2 v}{\\partial x^2} = e^{\\alpha x + \\beta \\tau} \\left(\\alpha^2 y + 2 \\alpha \\frac{\\partial y}{\\partial x} + \\frac{\\partial^2 y}{\\partial x^2} \\right)\n",
    "\\end{equation}\n",
    "\n",
    "Finally, we obtain\n",
    "\\begin{equation}\n",
    "  \\beta y + \\frac{\\partial y}{\\partial \\tau} = \\alpha^2 y + 2 \\alpha \\frac{\\partial y}{\\partial x} + \\frac{\\partial^2 y}{\\partial x^2} + (k - 1)\\left(\\alpha y + \\frac{\\partial y}{\\partial x}\\right) - ky\n",
    "\\end{equation}\n",
    "\n",
    "\\begin{equation}\n",
    "  \\frac{\\partial y}{\\partial \\tau} = \\frac{\\partial^2 y}{\\partial x^2} + (k - 1 + 2\\alpha) \\frac{\\partial y}{\\partial x} + (\\alpha^2 + \\alpha k - \\alpha - k - \\beta) y\n",
    "\\end{equation}\n",
    "\n",
    "We now choose $\\alpha$ and $\\beta$ to eliminate the last two terms:\n",
    "\\begin{equation}\n",
    "  \\alpha = - \\frac{k - 1}{2}\n",
    "\\end{equation}\n",
    "\n",
    "\\begin{equation}\n",
    "  \\beta = \\alpha^2 + \\alpha k - \\alpha - k = - \\frac14 (k + 1)^2\n",
    "\\end{equation}\n",
    "\n",
    "Therefore,\n",
    "\\begin{equation}\n",
    "  \\frac{\\partial y}{\\partial \\tau} = \\frac{\\partial^2 y}{\\partial x^2}\n",
    "\\end{equation}\n",
    "where $-\\infty < x < \\infty$, $0 \\le \\tau \\le \\frac{\\sigma^2}{2} T$. Now we can rewrite the initial conditions. Recall that\n",
    "\\begin{equation}\n",
    "  V(S, t) = K e^{\\alpha x + \\beta \\tau} y(x, \\tau)\n",
    "\\end{equation}\n",
    "\n",
    "The price $C$ of a call option satisfies\n",
    "\\begin{equation}\n",
    "\\begin{aligned}\n",
    "  &y(x,0) = e^{-\\alpha x} (e^x - 1, 0)^+ = (e^{(k+1)x/2} - e^{(k-1)x/2}, 0)^+ \\\\\n",
    "  &y(x,\\tau) \\rightarrow 0 \\text{ as } x \\rightarrow -\\infty \\\\\n",
    "  &y(x,\\tau) \\sim e^{(k+1)x/2 + (k+1)^2 \\tau / 4} \\text{ as } x \\rightarrow \\infty\n",
    "\\end{aligned}\n",
    "\\end{equation}\n",
    "\n",
    "Similarly, the boundary conditions for a put option,\n",
    "\\begin{equation}\n",
    "\\begin{aligned}\n",
    "  &y(x,0) = e^{-\\alpha x} (1 - e^x, 0)^+ = (e^{(k-1)x/2} - e^{(k+1)x/2}, 0)^+ \\\\\n",
    "  &y(x,\\tau) = e^{(k-1)x/2 + (k-1)^2 \\tau/4} \\text{ as } x \\rightarrow -\\infty \\\\\n",
    "  &y(x,\\tau) \\rightarrow 0 \\text{ as } x \\rightarrow \\infty\n",
    "\\end{aligned}\n",
    "\\end{equation}"
   ]
  },
  {
   "cell_type": "markdown",
   "metadata": {
    "id": "g89uFTcaNUFy"
   },
   "source": [
    "2.3. Since $x$ is unlimited, we should choose the boundaries of $x$ artificially: $x \\in [x_{min}, x_{max}]$. The sides of the rectangle should be large enough to make our numerical solution $w(x_{min}, \\tau) \\approx y(x_{min}, \\tau) \\approx y(x, \\tau) \\text{ as } x \\rightarrow -\\infty$ and $w(x_{max}, \\tau) \\approx y(x_{max}, \\tau) \\approx y(x, \\tau) \\text{ as } x \\rightarrow \\infty$. In addition, our interval should include $x$ values, which correspond to $S_0$ and $K$:\n",
    "\\begin{equation}\n",
    "  x_{min} < \\min{\\left\\{0, \\ln{\\frac{S_0}{K}} \\right\\}}, \\max{\\left\\{0, \\ln{\\frac{S_0}{K}} \\right\\}} < x_{max}\n",
    "\\end{equation}\n",
    "\n",
    "**Explicit Method**\n",
    "\n",
    "In the PDE, replace\n",
    "\\begin{equation}\n",
    "\\begin{aligned}\n",
    "  &\\frac{\\partial y_{i, \\nu}}{\\partial \\tau} = \\frac{y_{i, \\nu + 1} - y_{i, \\nu}}{\\Delta \\tau} + O(\\Delta \\tau) \\\\\n",
    "  &\\frac{\\partial^2 y_{i, \\nu}}{\\partial x^2} = \\frac{y_{i + 1, \\nu} - 2y_{i, \\nu} + y_{i - 1, \\nu}}{\\Delta x^2} + O(\\Delta x^2)\n",
    "\\end{aligned}\n",
    "\\end{equation}\n",
    "where $x \\in [x_{min}, x_{max}]$, $\\tau \\in [0, \\tau_{max}]$, $x_i = x_{min} + i \\cdot \\Delta x$, $\\tau_i = \\nu \\cdot \\Delta \\tau$. \n",
    "\n",
    "The order of convergence is $O(\\Delta \\tau, \\Delta x^2)$.\n",
    "\n",
    "Denote $w \\rightarrow y$ the numerical solution on the grid and drop the $O$-errors:\n",
    "\\begin{equation}\n",
    "  w_{i, \\nu + 1} = w_{i, \\nu} + \\frac{\\Delta \\tau}{\\Delta x^2} (w_{i + 1, \\nu} - 2w_{i, \\nu} + w_{i - 1, \\nu})\n",
    "\\end{equation}\n",
    "With the notation $\\lambda = \\frac{\\Delta \\tau}{\\Delta x^2}$ this is rewritten as\n",
    "\\begin{equation}\n",
    "  w_{i, \\nu + 1} = \\lambda w_{i - 1, \\nu} + (1 - 2 \\lambda) w_{i, \\nu} + \\lambda w_{i + 1, \\nu}\n",
    "\\end{equation}\n",
    "Or\n",
    "\\begin{equation}\n",
    "  w^{(\\nu + 1)} = A w^{(\\nu)}\n",
    "\\end{equation}\n",
    "where $w^{(\\nu)} = (w_{0, \\nu}, ... , w_{m, \\nu})^T$, $m = \\frac{x_{max} - x_{min}}{\\Delta x}$ and\n",
    "\\begin{equation}\n",
    "  A = \\left(\n",
    "    \\begin{array}{ccccc}\n",
    "      1 - 2\\lambda & \\lambda & 0 & \\ldots & 0 \\\\\n",
    "      \\lambda & 1 - 2\\lambda & \\ddots & \\ddots & \\vdots \\\\\n",
    "      0 & \\ddots & \\ddots & \\ddots & 0 \\\\\n",
    "      \\vdots & \\ddots & \\ddots & \\ddots & \\lambda \\\\\n",
    "      0 & \\ldots & 0 & \\lambda & 1 - 2\\lambda\n",
    "    \\end{array}\n",
    "  \\right)\n",
    "\\end{equation}\n",
    "\n",
    "For stable behaviour, we require $A^\\nu e^{(0)} \\rightarrow 0$ for $\\nu \\rightarrow \\infty$, where $e^{(0)}$ is intial rounding error. This results into a requirement $\\rho(A) = \\max\\limits_k{|\\mu_k^A|} < 1$ where $\\mu_k^A$ is eigenvalue of $A$.\n",
    "\n",
    "One can show that $\\mu_k^A= 1 - 4\\lambda \\sin^2 \\frac{k \\pi}{2m}$. Stability is obtained when $-1 < 1 - 4\\lambda \\sin^2 \\frac{k \\pi}{2m} < 1$, so for $0 < \\lambda \\le \\frac12$ the explicit method is stable.\n",
    "\n",
    "Let us check the stability condition."
   ]
  },
  {
   "cell_type": "code",
   "execution_count": null,
   "metadata": {
    "id": "k-Hx_b-1enmP"
   },
   "outputs": [],
   "source": [
    "import numpy"
   ]
  },
  {
   "cell_type": "code",
   "execution_count": null,
   "metadata": {
    "id": "plw6xNyKJImc"
   },
   "outputs": [],
   "source": [
    "# get initial condition y(x, 0) for call option\n",
    "def get_call_maturity_condition(x_min, x_max, delta_x, k):\n",
    "  x = numpy.arange(x_min, x_max + delta_x, delta_x)\n",
    "  payoff = numpy.exp((k + 1) * x / 2) - numpy.exp((k - 1) * x / 2)\n",
    "  return numpy.maximum(payoff, 0)"
   ]
  },
  {
   "cell_type": "code",
   "execution_count": null,
   "metadata": {
    "id": "ghpNKlAWhQEO"
   },
   "outputs": [],
   "source": [
    "def get_explicit_matrix(m, lambda_):\n",
    "  A = numpy.zeros((m + 1, m + 1))\n",
    "  for i in range(m):\n",
    "    A[i][i] = 1 - 2 * lambda_\n",
    "    A[i][i + 1] = lambda_\n",
    "    A[i + 1][i] = lambda_\n",
    "  A[m][m] = 1 - 2 * lambda_\n",
    "  return A"
   ]
  },
  {
   "cell_type": "code",
   "execution_count": null,
   "metadata": {
    "id": "COUlgBGoe6P9"
   },
   "outputs": [],
   "source": [
    "# explicit iteration step for European call\n",
    "def explicit_call(w, A, k, delta_tau):\n",
    "  new_w = A.dot(w)\n",
    "  # boundary conditions w[0] -> y(x_min), w[-1] -> y(x_max)\n",
    "  new_w[0] = 0\n",
    "  new_w[-1] = w[-1] * numpy.exp((k + 1) ** 2 * delta_tau / 4)\n",
    "  return new_w"
   ]
  },
  {
   "cell_type": "code",
   "execution_count": null,
   "metadata": {
    "colab": {
     "base_uri": "https://localhost:8080/"
    },
    "id": "e0S8028Kh8lM",
    "outputId": "6f9a9c0c-4076-443e-88bb-420758bd26eb"
   },
   "outputs": [
    {
     "name": "stdout",
     "output_type": "stream",
     "text": [
      "[0.00000000e+00 2.35153323e-01 5.11891578e-01 8.77783778e-01\n",
      " 1.39321171e+00 2.14001407e+00 3.23318672e+00 4.83733148e+00\n",
      " 7.19024193e+00 1.06370560e+01 1.56799389e+01 2.30505076e+01\n",
      " 3.38154980e+01 4.95309742e+01 7.24674006e+01 1.05938132e+02\n",
      " 1.54778833e+02 2.26047174e+02 3.30043982e+02 4.81803580e+02\n",
      " 7.03268850e+02]\n"
     ]
    }
   ],
   "source": [
    "k = 0.5\n",
    "x_min = -5\n",
    "x_max = 5\n",
    "delta_x = 0.5\n",
    "delta_tau = 0.1\n",
    "m = int((x_max - x_min) / delta_x)\n",
    "lambda_ = delta_tau / (delta_x ** 2)\n",
    "\n",
    "A = get_explicit_matrix(m, lambda_)\n",
    "w = get_call_maturity_condition(x_min, x_max, delta_x, k)\n",
    "for _ in range(50):\n",
    "  w = explicit_call(w, A, k, delta_tau)\n",
    "\n",
    "print(w) # w at the 50-th step"
   ]
  },
  {
   "cell_type": "markdown",
   "metadata": {
    "id": "8-clfqHPjOyr"
   },
   "source": [
    "We can see that for $\\lambda = 0.4$ the solution is stable."
   ]
  },
  {
   "cell_type": "code",
   "execution_count": null,
   "metadata": {
    "colab": {
     "base_uri": "https://localhost:8080/"
    },
    "id": "7D6JdVU3jjRU",
    "outputId": "cf6646ca-0418-4e5c-8728-60d299ccab60"
   },
   "outputs": [
    {
     "name": "stdout",
     "output_type": "stream",
     "text": [
      "[      0.           22594.17722623  -44796.8085403    66207.53541442\n",
      "  -86340.71941991  104728.63687424 -120766.19321548  134004.93267026\n",
      " -143808.23836491  149978.92040457 -151952.50232516  150078.92512153\n",
      " -143798.16136908  134319.6512555  -120650.06548698  105321.48730937\n",
      "  -85890.75761279   67266.39539859  -43567.57683823   24611.71458194\n",
      "    2869.7759817 ]\n"
     ]
    }
   ],
   "source": [
    "k = 0.5\n",
    "x_min = -5\n",
    "x_max = 5\n",
    "delta_x = 0.5\n",
    "delta_tau = 0.15\n",
    "m = int((x_max - x_min) / delta_x)\n",
    "lambda_ = delta_tau / (delta_x ** 2)\n",
    "\n",
    "A = get_explicit_matrix(m, lambda_)\n",
    "w = get_call_maturity_condition(x_min, x_max, delta_x, k)\n",
    "for _ in range(50):\n",
    "  w = explicit_call(w, A, k, delta_tau)\n",
    "\n",
    "print(w) # w at the 50-th step"
   ]
  },
  {
   "cell_type": "markdown",
   "metadata": {
    "id": "qjh1rWKBj5QF"
   },
   "source": [
    "We can see that for $\\lambda = 0.6$ the solution is unstable."
   ]
  },
  {
   "cell_type": "markdown",
   "metadata": {
    "id": "kdwOXX3eyRXb"
   },
   "source": [
    "**Implicit Method**\n",
    "\n",
    "In the PDE, replace\n",
    "\\begin{equation}\n",
    "\\begin{aligned}\n",
    "  &\\frac{\\partial y_{i, \\nu}}{\\partial \\tau} = \\frac{y_{i, \\nu} - y_{i, \\nu - 1}}{\\Delta \\tau} + O(\\Delta \\tau) \\\\\n",
    "  &\\frac{\\partial^2 y_{i, \\nu}}{\\partial x^2} = \\frac{y_{i + 1, \\nu} - 2y_{i, \\nu} + y_{i - 1, \\nu}}{\\Delta x^2} + O(\\Delta x^2)\n",
    "\\end{aligned}\n",
    "\\end{equation}\n",
    "\n",
    "The order of convergence is $O(\\Delta \\tau, \\Delta x^2)$.\n",
    "\n",
    "\\begin{equation}\n",
    "  - \\lambda w_{i + 1, \\nu} + (1 + 2 \\lambda) w_{i, \\nu} - \\lambda w_{i - 1, \\nu} = w_{i, \\nu - 1}\n",
    "\\end{equation}\n",
    "Or\n",
    "\\begin{equation}\n",
    "  Aw^{(\\nu + 1)} = w^{(\\nu)}\n",
    "\\end{equation}\n",
    "where\n",
    "\\begin{equation}\n",
    "  A = \\left(\n",
    "    \\begin{array}{ccccc}\n",
    "      1 + 2\\lambda & -\\lambda & 0 & \\ldots & 0 \\\\\n",
    "      -\\lambda & 1 + 2\\lambda & \\ddots & \\ddots & \\vdots \\\\\n",
    "      0 & \\ddots & \\ddots & \\ddots & 0 \\\\\n",
    "      \\vdots & \\ddots & \\ddots & \\ddots & -\\lambda \\\\\n",
    "      0 & \\ldots & 0 & -\\lambda & 1 + 2\\lambda\n",
    "    \\end{array}\n",
    "  \\right)\n",
    "\\end{equation}\n",
    "\n",
    "One can find eigenvalues of A and show that implicit method is unconditionally stable."
   ]
  },
  {
   "cell_type": "code",
   "execution_count": null,
   "metadata": {
    "id": "JF0ZbaDY1k1G"
   },
   "outputs": [],
   "source": [
    "def get_implicit_matrix(m, lambda_):\n",
    "  A = numpy.zeros((m + 1, m + 1))\n",
    "  for i in range(m):\n",
    "    A[i][i] = 1 + 2 * lambda_\n",
    "    A[i][i + 1] = -lambda_\n",
    "    A[i + 1][i] = -lambda_\n",
    "  A[m][m] = 1 + 2 * lambda_\n",
    "  return A"
   ]
  },
  {
   "cell_type": "code",
   "execution_count": null,
   "metadata": {
    "colab": {
     "base_uri": "https://localhost:8080/"
    },
    "id": "KkNwP5qE1Pi2",
    "outputId": "80cdbded-3f81-4654-bb1b-734088ce84cd"
   },
   "outputs": [
    {
     "name": "stdout",
     "output_type": "stream",
     "text": [
      "[0.00000000e+00 9.86927324e-01 1.83058474e+00 2.90804695e+00\n",
      " 4.35773720e+00 6.36695655e+00 9.19698020e+00 1.32183056e+01\n",
      " 1.89608368e+01 2.71857922e+01 3.89890313e+01 5.59497121e+01\n",
      " 8.03442722e+01 1.15454510e+02 1.66011206e+02 2.38832997e+02\n",
      " 3.43746532e+02 4.94911900e+02 7.12732010e+02 1.02660338e+03\n",
      " 2.86977598e+03]\n"
     ]
    }
   ],
   "source": [
    "k = 0.5\n",
    "x_min = -5\n",
    "x_max = 5\n",
    "delta_x = 0.5\n",
    "delta_tau = 0.15\n",
    "m = int((x_max - x_min) / delta_x)\n",
    "lambda_ = delta_tau / (delta_x ** 2)\n",
    "\n",
    "A = get_implicit_matrix(m, lambda_)\n",
    "inv_A = numpy.linalg.inv(A)\n",
    "w = get_call_maturity_condition(x_min, x_max, delta_x, k)\n",
    "for _ in range(50):\n",
    "  # we can use explicit iteration whith inverse A\n",
    "  w = explicit_call(w, inv_A, k, delta_tau)\n",
    "\n",
    "print(w) # w at the 50-th step"
   ]
  },
  {
   "cell_type": "markdown",
   "metadata": {
    "id": "sFoCdbG_1s5l"
   },
   "source": [
    "We can see that for $\\lambda = 0.6$ the solution is stable."
   ]
  },
  {
   "cell_type": "markdown",
   "metadata": {
    "id": "YMKW1iTIfANc"
   },
   "source": [
    "**Crank-Nikolson Method**\n",
    "\n",
    "\\begin{equation}\n",
    "  w_{i, \\nu + 1} - w_{i, \\nu} = \\frac{\\lambda}{2}(w_{i + 1, \\nu} - 2w_{i, \\nu} + w_{i - 1, \\nu} + w_{i + 1, \\nu + 1} - 2w_{i, \\nu + 1} + w_{i - 1, \\nu + 1})\n",
    "\\end{equation}\n",
    "\n",
    "with the convergence rate $O(\\Delta \\tau^2, \\Delta x^2)$ and unconditional stability.\n",
    "\n",
    "$A w^{(\\nu + 1)} = B w^{(\\nu)} $ where\n",
    "\\begin{equation}\n",
    "  A = \\left(\n",
    "    \\begin{array}{ccccc}\n",
    "      1 + \\lambda & -\\lambda/2 & 0 & \\ldots & 0 \\\\\n",
    "      -\\lambda/2 & 1 + \\lambda & \\ddots & \\ddots & \\vdots \\\\\n",
    "      0 & \\ddots & \\ddots & \\ddots & 0 \\\\\n",
    "      \\vdots & \\ddots & \\ddots & \\ddots & -\\lambda/2 \\\\\n",
    "      0 & \\ldots & 0 & -\\lambda/2 & 1 + \\lambda\n",
    "    \\end{array}\n",
    "  \\right),\n",
    "  B = \\left(\n",
    "    \\begin{array}{ccccc}\n",
    "      1 - \\lambda & \\lambda/2 & 0 & \\ldots & 0 \\\\\n",
    "      \\lambda/2 & 1 - \\lambda & \\ddots & \\ddots & \\vdots \\\\\n",
    "      0 & \\ddots & \\ddots & \\ddots & 0 \\\\\n",
    "      \\vdots & \\ddots & \\ddots & \\ddots & \\lambda/2 \\\\\n",
    "      0 & \\ldots & 0 & \\lambda/2 & 1 - \\lambda\n",
    "    \\end{array}\n",
    "  \\right)\n",
    "\\end{equation}\n",
    "\n",
    "Accordingly, we choose boundary conditions:\n",
    "\\begin{equation}\n",
    "\\begin{aligned}\n",
    "  &w_{0, \\nu} = r_1(x, \\tau) \\\\\n",
    "  &w_{m, \\nu} = r_2(x, \\tau)\n",
    "\\end{aligned}\n",
    "\\end{equation}\n",
    "where $y(x, \\tau) \\rightarrow r_1(x, \\tau)$ for $x \\rightarrow -\\infty$ and $y(x, \\tau) \\rightarrow r_2(x, \\tau)$ for $x \\rightarrow \\infty$.\n",
    "\n",
    "With boundary conditions, $A w^{(\\nu + 1)} = B w^{(\\nu)} + d^{(\\nu)}$ where\n",
    "\\begin{equation}\n",
    "  d^{(\\nu)} = \\frac{\\lambda}{2} \\left(\n",
    "    \\begin{array}{c}\n",
    "      w_{0, \\nu} + w_{0, \\nu + 1} \\\\\n",
    "      0\\\\\n",
    "      \\vdots \\\\\n",
    "      0 \\\\\n",
    "      w_{m, \\nu} + w_{m, \\nu + 1}\n",
    "    \\end{array}\n",
    "  \\right)\n",
    "\\end{equation}"
   ]
  },
  {
   "cell_type": "code",
   "execution_count": null,
   "metadata": {
    "id": "CtkK1ZazoMtF"
   },
   "outputs": [],
   "source": [
    "def get_crank_A_matrix(m, lambda_):\n",
    "  A = numpy.zeros((m + 1, m + 1))\n",
    "  for i in range(m):\n",
    "    A[i][i] = 1 + lambda_\n",
    "    A[i][i + 1] = -lambda_ / 2\n",
    "    A[i + 1][i] = -lambda_ / 2\n",
    "  A[m][m] = 1 + lambda_\n",
    "  return A\n",
    "\n",
    "def get_crank_B_matrix(m, lambda_):\n",
    "  B = numpy.zeros((m + 1, m + 1))\n",
    "  for i in range(m):\n",
    "    B[i][i] = 1 - lambda_\n",
    "    B[i][i + 1] = lambda_ / 2\n",
    "    B[i + 1][i] = lambda_ / 2\n",
    "  B[m][m] = 1 - lambda_\n",
    "  return B\n",
    "\n",
    "def crank_call(w, A, B, k, w_m, w_0, nu, lambda_):\n",
    "  d = numpy.zeros(len(w))\n",
    "  d[0] = lambda_ / 2 * (w_0[nu] + w_0[nu + 1])\n",
    "  d[-1] = lambda_ / 2 * (w_m[nu] + w_m[nu + 1])\n",
    "  return numpy.linalg.inv(A).dot(B.dot(w) + d)"
   ]
  },
  {
   "cell_type": "code",
   "execution_count": null,
   "metadata": {
    "colab": {
     "base_uri": "https://localhost:8080/"
    },
    "id": "5Hhd9BmaoB31",
    "outputId": "8ce0d160-0e3e-4123-d548-f2c3e57f903d"
   },
   "outputs": [
    {
     "name": "stdout",
     "output_type": "stream",
     "text": [
      "4.347212546910353 4.351438753306649 4.353783002916957\n",
      "x convergence rate =  0.8502370334611034\n",
      "4.347212546910353 4.347071746076565 4.347036702672758\n",
      "tau convergence rate =  2.0064410597979996\n"
     ]
    }
   ],
   "source": [
    "r = 0.05\n",
    "sigma = 1\n",
    "k = 2 * r / sigma ** 2\n",
    "K = 50\n",
    "S = 10\n",
    "x_min = -5\n",
    "x_max = 5\n",
    "delta_x = 0.1\n",
    "delta_tau = 0.1\n",
    "tau_max = 2\n",
    "T = 2 * tau_max / sigma ** 2\n",
    "\n",
    "def price_european_call(k, S, K, x_min, x_max, tau_max, delta_x, delta_tau):\n",
    "  x_0 = numpy.log(S / K)\n",
    "  x = numpy.arange(x_min, x_max + delta_x, delta_x)\n",
    "  i_0 = int((x_0 - x_min) / delta_x)\n",
    "  m = int((x_max - x_min) / delta_x)\n",
    "  lambda_ = delta_tau / (delta_x ** 2)\n",
    "  tau_array = numpy.arange(0, tau_max + delta_tau, delta_tau)\n",
    "\n",
    "  A = get_crank_A_matrix(m, lambda_)\n",
    "  B = get_crank_B_matrix(m, lambda_)\n",
    "  w = get_call_maturity_condition(x_min, x_max, delta_x, k)\n",
    "  w_m = numpy.exp((k + 1) * x_max / 2 + ((k + 1) ** 2) * tau_array / 4)\n",
    "  w_0 = numpy.zeros(len(w_m))\n",
    "  for nu in range((len(w_m)) - 1):\n",
    "    w = crank_call(w, A, B, k, w_m, w_0, nu, lambda_)\n",
    "\n",
    "  # x_0 = ln(S / K) lies between x[i_0] and x[i_0 + 1]\n",
    "  w_0 = w[i_0] * (x[i_0 + 1] - x_0) / delta_x + w[i_0 + 1] * (x_0 - x[i_0]) / delta_x\n",
    "\n",
    "  alpha = (1 - k) / 2\n",
    "  beta = - (k + 1) ** 2 / 4\n",
    "  V = K * numpy.exp(alpha * x_0 + beta * tau_max) * w_0\n",
    "  return V\n",
    "\n",
    "V_m = price_european_call(k, S, K, x_min, x_max, tau_max, delta_x=0.1, delta_tau=0.1)\n",
    "V_2m = price_european_call(k, S, K, x_min, x_max, tau_max, delta_x=0.05, delta_tau=0.1)\n",
    "V_4m = price_european_call(k, S, K, x_min, x_max, tau_max, delta_x=0.025, delta_tau=0.1)\n",
    "print(V_m, V_2m, V_4m)\n",
    "print(\"x convergence rate = \", numpy.log((V_2m - V_m) / (V_4m - V_2m)) / numpy.log(2))\n",
    "\n",
    "V_nu = price_european_call(k, S, K, x_min, x_max, tau_max, delta_x=0.1, delta_tau=0.1)\n",
    "V_2nu = price_european_call(k, S, K, x_min, x_max, tau_max, delta_x=0.1, delta_tau=0.05)\n",
    "V_4nu = price_european_call(k, S, K, x_min, x_max, tau_max, delta_x=0.1, delta_tau=0.025)\n",
    "print(V_nu, V_2nu, V_4nu)\n",
    "print(\"tau convergence rate = \", numpy.log((V_2nu - V_nu) / (V_4nu - V_2nu)) / numpy.log(2))"
   ]
  },
  {
   "cell_type": "markdown",
   "metadata": {
    "id": "jh24F5J85kNL"
   },
   "source": [
    "Convergence rate for $x$ is less than $O(\\Delta x^2)$ because of choosing $w$ for actual $x_0 = \\ln{(S / K)}$. One can increase the convergence rate for $x$ by choosing higher order interpolation. Now let's compare the solution with Black-Scholes formula for European call:\n",
    "\\begin{equation}\n",
    "  V(t = 0, S) = S N(d_1) - Ke^{-rT} N(d_2)\n",
    "\\end{equation}\n",
    "where $N(x)$ is normal distribution CDF and\n",
    "\\begin{equation}\n",
    "\\begin{aligned}\n",
    "  &d_1 = \\frac{\\ln{\\left(\\frac{S}{K} \\right)} + \\left(r + \\frac{\\sigma^2}{2} \\right) T}{\\sigma \\sqrt{T}} \\\\\n",
    "  &d_2 = d_1 - \\sigma \\sqrt{T}\n",
    "\\end{aligned}\n",
    "\\end{equation}"
   ]
  },
  {
   "cell_type": "code",
   "execution_count": null,
   "metadata": {
    "id": "Dk_YdKMPQArw"
   },
   "outputs": [],
   "source": [
    "import scipy.stats"
   ]
  },
  {
   "cell_type": "code",
   "execution_count": null,
   "metadata": {
    "colab": {
     "base_uri": "https://localhost:8080/"
    },
    "id": "6Pps-LkVPBYB",
    "outputId": "332dc3ec-6695-40f4-d324-6828467df51b"
   },
   "outputs": [
    {
     "name": "stdout",
     "output_type": "stream",
     "text": [
      "4.354843714985119\n"
     ]
    }
   ],
   "source": [
    "def price_bsm_call(T, S, K, sigma, r):\n",
    "  d1 = (numpy.log(S / K) + (r + sigma ** 2 / 2) * T) / sigma / numpy.sqrt(T)\n",
    "  d2 = d1 - sigma * numpy.sqrt(T)\n",
    "  V = scipy.stats.norm.cdf(d1) * S - scipy.stats.norm.cdf(d2) * K * numpy.exp(- r * T)\n",
    "  return V\n",
    "\n",
    "print(price_bsm_call(T, S, K, sigma, r))"
   ]
  },
  {
   "cell_type": "markdown",
   "metadata": {
    "id": "e8qK-UELSUls"
   },
   "source": [
    "The analytical solution is the same as numerical."
   ]
  }
 ],
 "metadata": {
  "colab": {
   "collapsed_sections": [],
   "provenance": []
  },
  "kernelspec": {
   "display_name": "Python 3 (ipykernel)",
   "language": "python",
   "name": "python3"
  },
  "language_info": {
   "codemirror_mode": {
    "name": "ipython",
    "version": 3
   },
   "file_extension": ".py",
   "mimetype": "text/x-python",
   "name": "python",
   "nbconvert_exporter": "python",
   "pygments_lexer": "ipython3",
   "version": "3.9.13"
  }
 },
 "nbformat": 4,
 "nbformat_minor": 1
}
