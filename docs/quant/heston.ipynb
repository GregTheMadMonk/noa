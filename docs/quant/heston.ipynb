{
 "cells": [
  {
   "cell_type": "markdown",
   "id": "84ce4fb4",
   "metadata": {},
   "source": [
    "# Heston model for the volatility surface\n",
    "#### Roland Grinis - MIPT & GrinisRIT"
   ]
  },
  {
   "cell_type": "markdown",
   "id": "616dfcb4",
   "metadata": {},
   "source": [
    "This is a stochastic volatility model for the forward dynamics in the risk neutral measure, and CIR dynamics for the variance:\n",
    "$$\n",
    "\\begin{split}\n",
    "\\text{d}f_t & =  \\sqrt{\\alpha_t} f_t \\text{d}W_t^1  \\\\\n",
    "\\text{d}\\alpha_t & =  \\kappa (\\theta - \\alpha_t) + \\xi \\sqrt{\\alpha_t} \\left( \\rho \\text{d}W_t^1 + \\sqrt{1-\\rho^2} \\text{d}W_t^2 \\right)  \n",
    "\\end{split}\n",
    "$$\n",
    "\n",
    "The vol correlation obeys $-1 < \\rho < 1$  as previously, and we impose the Feller condition:\n",
    "$$\n",
    "2\\kappa\\theta > \\xi ^2\n",
    "$$\n",
    "to ensure that the volatility $\\sigma_t$ stays strictly positive."
   ]
  },
  {
   "cell_type": "markdown",
   "id": "af745947",
   "metadata": {},
   "source": [
    "The forward price of a call option is given by:\n",
    "$$\n",
    "FV_C(t_0, T, K) = f_{t_0} H(\\sqrt{-1}) - K \\cdot H(0) \n",
    "$$\n",
    "where:\n",
    "$$\n",
    "H(z) = \\frac{1}{2} + \\frac{1}{\\pi} \\int^{\\infty}_0 \\mathbf{Re} \\left[ \\frac{e^{u\\sqrt{-1} \\log \\frac{f_{t_0}}{K}}}{u\\sqrt{-1}} \\phi(u-z,T) \\right]\\text{d}u\n",
    "$$\n",
    "with \n",
    "$$\n",
    "\\phi(u,T) = \\exp \\left( - \\frac{\\kappa\\bar{\\alpha}\\rho T u\\sqrt{-1} }{\\nu} - A + \\frac{2 \\kappa \\bar{\\alpha} }{\\nu^2}D\\right)\n",
    "$$\n",
    "where $A = A_1 / A_2$:\n",
    "$$\n",
    "A_1 = (u^2 + u\\sqrt{-1}) \\sinh \\frac{\\lambda T}{2}, \\quad \\lambda = \\left( \\xi^2 + \\nu^2 (u^2 + u\\sqrt{-1})\\right)^{\\frac{1}{2}}, \\quad \\xi = \\kappa - \\nu\\rho u\\sqrt{-1} \n",
    "$$\n",
    "and \n",
    "$$\n",
    "\\log A_2 = \\frac{\\lambda T}{2} + \\log \\left( \\frac{\\lambda +\\xi}{2 \\alpha_{t_0}} + \\frac{\\lambda  - \\xi}{2\\alpha_{t_0}}e^{-\\lambda T}\\right)\n",
    "$$\n",
    "with\n",
    "$$\n",
    "D = \\log \\frac{\\lambda}{\\alpha_{t_0}} + \\frac{\\kappa T}{2} - \\log A_2\n",
    "$$\n",
    "The integral above can be truncated to $(0,200)$ and evaluated via Gaussian quadrature at 64 nodes for $10^{-10}$ accuracy."
   ]
  },
  {
   "cell_type": "markdown",
   "id": "687341a3",
   "metadata": {},
   "source": [
    "### References\n",
    "\n",
    "* Cui, Y. et al. *Full and fast calibration of the Heston stochastic volatility model.* European Journal of Operational Research 263.2 (2017)\n",
    "* Grzelak, L.A. et al. *Mathematical Modeling and Computation in Finance: With Exercises and Python and MATLAB Computer Codes*, World Scientific Pub. (2019)"
   ]
  }
 ],
 "metadata": {
  "kernelspec": {
   "display_name": "Python 3 (ipykernel)",
   "language": "python",
   "name": "python3"
  },
  "language_info": {
   "codemirror_mode": {
    "name": "ipython",
    "version": 3
   },
   "file_extension": ".py",
   "mimetype": "text/x-python",
   "name": "python",
   "nbconvert_exporter": "python",
   "pygments_lexer": "ipython3",
   "version": "3.9.13"
  }
 },
 "nbformat": 4,
 "nbformat_minor": 5
}
