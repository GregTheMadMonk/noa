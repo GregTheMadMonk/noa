{
 "cells": [
  {
   "cell_type": "markdown",
   "id": "84ce4fb4",
   "metadata": {},
   "source": [
    "# Heston model for the volatility surface\n",
    "#### Roland Grinis - MIPT & GrinisRIT"
   ]
  },
  {
   "cell_type": "markdown",
   "id": "616dfcb4",
   "metadata": {},
   "source": [
    "This is a stochastic volatility model for the forward dynamics in the risk neutral measure, and CIR dynamics for the variance:\n",
    "$$\n",
    "\\begin{split}\n",
    "\\text{d}f_t & =  \\sqrt{\\alpha_t} f_t \\text{d}W_t^1  \\\\\n",
    "\\text{d}\\alpha_t & =  \\kappa (\\theta - \\alpha_t)\\text{d}t + \\xi \\sqrt{\\alpha_t} \\left( \\rho \\text{d}W_t^1 + \\sqrt{1-\\rho^2} \\text{d}W_t^2 \\right)  \n",
    "\\end{split}\n",
    "$$\n",
    "\n",
    "The vol correlation obeys $-1 < \\rho < 1$  as previously, and we impose the Feller condition:\n",
    "$$\n",
    "2\\kappa\\theta > \\xi ^2\n",
    "$$\n",
    "to ensure that the volatility $\\sigma_t$ stays strictly positive."
   ]
  },
  {
   "cell_type": "markdown",
   "id": "af745947",
   "metadata": {},
   "source": [
    "The forward price of a call option is given by:\n",
    "$$\n",
    "FV_C(t_0, T, K) = f_{t_0} H(\\sqrt{-1}) - K \\cdot H(0) \n",
    "$$\n",
    "where:\n",
    "$$\n",
    "H(z) = \\frac{1}{2} + \\frac{1}{\\pi} \\int^{\\infty}_0 \\mathbf{Re} \\left[ \\frac{e^{u\\sqrt{-1} \\log \\frac{f_{t_0}}{K}}}{u\\sqrt{-1}} \\phi(u-z,T) \\right]\\text{d}u\n",
    "$$\n",
    "with \n",
    "$$\n",
    "\\phi(u,T) = \\exp \\left( - \\frac{\\kappa\\bar{\\alpha}\\rho T u\\sqrt{-1} }{\\nu} - A + \\frac{2 \\kappa \\bar{\\alpha} }{\\nu^2}D\\right)\n",
    "$$\n",
    "where $A = A_1 / A_2$:\n",
    "$$\n",
    "A_1 = (u^2 + u\\sqrt{-1}) \\sinh \\frac{\\lambda T}{2}, \\quad \\lambda = \\left( \\xi^2 + \\nu^2 (u^2 + u\\sqrt{-1})\\right)^{\\frac{1}{2}}, \\quad \\xi = \\kappa - \\nu\\rho u\\sqrt{-1} \n",
    "$$\n",
    "and \n",
    "$$\n",
    "\\log A_2 = \\frac{\\lambda T}{2} + \\log \\left( \\frac{\\lambda +\\xi}{2 \\alpha_{t_0}} + \\frac{\\lambda  - \\xi}{2\\alpha_{t_0}}e^{-\\lambda T}\\right)\n",
    "$$\n",
    "with\n",
    "$$\n",
    "D = \\log \\frac{\\lambda}{\\alpha_{t_0}} + \\frac{\\kappa T}{2} - \\log A_2\n",
    "$$\n",
    "The integral above can be truncated to $(0,200)$ and evaluated via Gaussian quadrature at 64 nodes for $10^{-10}$ accuracy."
   ]
  },
  {
   "cell_type": "markdown",
   "id": "863478a1",
   "metadata": {
    "pycharm": {
     "name": "#%% md\n"
    }
   },
   "source": [
    "# Heston Simulation\n",
    "\n",
    "$$\n",
    "\\begin{aligned}\n",
    "d \\ln X(t) & =-\\frac{1}{2} V(t) d t+\\sqrt{V(t)} d W_X(t) \\\\\n",
    "d V(t) & =\\kappa(\\theta-V(t)) d t+\\varepsilon \\sqrt{V(t)} d W_V(t)\n",
    "d W_X(t) d W_X(t) = 0\n",
    "\\end{aligned}\n",
    "$$"
   ]
  },
  {
   "cell_type": "markdown",
   "id": "93cb949e",
   "metadata": {
    "pycharm": {
     "name": "#%% md\n"
    }
   },
   "source": [
    "### Euler Discretization Scheme\n",
    "\n",
    "$$\n",
    "\\begin{aligned}\n",
    "\\ln \\hat{X}(t+\\Delta) & =\\ln \\hat{X}(t)-\\frac{1}{2} \\hat{V}(t) \\Delta+\\sqrt{\\hat{V}(t)} Z_X \\sqrt{\\Delta}, \\\\\n",
    "\\hat{V}(t+\\Delta) & =V(t)+\\kappa(\\theta-\\hat{V}(t)) \\Delta+\\varepsilon \\sqrt{\\hat{V}(t)} Z_V \\sqrt{\\Delta},\n",
    "\\end{aligned}\n",
    "$$\n",
    "\n",
    "where $Z_X$ and $Z_V$ are standardized Gaussian variables with correlation $\\rho$. So they can be computed as follows:\n",
    "\n",
    "$$\n",
    "\\begin{aligned}\n",
    "& Z_V=\\Phi^{-1}\\left(U_1\\right), \\\\\n",
    "& Z_X=\\rho Z_V+\\sqrt{1-\\rho^2} \\Phi^{-1}\\left(U_2\\right).\n",
    "\\end{aligned}\n",
    "$$\n",
    "\n",
    "($U_1$ and $U_2$ are independent uniform samples, and $Φ^{−1}$ is the inverse cumulative\n",
    "Gaussian distribution function).\n",
    "\n",
    "However the discrete process for $V$ can become negative with non-zero probability, which in turn would make computation of $\\sqrt{\\hat{V}}$ impossible and cause the time-stepping scheme to fail. The scheme that appears to produce the smallest discretization bias can be written on the form:\n",
    "\n",
    "$$\n",
    "\\begin{aligned}\n",
    "\\ln \\hat{X}(t+\\Delta) & =\\ln \\hat{X}(t)-\\frac{1}{2} \\hat{V}(t)^{+} \\Delta+\\sqrt{\\hat{V}(t)^{+}} Z_X \\sqrt{\\Delta} \\\\\n",
    "\\hat{V}(t+\\Delta) & =\\hat{V}(t)+\\kappa\\left(\\theta-\\hat{V}(t)^{+}\\right) \\Delta+\\varepsilon \\sqrt{\\hat{V}(t)^{+}} Z_V \\sqrt{\\Delta},\n",
    "\\end{aligned}\n",
    "$$\n",
    "where we use the notation $x^{+}=\\max (x, 0)$"
   ]
  },
  {
   "cell_type": "markdown",
   "id": "dea0534e",
   "metadata": {
    "pycharm": {
     "name": "#%% md\n"
    }
   },
   "source": [
    "### Bias free Scheme\n",
    "\n",
    "To obtain a bias-free scheme for sampling the asset price process, first integrate the SDE for $V(t)$, to yield\n",
    "$$\n",
    "V(t+\\Delta)=V(t)+\\int_t^{t+\\Delta} \\kappa(\\theta-V(u)) d u+\\varepsilon \\int_t^{t+\\Delta} \\sqrt{V(u)} d W_V(u)\n",
    "$$\n",
    "or, equivalently,\n",
    "$$\n",
    "\\int_t^{t+\\Delta} \\sqrt{V(u)} d W_V(u)=\\varepsilon^{-1}\\left(V(t+\\Delta)-V(t)-\\kappa \\theta \\Delta+\\kappa \\int_t^{t+\\Delta} V(u) d u\\right)\n",
    "$$\n",
    "A Cholesky decomposition shows that\n",
    "$$\n",
    "d \\ln X(t)=-\\frac{1}{2} V(t) d t+\\rho \\sqrt{V(u)} d W_V(u)+\\sqrt{1-\\rho^2} \\sqrt{V(u)} d W(u)\n",
    "$$\n",
    "where $W$ is a Brownian motion independent of $W_V$. In integral form,\n",
    "$$\n",
    "\\begin{aligned}\n",
    "\\ln X(t+\\Delta)=\\ln X(t)+\\frac{\\rho}{\\varepsilon} & (V(t+\\Delta)-V(t)-\\kappa \\theta \\Delta) \\\\\n",
    "& +\\left(\\frac{\\kappa \\rho}{\\varepsilon}-\\frac{1}{2}\\right) \\int_t^{t+\\Delta} V(u) d u+\\sqrt{1-\\rho^2} \\int_t^{t+\\Delta} \\sqrt{V(u)} d W(u)\n",
    "\\end{aligned}\n",
    "$$\n",
    "\n",
    "As $W$ is independent of $V$, conditional on $V(t)$ and $\\int_t^{t+\\Delta} V(u) d u$, the Ito integral $\\int_t^{t+\\Delta} \\sqrt{V(u)} d W(u)$ is Gaussian with mean zero and variance $\\int_t^{t+\\Delta} V(u) d u$."
   ]
  },
  {
   "cell_type": "markdown",
   "id": "662ebf2c",
   "metadata": {
    "pycharm": {
     "name": "#%% md\n"
    }
   },
   "source": [
    "### Process for $V$ (CIR)\n",
    "\n",
    "Non-central chi-squared distribution:\n",
    "$$\n",
    "\\mathbb{P}\\left(V_{t \\cdot \\Delta}<V \\mid V_{t}\\right) \\quad = \\quad F_{\\chi^{12}}\\left(\\frac{4 \\kappa V}{\\varepsilon^{2}\\left(1-e^{-\\kappa \\Delta}\\right)} ; \\frac{4 \\kappa \\theta}{\\varepsilon^{2}}, \\frac{4 V_{t} \\kappa e^{-\\kappa \\Delta}}{\\varepsilon^{2}\\left(1-e^{-\\kappa \\Delta}\\right)}\\right) \\quad\n",
    "$$\n",
    "\n",
    "\n",
    "$$\n",
    "\\begin{aligned}\n",
    "m = \\mathbb{E}\\left( V_{t+\\Delta} \\mid V_t \\right) \\quad & = \\quad \\theta+(\\hat{V}(t)-\\theta) e^{-\\kappa \\Delta} \\\\\n",
    "s^2 = Var\\left( V_{t+\\Delta} \\mid V_t \\right) \\quad & = \\quad \\frac{\\hat{V}(t) \\varepsilon^2 e^{-\\kappa \\Delta}}{\\kappa}\\left(1-e^{-\\kappa \\Delta}\\right)+\\frac{\\theta \\varepsilon^2}{2 \\kappa}\\left(1-e^{-\\kappa \\Delta}\\right)^2\n",
    "\\end{aligned}\n",
    "$$\n"
   ]
  },
  {
   "cell_type": "markdown",
   "id": "f40ec8e9",
   "metadata": {
    "pycharm": {
     "name": "#%% md\n"
    }
   },
   "source": [
    "### Quadratic exponential (QE) approximation\n",
    "\n",
    "Switching rule:\n",
    "- $ V_t \\gg 1: \\quad V_{t+\\Delta} \\approx a \\left( b + z^v \\right)^2 \\text{( where } z^v \\text{ from } N(0,1)) $\n",
    "- $V_t \\ll 1: \\quad f_{V_{t+\\Delta}}(v) \\approx p \\delta(v) + \\beta(1-\\rho) e^{-\\beta v} $\n",
    "\n",
    "PDF with fast sampling (for $f_{V_{t+\\Delta}}(v)$):\n",
    "$$\n",
    "\\begin{aligned}\n",
    "F_{V_{t+\\Delta}}^{-1}(u) & \\approx\\left\\{\\begin{array}{l}\n",
    "0\\ ,\\ 0 \\leq u \\leq p \\\\\n",
    "\\beta^{-1} \\ln \\left(\\frac{1-p}{1-u}\\right)\\ ,\\ p \\leq u \\leq 1\n",
    "\\end{array}\\right. \\\\\n",
    "u & \\sim u[0,1]-\\text { uniform }\n",
    "\\end{aligned}\n",
    "$$"
   ]
  },
  {
   "cell_type": "markdown",
   "id": "7d6ad886",
   "metadata": {
    "pycharm": {
     "name": "#%% md\n"
    }
   },
   "source": [
    "### Generating random numbers\n",
    "\n",
    "Pseudo-random integers:\n",
    "$$\n",
    "0 \\leq N_k \\leq N \\quad, \\quad N_{k+1} = f(N_k) \\equiv N\n",
    "$$\n",
    "\n",
    "$$\n",
    "u \\sim u[0,1] \\quad , \\quad u_k = \\frac{N_k}{N}\n",
    "$$\n",
    "\n",
    "Box-Muller method:\n",
    "$$ u_1 u_2 \\sim u[0,1] \\quad \\theta = 2\\pi u_2 \\quad p = \\sqrt{-2 \\ln{u_1}} $$\n",
    "\n",
    "$$ Z_1 = p\\cos{\\theta} $$\n",
    "$$ Z_2 = p\\sin{\\theta} $$\n",
    "Then $Z_1$ and $Z_2$ are independent random variables with a standard normal distribution $N(0,1).$\n"
   ]
  },
  {
   "cell_type": "markdown",
   "id": "9132605d",
   "metadata": {
    "pycharm": {
     "name": "#%% md\n"
    }
   },
   "source": [
    "### Computing parameters $(a,\\ b,\\ p,\\ \\beta)$\n",
    "\n",
    "$\\psi \\equiv \\frac{S^{2}}{m^{2}} \\quad \\text { if } \\psi \\leqslant 2$:\n",
    "$$\n",
    "\\begin{array}{l}\n",
    "b^{2}=2 \\psi^{-1}-1+\\sqrt{2 \\psi^{-1}} \\sqrt{2 \\psi^{-1}-1} \\geq 0 \\\\\n",
    "a=\\frac{m}{1+b^{2}} \\rightarrow \\\\\n",
    "\\rightarrow \\text { 2nd moment matching}\n",
    "\\end{array}\n",
    "$$\n",
    "\n",
    "if $\\psi \\geqslant 1$:\n",
    "$$\n",
    "\\begin{array}{l}\n",
    "p=\\frac{\\psi-1}{\\psi+2} \\in[0,1) \\\\\n",
    "\\beta=\\frac{1-p}{m}=\\frac{2}{m(1+\\psi)} \\rightarrow \\\\\n",
    "\\rightarrow \\text { moment matching at order 2}\n",
    "\\end{array}\n",
    "$$\n",
    "\n",
    "Switching rule: $\\psi_{c} \\in[1,2].$\n",
    "\n",
    "$$\n",
    "\\begin{array}{l}\n",
    "Y_{t_{j+1}}^{k}=\\hat{V}_{t_{j+1}}^{k}-\\hat{V}_{t_{j}}^{k}, \\quad \\Delta_{1}=t_{j+1}-t_{1}, \\quad \\hat{V}_{t_{N}}^{k}=\\sum_{j=1}^{N} \\hat{Y}_{t_{j}}^{k} \\\\\n",
    "\\Delta=t_{N}-t_{0} ; \\quad k=1, \\ldots, M \\\\\n",
    "\\hat{m}_{T}=\\frac{1}{M} \\sum_{k} \\hat{V}_{t_{N}}^{k} \\\\\n",
    "\\hat{S}_{T}^{2}=\\frac{1}{M-1} \\sum_{k}\\left(\\hat{V}_{t_{N}}^{k}-\\hat{m}\\right)^{2}\n",
    "\\end{array}\n",
    "$$\n",
    "\n",
    "### Moment matching technique\n",
    "\n",
    "$$\n",
    "\\begin{array}{l}\n",
    "\\hat{m}_{T} \\quad \\quad m_T = \\mathbb{E}[V_T \\mid V_{t_0}] \\\\\n",
    "\\hat{S}^{2}_T = S^{2}_T \\quad \\quad S^{2}_T = Var[V_T \\mid V_{t_0}] \\rightarrow \\\\\n",
    "\\rightarrow V^{k}_T = m_T + \\frac{S_T}{\\hat{S}_T} (\\hat{V}{k}_T - \\hat{m}_T) = \\sum_{j=1}^{N} \\left(\\frac{m_T}{N} + \\frac{S_T}{\\hat{S}_T} \\left(\\hat{Y}^{k}_{t_j} - \\frac{m_T}{N}\\right)\\right)\n",
    "\\end{array}\n",
    "$$\n"
   ]
  },
  {
   "cell_type": "markdown",
   "id": "bc230253",
   "metadata": {
    "pycharm": {
     "name": "#%% md\n"
    }
   },
   "source": [
    "### Simulating $\\ln{X_{t\\Delta}}$\n",
    "\n",
    "Euler Scheme for $\\ln{X_{t\\Delta}}$ with QE sampling for $V_{t+\\Delta}$ leads to CORRELATION LEAKS\n",
    "\n",
    "Exact simulation is too heavy:\n",
    "$$\n",
    "\\begin{array}{l}\n",
    " \\int_{t}^{t+\\Delta} V_{u} d u \\approx \\gamma_{1} V_{t}+\\gamma_{2} V_{t+\\Delta} \\quad \\begin{array}{l}\n",
    "\\gamma_{1}+\\gamma_{2}=1 \\\\\n",
    "\\gamma_{1}, \\gamma_{2} \\geqslant 0\n",
    "\\end{array} \\\\\n",
    "\\end{array}\n",
    "$$\n",
    "\n",
    "Regularity condition:\n",
    "$$\n",
    "\\mathbb{E}\\left(x_{t \\cdot \\Delta} \\mid x_{t}\\right)<\\infty \\Longrightarrow \\frac{\\rho}{\\varepsilon}\\left(1+\\kappa \\gamma_{2} \\Delta\\right)-\\frac{1}{2} \\gamma_{2} \\Delta \\rho^{2}<\\frac{2 k}{\\varepsilon^{2} (1-e^{-\\kappa \\Delta})}\n",
    "$$\n",
    "\n",
    "Natural discretization scheme:\n",
    "$$\n",
    "\\begin{aligned}\n",
    "\\ln \\hat{X}(t+\\Delta)= & \\ln \\hat{X}(t)+\\frac{\\rho}{\\varepsilon}(\\hat{V}(t+\\Delta)-\\hat{V}(t)-\\kappa \\theta \\Delta)+\\Delta\\left(\\frac{\\kappa \\rho}{\\varepsilon}-\\frac{1}{2}\\right)\\left(\\gamma_1 \\hat{V}(t)+\\gamma_2 \\hat{V}(t+\\Delta)\\right) \\\\\n",
    "& +\\sqrt{\\Delta} \\sqrt{1-\\rho^2} \\sqrt{\\gamma_1 \\hat{V}(t)+\\gamma_2 \\hat{V}(t+\\Delta)} \\cdot Z \\\\\n",
    "= & \\ln \\hat{X}(t)+K_0+K_1 \\hat{V}(t)+K_2 \\hat{V}(t+\\Delta)+\\sqrt{K_3 \\hat{V}(t)+K_4 \\hat{V}(t+\\Delta)} \\cdot Z\n",
    "\\end{aligned}\n",
    "$$\n",
    "where $Z$ is a standard Gaussian random variable, independent of $\\hat{V}$, and $K_0, \\ldots, K_4$ are given by\n",
    "$$\n",
    "\\begin{aligned}\n",
    "& K_0=-\\frac{\\rho \\kappa \\theta}{\\varepsilon} \\Delta, \\quad K_1=\\gamma_1 \\Delta\\left(\\frac{\\kappa \\rho}{\\varepsilon}-\\frac{1}{2}\\right)-\\frac{\\rho}{\\varepsilon} \\\\\n",
    "& K_2=\\gamma_2 \\Delta\\left(\\frac{\\kappa \\rho}{\\varepsilon}-\\frac{1}{2}\\right)+\\frac{\\rho}{\\varepsilon}, \\quad K_3=\\gamma_1 \\Delta\\left(1-\\rho^2\\right), \\quad K_4=\\gamma_2 \\Delta\\left(1-\\rho^2\\right) .\n",
    "\\end{aligned}\n",
    "$$\n"
   ]
  },
  {
   "cell_type": "markdown",
   "id": "d92486a5",
   "metadata": {
    "pycharm": {
     "name": "#%% md\n"
    }
   },
   "source": [
    "\n",
    "### Enforcing Martingale property $\\mathbb{E}\\left(X_{t+\\Delta} \\mid X_{t}\\right)=X_{t} $:\n",
    "\n",
    "$$\n",
    "\\begin{array}{l}\n",
    "K_{0}^{*}=\\left\\{\\begin{array}{l}\n",
    "-\\frac{A B^{2} a}{1-2 A a}+\\frac{1}{2} \\ln (1-2 A a)-\\left(K_{1}+\\frac{1}{2} \\Delta \\gamma^{\\prime}\\right), \\quad \\psi \\leq \\psi_{c} \\\\\n",
    "-\\ln \\left(\\frac{\\beta(1-\\rho)}{\\beta-A}\\right)-\\left(K_{1}+\\frac{1}{2} \\Delta \\gamma_{1}\\right), \\quad \\psi_{>} \\psi_{c} \\\\\n",
    "\\end{array}\\right.\n",
    "\\end{array}\n",
    "$$\n",
    "$$\n",
    "A=\\frac{\\rho}{\\varepsilon^{2}}\\left(1+K \\gamma_{2} \\Delta\\right)-\\frac{1}{2} \\gamma_{2} \\Delta\\rho^{2}\n",
    "$$"
   ]
  },
  {
   "cell_type": "markdown",
   "id": "542c1aa6",
   "metadata": {
    "pycharm": {
     "name": "#%% md\n"
    }
   },
   "source": [
    "### Variance reduction: antithetic variates\n",
    "\n",
    "$$\n",
    "\\begin{array}{l}\n",
    "u \\sim u(0,1) \\longrightarrow 1-u \\sim u(0,1) \\longrightarrow \\hat{V}=\\mathbb{E}\\left[P\\left(V_{T}\\right)\\right] \\\\\n",
    "Z \\sim N(0,1) \\longrightarrow-Z \\sim N(0,1) \\longrightarrow V^{-} \\\\\n",
    "V_{A V}=\\frac{1}{2}\\left(\\hat{V}+V^{-}\\right) \\\\\n",
    "\\operatorname{Var}\\left[V_{A V}\\right]=\\frac{1}{4} \\operatorname{Var}\\left[\\hat{V}+V^{-}\\right]=\\frac{1}{4} \\operatorname{Var} \\hat{V}+\\frac{1}{4} \\operatorname{Var} V^{-}+\\frac{1}{2} \\operatorname{Cov}\\left(\\hat{V}, V^{-}\\right) \\\\\n",
    "\\left|\\operatorname{cov}\\left(\\hat{V}, V^{-}\\right)\\right| \\leqslant \\frac{1}{2} \\operatorname{Var} \\hat{V}+\\frac{1}{2} \\operatorname{Var} V^{-} \\Rightarrow \\\\\n",
    " \\Rightarrow \\operatorname{Var V}_{A V} \\leqslant \\operatorname{Var} \\hat{V} \\text{ - negative correlation effect for antithetics}\n",
    "\\end{array}\n",
    "$$\n",
    "\n",
    "### Variance reduction: control variates\n",
    "$$\n",
    "\\begin{array}{l}\n",
    "\\hat{V} = \\mathbb{E}[P(V_T)] \\\\\n",
    "\\text{C – analytic formula (like a vanilla call)} \\\\\n",
    "\\hat{C} = \\mathbb{E}[P_C(V_T)] \\\\\n",
    "V = \\hat{V} + \\alpha (C - \\hat{C}) \\\\\n",
    "\\end{array}\n",
    "$$\n"
   ]
  },
  {
   "cell_type": "markdown",
   "id": "b6d2bdd4",
   "metadata": {
    "pycharm": {
     "name": "#%% md\n"
    }
   },
   "source": [
    "# Longstaff-Schwarz Method (LSM algorythm)\n",
    "\n",
    "#### Dynamic programming:\n",
    "$$\n",
    "\\begin{array}{l}\n",
    "V_{T_M} = \\psi \\quad - \\quad \\text{Payoff} \\ \\\\\n",
    "C_{T_n} = \\mathbb{E}[V_{T_{n+1}}] \\quad - \\quad \\text{(Analytic/numerical integration, trees, PDEs, Monte-Carlo...)}\\\\\n",
    "V_{T_n} = max[C_{T_n}, \\psi] \\\\\n",
    "\\end{array}\n",
    "$$\n",
    "\n",
    "#### Monte-Carlo + Regression (LSM)\n",
    "\n",
    "- Simulate N paths $f_{n,k} = f_k(T_n)$, $f_{n,k} \\leq K$ – keep contract if ITM;\n",
    "- Make $g_k = \\psi(f_{m,k})$ – cash-flow vector;\n",
    "- Recursively fit $C_{T_n} = \\sum_{l} b_{n,l} \\phi_l$ on exercised paths, if $\\psi(f_{n,k}) > C_{T_n}(f_{n,k})$ then update $g_k = \\psi(f_{n,k})$;\n",
    "(${\\phi_l}$ is basis for $C$, e.g. monomials);\n",
    "- Calculate $V_0 = \\frac{1}{N} \\sum_{k} g_k$."
   ]
  },
  {
   "cell_type": "markdown",
   "id": "687341a3",
   "metadata": {},
   "source": [
    "### References\n",
    "\n",
    "* Cui, Y. et al. *Full and fast calibration of the Heston stochastic volatility model.* European Journal of Operational Research 263.2 (2017)\n",
    "* Grzelak, L.A. et al. *Mathematical Modeling and Computation in Finance: With Exercises and Python and MATLAB Computer Codes*, World Scientific Pub. (2019)"
   ]
  }
 ],
 "metadata": {
  "kernelspec": {
   "display_name": "Python 3 (ipykernel)",
   "language": "python",
   "name": "python3"
  },
  "language_info": {
   "codemirror_mode": {
    "name": "ipython",
    "version": 3
   },
   "file_extension": ".py",
   "mimetype": "text/x-python",
   "name": "python",
   "nbconvert_exporter": "python",
   "pygments_lexer": "ipython3",
   "version": "3.10.9"
  }
 },
 "nbformat": 4,
 "nbformat_minor": 5
}
