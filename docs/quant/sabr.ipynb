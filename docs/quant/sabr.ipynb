{
 "cells": [
  {
   "cell_type": "markdown",
   "id": "9e5a9beb",
   "metadata": {},
   "source": [
    "# SABR\n",
    "#### Roland Grinis - MIPT & GrinisRIT"
   ]
  },
  {
   "cell_type": "code",
   "execution_count": 1,
   "id": "f5f2e87d",
   "metadata": {},
   "outputs": [],
   "source": [
    "import torch\n",
    "from torch.utils.cpp_extension import load\n",
    "import numpy as np\n",
    "import numba as nb\n",
    "import matplotlib.pyplot as plt\n",
    "plt.style.use(\"dark_background\")\n",
    "%matplotlib inline\n",
    "torch.manual_seed(987654);"
   ]
  },
  {
   "cell_type": "code",
   "execution_count": 2,
   "id": "72991997",
   "metadata": {},
   "outputs": [],
   "source": [
    "!mkdir -p build"
   ]
  },
  {
   "cell_type": "code",
   "execution_count": 4,
   "id": "ab49443a",
   "metadata": {},
   "outputs": [
    {
     "name": "stdout",
     "output_type": "stream",
     "text": [
      "The input conditions for extension module sabr have changed. Bumping to version 1 and re-building as sabr_v1...\n",
      "Emitting ninja build file ./build/build.ninja...\n",
      "Building extension module sabr_v1...\n",
      "Allowing ninja to set a default number of workers... (overridable by setting the environment variable MAX_JOBS=N)\n",
      "[1/2] c++ -MMD -MF sabr.o.d -DTORCH_EXTENSION_NAME=sabr_v1 -DTORCH_API_INCLUDE_EXTENSION_H -DPYBIND11_COMPILER_TYPE=\\\"_gcc\\\" -DPYBIND11_STDLIB=\\\"_libstdcpp\\\" -DPYBIND11_BUILD_ABI=\\\"_cxxabi1014\\\" -isystem /home/rolandgrinis.linux/miniconda3/envs/noa/lib/python3.9/site-packages/torch/include -isystem /home/rolandgrinis.linux/miniconda3/envs/noa/lib/python3.9/site-packages/torch/include/torch/csrc/api/include -isystem /home/rolandgrinis.linux/miniconda3/envs/noa/lib/python3.9/site-packages/torch/include/TH -isystem /home/rolandgrinis.linux/miniconda3/envs/noa/lib/python3.9/site-packages/torch/include/THC -isystem /home/rolandgrinis.linux/miniconda3/envs/noa/include/python3.9 -D_GLIBCXX_USE_CXX11_ABI=1 -fPIC -std=c++14 -Wall -Wextra -Wpedantic -O3 -std=c++17 -c /home/rolandgrinis.linux/devspace/noa/docs/quant/sabr.cc -o sabr.o \n",
      "[2/2] c++ sabr.o -shared -L/home/rolandgrinis.linux/miniconda3/envs/noa/lib/python3.9/site-packages/torch/lib -lc10 -ltorch_cpu -ltorch -ltorch_python -o sabr_v1.so\n",
      "Loading extension module sabr_v1...\n"
     ]
    }
   ],
   "source": [
    "sabr = load(name='sabr',\n",
    "             build_directory='./build',\n",
    "             sources=['sabr.cc'],\n",
    "             extra_cflags=['-Wall -Wextra -Wpedantic -O3 -std=c++17'],\n",
    "             verbose=True)"
   ]
  },
  {
   "cell_type": "code",
   "execution_count": 6,
   "id": "5054fc87",
   "metadata": {},
   "outputs": [],
   "source": [
    "a = torch.randn(5, dtype=torch.float64)"
   ]
  },
  {
   "cell_type": "code",
   "execution_count": 9,
   "id": "b6f7506e",
   "metadata": {},
   "outputs": [
    {
     "data": {
      "text/plain": [
       "tensor([-0.4044,  0.6905,  1.3833,  0.5268,  0.7891])"
      ]
     },
     "execution_count": 9,
     "metadata": {},
     "output_type": "execute_result"
    }
   ],
   "source": [
    "sabr.test(torch.randn(5))"
   ]
  },
  {
   "cell_type": "code",
   "execution_count": null,
   "id": "587e0911",
   "metadata": {},
   "outputs": [],
   "source": []
  },
  {
   "cell_type": "markdown",
   "id": "6b58dc9f",
   "metadata": {},
   "source": [
    "## 1. Implied Volatility\n",
    "\n",
    "Zelen & Severo approximation for the standard normal CDF $\\text{N}(x) = \\frac{1}{\\sqrt{2\\pi}}\\int^x_{-\\infty} \\text{d}z \\exp(-z^2/2)$ is given by: \n",
    "$$\n",
    "\\text{N}(x) = 1 - \\text{N}'(x) \\sum_{i=1}^{5} b_i t^i + \\epsilon (x)\n",
    "$$\n",
    "where $t = (1 + b_0 x)^{-1}$, the error is bounded by $|\\epsilon (x)| < 7.5 \\cdot 10^{-8}$ and the coefficients $b_i$ are fixed (see implementation).\n"
   ]
  },
  {
   "cell_type": "markdown",
   "id": "b280b954",
   "metadata": {},
   "source": [
    "### References\n",
    "* Hagan, P. S. et al. *Implied volatility formulas for Heston models.* Wilmott 2018.98 (2018)\n",
    "* Bartlett, B. *Hedging Under SABR Model.* Wilmott Magazine, (2006)\n",
    "* Oblój, J. *Fine-Tune Your Smile: Correction to Hagan et al*. preprint arXiv:0708.0998 (2007)\n",
    "* Paulot, L. *Asymptotic implied volatility at the second order with application to the SABR model.* In Large Deviations and Asymptotic Methods in Finance (pp. 37-69). Springer, Cham. (2015)\n",
    "* Henry-Labordère, P. *A general asymptotic implied volatility for stochastic volatility\n",
    "models.* http://arxiv.org/abs/cond-mat/0504317 (2005)"
   ]
  },
  {
   "cell_type": "code",
   "execution_count": null,
   "id": "ca306353",
   "metadata": {},
   "outputs": [],
   "source": []
  }
 ],
 "metadata": {
  "kernelspec": {
   "display_name": "Python 3 (ipykernel)",
   "language": "python",
   "name": "python3"
  },
  "language_info": {
   "codemirror_mode": {
    "name": "ipython",
    "version": 3
   },
   "file_extension": ".py",
   "mimetype": "text/x-python",
   "name": "python",
   "nbconvert_exporter": "python",
   "pygments_lexer": "ipython3",
   "version": "3.9.13"
  }
 },
 "nbformat": 4,
 "nbformat_minor": 5
}
