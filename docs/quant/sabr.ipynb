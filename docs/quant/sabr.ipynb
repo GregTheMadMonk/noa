{
 "cells": [
  {
   "cell_type": "markdown",
   "id": "9e5a9beb",
   "metadata": {},
   "source": [
    "# SABR and the volatility smile calibration\n",
    "#### Roland Grinis - MIPT & GrinisRIT"
   ]
  },
  {
   "cell_type": "markdown",
   "id": "e43763d9",
   "metadata": {},
   "source": [
    "This is a stochastic volatility model that describes the dynamics of the forward directly in the risk neutral measure:\n",
    "\n",
    "$$\n",
    "\\begin{split}\n",
    "\\text{d}f_t & =  \\sigma_t f_t^\\beta \\text{d}W_t^1   \\\\\n",
    "\\text{d}\\sigma_t & =  \\upsilon \\sigma_t \\left( \\rho \\text{d}W_t^1 + \\sqrt{1-\\rho^2} \\text{d}W_t^2 \\right) \n",
    "\\end{split}\n",
    "$$\n",
    "\n",
    "where $-1 < \\rho < 1$ is the vol correlation, $0 \\leq \\beta \\leq 1$ is the CIR exponent and the Wiener processes are independent."
   ]
  },
  {
   "cell_type": "code",
   "execution_count": 2,
   "id": "f5f2e87d",
   "metadata": {},
   "outputs": [],
   "source": [
    "import torch\n",
    "from torch.utils.cpp_extension import load\n",
    "import numpy as np\n",
    "import numba as nb\n",
    "import matplotlib.pyplot as plt\n",
    "plt.style.use(\"dark_background\")\n",
    "%matplotlib inline\n",
    "torch.manual_seed(987654);"
   ]
  },
  {
   "cell_type": "code",
   "execution_count": 3,
   "id": "72991997",
   "metadata": {},
   "outputs": [],
   "source": [
    "!mkdir -p build"
   ]
  },
  {
   "cell_type": "code",
   "execution_count": 4,
   "id": "ab49443a",
   "metadata": {},
   "outputs": [],
   "source": [
    "sabr = load(name='sabr',\n",
    "             build_directory='./build',\n",
    "             sources=['sabr.cc'],\n",
    "             extra_cflags=['-Wall -Wextra -Wpedantic -O3 -std=c++17'],\n",
    "             verbose=False)"
   ]
  },
  {
   "cell_type": "code",
   "execution_count": 5,
   "id": "5054fc87",
   "metadata": {},
   "outputs": [],
   "source": [
    "a = torch.randn(5, dtype=torch.float64)"
   ]
  },
  {
   "cell_type": "code",
   "execution_count": 7,
   "id": "b6f7506e",
   "metadata": {},
   "outputs": [
    {
     "data": {
      "text/plain": [
       "tensor([-0.3602, -1.0800, -0.8943, -0.5205, -0.7527], dtype=torch.float64)"
      ]
     },
     "execution_count": 7,
     "metadata": {},
     "output_type": "execute_result"
    }
   ],
   "source": [
    "sabr.test(a)"
   ]
  },
  {
   "cell_type": "markdown",
   "id": "6b58dc9f",
   "metadata": {},
   "source": [
    "## 1. Implied Volatility\n",
    "\n",
    "Zelen & Severo approximation for the standard normal CDF $\\text{N}(x) = \\frac{1}{\\sqrt{2\\pi}}\\int^x_{-\\infty} \\text{d}z \\exp(-z^2/2)$ is given by: \n",
    "$$\n",
    "\\text{N}(x) = 1 - \\text{N}'(x) \\sum_{i=1}^{5} b_i t^i + \\epsilon (x)\n",
    "$$\n",
    "where $t = (1 + b_0 x)^{-1}$, the error is bounded by $|\\epsilon (x)| < 7.5 \\cdot 10^{-8}$ and the coefficients $b_i$ are fixed (see implementation).\n",
    "\n",
    "```cpp\n",
    "inline const double b0 = 0.2316419;\n",
    "inline const double b1 = 0.319381530;\n",
    "inline const double b2 = -0.356563782;\n",
    "inline const double b3 = 1.781477937;\n",
    "inline const double b4 = -1.821255978;\n",
    "inline const double b5 = 1.330274429;\n",
    "```\n"
   ]
  },
  {
   "cell_type": "markdown",
   "id": "b280b954",
   "metadata": {},
   "source": [
    "### References\n",
    "* Hagan, P. S. et al. *Implied volatility formulas for Heston models.* Wilmott 2018.98 (2018)\n",
    "* Bartlett, B. *Hedging Under SABR Model.* Wilmott Magazine, (2006)\n",
    "* Oblój, J. *Fine-Tune Your Smile: Correction to Hagan et al*. preprint arXiv:0708.0998 (2007)\n",
    "* Paulot, L. *Asymptotic implied volatility at the second order with application to the SABR model.* In Large Deviations and Asymptotic Methods in Finance (pp. 37-69). Springer, Cham. (2015)\n",
    "* Henry-Labordère, P. *A general asymptotic implied volatility for stochastic volatility \n",
    "models.* http://arxiv.org/abs/cond-mat/0504317 (2005)"
   ]
  }
 ],
 "metadata": {
  "kernelspec": {
   "display_name": "Python 3 (ipykernel)",
   "language": "python",
   "name": "python3"
  },
  "language_info": {
   "codemirror_mode": {
    "name": "ipython",
    "version": 3
   },
   "file_extension": ".py",
   "mimetype": "text/x-python",
   "name": "python",
   "nbconvert_exporter": "python",
   "pygments_lexer": "ipython3",
   "version": "3.9.13"
  }
 },
 "nbformat": 4,
 "nbformat_minor": 5
}
