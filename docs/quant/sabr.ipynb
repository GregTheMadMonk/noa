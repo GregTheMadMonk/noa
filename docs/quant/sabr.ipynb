{
 "cells": [
  {
   "cell_type": "markdown",
   "id": "e06b9e95",
   "metadata": {},
   "source": [
    "# SABR and the volatility smile calibration\n",
    "\n",
    "#### Roland Grinis  -  Researcher at MIPT Nuclear Physics Methods lab  -  CTO at GrinisRIT (grinisrit.com)"
   ]
  },
  {
   "cell_type": "markdown",
   "id": "5676a1c7",
   "metadata": {},
   "source": []
  },
  {
   "cell_type": "markdown",
   "id": "d22c57c7",
   "metadata": {},
   "source": [
    "## References\n",
    "* Hagan, P. S. et al. *Implied volatility formulas for Heston models.* Wilmott 2018.98 (2018)\n",
    "* Bartlett, B. *Hedging Under SABR Model.* Wilmott Magazine, (2006)\n",
    "* Oblój, J. *Fine-Tune Your Smile: Correction to Hagan et al*. preprint arXiv:0708.0998 (2007)\n",
    "* Paulot, L. *Asymptotic implied volatility at the second order with application to the SABR model.* In Large Deviations and Asymptotic Methods in Finance (pp. 37-69). Springer, Cham. (2015)\n"
   ]
  }
 ],
 "metadata": {
  "kernelspec": {
   "display_name": "Python 3 (ipykernel)",
   "language": "python",
   "name": "python3"
  },
  "language_info": {
   "codemirror_mode": {
    "name": "ipython",
    "version": 3
   },
   "file_extension": ".py",
   "mimetype": "text/x-python",
   "name": "python",
   "nbconvert_exporter": "python",
   "pygments_lexer": "ipython3",
   "version": "3.9.7"
  }
 },
 "nbformat": 4,
 "nbformat_minor": 5
}
