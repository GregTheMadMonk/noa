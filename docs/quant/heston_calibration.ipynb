{
 "cells": [
  {
   "cell_type": "markdown",
   "id": "234b123e",
   "metadata": {},
   "source": [
    "<h1 style=\"text-align: center;\"><b>Heston model for the volatility surface</b></h1>\n",
    "\n",
    "#### Dmitry Bazanov - MIPT\n",
    "#### Roland Grinis - MIPT & GrinisRIT\n",
    "#### Ivan Novikov - MIPT"
   ]
  },
  {
   "cell_type": "markdown",
   "id": "81535a12",
   "metadata": {},
   "source": [
    "This is a stochastic volatility model for the forward dynamics in the risk neutral measure, and CIR dynamics for the variance:\n",
    "$$\n",
    "\\left\\{\n",
    "\\begin{array}{l}\n",
    "    \\text{d}X_t =  \\sqrt{V_t} X_t \\text{d}W_t^X,  \\\\\n",
    "    \\text{d}V_t =  \\kappa (\\theta - V_t)\\text{d}t + \\varepsilon \\sqrt{V_t} \\text{d} W_t^V,\n",
    "\\end{array}\\right.\n",
    "$$\n",
    "\n",
    "where underlying Brownian motions are correlated:\n",
    "$$ \\text{d} W_t^V = \\rho\\text{d}W_t^X + \\sqrt{1-\\rho^2} \\text{d}W_t,$$\n",
    "$$ -1 < \\rho < 1. $$"
   ]
  },
  {
   "cell_type": "markdown",
   "id": "eb8c5033",
   "metadata": {},
   "source": [
    "The forward price of a call option is given by:\n",
    "$$\n",
    "\\text{FV}_C(t_0, T, K) = X_{t_0} H(\\sqrt{-1}) - K \\cdot H(0)\n",
    "$$\n",
    "where\n",
    "$$\n",
    "H(z) = \\frac{1}{2} + \\frac{1}{\\pi} \\int^{\\infty}_0 \\mathbf{Re} \\left[ \\frac{e^{u\\sqrt{-1} \\log \\frac{X_{t_0}}{K}}}{u\\sqrt{-1}} \\phi(u-z,T) \\right]\\text{d}u\n",
    "$$\n",
    "with \n",
    "$$\n",
    "\\phi(u,T) = \\exp \\left( - \\frac{\\kappa\\theta\\rho T u\\sqrt{-1} }{\\varepsilon} - A + \\frac{2 \\kappa \\theta }{\\varepsilon^2}D\\right).\n",
    "$$\n",
    "Here $A = A_1 / A_2$:\n",
    "$$\n",
    "A_1 = (u^2 + u\\sqrt{-1}) \\sinh \\frac{q T}{2}, \\quad q = \\sqrt{ \\xi^2 + \\varepsilon^2 (u^2 + u\\sqrt{-1})}, \\quad \\xi = \\kappa - \\varepsilon\\rho u\\sqrt{-1}, \\\\\n",
    "$$\n",
    "$$\n",
    "\\log A_2 = \\frac{q T}{2} + \\log \\left( \\frac{q +\\xi}{2 V_{t_0}} + \\frac{q  - \\xi}{2V_{t_0}}e^{-q T}\\right),\n",
    "$$\n",
    "\n",
    "and\n",
    "$$\n",
    "D = \\log \\frac{q}{V_{t_0}} + \\frac{\\kappa T}{2} - \\log A_2.\n",
    "$$\n",
    "\n",
    "The integral above can be truncated to $(0,200)$ and evaluated via Gaussian quadrature at 64 nodes for $10^{-10}$ accuracy."
   ]
  },
  {
   "cell_type": "markdown",
   "id": "306e8b31",
   "metadata": {},
   "source": [
    "# Delta \n",
    "Let's find Delta. See that:\n",
    "\n",
    "$$\\text{FV}_C(\\lambda X_{t_0}, T, \\lambda K) = \\lambda \\text{FV}_C(X_{t_0}, T, K).$$\n",
    "\n",
    "So, formula is homogeneous of order one. Differentiating both sides with respect to $\\lambda$:\n",
    "\n",
    "$$X_{t_0} \\frac{\\partial \\text{FV}_C}{\\partial X_{t_0}} + K \\frac{\\partial \\text{FV}_C}{\\partial K} = \\text{FV}_C.$$\n",
    "\n",
    "Comparing with equation for call-option:\n",
    "\n",
    "$$\\Delta = \\frac{\\partial \\text{FV}_C}{\\partial X_{t_0}} = H(i).$$"
   ]
  },
  {
   "cell_type": "markdown",
   "id": "48a6c360",
   "metadata": {},
   "source": [
    "# References\n",
    "\n",
    "* [\\[Andersen2007\\]](https://papers.ssrn.com/sol3/papers.cfm?abstract_id=946405) Andersen, L.B., 2007. Efficient simulation of the Heston stochastic volatility model. Available at SSRN 946405.\n",
    "* [Grzelak2019] Grzelak, L.A. et al. *Mathematical Modeling and Computation in Finance: With Exercises and Python and MATLAB Computer Codes*, World Scientific Pub. (2019)\n",
    "* [\\[Cui2017\\]](https://www.sciencedirect.com/science/article/pii/S0377221717304460) Cui, Y. et al. *Full and fast calibration of the Heston stochastic volatility model.* European Journal of Operational Research 263.2 (2017)"
   ]
  }
 ],
 "metadata": {
  "kernelspec": {
   "display_name": "Python 3 (ipykernel)",
   "language": "python",
   "name": "python3"
  },
  "language_info": {
   "codemirror_mode": {
    "name": "ipython",
    "version": 3
   },
   "file_extension": ".py",
   "mimetype": "text/x-python",
   "name": "python",
   "nbconvert_exporter": "python",
   "pygments_lexer": "ipython3",
   "version": "3.9.16"
  }
 },
 "nbformat": 4,
 "nbformat_minor": 5
}
