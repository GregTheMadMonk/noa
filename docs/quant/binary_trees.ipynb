{
  "nbformat": 4,
  "nbformat_minor": 0,
  "metadata": {
    "colab": {
      "provenance": [],
      "collapsed_sections": []
    },
    "kernelspec": {
      "name": "python3",
      "display_name": "Python 3"
    },
    "language_info": {
      "name": "python"
    }
  },
  "cells": [
    {
      "cell_type": "markdown",
      "source": [
        "1.1. Since interest rate is constant, $P(t_m,t_m) = P(t_i, t_m) e^{r(t_m - t_i)} = 1$. So $P(t_i,t_m) = e^{-r(t_m - t_i)}$."
      ],
      "metadata": {
        "id": "jSCYlpI-iaoT"
      }
    },
    {
      "cell_type": "markdown",
      "source": [
        "1.2. Risk neutral dynamics considers\n",
        "\\begin{equation}\n",
        "    S(t_i) e^{r \\Delta t} = \\mathbb{E} S(t_{i + 1}) = S(t_i)(pu + (1 - p)d)\n",
        "\\end{equation}\n",
        "This follows\n",
        "\\begin{equation}\n",
        "    p = \\frac{e^{r \\Delta t} - d}{u - d}\n",
        "\\end{equation}\n",
        "For $0 < p < 1$\n",
        "\\begin{equation}\n",
        "    d < e^{r \\Delta t} < u\n",
        "\\end{equation}\n",
        "Since $ud = 1$\n",
        "\\begin{equation}\n",
        "    1 < ue^{r \\Delta t} < u^2\n",
        "\\end{equation}\n",
        "\\begin{equation}\n",
        "    p = \\frac{ue^{r \\Delta t} - 1}{u^2 - 1}\n",
        "\\end{equation}"
      ],
      "metadata": {
        "id": "MlrYC1sJjmyc"
      }
    },
    {
      "cell_type": "code",
      "execution_count": null,
      "metadata": {
        "id": "4Emd5vgvRhJW"
      },
      "outputs": [],
      "source": [
        "import numpy\n",
        "import matplotlib.pyplot"
      ]
    },
    {
      "cell_type": "code",
      "source": [
        "M = 100\n",
        "S_0 = 50\n",
        "K = 70\n",
        "u = 1.05\n",
        "d = 1 / u\n",
        "r = 0.01\n",
        "\n",
        "def get_proba(r, u, d, M):\n",
        "    return (numpy.exp(r / M) - d) / (u - d)\n",
        "\n",
        "p = get_proba(r, u, d, M)\n",
        "print(p)"
      ],
      "metadata": {
        "id": "ifiQOgBOR2Vv",
        "colab": {
          "base_uri": "https://localhost:8080/"
        },
        "outputId": "9e4773b4-2290-4b03-819f-d8ec217dc3f4"
      },
      "execution_count": null,
      "outputs": [
        {
          "output_type": "stream",
          "name": "stdout",
          "text": [
            "0.48882931951390296\n"
          ]
        }
      ]
    },
    {
      "cell_type": "markdown",
      "source": [
        "1.3. In case $t_0 = 0$ and $t_M = 1$, we get $\\Delta t = \\frac1{M}$. Let us denote\n",
        "\\begin{equation}\n",
        "    S_{j,i} = S_0 u^j d^{i - j} = S_0 u^{2j - i}\n",
        "\\end{equation}\n",
        "where $i$ corresponds to time $t_i$ and $j$ is a number of time periods before $t_i$ when price goes up.\n",
        "According to risk neutral dynamics for European option price\n",
        "\\begin{equation}\n",
        "    V_{j,i} = e^{-r \\Delta t} (p V_{j + 1,i + 1} + (1 - p) V_{j,i + 1})\n",
        "\\end{equation}\n",
        "for the next step $i + 2$ we get\n",
        "\\begin{multline}\n",
        "    V_{j,i} = e^{-r \\Delta t} (p V_{j + 1,i + 1} + (1 - p) V_{j,i + 1}) =\\\\\n",
        "    = e^{-2r \\Delta t} (p(p V_{j + 2,i + 2} + (1 - p) V_{j + 1,i + 2}) + (1 - p)(p V_{j + 1,i + 2} + (1 - p) V_{j,i + 2})) =\\\\\n",
        "    = e^{-2r \\Delta t} (p^2 V_{j + 2,i + 2} + 2p(1 - p) V_{j + 1,i + 2} + (1 - p)^2 V_{j,i + 2})\n",
        "\\end{multline}\n",
        "In general\n",
        "\\begin{equation}\n",
        "    V_{j,i} = e^{-rM \\Delta t} \\sum \\limits_{k = 0}^{M} C_M^k p^k (1 - p)^{M - k} V_{j + k,i + M}\n",
        "\\end{equation}\n",
        "For our case $i = 0$, $j = 0$ at $t_0 = 0$ and $\\Delta t = \\frac1{M}$ we obtain\n",
        "\\begin{equation}\n",
        "    V_{0,0} = e^{-r} \\sum \\limits_{k = 0}^{M} C_M^k p^k (1 - p)^{M - k} V_{k,M} = e^{-r} \\sum \\limits_{j = 0}^{M} C_M^j p^j (1 - p)^{M - j} V_{j,M}\n",
        "\\end{equation}\n",
        "where $V_{j,M} = (S_{j, M} - K)^{+}$ is call option price at maturity."
      ],
      "metadata": {
        "id": "BqOeUHUXkxbx"
      }
    },
    {
      "cell_type": "code",
      "source": [
        "# return the price of call option at maturity t_M = 1 where j is number of upward moves\n",
        "def price_mature_call(S_0, K, u, d, M):\n",
        "    S_M = numpy.zeros(M + 1)\n",
        "    for j in range(M + 1):\n",
        "        S_M[j] = S_0 * (u ** j) * (d ** (M - j))\n",
        "    return numpy.maximum(S_M - K, 0)\n",
        "\n",
        "mature_layer = price_mature_call(S_0, K, u, d, M)\n",
        "mature_layer"
      ],
      "metadata": {
        "id": "VkxYGhFxSm9M",
        "colab": {
          "base_uri": "https://localhost:8080/"
        },
        "outputId": "c1379e19-c3af-4236-afe5-26afec23f913"
      },
      "execution_count": null,
      "outputs": [
        {
          "output_type": "execute_result",
          "data": {
            "text/plain": [
              "array([0.00000000e+00, 0.00000000e+00, 0.00000000e+00, 0.00000000e+00,\n",
              "       0.00000000e+00, 0.00000000e+00, 0.00000000e+00, 0.00000000e+00,\n",
              "       0.00000000e+00, 0.00000000e+00, 0.00000000e+00, 0.00000000e+00,\n",
              "       0.00000000e+00, 0.00000000e+00, 0.00000000e+00, 0.00000000e+00,\n",
              "       0.00000000e+00, 0.00000000e+00, 0.00000000e+00, 0.00000000e+00,\n",
              "       0.00000000e+00, 0.00000000e+00, 0.00000000e+00, 0.00000000e+00,\n",
              "       0.00000000e+00, 0.00000000e+00, 0.00000000e+00, 0.00000000e+00,\n",
              "       0.00000000e+00, 0.00000000e+00, 0.00000000e+00, 0.00000000e+00,\n",
              "       0.00000000e+00, 0.00000000e+00, 0.00000000e+00, 0.00000000e+00,\n",
              "       0.00000000e+00, 0.00000000e+00, 0.00000000e+00, 0.00000000e+00,\n",
              "       0.00000000e+00, 0.00000000e+00, 0.00000000e+00, 0.00000000e+00,\n",
              "       0.00000000e+00, 0.00000000e+00, 0.00000000e+00, 0.00000000e+00,\n",
              "       0.00000000e+00, 0.00000000e+00, 0.00000000e+00, 0.00000000e+00,\n",
              "       0.00000000e+00, 0.00000000e+00, 3.87277219e+00, 1.14447313e+01,\n",
              "       1.97928163e+01, 2.89965800e+01, 3.91437294e+01, 5.03309617e+01,\n",
              "       6.26648853e+01, 7.62630360e+01, 9.12549972e+01, 1.07783634e+02,\n",
              "       1.26006457e+02, 1.46097119e+02, 1.68247073e+02, 1.92667398e+02,\n",
              "       2.19590807e+02, 2.49273864e+02, 2.81999436e+02, 3.18079378e+02,\n",
              "       3.57857514e+02, 4.01712909e+02, 4.50063482e+02, 5.03369989e+02,\n",
              "       5.62140413e+02, 6.26934806e+02, 6.98370623e+02, 7.77128612e+02,\n",
              "       8.63959295e+02, 9.59690122e+02, 1.06523336e+03, 1.18159478e+03,\n",
              "       1.30988324e+03, 1.45132128e+03, 1.60725671e+03, 1.77917552e+03,\n",
              "       1.96871601e+03, 2.17768440e+03, 2.40807205e+03, 2.66207444e+03,\n",
              "       2.94211207e+03, 3.25085356e+03, 3.59124105e+03, 3.96651825e+03,\n",
              "       4.38026137e+03, 4.83641316e+03, 5.33932051e+03, 5.89377587e+03,\n",
              "       6.50506289e+03])"
            ]
          },
          "metadata": {},
          "execution_count": 5
        }
      ]
    },
    {
      "cell_type": "code",
      "source": [
        "# use recurrent formula to calculate the price for previous period\n",
        "def price_previous_layer(M, p, current_layer):\n",
        "    return p * current_layer[1:] + \\\n",
        "      (1 - p) * current_layer[:-1]\n",
        "\n",
        "price_previous_layer(M, p, mature_layer)"
      ],
      "metadata": {
        "id": "vzSOG5Mfb8NH",
        "colab": {
          "base_uri": "https://localhost:8080/"
        },
        "outputId": "26db2454-cdd3-457c-8b1b-5483a3c8e950"
      },
      "execution_count": null,
      "outputs": [
        {
          "output_type": "execute_result",
          "data": {
            "text/plain": [
              "array([0.00000000e+00, 0.00000000e+00, 0.00000000e+00, 0.00000000e+00,\n",
              "       0.00000000e+00, 0.00000000e+00, 0.00000000e+00, 0.00000000e+00,\n",
              "       0.00000000e+00, 0.00000000e+00, 0.00000000e+00, 0.00000000e+00,\n",
              "       0.00000000e+00, 0.00000000e+00, 0.00000000e+00, 0.00000000e+00,\n",
              "       0.00000000e+00, 0.00000000e+00, 0.00000000e+00, 0.00000000e+00,\n",
              "       0.00000000e+00, 0.00000000e+00, 0.00000000e+00, 0.00000000e+00,\n",
              "       0.00000000e+00, 0.00000000e+00, 0.00000000e+00, 0.00000000e+00,\n",
              "       0.00000000e+00, 0.00000000e+00, 0.00000000e+00, 0.00000000e+00,\n",
              "       0.00000000e+00, 0.00000000e+00, 0.00000000e+00, 0.00000000e+00,\n",
              "       0.00000000e+00, 0.00000000e+00, 0.00000000e+00, 0.00000000e+00,\n",
              "       0.00000000e+00, 0.00000000e+00, 0.00000000e+00, 0.00000000e+00,\n",
              "       0.00000000e+00, 0.00000000e+00, 0.00000000e+00, 0.00000000e+00,\n",
              "       0.00000000e+00, 0.00000000e+00, 0.00000000e+00, 0.00000000e+00,\n",
              "       0.00000000e+00, 1.89312459e+00, 7.57416783e+00, 1.55255200e+01,\n",
              "       2.42918858e+01, 3.39568041e+01, 4.46123766e+01, 5.63601452e+01,\n",
              "       6.93120600e+01, 8.35915462e+01, 9.93346797e+01, 1.16691484e+02,\n",
              "       1.35827361e+02, 1.56924666e+02, 1.80184444e+02, 2.05828350e+02,\n",
              "       2.34100756e+02, 2.65271083e+02, 2.99636369e+02, 3.37524097e+02,\n",
              "       3.79295317e+02, 4.25348087e+02, 4.76121266e+02, 5.32098696e+02,\n",
              "       5.93813812e+02, 6.61854728e+02, 7.36869837e+02, 8.19573996e+02,\n",
              "       9.10755330e+02, 1.01128275e+03, 1.12211423e+03, 1.24430594e+03,\n",
              "       1.37902230e+03, 1.52754709e+03, 1.69129566e+03, 1.87182847e+03,\n",
              "       2.07086589e+03, 2.29030464e+03, 2.53223587e+03, 2.79896504e+03,\n",
              "       3.09303396e+03, 3.41724494e+03, 3.77468755e+03, 4.16876802e+03,\n",
              "       4.60324174e+03, 5.08224902e+03, 5.61035455e+03, 6.19259089e+03])"
            ]
          },
          "metadata": {},
          "execution_count": 6
        }
      ]
    },
    {
      "cell_type": "code",
      "source": [
        "M_array = numpy.arange(1, 10001, 100)\n",
        "european_call_prices = numpy.zeros(len(M_array))\n",
        "for counter in range(len(M_array)):\n",
        "    M = M_array[counter]\n",
        "    p = get_proba(r, u, d, M)\n",
        "    current_layer = price_mature_call(S_0, K, u, d, M)\n",
        "    for layer in range(M):\n",
        "        current_layer = price_previous_layer(M, p, current_layer)\n",
        "    european_call_prices[counter] = numpy.exp(-r) * current_layer[0]"
      ],
      "metadata": {
        "id": "NwFbqHzgX6nD"
      },
      "execution_count": null,
      "outputs": []
    },
    {
      "cell_type": "code",
      "source": [
        "matplotlib.pyplot.plot(M_array, european_call_prices)\n",
        "matplotlib.pyplot.xlabel(\"M\")\n",
        "matplotlib.pyplot.ylabel(\"V_0,0\")\n",
        "matplotlib.pyplot.show()"
      ],
      "metadata": {
        "colab": {
          "base_uri": "https://localhost:8080/",
          "height": 279
        },
        "id": "gyIVCiYIwu6Q",
        "outputId": "0a296377-4c1c-4125-896e-42197e80cd52"
      },
      "execution_count": null,
      "outputs": [
        {
          "output_type": "display_data",
          "data": {
            "text/plain": [
              "<Figure size 432x288 with 1 Axes>"
            ],
            "image/png": "[encoded data removed]"
          },
          "metadata": {
            "needs_background": "light"
          }
        }
      ]
    },
    {
      "cell_type": "markdown",
      "source": [
        "If the convergence rate is $O(1/M)^k$, we can calcuate $\\frac{V(4M) - V(2M)}{V(2M) - V(M)} = 2^{-k}$. Let us take $M = 2500$."
      ],
      "metadata": {
        "id": "-epbI4oWYAR1"
      }
    },
    {
      "cell_type": "code",
      "source": [
        "# 2^(-k)\n",
        "(european_call_prices[99] - european_call_prices[49]) / (european_call_prices[49] - european_call_prices[24])"
      ],
      "metadata": {
        "colab": {
          "base_uri": "https://localhost:8080/"
        },
        "id": "aebUcdAzzWx-",
        "outputId": "1cc29f00-9ffe-4e9b-f71a-40e4aa72dcb2"
      },
      "execution_count": null,
      "outputs": [
        {
          "output_type": "execute_result",
          "data": {
            "text/plain": [
              "0.5039352615896171"
            ]
          },
          "metadata": {},
          "execution_count": 26
        }
      ]
    },
    {
      "cell_type": "markdown",
      "source": [
        "Therefore, k = 1. Convergence rate is $O(1/M)$."
      ],
      "metadata": {
        "id": "xZkJTzT0Y7kH"
      }
    },
    {
      "cell_type": "markdown",
      "source": [
        "1.4. Let us choose $\\Delta$ at time $t_i$ such that the portfolio become riskless at time $t_{i+1}$:\n",
        "\\begin{equation}\n",
        "  \\Pi_i = e^{-r/M} \\Pi_{i+1} = S_i \\Delta - V_i\n",
        "\\end{equation}\n",
        "where portfolio $\\Pi_i$ consists of $\\Delta$ stocks $S_i$ and short position of one option written on this asset.\n",
        "\\begin{equation}\n",
        "\\begin{aligned}\n",
        "  &\\Pi_{i+1} = \\Pi^{(u)} = \\Pi^{(d)} \\\\\n",
        "  &u S_i \\Delta - V_{i+1}^{(u)} = d S_i \\Delta - V_{i+1}^{(d)} \\\\\n",
        "  &\\Delta = \\frac{V_{i+1}^{(u)} - V_{i+1}^{(d)}}{S_i(u - d)}\n",
        "\\end{aligned}\n",
        "\\end{equation}\n",
        "We can update portfolio every step $1/M$, so we replicate the option exactly."
      ],
      "metadata": {
        "id": "4Pu8mclAIN-V"
      }
    },
    {
      "cell_type": "markdown",
      "source": [
        "1.5. For an American put we have:\n",
        "\\begin{equation}\n",
        "\\begin{aligned}\n",
        "  &V_{j,M} = (K - S_{j, M})^{+} \\\\\n",
        "  &V_{j,i} = \\max \\{(K - S_{j, i})^{+}, e^{-r \\Delta t} (p V_{j + 1,i + 1} + (1 - p) V_{j,i + 1}) \\}\n",
        "\\end{aligned}\n",
        "\\end{equation}"
      ],
      "metadata": {
        "id": "Kzd7D9NaQplW"
      }
    },
    {
      "cell_type": "code",
      "source": [
        "K = 35"
      ],
      "metadata": {
        "id": "Ds-OjWACSqgv"
      },
      "execution_count": null,
      "outputs": []
    },
    {
      "cell_type": "code",
      "source": [
        "# return the price of put option at maturity t_M = 1 where j is number of upward moves\n",
        "def price_mature_put(S_0, K, u, d, M):\n",
        "    S_M = numpy.zeros(M + 1)\n",
        "    for j in range(M + 1):\n",
        "        S_M[j] = S_0 * (u ** j) * (d ** (M - j))\n",
        "    return numpy.maximum(K - S_M, 0)\n",
        "\n",
        "mature_layer = price_mature_put(S_0, K, u, d, M)\n",
        "mature_layer"
      ],
      "metadata": {
        "colab": {
          "base_uri": "https://localhost:8080/"
        },
        "outputId": "679f0126-cb25-4d9a-af6f-6dc029256b57",
        "id": "1dXKelyESRpt"
      },
      "execution_count": null,
      "outputs": [
        {
          "output_type": "execute_result",
          "data": {
            "text/plain": [
              "array([35., 35., 35., ...,  0.,  0.,  0.])"
            ]
          },
          "metadata": {},
          "execution_count": 11
        }
      ]
    },
    {
      "cell_type": "code",
      "source": [
        "M_array = numpy.arange(1, 10001, 100)\n",
        "american_put_prices = numpy.zeros(len(M_array))\n",
        "for counter in range(len(M_array)):\n",
        "    M = M_array[counter]\n",
        "    p = get_proba(r, u, d, M)\n",
        "    current_layer = price_mature_put(S_0, K, u, d, M)\n",
        "    for layer in range(M):\n",
        "        next_layer = price_previous_layer(M, p, current_layer)\n",
        "        current_layer = current_layer[:-1] / u\n",
        "        current_layer = numpy.maximum(current_layer, next_layer)\n",
        "    american_put_prices[counter] = numpy.exp(-r) * current_layer[0]"
      ],
      "metadata": {
        "id": "ufLU5P6KSvte"
      },
      "execution_count": null,
      "outputs": []
    },
    {
      "cell_type": "code",
      "source": [
        "matplotlib.pyplot.plot(M_array, american_put_prices)\n",
        "matplotlib.pyplot.xlabel(\"M\")\n",
        "matplotlib.pyplot.ylabel(\"V_0,0\")\n",
        "matplotlib.pyplot.show()"
      ],
      "metadata": {
        "colab": {
          "base_uri": "https://localhost:8080/",
          "height": 279
        },
        "outputId": "fe01ffec-e716-48ba-f415-9a45e9de98b6",
        "id": "CkjW1GIgUlWf"
      },
      "execution_count": null,
      "outputs": [
        {
          "output_type": "display_data",
          "data": {
            "text/plain": [
              "<Figure size 432x288 with 1 Axes>"
            ],
            "image/png": "[encoded data removed]"
          },
          "metadata": {
            "needs_background": "light"
          }
        }
      ]
    },
    {
      "cell_type": "code",
      "source": [
        "# 2^(-k)\n",
        "(american_put_prices[99] - american_put_prices[49]) / (american_put_prices[49] - american_put_prices[24])"
      ],
      "metadata": {
        "colab": {
          "base_uri": "https://localhost:8080/"
        },
        "outputId": "116b21cd-272b-443c-f023-d5990fd6d45b",
        "id": "PznP4yG7ZMB9"
      },
      "execution_count": null,
      "outputs": [
        {
          "output_type": "execute_result",
          "data": {
            "text/plain": [
              "0.5107433421868195"
            ]
          },
          "metadata": {},
          "execution_count": 27
        }
      ]
    },
    {
      "cell_type": "markdown",
      "source": [
        "Same, convergence rate is $O(1/M)$."
      ],
      "metadata": {
        "id": "G5DEzTZIZYtv"
      }
    }
  ]
}