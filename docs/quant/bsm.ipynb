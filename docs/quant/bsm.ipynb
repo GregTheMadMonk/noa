{
 "cells": [
  {
   "cell_type": "markdown",
   "id": "0bbb0ed2",
   "metadata": {},
   "source": [
    "# Black-Scholes-Merton model\n"
   ]
  },
  {
   "cell_type": "code",
   "execution_count": null,
   "id": "f39ce899",
   "metadata": {},
   "outputs": [],
   "source": [
    "import torch\n",
    "import matplotlib.pyplot as plt\n",
    "plt.style.use(\"dark_background\")\n",
    "%matplotlib inline\n",
    "torch.manual_seed(987654);"
   ]
  },
  {
   "cell_type": "markdown",
   "id": "78f3d55c",
   "metadata": {},
   "source": [
    "## 1 Constant volatility\n",
    "This model describes the evolution the forward $f_t$ via GBM dynamics:\n",
    "\n",
    "$$\n",
    "\\text{d}f_t = \\mu f_t\\text{d}t + \\sigma f_t \\text{d}W_t\n",
    "$$\n",
    "\n",
    "The volatility $\\sigma$ is called the *implied volatility* and is provided by market participants. Being constant is a severe limitation for practitioners, but we will address this issue with stochastic volatility models later.\n",
    "\n",
    "Calibrating the drift $\\mu$ is not possible without apriori information which fundamentally depends on each investors view on the market. \n",
    "\n",
    "The igenious idea was to note that the choice of $\\mu$ is linked to the choice of probability measure $\\mathbb{P}$."
   ]
  },
  {
   "cell_type": "markdown",
   "id": "4e1b4916",
   "metadata": {},
   "source": [
    "### 1.1 Girsanov Theorem\n",
    "\n",
    "We will discuss only a special case. Consider a process $\\gamma_t$ with finite Ito norm $\\int \\gamma^2_t dt < \\infty$. Associate to $\\gamma_t$ the exponential process:\n",
    "$$\n",
    "\\text{d}Z^{\\gamma}_t = - Z_t \\gamma_t \\text{d}W_t, \\quad Z_0=1\n",
    "$$\n",
    "\n",
    "We can use this process to define a new probability measure equivalent to $\\mathbb{P}$:\n",
    "$$\n",
    "\\text{d}\\mathbb{Q}^\\gamma = Z_T^{\\gamma}\\text{d}\\mathbb{P}\n",
    "$$\n",
    "\n",
    "Girsanov showed that the process:\n",
    "$$\n",
    "\\text{d}W^\\gamma_t = \\gamma_t\\text{d}t + \\text{d}W_t, \\quad W^\\gamma_0=0\n",
    "$$\n",
    "is a Wiener process under the measure $\\mathbb{Q}^\\gamma$."
   ]
  },
  {
   "cell_type": "markdown",
   "id": "e65a99ff",
   "metadata": {},
   "source": [
    "### 1.2 Existence of Risk-Neutral Measure\n",
    "\n",
    "In the BSM model, substituting:\n",
    "$$\n",
    "\\gamma = \\frac{\\mu}{\\sigma}\n",
    "$$\n",
    "into Girsanov's result leads to martingale dynamics for the forward:\n",
    "$$\n",
    "\\text{d}f_t = \\sigma f_t \\text{d}W^\\gamma_t\n",
    "$$\n",
    "under $\\mathbb{Q}^\\gamma$. To avoid arbitrage, the forward values of all derivative contracts must also be martingales under that measure. \n",
    "\n",
    "Does the valuation we obtained in the risk neutral world is the fair price for the actual measure $\\mathcal{P}$?"
   ]
  },
  {
   "cell_type": "markdown",
   "id": "151b8109",
   "metadata": {},
   "source": [
    "### 1.3 Black-Scholes PDE\n",
    "\n",
    "Let's start again from the BSM model. Considering European contracts for simplicity, the  Feynman-Kac formula for the risk-neutral dynamics gives:\n",
    "$$\n",
    "\\frac{\\partial FV}{\\partial t} + \\frac{1}{2}\\sigma^2 f_t^2 \\frac{\\partial^2 FV}{\\partial t^2}=0\n",
    "$$\n",
    "\n",
    "This is also known as the *Black-Scholes PDE*."
   ]
  },
  {
   "cell_type": "markdown",
   "id": "13b46636",
   "metadata": {},
   "source": [
    "### 1.4 Replication\n",
    "\n",
    "By Ito and the above, under the measure $\\mathbb{P}$, the derivative's $FV_t$ evolves as:\n",
    "$$\n",
    "\\begin{split}\n",
    "\\text{d}FV_t & = \\left(\\frac{\\partial FV}{\\partial t}+ \\mu f_t \\frac{\\partial FV}{\\partial f_t} + \\frac{1}{2}\\sigma^2 f_t^2 \\frac{\\partial^2 FV}{\\partial t^2} \\right)\\text{d}t + \\sigma f_t\\frac{\\partial FV}{\\partial f_t} dW_t \\\\\n",
    " & =  \\mu f_t \\frac{\\partial FV}{\\partial f_t}\\text{d}t   + \\sigma f_t\\frac{\\partial FV}{\\partial f_t} dW_t \\\\\n",
    " & = \\frac{\\partial FV}{\\partial f_t} df_t\n",
    "\\end{split}\n",
    "$$\n",
    "\n",
    "and so we can exactly replicate the derivative by trading in the forward on the underlying as dictated by $\\partial FV / \\partial f_t$ - the so called *delta*. \n",
    "\n",
    "By no-arbitrage principle, we conclude that the risk neutral price is fair for *any* measure $\\mathbb{P}$ within the framework of the BSM model."
   ]
  },
  {
   "cell_type": "markdown",
   "id": "7cf8f235",
   "metadata": {},
   "source": [
    "### 1.6 Black-Scholes formulae\n",
    "\n",
    "Under the BSM model:\n",
    "$$\n",
    "\\frac{\\text{d}f_t}{f_t} = \\sigma \\text{d}W_t\n",
    "$$\n",
    "\n",
    "The forward value of a European Call at strike $K$ and maturity date $T$ is given by:\n",
    "$$\n",
    "FV_C = f_t \\text{N}(d_{+}) - K \\text{N}(d_{-})\n",
    "$$\n",
    "\n",
    "where $N(x) = \\frac{1}{\\sqrt{2\\pi}}\\int^x_{-\\infty} \\text{d}z \\exp(-z^2/2)$ is the standard normal CDF and:\n",
    "$$\n",
    "d_{\\pm} = \\frac{\\log \\frac{f_t}{K} \\pm \\frac{1}{2}\\sigma^2(T-t) }{\\sigma \\sqrt{T-t}  } \n",
    "$$\n",
    "\n",
    "\n",
    "For the European Put, one can rely on the put-call parity $FV_C - FV_P = f_t - K$:\n",
    "$$\n",
    "FV_P = -f_t \\text{N}(-d_{+}) + K \\text{N}(- d_{-})\n",
    "$$"
   ]
  },
  {
   "cell_type": "markdown",
   "id": "67fc6e57",
   "metadata": {},
   "source": [
    "#### 1.6.1 Greeks\n",
    "\n",
    "There are three main risk sensitivies:\n",
    "* *Delta* $\\Delta$ measures the exposure to the underlying:\n",
    "$$\n",
    "\\begin{split}\n",
    " \\Delta & \\equiv \\frac{\\partial FV_C}{\\partial f} = \\text{N}(d_{+})   \\\\\n",
    " \\Delta & \\equiv \\frac{\\partial FV_P}{\\partial f} = - \\text{N}(-d_{+}) = \\text{N}(d_{+}) - 1\n",
    "\\end{split}\n",
    "$$\n",
    "\n",
    "* *Vega* (also often called *Kappa*) is the exposure to volatility:\n",
    "$$\n",
    "\\mathcal{V} \\equiv \\frac{\\partial FV_C}{\\partial \\sigma} = \\frac{\\partial FV_P}{\\partial \\sigma} = \\text{N}'(d_{+}) f_t \\sqrt{T-t}\n",
    "$$\n",
    "* *Curvature* is supposed to measure the convexity:\n",
    "$$\n",
    "\\Upsilon \\equiv \\frac{\\sigma}{\\left(f_t\\sigma \\sqrt{T-t}\\right)^2} \\mathcal{V} = \\frac{\\text{N}'(d_{+})}{f_t\\sigma \\sqrt{T-t}}\n",
    "$$\n",
    "\n",
    "The definition of curvature above is somewhat of an abuse of terminology as we should have been capturing second order information with *Gamma*:\n",
    "$$\n",
    "\\Gamma \\equiv \\frac{\\partial^2 FV_C}{\\partial f^2} = \\frac{\\partial^2 FV_P}{\\partial f^2} = \\frac{\\text{N}'(d_{+})}{f_t\\sigma \\sqrt{T-t}}\n",
    "$$\n",
    "\n",
    "But higher order derivatives are expensive to compute. And as we can easily see, in the special case of BSM this is justified via what is known the *Gamma-Vega relation*.\n",
    "\n",
    "Finally, another quantity of interest is *Theta* - the decay of the value of optionality over time:\n",
    "$$\n",
    " \\Theta \\equiv \\frac{\\partial FV_C}{\\partial t}= \\frac{\\partial FV_P}{\\partial t} = - \\frac{\\sigma f_t \\text{N}'(d_{+})}{2 \\sqrt{T-t}}  \n",
    "$$"
   ]
  },
  {
   "cell_type": "markdown",
   "id": "50b3ee0f",
   "metadata": {},
   "source": [
    "## References\n",
    "\n",
    "* Seydel, R.U. *Tools for Computational Finance*, 6th edition, Springer V., London (2017)\n",
    "* Shreve, S.E. Stochastic Calculus for Finance I & II, Springer, New York (2004)\n",
    "* Grzelak, L.A. et al. *Mathematical Modeling and Computation in Finance: With Exercises and Python and MATLAB Computer Codes*, World Scientific Pub. (2019)\n",
    "* Savine, A. Modern Computational Finance: AAD and Parallel Simulations, Wiley (2018)"
   ]
  }
 ],
 "metadata": {
  "kernelspec": {
   "display_name": "Python 3 (ipykernel)",
   "language": "python",
   "name": "python3"
  },
  "language_info": {
   "codemirror_mode": {
    "name": "ipython",
    "version": 3
   },
   "file_extension": ".py",
   "mimetype": "text/x-python",
   "name": "python",
   "nbconvert_exporter": "python",
   "pygments_lexer": "ipython3",
   "version": "3.9.13"
  }
 },
 "nbformat": 4,
 "nbformat_minor": 5
}
