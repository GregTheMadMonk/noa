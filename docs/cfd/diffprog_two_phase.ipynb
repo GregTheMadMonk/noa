{
 "cells": [
  {
   "cell_type": "markdown",
   "id": "04869377",
   "metadata": {},
   "source": [
    "# Differentiable Programming for Two-Phase Flow Model in Porous Media with Barrier Effect\n",
    "\n",
    "### Gregory Dushkin (MIPT), Roland Grinis (MIPT, GrinisRIT)"
   ]
  },
  {
   "cell_type": "markdown",
   "id": "99f7eac5",
   "metadata": {},
   "source": [
    "### Diffusion type evolution equations\n",
    "\n",
    "In this section, we consider a non-stationary diffusion type system of PDEs in general form relevant for modelling multi-physics multi-phase flow in heterogeneous media with barrier effects, as in:\n",
    "\n",
    "* Fučík, R. et. al. , Multidimensional mixed–hybrid finite element method for compositional two-phase flow in heterogeneous porous media and its parallel implementation on GPU. *Computer Physics Communications*, 238, 2019.\n",
    "\n",
    "Exact expressions for the coefficients depend on the physics and the modelling set-up. \n",
    "\n",
    "Let $\\boldsymbol{Z}=\\boldsymbol{Z}(t,x; \\theta) \\in \\mathbb{R}^{n}$ \n",
    "denote the primary unknown variables over a space-time domain\n",
    "$(t,x) \\in \\left[0,T\\right] \\times \\varOmega \\subset \\mathbb{R}^{1+d}$ \n",
    "and control parameters \n",
    "$\\theta \\in \\mathbb{R}^p$. \n",
    "We pose $\\varOmega$ a polygonal \n",
    "$d$-dimensional domain (typically $d=3$) and $T$ finite simulation time.\n",
    "\n",
    "Introduce the Darcy velocity vector fields:\n",
    "$$\n",
    "\\boldsymbol{v}_i = - \\sum_{j=1}^{n} \\boldsymbol{D}_{ij} \\nabla_x Z_j +  \\boldsymbol{w}_i\n",
    "$$\n",
    "for a symmetric positive-definite diffusion tensor $\\boldsymbol{D}$ and external conservative force field $\\boldsymbol{w}$. \n",
    "\n",
    "By convention we denote tensors in bold as opposed to their scalar components, e.g. $\\boldsymbol{Z} = \\left( Z_i \\right)_{i=1}^n$, but $\\boldsymbol{D} = \\left( \\boldsymbol{D}_{ij} \\right)_{i,j=1}^n$. They can depend on space-time coordinates, the variables $\\boldsymbol{Z}$ and the parameters $\\theta$.\n",
    "\n",
    "Multiplying $\\boldsymbol{v}$ by the mobility coefficients $\\boldsymbol{m}$, we obtain the conservative flux:\n",
    "$$\n",
    "\\boldsymbol{q}_i = m_i\\boldsymbol{v}_i \n",
    "$$\n",
    "  \n",
    "The main system governing the evolution is given by:\n",
    "$$\n",
    "\\sum_{j=1}^{n}\\left( N_{ij} \\partial_t + \\boldsymbol{u}_{ij} \\cdot \\nabla + r_{ij} \\right) Z_j + \\nabla_x \\cdot \\left( \\boldsymbol{q}_i + \\sum_{j=1}^{n} Z_j \\boldsymbol{a}_{ij} \\right) = f_i \n",
    "$$\n",
    "where $\\boldsymbol{N}$ is the damping matrix, $\\boldsymbol{r}$ the reaction matrix, $\\boldsymbol{a}$ and $\\boldsymbol{u}$ the convection vector fields, and finally $\\boldsymbol{f}$ the source or sink term.\n",
    "\n",
    "Moreover we have:\n",
    "* $\\boldsymbol{Z}(0,x; \\theta) = \\boldsymbol{Z}^{\\mathcal{I}}(x; \\theta)$, $\\forall x \\in \\varOmega$ (initial conditions)\n",
    "* $Z_i(t,x; \\theta) = Z_i^{\\mathcal{D}}(t,x;\\theta)$, $\\forall x \\in \\varGamma_{Z_i} \\subset \\partial\\varOmega$ (Dirichlet boundary conditions)\n",
    "* $\\boldsymbol{q}_i \\cdot \\boldsymbol{n} = q_i^{\\mathcal{N}}(\\theta)$, $\\forall x \\in \\varGamma_{\\boldsymbol{q}_i} \\subset \\partial\\varOmega$ with $\\boldsymbol{n}$ outward unit normal to $\\partial\\varOmega$ (Neumann boundary conditions)\n",
    "\n",
    "The function $\\boldsymbol{Z}$ is required to be continuously differentiable in time and only continuous in space. It satisfies the evolution equations in the weak sense. We discuss the numerical scheme to solve this system of PDEs below.\n",
    "\n",
    "In applications, we are typically interested to determine the parameter $\\theta$ such that we match a given measurement (inverse problem) or minimise a loss function (optimisation) that we express through a functional \n",
    "$$\n",
    "\\mathcal{L}(\\theta) = \\mathcal{L}\\left[\\boldsymbol{Z}(\\theta)\\right]\n",
    "$$ \n",
    "\n",
    "To tackle this type of problems efficiently, especially for higher dimensional parameter space $p \\gg 1$, we need to be able to compute at least the first order sensitivity:\n",
    "$$\n",
    "\\nabla_{\\theta} \\mathcal{L} =  \\nabla_{\\boldsymbol{Z}}\\mathcal{L} \\cdot \\nabla_{\\theta}\\boldsymbol{Z} \n",
    "$$\n",
    "\n",
    "However, computing $\\nabla_{\\theta}\\boldsymbol{Z}$ is impractical in most scenarios. After discretisation, the primary variables will be represented by a vector of high-dimension $N \\gg 1$ and the gradient ends up being a dense $N \\times p$ matrix, which is not scalable to large problems. Moreover, it might not exist for all time $t \\in \\left[0,T\\right]$. The linearized adjoint PDE typically exhibit stiffness or even singular behaviour, and designing a stable numerical solver for such systems is a challenge \\cite{chris}.\n",
    "\n",
    "We present an algorithm based on the backward discrete adjoint sensitivity method to evaluate $\\nabla_{\\theta} \\mathcal{L}$ with the same complexity as for the construction of the solution $\\boldsymbol{Z}$ itself, at the expense of linear memory consumption in time. For the specific example of breakthrough monitoring, the sensitivity of the solution will be non-trivial only for a short period of time and such memory complexity won't be of great concern to us. We will also describe in that specific example how to deal with the time slices for which the sensitivity is discontinuous.  "
   ]
  },
  {
   "cell_type": "markdown",
   "id": "e2c4098a",
   "metadata": {},
   "source": [
    "### Mixed-hybrid finite element method\n",
    "\n",
    "The solver relies on a semi-implicit MHFEM scheme and benefits from \\textsf{GPU} acceleration. It achieves comparable accuracy with the fully implicit box schemes for two-phase flow models in 2D and 3D, yet yields an order of magnitude speed-up already on CPU. We will give here an overview of the method.\n",
    "\n",
    "Denote by $\\mu_d$ the $d$-dimensional Lebesgue measure. Let $\\mathcal{K}_h$ be a conformal mesh for the polygonal spatial domain $\\varOmega$ with:\n",
    "$$ \n",
    "\\mu_d(K) = \\mathcal{O}(h^d), \\quad \\forall K \\in \\mathcal{K}_h\n",
    "$$ \n",
    "Define $\\mathcal{V}_h$ to be the set of vertices and $\\mathcal{F}_h$ the set of ($d-1$)-dimensional faces composing $\\mathcal{K}_h$. Let us write $\\mathcal{F}_K$ for the set of faces forming an element $K$.\n",
    "\n",
    "We approximate the primary unknown variables $\\boldsymbol{Z}$ to order zero, computing the spatial averages of $\\boldsymbol{Z}$ for an element $K \\in \\mathcal{K}_h$ and a face $E \\in \\mathcal{F}_K$:\n",
    "$$\n",
    "\\boldsymbol{Z}_K(t;\\theta) = \\frac{1}{\\mu_d(K)} \\int_{K}\\boldsymbol{Z}(t,x;\\theta)d\\mu_{d,x}, \n",
    "$$\n",
    "$$\n",
    "\\boldsymbol{Z}_E(t;\\theta) = \\frac{1}{\\mu_{d-1}(E)} \\int_{E}\\boldsymbol{Z}(t,x;\\theta)d\\mu_{d-1,x}\n",
    "$$\n",
    "respectively. Discretising time $\\{ t_k \\}_{k=0}^N \\subset [0,T]$ with typically adaptive time-steps, we denote time-slice restrictions by $\\boldsymbol{Z}^k = \\boldsymbol{Z}(t_k)$. \n",
    "We should write\n",
    "$\\boldsymbol{Z}_{\\mathcal{K}_h}^k=\\{ \\boldsymbol{Z}_K^k\\}_{K \\in \\mathcal{K}_h}$ and\n",
    "$\\boldsymbol{Z}_{\\mathcal{F}_h}^k =\\{ \\boldsymbol{Z}_F^k\\}_{F \\in \\mathcal{F}_h}$\n",
    "for the vectors of element and face averages slices. Those are essentially our unknowns to solve for in the discretised system.\n",
    "\n",
    "We recall that the lowest-order Raviart–Thomas–Nédélec space $\\textbf{RTN}_0(K)$ is spanned by piece-wise linear vector fields $\\omega_{K,E}$ for each $E \\in \\mathcal{F}_K$ whose flux is non-zero only through $E$:\n",
    "$$\n",
    "\\omega_{K,E} \\cdot \\boldsymbol{n}_{K,F} = \\frac{\\delta_{EF}}{\\mu_{d-1}(E)}\n",
    "$$\n",
    "and its divergence fixed to $\\nabla \\cdot \\omega_{K,E} = \\mu_d(K)^{-1}$.\n",
    "\n",
    "Applying finite element methods to the PDE system in previous section over $\\bigotimes_{K \\in \\mathcal{K}_h}\\textbf{RTN}_0(K)$ in spatial directions, forward finite differences in time direction, gives the semi-implicit scheme:\n",
    "$$ \n",
    "\\boldsymbol{Z}_{\\mathcal{K}_h}^{k+1} = \\boldsymbol{A}^k \\boldsymbol{Z}_{\\mathcal{F}_h}^{k+1} + \\boldsymbol{R}^k\n",
    "$$\n",
    "and linear constraint equation for the face averages:\n",
    "$$ \n",
    "\\boldsymbol{M}^k \\boldsymbol{Z}_{\\mathcal{F}_h}^{k+1} = \\boldsymbol{b}^k\n",
    "$$\n",
    "produced from he mass balance equations and barrier conditions on internal sides, together with boundary conditions on external sides.\n",
    "\n",
    "More details about the construction of the matrices can be below for our specific model. Now, it suffices to note that the coefficients depend on the averages $\\boldsymbol{Z}_{\\mathcal{K}_h}^k$ only, which leads to an efficient evaluation of $\\nabla_{\\boldsymbol{Z}_{\\mathcal{K}_h}^k}\\boldsymbol{Z}_{\\mathcal{K}_h}^{k+1}$ by adjoint methods. Furthermore, although we deal with a sparse linear system, for every given element $K \\in \\mathcal{K}_h$ only the constituent faces $F \\in \\mathcal{F}_K$ are involved, and only adjacent elements are considered. Hence one could design, in principle, an implementation benefiting from GPU acceleration.\n",
    "\n",
    "The matrix $\\boldsymbol{M}^k$ is non-singular given that the diffusion tensors $\\boldsymbol{D}$ are strictly positive definite. The solution to the system can be obtained via various GMRES type algorithms, but a mass-lumping technique is required to stabilise the scheme."
   ]
  },
  {
   "cell_type": "markdown",
   "id": "33183772",
   "metadata": {},
   "source": [
    "### Two-phase flow in porous media\n",
    "\n",
    "The pressures $(p_w,p_n)$ for the wetting and non-wetting phases are primary variables. \n",
    "\n",
    "Effective saturations:\n",
    "$$\n",
    "S_{w,e} = \\frac{S_w - S_{w,r}}{1-S_{w,r}}, \\quad S_w+S_n=1\n",
    "$$\n",
    "are related to the capillary pressure:\n",
    "$$\n",
    "p_c = p_n - p_w\n",
    "$$\n",
    "via the Brooks & Corey model:\n",
    "$$\n",
    "S_{w,e}(p_c) = \\left( \\frac{p_c}{p_{BC}} \\right)^{-\\lambda_{BC}}, \\quad p_c \\geq p_{BC}\n",
    "$$\n",
    "where $p_{BC}$ is the *entry pressure* characteristic of the medium.\n",
    "\n",
    "Relative permeability is modelled via Burdine:\n",
    "$$\n",
    "k_{r,w} = S_{w,e}^{3+\\frac{2}{\\lambda_{BC}}} \\\\\n",
    "k_{r,n} = (1-S_{w,e})^2 \\left( 1 - S_{w,e}^{1+\\frac{2}{\\lambda_{BC}}} \\right)\n",
    "$$\n",
    "\n",
    "The mobility coefficients are given by:\n",
    "$$\n",
    "m_{\\alpha} = \\frac{k_{r,\\alpha}}{\\mu_{\\alpha}}\n",
    "$$\n",
    "with $\\mu_{\\alpha}$ the $\\alpha$-phase dynamic viscosity.\n",
    "\n",
    "Darcy velocities are:\n",
    "$$\n",
    "\\boldsymbol{v}_\\alpha = - \\kappa \\left( \\nabla p_\\alpha - \\rho_\\alpha \\boldsymbol{g} \\right)\n",
    "$$\n",
    "and the flux:\n",
    "$$\n",
    "\\boldsymbol{q}_{\\alpha} = m_\\alpha \\boldsymbol{v}_\\alpha\n",
    "$$"
   ]
  },
  {
   "cell_type": "markdown",
   "id": "999170ab",
   "metadata": {},
   "source": [
    "### Barrier effect\n",
    "\n",
    "At the interface between medium $I$ and $II$, while $p_c^I < p_{BC}^{II}$:\n",
    "$$\n",
    "\\boldsymbol{q}_n^{I} = 0, \\quad p_c^{II} = p_{BC}^{II}\n",
    "$$\n",
    "and then we gain continuity once $p_c^I=p_c^{II}$ is reached."
   ]
  },
  {
   "cell_type": "markdown",
   "id": "4f5aae05",
   "metadata": {
    "jp-MarkdownHeadingCollapsed": true
   },
   "source": [
    "### Double-porosity\n",
    "For porous $p_\\alpha^1$ and fracture $p_\\alpha^2$ continua pressures:\n",
    "$$\n",
    "\\sum_{\\beta=n,w} N_{\\alpha\\beta}^i \\partial_t  p_\\beta^i + \\nabla \\cdot \\boldsymbol{q}_\\alpha^i = - \\frac{\\chi k_{r,\\alpha}^1}{\\mu_\\alpha^1} \\left(p_\\alpha^i - p_\\alpha^j\\right)\n",
    "$$\n",
    "\n",
    "where the damping matrix is given:\n",
    "$$\n",
    "\\boldsymbol{N}^i = -\\eta^i \\frac{\\partial S_w^i}{\\partial p^i_c} \n",
    "\\begin{pmatrix}\n",
    "-1 & 1 \\\\\n",
    "1 & -1\n",
    "\\end{pmatrix}\n",
    "$$\n",
    "\n",
    "The geometric shape parameter \n",
    "$$\n",
    "\\chi \\sim  \\frac{1}{\\ell^2}\n",
    "$$\n",
    "depends on the characteristic fractures length $\\ell$."
   ]
  },
  {
   "cell_type": "markdown",
   "id": "a55769de",
   "metadata": {},
   "source": [
    "### Boundary conditions\n",
    "\n",
    "We have:\n",
    "* $p(0,x) = p^{\\mathcal{I}}(x)$, $\\forall x \\in \\varOmega$ (initial conditions)\n",
    "* $p(t,x) = p^{\\mathcal{D}}(t,x)$, $\\forall x \\in \\varGamma_{Z_i} \\subset \\partial\\varOmega$ (Dirichlet boundary conditions)\n",
    "* $\\boldsymbol{q}(t,x) \\cdot \\boldsymbol{n} = q^{\\mathcal{N}}(t,x)$, $\\forall x \\in \\varGamma_{\\boldsymbol{q}_i} \\subset \\partial\\varOmega$ with $\\boldsymbol{n}$ outward unit normal to $\\partial\\varOmega$ (Neumann boundary conditions)\n",
    "\n",
    "The pressures functions $p$ are required to be continuously differentiable in time and only continuous in space. The evolution equations are satisfied in the weak sense."
   ]
  },
  {
   "cell_type": "markdown",
   "id": "87a7117e-e450-4699-ab51-315ad0112b10",
   "metadata": {},
   "source": [
    "### Mass lumping"
   ]
  },
  {
   "cell_type": "markdown",
   "id": "886d38ad-a78b-43c8-b293-135633f744f7",
   "metadata": {},
   "source": [
    "For one-phase flow Younes et al. use the mass lumping procedure by replacing edge-wise flux (flux leaving the cell $K$ through edge $E$) with the following approximation:\n",
    "$$\n",
    "Q_{K,E} =\n",
    "\\bar Q_{K,E} +\n",
    "\\frac { \\mu_d \\left( K \\right) }{ n_f } f_K -\n",
    "c \\frac{ \\mu_d \\left( K \\right) } {n_f} \\frac{ \\partial Z_{K,E} }{\\partial t}\n",
    "$$\n",
    "where $\\bar Q_{K,E}$ is the flux corresponding to stationary problem without sink/source terms and $n_f$ is the total amount of edges of element $K$."
   ]
  },
  {
   "cell_type": "markdown",
   "id": "e1de4b30-e10e-4150-af63-4c87e3b02770",
   "metadata": {},
   "source": [
    "In our case of two-phase flow damping matrix $\\boldsymbol{N}$ takes place of $c$."
   ]
  },
  {
   "cell_type": "markdown",
   "id": "891b46b4-6c24-4fa4-96f3-ab4b084f9b7a",
   "metadata": {},
   "source": [
    "$Q_{K,E}$ is also representable in terms of velocity $Q_{i,K,E} = m_{i,K,E} v_{i,K,E}$, which means that we will approximate $\\boldsymbol v_{K,E}$ as\n",
    "$$\n",
    "v_{i,K,E} = \\bar v_{i,K,E} + \\frac{ \\mu_d \\left( K \\right) }{ m_i n_f } \\left[ f_{i,K} - \\sum\\limits_{j=1}^2 N_{i,j,K} \\frac{ \\partial Z_{i,K,E} }{ \\partial t } \\right]\n",
    "$$"
   ]
  },
  {
   "cell_type": "markdown",
   "id": "3a6c772a-0b50-48c0-a0e4-12e8479fa1a5",
   "metadata": {},
   "source": [
    "Fučík et al.:\n",
    "$$\n",
    "v^k_{i,K,E} = \\sum\\limits_{j \\in \\sigma_{i,K}} \\left(\n",
    "    b_{i,j,K,E} Z^k_{j,K} - \\sum\\limits_{F \\in \\mathcal{F}_K} b_{i,j,K,E,F} Z_{j,F}^k\n",
    "\\right) + w_{i,K,E}\n",
    "$$"
   ]
  },
  {
   "cell_type": "markdown",
   "id": "27125262-5e45-4863-bb4e-954016425dcf",
   "metadata": {},
   "source": [
    "$\\sigma_{i,K}$ deontes the set of indices $j$ for which $\\boldsymbol{D}_{i,j}$ is non-zero on element $K \\in \\mathcal{K}_h$.\n",
    "In our case\n",
    "$$\n",
    "\\boldsymbol{D} = \\left( \\begin{matrix}\n",
    "    \\lambda_t K \\boldsymbol{I} & 0 \\\\\n",
    "    0 & \\lambda_t K \\boldsymbol{I}\n",
    "\\end{matrix}\\right)\n",
    "$$\n",
    "so\n",
    "$$\n",
    "\\sigma_{i,K} = \\left\\{ i \\right\\}\n",
    "$$\n",
    "and\n",
    "$$\n",
    "v^k_{i,K,E} = b_{i,i,K,E}Z^k_{i,K} - \\sum\\limits_{F \\in \\mathcal{F}_K}b_{i,i,K,E,F}Z_{i,F}^k + w_{i,K,E}.\n",
    "$$"
   ]
  },
  {
   "cell_type": "markdown",
   "id": "58439b73-7ce6-4f3d-9120-c95d45c69d34",
   "metadata": {},
   "source": [
    "$$\n",
    "\\frac{ \\mu_d\\left(K\\right) }{ \\tau } \\sum\\limits_{j=1}^2 N_{i,j,K} \\left(Z_{j,K}^{k+1} - Z_{j,K}^k \\right) + \\sum\\limits_{E \\in \\mathcal{F}_K} m_{i,E}^k v^{k + 1}_{i,K,E} = \\mu_d\\left(K\\right) f_{i,K}\n",
    "$$"
   ]
  },
  {
   "cell_type": "markdown",
   "id": "053f310a-d4e7-47a8-a555-2e2e89a70fef",
   "metadata": {},
   "source": [
    "In vector form:\n",
    "$$\n",
    "\\frac{\\|K\\|}{\\tau} \\boldsymbol N_K \\left( \\boldsymbol Z_K^{k+1} - \\boldsymbol Z_K^k \\right) +  \\boldsymbol m_K^k\\boldsymbol v_K^{k+1} = \\|K\\|\\boldsymbol f_K\n",
    "$$"
   ]
  },
  {
   "cell_type": "markdown",
   "id": "5509c44f-0e84-4aa0-86c1-77f9d8de8ae1",
   "metadata": {},
   "source": [
    "$$\n",
    "\\boldsymbol v_K^{k+1} = \\boldsymbol b_{\\Sigma, K} \\boldsymbol Z^{k+1}_K - \\boldsymbol b_K \\boldsymbol Z^{k+1}_{F,K} + \\boldsymbol w_K\n",
    "$$"
   ]
  },
  {
   "cell_type": "markdown",
   "id": "7f30b4b1-d5e7-45f0-a63a-63d7cdefbbc0",
   "metadata": {},
   "source": [
    "$$\n",
    "\\boldsymbol v_K = \\left(\\begin{matrix}\n",
    "    v_{1,E_1,K} \\\\ v_{1,E_2,K} \\\\ ... \\\\ v_{2,E_1,K} \\\\ v_{2,E_2,K} \\\\ ...\n",
    "\\end{matrix}\\right)\\text{ }\\left(\\boldsymbol w_K\\text{ and }\\boldsymbol Z_{F,K}\\text{ are similar}\\right)\n",
    "$$"
   ]
  },
  {
   "cell_type": "markdown",
   "id": "0a30ac44-73e2-4589-adb8-67000d0d578f",
   "metadata": {},
   "source": [
    "$$\n",
    "\\boldsymbol m_K = \\left(\\begin{matrix} m_{1,E_1} & m_{1,E_2} & ... & 0 & 0 & ... \\\\ 0 & 0 & ... & m_{2,E_1} & m_{2,E_2} & ... \\end{matrix}\\right)\\text{ }\\left(\\boldsymbol b_K\\text{ is similar}\\right)\n",
    "$$"
   ]
  },
  {
   "cell_type": "markdown",
   "id": "531526c6-2d95-49ef-8a75-70630bc67179",
   "metadata": {},
   "source": [
    "$$\\boldsymbol b_{\\Sigma,K} = \\left(\\begin{matrix} b_{1,1,K,E_1} & 0 \\\\ b_{1,1,K,E_2} & 0 \\\\ ... & ... \\\\ 0 & b_{2,2,K,E_1} \\\\ 0 & b_{2,2,K,E_2} \\\\ ... & ... \\end{matrix}\\right)$$"
   ]
  },
  {
   "cell_type": "markdown",
   "id": "db56c74f-ed70-4e4d-8249-5d9511c9d543",
   "metadata": {},
   "source": [
    "$$\n",
    "\\frac{\\|K\\|}{\\tau}\\boldsymbol N_K \\left( \\boldsymbol Z_K^{k+1} - \\boldsymbol Z_K^k \\right) + \\boldsymbol m_K^K \\boldsymbol b_{\\Sigma,K} \\boldsymbol Z_K^{k+1} - \\boldsymbol m_K^k \\left( \\boldsymbol b_K \\boldsymbol Z_{F,K}^{k+1} + \\boldsymbol w_K \\right) = \\|K\\| \\boldsymbol f_K\n",
    "$$"
   ]
  },
  {
   "cell_type": "markdown",
   "id": "58e134da-e2be-4632-983d-4c260698adaa",
   "metadata": {},
   "source": [
    "$$\n",
    "\\left( \\frac{\\|K\\|}{\\tau} \\boldsymbol N_K + \\boldsymbol m_K^k \\boldsymbol b_{\\Sigma,K} \\right) \\boldsymbol Z_K^{k+1}\n",
    "= \\|K\\|\\boldsymbol f_K + \\frac{\\|K\\|}{\\tau}\\boldsymbol N_K\\boldsymbol Z_K^k + \\boldsymbol m_K^k \\left( \\boldsymbol b_K \\boldsymbol Z_{F,K}^{k+1} + \\boldsymbol w_K \\right)\n",
    "$$"
   ]
  },
  {
   "cell_type": "markdown",
   "id": "59b06efd-8cac-4048-869a-55ac631a336d",
   "metadata": {},
   "source": [
    "Let's denote $\\Lambda^k_K = \\left( \\frac{\\|K\\|}{\\tau} \\boldsymbol N_K + \\boldsymbol m_K^k\\boldsymbol b_{\\Sigma,K} \\right)$.\n",
    "It's a square $2 \\times 2$ matrix and, for solution to exist, it must be nonsingular. Then\n",
    "$$\n",
    "\\boldsymbol Z_K^{k+1} = \\left(\\boldsymbol \\Lambda_K^k\\right)^{-1} \\left[\n",
    "    \\|K\\|\\boldsymbol f_K + \\frac{\\|K\\|}{\\tau} \\boldsymbol N_K \\boldsymbol Z_K^k + \\boldsymbol m_K^k \\left(\n",
    "        \\boldsymbol b_K \\boldsymbol Z_{F,K}^{k+1} + \\boldsymbol w_K\n",
    "    \\right)\n",
    "\\right].\n",
    "$$"
   ]
  },
  {
   "cell_type": "markdown",
   "id": "fdb8e486-63f3-4313-a362-4eb481f9064c",
   "metadata": {},
   "source": [
    "Then\n",
    "$$\n",
    "\\boldsymbol v_K^{k+1} = \\boldsymbol b_{\\Sigma,K} \\left( \\boldsymbol \\Lambda_K^k \\right)^{-1} \\left[\n",
    "    \\|K\\|\\boldsymbol f_K + \\frac{\\|K\\|}{\\tau} \\boldsymbol N_K \\boldsymbol Z_K^k + \\boldsymbol m_K^k \\left(\n",
    "        \\boldsymbol b_K \\boldsymbol Z_{F,K}^{k+1} + \\boldsymbol w_K\n",
    "    \\right)\n",
    "\\right] - \\boldsymbol b_K \\boldsymbol Z_{F,K}^{k+1} + \\boldsymbol w_K.\n",
    "$$"
   ]
  },
  {
   "cell_type": "markdown",
   "id": "6773043a-fbdf-42d8-878f-ff289c93bd51",
   "metadata": {},
   "source": [
    "Writing mass balance equation for $v_{i,K,E}^k$ then helps obtain the finla system for $\\boldsymbol Z_{F,K}^{k+1}$."
   ]
  },
  {
   "cell_type": "markdown",
   "id": "6f83db59-db6d-4cf0-98da-9df7d06db55d",
   "metadata": {},
   "source": [
    "Following Younes et al. let's write $\\boldsymbol v_K^{k+1}$ for stationary case with no sink/source ($\\boldsymbol N =0$, $\\boldsymbol f$ = 0, and also $boldsymbol w = 0$, which for this purpose could be considered a part of free-term):\n",
    "$$\n",
    "\\bar{ \\boldsymbol v }_K^{k+1} = \\boldsymbol b_{\\Sigma,K} \\left(\n",
    "    \\boldsymbol m_K^k\\boldsymbol b_{\\Sigma,K}\n",
    "\\right)^{-1} \\boldsymbol m_K^k \\left( \\boldsymbol b_K \\boldsymbol Z_{F,K}^{k+1} \\right) - \\boldsymbol b_K \\boldsymbol Z_{F,K}^{k+1}\n",
    "$$"
   ]
  },
  {
   "cell_type": "markdown",
   "id": "809d8cff-d948-48ea-b1e6-6d8afbba90af",
   "metadata": {},
   "source": [
    "And perform mass lumping by adding to $\\bar v_{i,K,E}^k$ the term\n",
    "$$\n",
    "\\frac{\\|K\\|}{n_f} \\left( f_{i,K} - \\sum\\limits_{E \\in \\mathcal F_K} m_{i,E}^k w_{i,K,E} - \\sum\\limits_{j=1}^2 N_{i,j,K} \\frac{ \\partial Z_{i,E}}{\\partial t} \\right)\n",
    "$$"
   ]
  },
  {
   "cell_type": "markdown",
   "id": "97ef0b01-59da-45d4-97f7-f7319fc89bf8",
   "metadata": {},
   "source": [
    "or in vector form\n",
    "$$\n",
    "\\frac{\\|K\\|}{n_f} \\left[\n",
    "    \\left(\n",
    "        \\boldsymbol f_K - \\boldsymbol m_K^k \\boldsymbol w_K - \\frac{1}{\\tau} \\bar{ \\boldsymbol N }_K \\left(\n",
    "            \\boldsymbol Z_{F,K}^{k+1} - \\boldsymbol Z_{F,K}^k\n",
    "        \\right)\n",
    "    \\right)\n",
    "\\right]\n",
    "$$"
   ]
  },
  {
   "cell_type": "markdown",
   "id": "774f3482-10be-46d1-8007-33555c344155",
   "metadata": {},
   "source": [
    "where $$\n",
    "\\bar{ \\boldsymbol N }_K = \\left(\\begin{matrix}\n",
    "    N_{1,1,K} & 0 & ... & N_{1,2,K} & 0 & ... \\\\\n",
    "    0 & N_{1,1,K} & ... & 0 & N_{1,2,K} & ... \\\\\n",
    "    ... & ... & ... & ... & ... & ... \\\\\n",
    "    N_{2,1,K} & 0 & ... & N_{2,2,K} & 0 & ... \\\\\n",
    "    0 & N_{2,1,K} & ... & 0 & N_{2,2,K} & ... \\\\\n",
    "    ... & ... & ... & ... & ... & ...\n",
    "\\end{matrix}\\right)\n",
    "$$"
   ]
  },
  {
   "cell_type": "markdown",
   "id": "98d15754-6327-4f67-9a6e-778ebbafcd09",
   "metadata": {},
   "source": [
    "This way the new, lumped system is obtained by writing mass balance for\n",
    "$$\n",
    "\\boldsymbol v_K^{k+1} = \\left( \\boldsymbol b_{\\Sigma,K} \\left( \\boldsymbol m_K^k \\boldsymbol b_{\\Sigma, K} \\right)^{-1} \\boldsymbol m_K^k - \\boldsymbol I \\right) \\boldsymbol b_K \\boldsymbol Z_{F,K}^{k+1} + \\frac{\\|K\\|}{n_f} \\left[\n",
    "    \\boldsymbol f_K - \\boldsymbol m_K^k \\boldsymbol w_K - \\frac{1}{\\tau} \\bar{ \\boldsymbol N_K } \\left( \\boldsymbol Z_{F,K}^{k+1} - \\boldsymbol Z_{F,K}^k \\right)\n",
    "\\right]\n",
    "$$"
   ]
  },
  {
   "cell_type": "markdown",
   "id": "7005ecc8-eebe-4871-af09-a30ee2e30611",
   "metadata": {},
   "source": [
    "<font color=red>\n",
    "As far as I can tell\n",
    "$$\n",
    "    b_{\\Sigma,K} ( m_K^k b_{\\Sigma,K} )^{-1} m_K^k = I\n",
    "$$\n",
    "\n",
    "Am I wrong? Is the first term supposed to just disappear?!\n",
    "</font>"
   ]
  },
  {
   "cell_type": "code",
   "execution_count": null,
   "id": "2f9505e8-a88e-44c1-9049-f0b227b3b9c6",
   "metadata": {},
   "outputs": [],
   "source": []
  }
 ],
 "metadata": {
  "kernelspec": {
   "display_name": "Python 3 (ipykernel)",
   "language": "python",
   "name": "python3"
  },
  "language_info": {
   "codemirror_mode": {
    "name": "ipython",
    "version": 3
   },
   "file_extension": ".py",
   "mimetype": "text/x-python",
   "name": "python",
   "nbconvert_exporter": "python",
   "pygments_lexer": "ipython3",
   "version": "3.12.0"
  },
  "toc": {
   "base_numbering": 1,
   "nav_menu": {},
   "number_sections": true,
   "sideBar": true,
   "skip_h1_title": false,
   "title_cell": "Table of Contents",
   "title_sidebar": "Contents",
   "toc_cell": false,
   "toc_position": {},
   "toc_section_display": true,
   "toc_window_display": false
  }
 },
 "nbformat": 4,
 "nbformat_minor": 5
}
