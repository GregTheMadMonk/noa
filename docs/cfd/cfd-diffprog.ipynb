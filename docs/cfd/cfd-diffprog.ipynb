{
 "cells": [
  {
   "cell_type": "markdown",
   "id": "72e02cba",
   "metadata": {},
   "source": [
    "## Basic problem"
   ]
  },
  {
   "cell_type": "markdown",
   "id": "012bf344",
   "metadata": {},
   "source": [
    "We are interested in a solution to\n",
    "$$\n",
    "\\begin{equation}\n",
    "\\begin{cases}\n",
    "    c\\frac{\\partial P}{\\partial t} + \\vec{\\nabla}\\vec{q} = f\\text{ in }\\Omega \\\\\n",
    "    \\vec{q} = -a\\vec\\nabla P\n",
    "\\end{cases}\n",
    "\\label{eq:cfd_problem} \\tag{1}\n",
    "\\end{equation}\n",
    "$$\n",
    "\n",
    "with Dirichlet ($P = P_e$ on $\\partial\\Omega_D$) and Neumann ($-a\\frac{\\partial P}{\\partial \\vec\\eta} = g$ on $\\partial\\Omega_N$) boundary conditions."
   ]
  },
  {
   "cell_type": "markdown",
   "id": "fbd9bffe",
   "metadata": {},
   "source": [
    "We want, given a scalar function $g$ depending on a solution to this problem, to find its sensitivity with respect to $a$."
   ]
  },
  {
   "cell_type": "markdown",
   "id": "09a032e8",
   "metadata": {},
   "source": [
    "We will solve problem __(1)__ numerically by use of the LMHFE memthod.\n",
    "This means that $\\Omega$ will be subdivided into elements (cells), and our values will be interpreted as vectors: $\\vec P$, $\\vec a$ and $\\vec c$ with $i$-th elements representing average values of $P$, $a$ and $c$ over $i$-th cell."
   ]
  },
  {
   "cell_type": "markdown",
   "id": "b88ac3bc",
   "metadata": {},
   "source": [
    "In these terms, $g$ becomes $g(\\vec P)$ with sensitivity $\\frac{dg}{d\\vec a}$."
   ]
  },
  {
   "cell_type": "markdown",
   "id": "3ea8abb8",
   "metadata": {},
   "source": [
    "$$\n",
    "\\frac{dg}{d\\vec a} = \\frac{\\partial g}{\\partial \\vec a} + \\frac{\\partial g}{\\partial \\vec P}\\frac{d \\vec P}{d \\vec a}\n",
    "$$"
   ]
  },
  {
   "cell_type": "markdown",
   "id": "253a6453",
   "metadata": {},
   "source": [
    "From here and forward, we will denote full derivatives as $\\frac{dg}{d\\vec a} \\equiv g_{\\vec a}$, and partial derivatives as $\\frac{\\partial g}{\\partial \\vec a} \\equiv \\partial g_{\\vec a}$."
   ]
  },
  {
   "cell_type": "markdown",
   "id": "b89183ac",
   "metadata": {},
   "source": [
    "$$\n",
    "g_{\\vec a} = \\partial g_{\\vec a} + \\partial g_{\\vec P} \\vec P_{\\vec a}\n",
    "$$"
   ]
  },
  {
   "cell_type": "markdown",
   "id": "2ff0ab71",
   "metadata": {},
   "source": [
    "<font color=red>\n",
    "Let's assume $g$ has no explicit dependence on $a$.\n",
    "This will elmiminate the first term from this sum, leaving us with just\n",
    "$$\n",
    "g_{\\vec a} = \\partial g_{\\vec P}\\vec P_{\\vec a}\n",
    "$$\n",
    "</font>"
   ]
  },
  {
   "cell_type": "markdown",
   "id": "ac1ccb5b",
   "metadata": {},
   "source": [
    "We also asssume that since the analytical form for $g$ is known, $\\partial g_{\\vec P}$ is also dervied and known."
   ]
  },
  {
   "cell_type": "markdown",
   "id": "55b1c081",
   "metadata": {},
   "source": [
    "What we're interested in is sensitivity $\\vec P_{\\vec a}$.\n",
    "It comes from a method used to obtain $\\vec P$."
   ]
  },
  {
   "cell_type": "markdown",
   "id": "832078a5",
   "metadata": {},
   "source": [
    "LMHFE (and MHFE) use recurrent relation to find $\\vec P$ on the next time step.\n",
    "They also use $P_T$ &mdash; a solution's average over the cell edge.\n",
    "Let's combine all of these values in a vector $\\vec P_T$ (note that an edge could have one or two neighbouring cells). For $i$-th cell, solution $P^{[n + 1]}_i$ on step $n + 1$ is given by:"
   ]
  },
  {
   "cell_type": "markdown",
   "id": "1f26e79a",
   "metadata": {},
   "source": [
    "$$\n",
    "P^{[n + 1]}_i = \\frac{a_i}{\\beta_i} \\sum\\limits_{\\text{edge }j\\in\\text{ boundary of }i} \\alpha_{ij} P_{T,j}^{[n+1]} + \\frac{\\lambda_i}{\\beta_i}P_i^{[n]} + \\frac{Q_{S,i}}{\\beta_i}\n",
    "$$\n",
    "where $\\alpha_{ij}$ is a per-edge coefficient derived from geometry and\n",
    "$$\n",
    "\\lambda_i = \\frac{c_i\\left|A_i\\right|}{\\tau}, \\alpha_i = \\sum\\limits_{j} \\alpha_{ij}, \\beta_i = \\lambda_i + a_i\\alpha_i\n",
    "$$"
   ]
  },
  {
   "cell_type": "markdown",
   "id": "353d3a6a",
   "metadata": {},
   "source": [
    "<font color=red>\n",
    "$Q_{S,i}$ is proportional to a mean value of $f$ over $i$-th cell and is, in our case, zero.\n",
    "$$\n",
    "Q_{S,i} = 0\n",
    "$$\n",
    "</font>"
   ]
  },
  {
   "cell_type": "markdown",
   "id": "b6e89267",
   "metadata": {},
   "source": [
    "The equation could be rewritten in a vector form as:\n",
    "$$\n",
    "\\vec P^{[n+1]} = U \\vec P_T^{[n+1]} + V \\vec P^{[n]}\n",
    "$$"
   ]
  },
  {
   "cell_type": "markdown",
   "id": "265262a0",
   "metadata": {},
   "source": [
    "$U_{ij} = \\frac{a_i\\alpha_{ij}}{\\beta_i}$ if $j \\in \\partial_i$ and $0$ otherwise.\n",
    "\n",
    "$V_{ii} = \\frac{\\lambda_i}{\\beta_i}$, $V_{ij} = 0$ if $i \\ne j$."
   ]
  },
  {
   "cell_type": "markdown",
   "id": "4e070e4d",
   "metadata": {},
   "source": [
    "Sensitivity $\\frac{dg}{da}$ on time step $n + 1$ then becomes\n",
    "$$\n",
    "g_{\\vec a}^{[n]} = \\partial g_{\\vec a}^{[n]} + \\partial g_{\\vec P}^{[n]} \\vec P_{\\vec a}^{[n]}\n",
    "$$\n",
    "where\n",
    "$$\n",
    "\\vec P_{\\vec a}^{[n]} = \\left( U\\vec P_T^{[n]} \\right)_\\vec a + V\\vec P^{[n-1]}_{\\vec a}\n",
    "$$\n",
    "since $V_{\\vec a} = 0$."
   ]
  },
  {
   "cell_type": "markdown",
   "id": "beed29da",
   "metadata": {},
   "source": [
    "$\\vec P_{\\vec a}^{[0]} = 0$, so:\n",
    "$$\n",
    "\\vec P_{\\vec a}^{[n]} = \\sum\\limits_{i = 1}^{n}V^{n-i}\\left(U\\vec P_T^{[i]}\\right)_\\vec a\n",
    "$$"
   ]
  },
  {
   "cell_type": "markdown",
   "id": "3ed2cd31",
   "metadata": {},
   "source": [
    "$$\n",
    "\\left( \\left( U\\vec P_T^{[i]}\\right)_\\vec a \\right)_{ij}\n",
    "= \\frac{d\\left(U\\vec P_T^{[i]}\\right)_i}{da_j}\n",
    "= \\frac{d}{da_j} \\left( \\sum\\limits_k U_{ik} \\left( \\vec P_T^{[i]} \\right)_k \\right)\n",
    "$$\n",
    "$$\n",
    "\\left( \\left( U\\vec P_T^{[i]}\\right)_\\vec a \\right)_{ij}\n",
    "= \\sum\\limits_k \\left(\\frac{d}{da_j}U_{ik}\\right)\\left( \\vec P_T^{[i]} \\right)_k + \\sum\\limits_k U_{ik} \\frac{d}{da_j}\\left( \\vec P_T^{[i]} \\right)_k\n",
    "$$\n",
    "$$\n",
    "\\left( \\left( U\\vec P_T^{[i]}\\right)_\\vec a \\right)_{ij}\n",
    "= \\sum\\limits_k \\left(\\frac{d}{da_j}U_{ik}\\right)\\left( \\vec P_T^{[i]} \\right)_k + \\left(U\\left(\\vec P_T^{[i]}\\right)_{\\vec a}\\right)_{ij}\n",
    "$$"
   ]
  },
  {
   "cell_type": "markdown",
   "id": "8d7b2481",
   "metadata": {},
   "source": [
    "Therefore\n",
    "$$\n",
    "\\left( U\\vec P_T^{[i]} \\right)_{\\vec a}\n",
    "= \\left[ \\vec D_1 \\biggr| \\vec D_2 \\biggr| ... \\biggr| \\vec D_j \\biggr| ... \\right] + U\\left(\\vec P_T^{[i]}\\right)_{\\vec a}\n",
    "\\equiv \\mathbf D + U\\left(\\vec P_T^{[i]}\\right)_{\\vec a}\n",
    "$$\n",
    "where $\\vec D_j = U_{a_j}\\vec P_T^{[i]}$."
   ]
  },
  {
   "cell_type": "markdown",
   "id": "abb9c70b",
   "metadata": {},
   "source": [
    "Since $U_{ij} = \\frac{a_i\\alpha_{ij}}{\\beta_i}$ for $j \\in \\partial_I$, then $\\left( U_{a_k} \\right)_{ij} =$\n",
    "* $0$ if $i \\ne k$ or $j \\notin \\partial_i$\n",
    "* $\\frac{\\alpha_{kj}}{\\beta_k}$ otherwise\n",
    "\n",
    "&mdash; $U_{a_k}$ only contains $k$-th row, which will make $\\mathbf D$ diagonal."
   ]
  },
  {
   "cell_type": "markdown",
   "id": "d5c1cc41",
   "metadata": {},
   "source": [
    "## LMHFE"
   ]
  },
  {
   "cell_type": "markdown",
   "id": "a3477b5d",
   "metadata": {},
   "source": [
    "Im lumped MHFE, $\\vec P_T^{[i]}$ is obtained from:\n",
    "$$\n",
    "M^{[i]}\\vec P_T^{[i]} = \\vec b^{[i]}\n",
    "$$"
   ]
  },
  {
   "cell_type": "markdown",
   "id": "18b7831c",
   "metadata": {},
   "source": [
    "For MHFE and LMHFE, $\\vec b^{[i]}$ is calculated from different values, that's why here <font color=red>we are only going to look at LMHFE</font>.\n",
    "\n",
    "In LMHFE\n",
    "$$\n",
    "\\vec b^{[i]} = \\vec b\\left(\\vec P_T^{[i-1]}\\right)\n",
    "$$\n",
    "and $M^{[i]}$ does not depend on previous solutions."
   ]
  },
  {
   "cell_type": "markdown",
   "id": "b5efaf69",
   "metadata": {},
   "source": [
    "$$\n",
    "\\left( M^{[i]}\\vec P_T^{[i]} \\right)_{\\vec a} = \\left( \\vec b \\left( \\vec P_T^{[i-1]}\\right)\\right)_{\\vec a}\n",
    "$$"
   ]
  },
  {
   "cell_type": "markdown",
   "id": "3a9d9dcf",
   "metadata": {},
   "source": [
    "Like in (...):\n",
    "$$\n",
    "\\left( M^{[i]}\\vec P^{[i]}_T \\right)_{\\vec a}\n",
    "= \\left[ \\vec F^{[i]}_1 \\bigg| ... \\bigg| \\vec F^{[i]}_j \\bigg| ... \\right] + M\\left(\\vec P_T^{[i]}\\right)_{\\vec a}\n",
    "\\equiv \\mathbf{F}^{[i]} +M\\left(\\vec P_T^{[i]}\\right)_{\\vec a}\n",
    "$$\n",
    "where $\\vec F^{[i]}_j = M_{a_j}\\vec P_T^{[i]}$."
   ]
  },
  {
   "cell_type": "markdown",
   "id": "e7cfc0b8",
   "metadata": {},
   "source": [
    "$\\vec b$ is simpler:\n",
    "$$\n",
    "\\left(\\vec b\\left(\\vec P_T^{[i]}\\right)\\right)_{\\vec a}\n",
    "= \\partial \\vec b^{[i]}_{\\vec a} + \\partial \\vec b^{[i]}_{\\vec P_T^{[i - 1]}}\\left(\\vec P_T^{[i-1]}\\right)_{\\vec a}\n",
    "$$"
   ]
  },
  {
   "cell_type": "markdown",
   "id": "930c250a",
   "metadata": {},
   "source": [
    "Which means:\n",
    "$$\n",
    "M^{[i]}\\left( \\vec P_T^{[i]}\\right)_{\\vec a}\n",
    "= \\partial \\vec b^{[i]}_{\\vec a} + \\partial \\vec b^{[i]}_{\\vec P_T^{[i - 1]}}\\left(\\vec P_T^{[i-1]}\\right)_{\\vec a} - \\mathbf F^{[i]}\n",
    "$$"
   ]
  },
  {
   "cell_type": "markdown",
   "id": "e9cfe038",
   "metadata": {},
   "source": [
    "### Evaluate $M$ derivatives"
   ]
  },
  {
   "cell_type": "markdown",
   "id": "6fc1b6b2",
   "metadata": {},
   "source": [
    "If $M = \\left( m_{ij} \\right)$ then its diagonal terms are:\n",
    "\n",
    "$$\n",
    "m_{ii}\n",
    "= m^A_{ii} + m^B_{ii}\n",
    ",\n",
    "m^A_{ii}\n",
    "= a_A\\left(\\left(B_{ii}^{-1}\\right)_A - \\frac{\\alpha_{Ai}^2}{\\alpha_A}\\right) + \\frac{1}{n_f} \\frac{c_A\\|A\\|}{\\Delta t}$$\n",
    "\n",
    "where $A$ and $B$ are triangles adjacent to the $i$-th edge, and its off-diagonal terms are:\n",
    "\n",
    "$$ m_{ij} = a_A \\left( \\left(B^{-1}_{ij}\\right)_A - \\frac{\\alpha_{Ai}\\alpha_{Aj}}{\\alpha_A} \\right) $$"
   ]
  },
  {
   "cell_type": "markdown",
   "id": "7de0de76",
   "metadata": {},
   "source": [
    "$M_{a_k}$ therefore will only contain elements corresponding to edges $i$, $j$ that are part of border $\\partial_k$ of cell $k$:\n",
    "\n",
    "$\\left( M_{a_k} \\right)_{ij} =$\n",
    "* $0$ if edges $i,j \\notin \\partial_k$\n",
    "* $2 \\left( \\left(B_{ii}^{-1}\\right)_k - \\frac{\\alpha_{ki}^2}{\\alpha_k} \\right)$ if $i = j$ and $i \\in \\partial_k$\n",
    "* $\\left( \\left(B_{ij}^{-1}\\right)_k - \\frac{\\alpha_{ki}\\alpha_{kj}}{\\alpha_k} \\right)$ if $i \\ne j$ and $i,j \\in \\partial_k$"
   ]
  },
  {
   "cell_type": "markdown",
   "id": "a323cf5d",
   "metadata": {},
   "source": [
    "This way, $M_{a_k}$ is a very sparse matrix."
   ]
  },
  {
   "cell_type": "markdown",
   "id": "7a4e270c",
   "metadata": {},
   "source": [
    "_Note that $M^{[i]}$ depends on time step $i$ only when using variable time step size.\n",
    "Derivatives of $M^{[i]}$ are not time-dependant._"
   ]
  },
  {
   "cell_type": "markdown",
   "id": "a782849d",
   "metadata": {},
   "source": [
    "### Evaluate $\\vec b$ derivatives"
   ]
  },
  {
   "cell_type": "markdown",
   "id": "9452d758",
   "metadata": {},
   "source": [
    "$$\n",
    "\\left( \\vec b^{[i]} \\right)_k = \\frac{c\\left(\\|A_m\\| + \\|A_n\\|\\right)\\left(\\vec P_T^{[i-1]}\\right)_k}{n_f \\Delta t}\n",
    "$$\n",
    "where $m$, $n$ contain $k$-th edge in their border."
   ]
  },
  {
   "cell_type": "markdown",
   "id": "4bff7fbc",
   "metadata": {},
   "source": [
    "It's easy to see that\n",
    "$$\n",
    "\\partial \\vec b_{\\vec a} = 0\n",
    "$$\n",
    "and that\n",
    "$$\n",
    "\\left( \\partial \\vec b^{[i]}_{\\vec P_T^{[i-1]}} \\right)_{ii}\n",
    "= \\frac{c\\left(\\|A_m\\| + \\|A_n\\|\\right)}{n_f \\Delta t}\n",
    "$$\n",
    "$$\n",
    "\\left( \\partial \\vec b^{[i]}_{\\vec P_T^{[i-1]}} \\right)_{ij}\n",
    "= 0\n",
    "$$\n",
    "&mdash; $\\partial \\vec b^{[i]}_{\\vec P_T^{[i-1]}}$ is a diagonal matrix."
   ]
  },
  {
   "cell_type": "markdown",
   "id": "c97bb1dc",
   "metadata": {},
   "source": [
    "### Iterative calculation"
   ]
  },
  {
   "cell_type": "markdown",
   "id": "4de8b4bc",
   "metadata": {},
   "source": [
    "$$\n",
    "\\vec P_{\\vec a}^{[n]}\n",
    "= \\sum\\limits_{i = 1}^{n}V^{n-i}\\left(U\\vec P_T^{[i]}\\right)_\\vec a\n",
    "= \\left( U\\vec P_T^{[n]}\\right)_{\\vec a} + V\\sum\\limits_{i=1}^{n-1}V^{n-1-i}\\left(U\\vec P_T^{[i]}\\right)_{\\vec a}\n",
    "= \\left( U\\vec P_T^{[n]}\\right)_{\\vec a} + V \\vec P_{\\vec a}^{[n-1]}\n",
    "$$"
   ]
  },
  {
   "cell_type": "markdown",
   "id": "6ebd911e",
   "metadata": {},
   "source": [
    "$$\n",
    "g^{[n]}_{\\vec a} = \\partial g^{[n]}_{\\vec P^{[n]}} \\vec P^{[n]}_{\\vec a} = \\partial g^{[n]}_{\\vec P^{[n]}} \\left( \\left( U\\vec P_T^{[n]} \\right)_{\\vec a} + V\\vec P^{[n-1]}_{\\vec a}\\right)\n",
    "$$\n"
   ]
  },
  {
   "cell_type": "markdown",
   "id": "acf497d0",
   "metadata": {},
   "source": [
    "## Variable in time $a$"
   ]
  },
  {
   "cell_type": "markdown",
   "id": "94bf2db8",
   "metadata": {},
   "source": [
    "When $a$ is a variable of time, the following modifications need to be made:\n",
    "$$\n",
    "\\left(\\frac{dg}{d\\vec a}\\right)^{[n]} = g^{[n]}_{\\vec a} \\rightarrow g^{[n]}_{\\vec a^{[n]}}\n",
    "$$\n",
    "$$\n",
    "\\partial g^{[n]}_{\\vec P^{[n]}}\\vec P^{[n]}_{\\vec a}\n",
    "\\rightarrow \\partial g^{[n]}_{\\vec P^{[n]}}\\vec P^{[n]}_{\\vec a^{[n]}}\n",
    "= \\partial g^{[n]}_{\\vec P^{[n]}} \\left( \\left( U\\vec P_T^{[n]}\\right)_{\\vec a^{[n]}} + V\\vec P^{[n-1]}_{\\vec a^{[n]}} \\right)\n",
    "$$"
   ]
  },
  {
   "cell_type": "markdown",
   "id": "cf133833",
   "metadata": {},
   "source": [
    "From the previous step, we will always know $\\vec P^{[n-1]}_{\\vec a^{[n-1]}}$.\n",
    "From it, we will evaluate\n",
    "$$\n",
    "\\vec P^{[n-1]}_{\\vec a^{[n]}}\n",
    "= \\vec P^{[n-1]}_{\\vec a^{[n-1]}} \\vec a^{[n-1]}_{\\vec a^{[n]}}\n",
    "= \\vec P^{[n-1]}_{\\vec a^{[n-1]}} \\vec a^{[n-1]}_t t_{\\vec a^{[n]}}\n",
    "$$"
   ]
  },
  {
   "cell_type": "markdown",
   "id": "83ba0263",
   "metadata": {},
   "source": [
    "$\\vec a^{[n-1]}_t$ and $t_{\\vec a^{[n]}}$ are easy to evaluate: first is a column vector of time derivatives of elements of $\\vec a$ at time $t^{[n-1]} = t^{[n]} - \\tau$, and the second is a row vector of inverses of said detivatives at time $t^{[n]}$:\n",
    "$$\n",
    "\\left(\\vec a^{[n-1]}_{\\vec a^{[n]}}\\right)_{ij}\n",
    "= \\left( a^{[n-1]}_i \\right)_{a^{[n]}_j}\n",
    "= \\frac{\\left(a^{[n-1]}_i\\right)_t}{\\left(a^{[n]}_j\\right)_t}\n",
    "$$\n",
    "This could be found analytically."
   ]
  },
  {
   "cell_type": "markdown",
   "id": "ce7c46b3",
   "metadata": {},
   "source": [
    "Same way\n",
    "$$\n",
    "M^{[i]}\\left( \\vec P_T^{[i]}\\right)_{\\vec a}\n",
    "= \\partial \\vec b^{[i]}_{\\vec a} + \\partial \\vec b^{[i]}_{\\vec P_T^{[i - 1]}}\\left(\\vec P_T^{[i-1]}\\right)_{\\vec a} - \\mathbf F^{[i]}\n",
    "$$\n",
    "converts to\n",
    "$$\n",
    "M^{[i]}\\left( \\vec P_T^{[i]}\\right)_{\\vec a^{[i]}}\n",
    "= \\partial \\vec b^{[i]}_{\\vec a^{[i]}} + \\partial \\vec b^{[i]}_{\\vec P_T^{[i - 1]}}\\left(\\vec P_T^{[i-1]}\\right)_{\\vec a^{[i]}} - \\mathbf F^{[i]}\n",
    "$$\n",
    "with $\\vec F^{[i]}_j = M_{a_j^{[i]}}\\vec P_T^{[i]}$."
   ]
  },
  {
   "cell_type": "markdown",
   "id": "f8f1e162",
   "metadata": {},
   "source": [
    "And $\\left( \\vec P_T^{[i-1]} \\right)_{\\vec a^{[i]}}$ becomes $\\left( \\vec P_T^{[i-1]} \\right)_{\\vec a^{[i-1]}} \\vec a^{[i-1]}_{\\vec a^{[i]}}$."
   ]
  },
  {
   "cell_type": "markdown",
   "id": "f7b3f660",
   "metadata": {},
   "source": [
    "## Algorithm"
   ]
  },
  {
   "cell_type": "markdown",
   "id": "ea8e3be1",
   "metadata": {},
   "source": [
    "Let's denote: $N$ &mdash; number of cells and $K$ &mdash; number of cell edges."
   ]
  },
  {
   "cell_type": "markdown",
   "id": "d5cc7ec9",
   "metadata": {},
   "source": [
    "In preparation, we should callculate and save:\n",
    "1. $V$ ($N\\times N$ matrix)\n",
    "1. $\\partial g_\\vec P$ ($N$ row-vector)"
   ]
  },
  {
   "cell_type": "markdown",
   "id": "658a8452",
   "metadata": {},
   "source": [
    "For each time step we:\n",
    "1. Perform LMHFE solution. From it we need:\n",
    "  1. $M$ ($K\\times K$ matrix)\n",
    "  1. $P_T$ ($K$ column-vector)\n",
    "1. From the previouis step we must preserve:\n",
    "  1. $\\vec P^{[i-1]}_{\\vec a^{[i-1]}}$ ($N\\times N$ matrix)\n",
    "  1. $\\left( \\vec P_T^{[i-1]} \\right)_{\\vec a^{[i-1]}}$ ($K\\times N$ matrix)\n",
    "1. Calculate $U^{[i]}$ ($N\\times K$ matrix; $U$ depends on $a$ and therefore is variable in time)\n",
    "1. Calculate $U^{[i]}_{a^{[i]}}$ ($N$ $N\\times K$ matrices)\n",
    "1. Calculate $M_{a^{[i]}_j}$ ($N$ $K\\times K$ matrices)\n",
    "<!-- 1. Calculate $\\partial b^{[i]}_{\\vec a^{[i]}}$ ($K\\times N$ matrix) -->\n",
    "1. Calculate $\\partial b^{[i]}_{\\vec P_T^{[i-1]}}$ ($K\\times K$ diagonal matrix)\n",
    "1. Find $\\mathbf F$\n",
    "1. Find $\\left(\\vec P_T^{[i]} \\right)_{\\vec a^{[i]}}$ ($K\\times N$ matrix). _Carries to the next step._\n",
    "1. Find $\\mathbf D$ ($K\\times N$ matrix)\n",
    "1. Find $\\left( U\\vec P_T^{[i]} \\right)_{\\vec a^{[i]}}$ ($N\\times N$ matrix)\n",
    "1. Find $\\vec P^{[i]}_{\\vec a^{[i]}}$ ($N\\times N$ matirx). _Carries to the next step_\n",
    "1. Find $g_{\\vec a^{[i]}}$ ($N$ row-vector)"
   ]
  },
  {
   "cell_type": "code",
   "execution_count": null,
   "id": "640ba8d0",
   "metadata": {},
   "outputs": [],
   "source": []
  }
 ],
 "metadata": {
  "kernelspec": {
   "display_name": "Python 3 (ipykernel)",
   "language": "python",
   "name": "python3"
  },
  "language_info": {
   "codemirror_mode": {
    "name": "ipython",
    "version": 3
   },
   "file_extension": ".py",
   "mimetype": "text/x-python",
   "name": "python",
   "nbconvert_exporter": "python",
   "pygments_lexer": "ipython3",
   "version": "3.10.9"
  }
 },
 "nbformat": 4,
 "nbformat_minor": 5
}
