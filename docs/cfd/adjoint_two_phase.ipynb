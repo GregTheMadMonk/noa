{
 "cells": [
  {
   "cell_type": "markdown",
   "id": "04869377",
   "metadata": {},
   "source": [
    "# Adjoint Sensitivity Method for Two-Phase Flow Model in Porous Media with Barrier Effect\n",
    "\n",
    "### Gregory Dushkin (MIPT), Roland Grinis (MIPT, GrinisRIT)"
   ]
  },
  {
   "cell_type": "markdown",
   "id": "33183772",
   "metadata": {},
   "source": [
    "## Two-phase flow in porous media\n",
    "\n",
    "The pressures $(p_w,p_n)$ for the wetting and non-wetting phases are primary variables. \n",
    "\n",
    "Effective saturations:\n",
    "$$\n",
    "S_{w,e} = \\frac{S_w - S_{w,r}}{1-S_{w,r}}, \\quad S_w+S_n=1\n",
    "$$\n",
    "are related to the capillary pressure:\n",
    "$$\n",
    "p_c = p_n - p_w\n",
    "$$\n",
    "via the Brooks & Corey model:\n",
    "$$\n",
    "S_{w,e}(p_c) = \\left( \\frac{p_c}{p_{BC}} \\right)^{-\\lambda_{BC}}, \\quad p_c \\geq p_{BC}\n",
    "$$\n",
    "where $p_{BC}$ is the *entry pressure* characteristic of the medium.\n",
    "\n",
    "Relative permeability is modelled via Burdine:\n",
    "$$\n",
    "k_{r,w} = S_{w,e}^{3+\\frac{2}{\\lambda_{BC}}} \\\\\n",
    "k_{r,n} = (1-S_{w,e})^2 \\left( 1 - S_{w,e}^{1+\\frac{2}{\\lambda_{BC}}} \\right)\n",
    "$$\n",
    "\n",
    "The mobility coefficients are given by:\n",
    "$$\n",
    "m_{\\alpha} = \\frac{k_{r,\\alpha}}{\\mu_{\\alpha}}\n",
    "$$\n",
    "with $\\mu_{\\alpha}$ the $\\alpha$-phase dynamic viscosity.\n",
    "\n",
    "Darcy velocities are:\n",
    "$$\n",
    "\\boldsymbol{v}_\\alpha = - \\kappa \\left( \\nabla p_\\alpha - \\rho_\\alpha \\boldsymbol{g} \\right)\n",
    "$$\n",
    "and the flux:\n",
    "$$\n",
    "\\boldsymbol{q}_{\\alpha} = m_\\alpha \\boldsymbol{v}_\\alpha\n",
    "$$"
   ]
  },
  {
   "cell_type": "markdown",
   "id": "999170ab",
   "metadata": {},
   "source": [
    "### Barrier effect\n",
    "\n",
    "At the interface between medium $I$ and $II$, while $p_c^I < p_{BC}^{II}$:\n",
    "$$\n",
    "\\boldsymbol{q}_n^{I} = 0, \\quad p_c^{II} = p_{BC}^{II}\n",
    "$$\n",
    "and then we gain continuity once $p_c^I=p_c^{II}$ is reached."
   ]
  },
  {
   "cell_type": "markdown",
   "id": "4f5aae05",
   "metadata": {},
   "source": [
    "### Double-porosity\n",
    "For porous $p_\\alpha^1$ and fracture $p_\\alpha^2$ continua pressures:\n",
    "$$\n",
    "\\sum_{\\beta=n,w} N_{\\alpha\\beta}^i \\partial_t  p_\\beta^i + \\nabla \\cdot \\boldsymbol{q}_\\alpha^i = - \\frac{\\chi k_{r,\\alpha}^1}{\\mu_\\alpha^1} \\left(p_\\alpha^i - p_\\alpha^j\\right)\n",
    "$$\n",
    "\n",
    "where the damping matrix is given:\n",
    "$$\n",
    "\\boldsymbol{N}^i = -\\eta^i \\frac{\\partial S_w^i}{\\partial p^i_c} \n",
    "\\begin{pmatrix}\n",
    "-1 & 1 \\\\\n",
    "1 & -1\n",
    "\\end{pmatrix}\n",
    "$$\n",
    "\n",
    "The geometric shape parameter \n",
    "$$\n",
    "\\chi \\sim  \\frac{1}{\\ell^2}\n",
    "$$\n",
    "depends on the characteristic fractures length $\\ell$."
   ]
  },
  {
   "cell_type": "markdown",
   "id": "a55769de",
   "metadata": {},
   "source": [
    "### Boundary conditions\n",
    "\n",
    "We have:\n",
    "* $p(0,x) = p^{\\mathcal{I}}(x)$, $\\forall x \\in \\varOmega$ (initial conditions)\n",
    "* $p(t,x) = p^{\\mathcal{D}}(t,x)$, $\\forall x \\in \\varGamma_{Z_i} \\subset \\partial\\varOmega$ (Dirichlet boundary conditions)\n",
    "* $\\boldsymbol{q}(t,x) \\cdot \\boldsymbol{n} = q^{\\mathcal{N}}(t,x)$, $\\forall x \\in \\varGamma_{\\boldsymbol{q}_i} \\subset \\partial\\varOmega$ with $\\boldsymbol{n}$ outward unit normal to $\\partial\\varOmega$ (Neumann boundary conditions)\n",
    "\n",
    "The pressures functions $p$ are required to be continuously differentiable in time and only continuous in space. The evolution equations are satisfied in the weak sense."
   ]
  }
 ],
 "metadata": {
  "kernelspec": {
   "display_name": "Python 3 (ipykernel)",
   "language": "python",
   "name": "python3"
  },
  "language_info": {
   "codemirror_mode": {
    "name": "ipython",
    "version": 3
   },
   "file_extension": ".py",
   "mimetype": "text/x-python",
   "name": "python",
   "nbconvert_exporter": "python",
   "pygments_lexer": "ipython3",
   "version": "3.9.15"
  }
 },
 "nbformat": 4,
 "nbformat_minor": 5
}
