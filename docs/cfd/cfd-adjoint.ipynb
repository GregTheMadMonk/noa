{
 "cells": [
  {
   "cell_type": "markdown",
   "id": "6556798b",
   "metadata": {},
   "source": [
    "## Initial problem"
   ]
  },
  {
   "cell_type": "markdown",
   "id": "acfa6b21",
   "metadata": {},
   "source": [
    "We are working with a solution to\n",
    "$$\n",
    "\\begin{equation}\n",
    "\\begin{cases}\n",
    "      c\\frac{\\partial P}{\\partial t} + \\vec{\\nabla}\\vec{q} = f\\text{ in }\\Omega \\\\\n",
    "      \\vec{q} = -a\\vec\\nabla P\n",
    "\\end{cases}\n",
    "\\label{eq:cfd_problem} \\tag{1}\n",
    "\\end{equation}\n",
    "$$\n",
    "with Dirichlet ($P = P_e$ on $\\partial\\Omega_D$) and Neumann ($-a\\frac{\\partial P}{\\partial \\vec\\eta} = g$ on $\\partial\\Omega_N$) boundary conditions"
   ]
  },
  {
   "cell_type": "markdown",
   "id": "1785830f",
   "metadata": {},
   "source": [
    "For this particular problem, we focus on uniform and constant $a$ and $c$ and $f = 0$."
   ]
  },
  {
   "cell_type": "markdown",
   "id": "fb2f81e8",
   "metadata": {},
   "source": [
    "We want to calculate sensitivity $\\frac{dg}{da}$ of a function\n",
    "$\\begin{equation}\n",
    "g = \\frac{1}{\\left|\\Omega\\right|}\\int\\limits_\\Omega Pdx\n",
    "\\tag{2}\n",
    "\\end{equation}$"
   ]
  },
  {
   "cell_type": "markdown",
   "id": "f9198921",
   "metadata": {},
   "source": [
    "If we subdivide $\\Omega$ into elements (triangles), $P$ becomes a vector with elements $P_i$ corresponding to an average value of $P$ over $i$-th triangle."
   ]
  },
  {
   "cell_type": "markdown",
   "id": "3e66a5e1",
   "metadata": {},
   "source": [
    "Then, we could approximate $g$ by:\n",
    "$\\begin{equation}\n",
    "g = \\frac{1}{N}\\sum\\limits_{i = 1}^{N} P_i = \\frac{\\left(\\vec{1}, \\vec{P}\\right)}{N}\n",
    "\\tag{3}\n",
    "\\end{equation}$\n",
    "where $\\vec{1} = \\left( \\begin{matrix} 1\\\\ 1\\\\ 1\\\\ ... \\end{matrix}\\right)$ &mdash; an $N$-vector of ones."
   ]
  },
  {
   "cell_type": "markdown",
   "id": "2c9ed493",
   "metadata": {},
   "source": [
    "## LMHFE"
   ]
  },
  {
   "cell_type": "markdown",
   "id": "b8644083",
   "metadata": {},
   "source": [
    "LMHFE gives a solution as an average value of $P$ over element edges $\\vec{P_T}$ ($P_{T,j}$ &mdash; average $P$ over $j$-th mesh edge) as a solution to a system of linear algebraic equations:\n",
    "$\\begin{equation}\n",
    "M\\vec{P}^{n + 1}_T = \\vec b(\\vec{P}^n_T)\n",
    "\\tag{4}\n",
    "\\end{equation}$\n",
    "For time step $n + 1$, it is then coverted back to $\\vec P$ using:\n",
    "$$P_i^{n + 1} = \\frac{a}{\\beta}\\sum\\limits_{\\text{edge }j \\in\\text{ boundary of triangle }i} \\alpha_j P_{T,j}^{n+1} + \\frac{\\lambda_A}\\beta P^n_i + \\frac{Q_S^i}{\\beta}$$\n",
    "Here, $Q_S^i = 0$ as it's proportional to a mean value of $f = 0$ over $i$-th triangle.\n",
    "\n",
    "$\\lambda_A = \\frac{c\\|A\\|}{\\Delta t} = \\lambda$ - is a scalar in case of triangular grid constructed of triangles of equal area."
   ]
  },
  {
   "cell_type": "markdown",
   "id": "bac24bf5",
   "metadata": {},
   "source": [
    "The previous equation could be written as:\n",
    "$$ \\vec{P}^{n+1} = U\\vec{P}_T^{n+1} + \\frac\\lambda\\beta \\vec{P}^n $$\n",
    "or\n",
    "$\\begin{equation}\n",
    "\\vec P^{n+1} = \\frac{a}{\\beta}U_0\\vec P_T^{n+1} + \\frac\\lambda\\beta \\vec P^n\n",
    "\\tag{5}\n",
    "\\end{equation}$\n",
    "where $U_0$ depends only on mesh geometry and is not a funcion of problem parameters."
   ]
  },
  {
   "cell_type": "markdown",
   "id": "44b5ed34",
   "metadata": {},
   "source": [
    "## Sensitivity calculation"
   ]
  },
  {
   "cell_type": "markdown",
   "id": "342c3283",
   "metadata": {},
   "source": [
    "Now, let's evaluate sensitivity:\n",
    "\n",
    "$$ \\frac{dg}{da} = \\frac{\\partial g}{\\partial a} + \\frac{\\partial g}{\\partial \\vec P} \\frac{d \\vec P}{d a} $$\n",
    "\n",
    "Since $g$ has no explicit dependence on $a$, only the second term here is non-zero.\n",
    "From now on, let's denote partial derivatives with partial symbol and an index, e.g. $\\partial g_\\vec P = \\frac{\\partial g}{\\partial \\vec P}$.\n",
    "Also, let's denote full derivatives with index only, e.g. $\\vec P_a = \\frac{d \\vec P}{da}$.\n",
    "\n",
    "$$ \\frac{dg^n}{da} = \\partial g^n_\\vec P \\vec P^n_a $$\n",
    "\n",
    "$$ \\frac{dg^n}{da} = \\partial g^n_\\vec P \\left(\\left(U \\vec P_T^n\\right)_a + \\frac\\lambda\\beta\\vec P^{n-1}_a\\right) $$\n",
    "$$ \\frac{dg^n}{da} = \\partial g^n_\\vec P \\left(\\left(U \\vec P_T^n\\right)_a + \\frac\\lambda\\beta \\left(\\left(U \\vec P_T^{n-1}\\right)_a + \\frac\\lambda\\beta\\vec P^{n-2}_a \\right)\\right) $$\n",
    "We keep expanding $\\vec P^k_a$ until $k = 0$. At $k = 0$ $\\vec P^k$ is inital condition and does not depend on $a$. Therefore: $\\vec P^0_a = 0$ and expression for $\\frac{dg}{da}$ becomes:\n",
    "$\\begin{equation}\n",
    "\\frac{dg^n}{da} = \\partial g^n_\\vec P \\sum\\limits_{k = 0}^{n - 1} \\left( \\frac\\lambda\\beta \\right)^k \\left(U \\vec P_T^{n - k} \\right)_a\n",
    "\\tag{6}\n",
    "\\end{equation}$"
   ]
  },
  {
   "cell_type": "markdown",
   "id": "12a9f229",
   "metadata": {},
   "source": [
    "Let's evaluate $\\partial g^n_\\vec P$:\n",
    "\n",
    "$\\begin{equation}\n",
    "\\partial g^n_\\vec P = \\frac{1}{N}\\partial \\left( \\vec 1, \\vec P \\right)_\\vec P = \\frac{1}{N}\\vec 1^T\n",
    "\\tag{7}\n",
    "\\end{equation}$"
   ]
  },
  {
   "cell_type": "markdown",
   "id": "a162ebf2",
   "metadata": {},
   "source": [
    "and $\\left( U\\vec P^k_T \\right)_a$:\n",
    "$\\begin{equation}\n",
    "\\left(U\\vec P_T^k\\right)_a = \\left(\\frac{a}{\\beta}U_0\\vec P_T^k\\right)_a = \\frac{1}{\\beta}U_0\\vec P_T^k + \\frac{a}{\\beta}U_0\\left(\\vec P_T^k\\right)_a\n",
    "\\tag{8}\n",
    "\\end{equation}$"
   ]
  },
  {
   "cell_type": "markdown",
   "id": "a8376f47",
   "metadata": {},
   "source": [
    "$\\vec P^k_T$ is given by\n",
    "$$ M\\vec P^k_T = \\vec b \\left(\\vec P^{k-1}_T\\right) = \\vec b^k$$\n",
    "$$M_a\\vec P^k_T + M \\left( \\vec P^k_T \\right)_a = \\left( \\vec b^k \\right)_a$$\n",
    "$$\\left( \\vec P^k_T \\right)_a = M^{-1}\\left( \\left( \\vec b^k \\right)_a - M_a \\vec P^k_T \\right)$$"
   ]
  },
  {
   "cell_type": "markdown",
   "id": "a892a3dc",
   "metadata": {},
   "source": [
    "Since $\\vec b^k = \\vec b^k (\\vec P^{k-1}_T) \\Rightarrow \\left(\\vec b^k\\right)_a = \\partial \\vec b^k_a + \\partial \\vec b^k_{\\vec P^{k-1}_T} \\left( \\vec P^{k-1}_T \\right)_a$, we get a recursive formula for $\\left( \\vec P^k_T \\right)_a$:\n",
    "\n",
    "$\\begin{equation}\n",
    "\\left( \\vec P^k_T \\right)_a = M^{-1} \\left( \\partial \\vec b^k_a + \\partial \\vec b^k_{\\vec P^{k-1}_T} \\left( \\vec P^{k-1}_T \\right)_a - M_a \\vec P^k_T \\right)\n",
    "\\tag{9.1}\n",
    "\\end{equation}$"
   ]
  },
  {
   "cell_type": "markdown",
   "id": "5331e2c5",
   "metadata": {},
   "source": [
    "Therefore, each step we need to evaluate **(7)** from $\\left( \\vec P^k_T \\right)_a$ **(8)** and save the latter to calculate $\\left( \\vec P^{k+1}_T \\right)_a$ on the next step.\n",
    "Initial condition $\\vec P^0_T$ does not depend on problem parameters leading to\n",
    "$\\begin{equation}\n",
    "\\left( \\vec P^0_T \\right)_a = 0\n",
    "\\tag{9.2}\n",
    "\\end{equation}$."
   ]
  },
  {
   "cell_type": "markdown",
   "id": "b206a0f8",
   "metadata": {},
   "source": [
    "Let's place **(7)** and **(8)** into **(6)**, and also write a recursive formula for calculating **(5)**:"
   ]
  },
  {
   "cell_type": "markdown",
   "id": "fa9c47fe",
   "metadata": {},
   "source": [
    "$$\\frac{dg^n}{da} = \\partial g_{\\vec P} \\sum\\limits_{k=0}^{n-1}\\left( \\frac{\\lambda}{\\beta}\\right)^k\\left(U\\vec P^{n-k}_T\\right)_a = \\partial g_{\\vec P} \\sum\\limits_{k=1}^{n-1}\\left(\\frac{\\lambda}{\\beta}\\right)^k\\left(U\\vec P^{n-k}_T\\right)_a + \\partial g_{\\vec P} \\left( U\\vec P^n_T \\right)_a$$"
   ]
  },
  {
   "cell_type": "markdown",
   "id": "a2fbb934",
   "metadata": {},
   "source": [
    "$$\\frac{dg^{n-1}}{da} = \\partial g_{\\vec P} \\sum\\limits_{k=0}^{n-2}\\left( \\frac{\\lambda}{\\beta}\\right)^k\\left(U\\vec P^{n-k-1}_T\\right)_a = \\partial g_{\\vec P} \\sum\\limits_{k=1}^{n-1}\\left( \\frac{\\lambda}{\\beta}\\right)^{k - 1}\\left(U\\vec P^{n-k}_T\\right)_a$$"
   ]
  },
  {
   "cell_type": "markdown",
   "id": "aff00ea4",
   "metadata": {},
   "source": [
    "$$ \\frac{dg^n}{da} = \\frac{\\lambda}{\\beta} \\frac{dg^{n-1}}{da} + \\partial g_{\\vec P} \\left(U\\vec P^n_T\\right)_a$$"
   ]
  },
  {
   "cell_type": "markdown",
   "id": "60cb0ab6",
   "metadata": {},
   "source": [
    "$$\\frac{dg^n}{da} = \\frac{\\lambda}{\\beta}\\frac{dg^{n-1}}{da} + \\partial g_{\\vec P} \\left( \\frac{1}{\\beta}U_0\\vec P^n_T + \\frac{a}{\\beta}U_0 \\left(\\vec P^n_T\\right)_a \\right)$$"
   ]
  },
  {
   "cell_type": "markdown",
   "id": "e9d26510",
   "metadata": {},
   "source": [
    "$\\begin{equation}\n",
    "\\frac{dg^n}{da} = \\frac{\\lambda}{\\beta}\\frac{dg^{n-1}}{da} + \\frac{1}{\\beta}\\partial g_{\\vec P} U_0 \\vec P^n_T + \\frac{a}{\\beta} \\partial g_{\\vec P} U_0 \\left(\\vec P^n_T \\right)_a\n",
    "\\tag{10}\n",
    "\\end{equation}$"
   ]
  },
  {
   "cell_type": "markdown",
   "id": "c0f66c86",
   "metadata": {},
   "source": [
    "Formula **(10)** is valid not only in case of **(3)**, but in a more general case of known and constant $\\partial g_{\\vec P}$.\n",
    "Time-step-dependant $\\partial g_{\\vec P^n}$ will require a slight modification to a formula."
   ]
  },
  {
   "cell_type": "markdown",
   "id": "2772c8c6",
   "metadata": {},
   "source": [
    "Direct expansion of **(5)** leads to:\n",
    "$\\begin{equation}\n",
    "\\frac{dg^0}{da} = 0\n",
    "\\tag{11}\n",
    "\\end{equation}$"
   ]
  },
  {
   "cell_type": "markdown",
   "id": "c6f0f185",
   "metadata": {},
   "source": [
    "## $M$ and $\\vec b$ in LMHFE"
   ]
  },
  {
   "cell_type": "markdown",
   "id": "cd77b9de",
   "metadata": {},
   "source": [
    "*$\\alpha$, $\\alpha_i$, $B_{ij}, \\beta, \\lambda, n_f$ depend only on geometry and act as constants when differentiating by problem parameters.*"
   ]
  },
  {
   "cell_type": "markdown",
   "id": "155d2d09",
   "metadata": {},
   "source": [
    "If $M = \\left( m_{ij} \\right)$ then its diagonal terms are:\n",
    "\n",
    "$$ m_{ii} = m^A_{ii} + m^B_{ii}, m^A_{ii} = a\\left(B_{ii}^{-1} - \\frac{\\alpha_i^2}{\\alpha}\\right) + \\frac{1}{n_f} \\frac{c\\|A\\|}{\\Delta t}$$\n",
    "\n",
    "where $A$ and $B$ are triangles adjacent to the $i$-th edge, and its off-diagonal terms are:\n",
    "\n",
    "$$ m_{ij} = a \\left( B^{-1}_{ij} - \\frac{\\alpha_i\\alpha_j}{\\alpha} \\right) $$"
   ]
  },
  {
   "cell_type": "markdown",
   "id": "5cae5a4d",
   "metadata": {},
   "source": [
    "Therefore, the full derivative $M_a$ has terms:\n",
    "\n",
    "$$\\begin{equation}\n",
    "\\left(m_{ii}\\right)_a = 2 \\left(B^{-1}_{ii} - \\frac{\\alpha_i^2}{\\alpha}\\right)\n",
    "\\tag{12.1}\n",
    "\\end{equation}$$\n",
    "\n",
    "$$\\begin{equation}\n",
    "\\left(m_{ij}\\right)_a = B^{-1}_{ij} - \\frac{\\alpha_i\\alpha_j}{\\alpha}\n",
    "\\tag{12.2}\n",
    "\\end{equation}$$"
   ]
  },
  {
   "cell_type": "markdown",
   "id": "11ea2f7f",
   "metadata": {},
   "source": [
    "Notice that $M$ does not change from step to step as long as $a$ and $c$ are constant and time step does not vary."
   ]
  },
  {
   "cell_type": "markdown",
   "id": "a0709e5b",
   "metadata": {},
   "source": [
    "For $\\vec b$:\n",
    "\n",
    "$$ \\vec b_i^k = \\frac{c \\left(\\|A\\| + \\|B\\|\\right) \\vec P_{Ti}^{k-1}}{n_f \\Delta t} $$\n",
    "\n",
    "where $A$ and $B$ are triangles adjacent to $i$-th edge, and partials:"
   ]
  },
  {
   "cell_type": "markdown",
   "id": "4d3dbe2d",
   "metadata": {},
   "source": [
    "$$\\begin{equation}\n",
    "\\partial \\vec b_a = 0\n",
    "\\tag{13.1}\n",
    "\\end{equation}\n",
    "$$\n",
    "and\n",
    "$$\\begin{equation}\n",
    "\\left( \\partial \\vec b_{\\vec P_T^{k-1}} \\right)_{ii} = \\frac{c\\left(\\|A\\| + \\|B\\|\\right)}{n_f \\Delta t}\n",
    "\\tag{13.2.1}\n",
    "\\end{equation}$$\n",
    "$$\\begin{equation}\n",
    "\\left( \\partial \\vec b_{\\vec P_T^{k-1}} \\right)_{ij} = 0\n",
    "\\tag{13.2.2}\n",
    "\\end{equation}$$\n",
    "$\\partial \\vec b_{\\vec P^{k-1}_T}$ is a diagonal matrix."
   ]
  },
  {
   "cell_type": "markdown",
   "id": "8ef7161b",
   "metadata": {},
   "source": [
    "With this, we could rewrite **(9.1)** as:\n",
    "\n",
    "$$\\begin{equation}\n",
    "M\\left(\\vec P^k_T \\right)_a = \\partial \\vec b^k_{\\vec P_T^{k-1}} \\vec P^{k-1}_T - M_a \\vec P^k_T\n",
    "\\tag{14}\n",
    "\\end{equation}$$"
   ]
  },
  {
   "cell_type": "markdown",
   "id": "cebd5bc5",
   "metadata": {},
   "source": [
    "To save time from inverting $M$ and performing extra matrix multiplications, we will find $\\left( \\vec P_T^k \\right)_a$ as a sulution to **(14)** rather than calculating **(9.1)** directly."
   ]
  },
  {
   "cell_type": "markdown",
   "id": "e4190bcf",
   "metadata": {},
   "source": [
    "## Computation algorithm for sensitivity $\\frac{dg^n}{da}$ on the $n$-th step of LMHFE"
   ]
  },
  {
   "cell_type": "markdown",
   "id": "4219c95c",
   "metadata": {},
   "source": [
    "Initial conditions (step $n=0$): ones of problem **(1)** with addition of **(9.2)** and **(11)**."
   ]
  },
  {
   "cell_type": "markdown",
   "id": "9e79cd2e",
   "metadata": {},
   "source": [
    "Then, for the $n$-th step:\n",
    "1. Perform an LMHFE solution step.\n",
    "   Since neither equations **(10)**, **(9.1)** nor next LMHFE step explicitly include solution over triangles $\\vec P^n$, obtaining it back from mean edge values $\\vec P_T^n$ via **(5)** is optional. \n",
    "1. Using **(12.1-2)** and **(13.2)** compute $M_a$ and $\\partial \\vec b_{\\vec P_T^{k-1}}$ (optionally, this could be skipped and performed on-demand when calculating right-hand part of **(14)**). With constant $a$ and $c$ and a uniform time step it is possible to calculate $M$ only once per solution.\n",
    "1. Find $\\left( \\vec P^n_T \\right)_a$ using **(14)** or **by adjoints**.\n",
    "1. Calculate $\\frac{dg^n}{da}$ using **(10)**"
   ]
  },
  {
   "cell_type": "markdown",
   "id": "5f581db8",
   "metadata": {},
   "source": [
    "## Gradient by adjoints"
   ]
  },
  {
   "cell_type": "markdown",
   "id": "d311dca7",
   "metadata": {},
   "source": [
    "Let's expand **(9.1)** with **(13.1)** up to $\\left( \\vec P_T^{0} \\right)_a = 0$ (denote $V^k = M^{-1}\\partial \\vec b_{\\vec P_T^{k-1}}$:\n",
    "\n",
    "$$ \\left( \\vec P_T^k \\right)_a = V^k \\left( V^{k-1} \\left( V^{k-2} \\left( ... V^2\\left( -M^{-1}M_a \\vec P_T^1 \\right) ... \\right) - M^{-1}M_a \\vec P_T^{k-2} \\right) - M^{-1}M_a \\vec P^{k-1}_T \\right) - M^{-1}M_a \\vec P_T^k $$"
   ]
  },
  {
   "cell_type": "markdown",
   "id": "bdfa21b1",
   "metadata": {},
   "source": [
    "*Do not confuse $V^2$ with V __squared__*"
   ]
  },
  {
   "cell_type": "markdown",
   "id": "871c7ec2",
   "metadata": {},
   "source": [
    "By transposing the equation we get:\n",
    "\n",
    "$$\\left(\\vec P_T^k \\right)_a^T = \\left( ... \\left(-(\\vec P^1_T)^T(M_a)^T(M^{-1})^T\\right)(V^2)^T ... \\right) (V^k)^T - (\\vec P^k_T)^T(M_a)^T(M^{-1})^T $$"
   ]
  },
  {
   "cell_type": "code",
   "execution_count": null,
   "id": "0717120c",
   "metadata": {},
   "outputs": [],
   "source": []
  }
 ],
 "metadata": {
  "kernelspec": {
   "display_name": "Python 3 (ipykernel)",
   "language": "python",
   "name": "python3"
  },
  "language_info": {
   "codemirror_mode": {
    "name": "ipython",
    "version": 3
   },
   "file_extension": ".py",
   "mimetype": "text/x-python",
   "name": "python",
   "nbconvert_exporter": "python",
   "pygments_lexer": "ipython3",
   "version": "3.10.8"
  }
 },
 "nbformat": 4,
 "nbformat_minor": 5
}
