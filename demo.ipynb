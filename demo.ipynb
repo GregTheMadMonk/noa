{
 "cells": [
  {
   "cell_type": "code",
   "execution_count": 3,
   "id": "e0919713-fc54-436a-829b-fd2a8c6eb928",
   "metadata": {},
   "outputs": [
    {
     "name": "stdout",
     "output_type": "stream",
     "text": [
      "-- The C compiler identification is Clang 18.1.8\n",
      "-- The CXX compiler identification is Clang 18.1.8\n",
      "-- Detecting C compiler ABI info\n",
      "-- Detecting C compiler ABI info - done\n",
      "-- Check for working C compiler: /usr/bin/clang - skipped\n",
      "-- Detecting C compile features\n",
      "-- Detecting C compile features - done\n",
      "-- Detecting CXX compiler ABI info\n",
      "-- Detecting CXX compiler ABI info - done\n",
      "-- Check for working CXX compiler: /usr/bin/clang++ - skipped\n",
      "-- Detecting CXX compile features\n",
      "-- Detecting CXX compile features - done\n",
      "\u001b[33mCMake Warning (dev) at /usr/share/cmake/Modules/FetchContent.cmake:1373 (message):\n",
      "  The DOWNLOAD_EXTRACT_TIMESTAMP option was not given and policy CMP0135 is\n",
      "  not set.  The policy's OLD behavior will be used.  When using a URL\n",
      "  download, the timestamps of extracted files should preferably be that of\n",
      "  the time of extraction, otherwise code that depends on the extracted\n",
      "  contents might not be rebuilt if the URL changes.  The OLD behavior\n",
      "  preserves the timestamps from the archive instead, but this is usually not\n",
      "  what you want.  Update your project to the NEW behavior or specify the\n",
      "  DOWNLOAD_EXTRACT_TIMESTAMP option with a value of true to avoid this\n",
      "  robustness issue.\n",
      "Call Stack (most recent call first):\n",
      "  CMakeLists.txt:9 (FetchContent_Declare)\n",
      "This warning is for project developers.  Use -Wno-dev to suppress it.\n",
      "\u001b[0m\n",
      "\u001b[0mLLVM_SHLIBEXT=.so\u001b[0m\n",
      "\u001b[0mLLVM ABS DIR /usr/lib/cmake/llvm\u001b[0m\n",
      "\u001b[0mCMAKE_PREFIX_PATH \u001b[0m\n",
      "-- Performing Test HAVE_FFI_CALL\n",
      "-- Performing Test HAVE_FFI_CALL - Success\n",
      "-- Found FFI: /usr/lib/libffi.so\n",
      "-- Looking for histedit.h\n",
      "-- Looking for histedit.h - found\n",
      "-- Found LibEdit: /usr/include (found version \"2.11\")\n",
      "-- Performing Test Terminfo_LINKABLE\n",
      "-- Performing Test Terminfo_LINKABLE - Success\n",
      "-- Found Terminfo: /usr/lib/libtinfo.so\n",
      "-- Found ZLIB: /usr/lib/libz.so (found version \"1.3.1\")\n",
      "-- Found LibXml2: /usr/lib/libxml2.so (found version \"2.13.3\")\n",
      "-- Found CURL: /usr/lib/libcurl.so (found version \"8.9.1\")\n",
      "\u001b[0mfound llvm match  dir /usr/lib/cmake/llvm\u001b[0m\n",
      "\u001b[0mfound llvm lit /home/greg/study/research/noa/code/noa-worktrees/enzyme-jupyter-cxx17/artifacts/lit\u001b[0m\n",
      "\u001b[0mLLVM dir /usr/lib/cmake/llvm\u001b[0m\n",
      "\u001b[0mclang dir defined /usr/lib/cmake/clang\u001b[0m\n",
      "-- Linker detection: GNU ld\n",
      "\u001b[0mclang dir /usr/lib/cmake/clang\u001b[0m\n",
      "\u001b[0mmlir dir \u001b[0m\n",
      "\u001b[0mclang inc dir /usr/include\u001b[0m\n",
      "\u001b[0mfound Clang 1\u001b[0m\n",
      "\u001b[0mfound MLIR 0\u001b[0m\n",
      "\u001b[0mLLVM_INSTALL_PREFIX: /usr\u001b[0m\n",
      "\u001b[0mLLVM_INCLUDE_DIRS: /usr/include\u001b[0m\n",
      "\u001b[0mfound LLVM definitions -D_GNU_SOURCE -D__STDC_CONSTANT_MACROS -D__STDC_FORMAT_MACROS -D__STDC_LIMIT_MACROS\u001b[0m\n",
      "\u001b[0mfound LLVM version 18\u001b[0m\n",
      "\u001b[0mfirst llvm include directory/usr/include\u001b[0m\n",
      "-- Looking for mpfr.h\n",
      "-- Looking for mpfr.h - found\n",
      "\u001b[0mMPFR lib: /usr/lib/libmpfr.so\u001b[0m\n",
      "\u001b[0mMPFR header: 1\u001b[0m\n",
      "\u001b[33mCMake Warning at /usr/lib/cmake/llvm/AddLLVM.cmake:1893 (message):\n",
      "  LLVM_EXTERNAL_LIT set to\n",
      "  /home/greg/study/research/noa/code/noa-worktrees/enzyme-jupyter-cxx17/artifacts/lit,\n",
      "  but the path does not exist.\n",
      "Call Stack (most recent call first):\n",
      "  /usr/lib/cmake/llvm/AddLLVM.cmake:1938 (get_llvm_lit_path)\n",
      "  /usr/lib/cmake/llvm/AddLLVM.cmake:2028 (add_lit_target)\n",
      "  /home/greg/study/research/noa/code/noa-worktrees/enzyme-jupyter-cxx17/artifacts/_deps/enzyme-src/enzyme/test/ActivityAnalysis/CMakeLists.txt:2 (add_lit_testsuite)\n",
      "\n",
      "\u001b[0m\n",
      "-- Looking for sgemm_\n",
      "-- Looking for sgemm_ - not found\n",
      "-- Performing Test CMAKE_HAVE_LIBC_PTHREAD\n",
      "-- Performing Test CMAKE_HAVE_LIBC_PTHREAD - Success\n",
      "-- Found Threads: TRUE\n",
      "-- Looking for sgemm_\n",
      "-- Looking for sgemm_ - found\n",
      "-- Found BLAS: /usr/lib/libblas.so\n",
      "-- Enzyme location: /home/greg/study/research/noa/code/noa-worktrees/enzyme-jupyter-cxx17/artifacts/_deps/enzyme-src/enzyme\n",
      "-- Configuring done (4.5s)\n",
      "\u001b[33mCMake Warning at /usr/lib/cmake/llvm/AddLLVM.cmake:975 (add_executable):\n",
      "  Cannot generate a safe runtime search path for target enzyme-tblgen because\n",
      "  files in some directories may conflict with libraries in implicit\n",
      "  directories:\n",
      "\n",
      "    runtime library [libtinfo.so] in /usr/lib may be hidden by files in:\n",
      "      /home/greg/.local/share/mamba/envs/numerics/lib\n",
      "\n",
      "  Some of these libraries may not be found correctly.\n",
      "Call Stack (most recent call first):\n",
      "  /usr/lib/cmake/llvm/TableGen.cmake:173 (add_llvm_executable)\n",
      "  /home/greg/study/research/noa/code/noa-worktrees/enzyme-jupyter-cxx17/artifacts/_deps/enzyme-src/enzyme/tools/enzyme-tblgen/CMakeLists.txt:9 (add_tablegen)\n",
      "\n",
      "\u001b[0m\n",
      "-- Generating done (0.1s)\n",
      "-- Build files have been written to: /home/greg/study/research/noa/code/noa-worktrees/enzyme-jupyter-cxx17/artifacts\n",
      "[  4%] Built target intrinsics_gen\n",
      "[  4%] \u001b[32mBuilding CXX object _deps/enzyme-build/tools/enzyme-tblgen/CMakeFiles/enzyme-tblgen.dir/caching.cpp.o\u001b[0m\n",
      "[  4%] \u001b[34m\u001b[1mBundling includes\u001b[0m\n",
      "[  4%] \u001b[32mBuilding CXX object _deps/enzyme-build/tools/enzyme-tblgen/CMakeFiles/enzyme-tblgen.dir/datastructures.cpp.o\u001b[0m\n",
      "[  6%] \u001b[32mBuilding CXX object _deps/enzyme-build/tools/enzyme-tblgen/CMakeFiles/enzyme-tblgen.dir/blas-tblgen.cpp.o\u001b[0m\n",
      "[  6%] \u001b[32mBuilding CXX object _deps/enzyme-build/tools/enzyme-tblgen/CMakeFiles/enzyme-tblgen.dir/enzyme-tblgen.cpp.o\u001b[0m\n",
      "\n",
      "/home/greg/study/research/noa/code/noa-worktrees/enzyme-jupyter-cxx17/artifacts/_deps/enzyme-build/Enzyme/Clang/bundled_includes.h\n",
      "/home/greg/study/research/noa/code/noa-worktrees/enzyme-jupyter-cxx17/artifacts/_deps/enzyme-src/enzyme/include/enzyme/../enzyme/tuple\n",
      "/enzymeroot//enzyme/tuple\n",
      "/home/greg/study/research/noa/code/noa-worktrees/enzyme-jupyter-cxx17/artifacts/_deps/enzyme-src/enzyme/include/enzyme/../enzyme/type_traits\n",
      "/enzymeroot//enzyme/type_traits\n",
      "/home/greg/study/research/noa/code/noa-worktrees/enzyme-jupyter-cxx17/artifacts/_deps/enzyme-src/enzyme/include/enzyme/../enzyme/fprt/mpfr.h\n",
      "/enzymeroot//enzyme/fprt/mpfr.h\n",
      "/home/greg/study/research/noa/code/noa-worktrees/enzyme-jupyter-cxx17/artifacts/_deps/enzyme-src/enzyme/include/enzyme/../enzyme/fprt/flops.def\n",
      "/enzymeroot//enzyme/fprt/flops.def\n",
      "/home/greg/study/research/noa/code/noa-worktrees/enzyme-jupyter-cxx17/artifacts/_deps/enzyme-src/enzyme/include/enzyme/../enzyme/enzyme\n",
      "/enzymeroot//enzyme/enzyme\n",
      "/home/greg/study/research/noa/code/noa-worktrees/enzyme-jupyter-cxx17/artifacts/_deps/enzyme-src/enzyme/include/enzyme/../enzyme/utils\n",
      "/enzymeroot//enzyme/utils\n",
      "[  6%] Built target bundled_includes_target\n",
      "[  8%] \u001b[32m\u001b[1mLinking CXX executable enzyme-tblgen\u001b[0m\n",
      "[  8%] Built target enzyme-tblgen\n",
      "[ 10%] \u001b[34m\u001b[1mBuilding BlasAttributor.inc...\u001b[0m\n",
      "[ 12%] \u001b[34m\u001b[1mBuilding IntrinsicDerivatives.inc...\u001b[0m\n",
      "[ 14%] \u001b[34m\u001b[1mBuilding BlasDiffUse.inc...\u001b[0m\n",
      "[ 14%] \u001b[34m\u001b[1mBuilding BlasDerivatives.inc...\u001b[0m\n",
      "[ 14%] \u001b[34m\u001b[1mBuilding BinopDerivatives.inc...\u001b[0m\n",
      "[ 14%] \u001b[34m\u001b[1mBuilding BlasTA.inc...\u001b[0m\n",
      "[ 17%] \u001b[34m\u001b[1mBuilding CallDerivatives.inc...\u001b[0m\n",
      "[ 17%] \u001b[34m\u001b[1mBuilding InstructionDerivatives.inc...\u001b[0m\n",
      "[ 17%] Built target BinopDerivativesIncGen\n",
      "[ 23%] Built target IntrinsicDerivativesIncGen\n",
      "[ 29%] Built target CallDerivativesIncGen\n",
      "[ 38%] Built target InstructionDerivativesIncGen\n",
      "[ 46%] Built target BlasDerivativesIncGen\n",
      "[ 53%] Built target BlasDeclarationsIncGen\n",
      "[ 61%] Built target BlasTAIncGen\n",
      "[ 70%] Built target BlasDiffUseIncGen\n",
      "[ 72%] \u001b[32mBuilding CXX object _deps/enzyme-build/Enzyme/CMakeFiles/ClangEnzyme-18.dir/CApi.cpp.o\u001b[0m\n",
      "[ 72%] \u001b[32mBuilding CXX object _deps/enzyme-build/Enzyme/CMakeFiles/ClangEnzyme-18.dir/ActivityAnalysisPrinter.cpp.o\u001b[0m\n",
      "[ 76%] \u001b[32mBuilding CXX object _deps/enzyme-build/Enzyme/CMakeFiles/ClangEnzyme-18.dir/EnzymeLogic.cpp.o\u001b[0m\n",
      "[ 78%] \u001b[32mBuilding CXX object _deps/enzyme-build/Enzyme/CMakeFiles/ClangEnzyme-18.dir/CacheUtility.cpp.o\u001b[0m\n",
      "[ 78%] \u001b[32mBuilding CXX object _deps/enzyme-build/Enzyme/CMakeFiles/ClangEnzyme-18.dir/Enzyme.cpp.o\u001b[0m\n",
      "[ 78%] \u001b[32mBuilding CXX object _deps/enzyme-build/Enzyme/CMakeFiles/ClangEnzyme-18.dir/CallDerivatives.cpp.o\u001b[0m\n",
      "[ 78%] \u001b[32mBuilding CXX object _deps/enzyme-build/Enzyme/CMakeFiles/ClangEnzyme-18.dir/DiffeGradientUtils.cpp.o\u001b[0m\n",
      "[ 78%] \u001b[32mBuilding CXX object _deps/enzyme-build/Enzyme/CMakeFiles/ClangEnzyme-18.dir/GradientUtils.cpp.o\u001b[0m\n",
      "[ 78%] \u001b[32mBuilding CXX object _deps/enzyme-build/Enzyme/CMakeFiles/ClangEnzyme-18.dir/ActivityAnalysis.cpp.o\u001b[0m\n",
      "[ 80%] \u001b[32mBuilding CXX object _deps/enzyme-build/Enzyme/CMakeFiles/ClangEnzyme-18.dir/DifferentialUseAnalysis.cpp.o\u001b[0m\n",
      "[ 80%] \u001b[32mBuilding CXX object _deps/enzyme-build/Enzyme/CMakeFiles/ClangEnzyme-18.dir/FunctionUtils.cpp.o\u001b[0m\n",
      "[ 82%] \u001b[32mBuilding CXX object _deps/enzyme-build/Enzyme/CMakeFiles/ClangEnzyme-18.dir/InstructionBatcher.cpp.o\u001b[0m\n",
      "[ 82%] \u001b[32mBuilding CXX object _deps/enzyme-build/Enzyme/CMakeFiles/ClangEnzyme-18.dir/JLInstSimplify.cpp.o\u001b[0m\n",
      "[ 85%] \u001b[32mBuilding CXX object _deps/enzyme-build/Enzyme/CMakeFiles/ClangEnzyme-18.dir/MustExitScalarEvolution.cpp.o\u001b[0m\n",
      "[ 85%] \u001b[32mBuilding CXX object _deps/enzyme-build/Enzyme/CMakeFiles/ClangEnzyme-18.dir/PreserveNVVM.cpp.o\u001b[0m\n",
      "[ 87%] \u001b[32mBuilding CXX object _deps/enzyme-build/Enzyme/CMakeFiles/ClangEnzyme-18.dir/TraceGenerator.cpp.o\u001b[0m\n",
      "[ 89%] \u001b[32mBuilding CXX object _deps/enzyme-build/Enzyme/CMakeFiles/ClangEnzyme-18.dir/SCEV/ScalarEvolutionExpander.cpp.o\u001b[0m\n",
      "[ 89%] \u001b[32mBuilding CXX object _deps/enzyme-build/Enzyme/CMakeFiles/ClangEnzyme-18.dir/TypeAnalysis/TypeAnalysisPrinter.cpp.o\u001b[0m\n",
      "[ 91%] \u001b[32mBuilding CXX object _deps/enzyme-build/Enzyme/CMakeFiles/ClangEnzyme-18.dir/TypeAnalysis/TypeAnalysis.cpp.o\u001b[0m\n",
      "[ 93%] \u001b[32mBuilding CXX object _deps/enzyme-build/Enzyme/CMakeFiles/ClangEnzyme-18.dir/TypeAnalysis/RustDebugInfo.cpp.o\u001b[0m\n",
      "[ 93%] \u001b[32mBuilding CXX object _deps/enzyme-build/Enzyme/CMakeFiles/ClangEnzyme-18.dir/TypeAnalysis/TypeTree.cpp.o\u001b[0m\n",
      "[ 93%] \u001b[32mBuilding CXX object _deps/enzyme-build/Enzyme/CMakeFiles/ClangEnzyme-18.dir/Utils.cpp.o\u001b[0m\n",
      "[ 93%] \u001b[32mBuilding CXX object _deps/enzyme-build/Enzyme/CMakeFiles/ClangEnzyme-18.dir/TraceInterface.cpp.o\u001b[0m\n",
      "[ 95%] \u001b[32mBuilding CXX object _deps/enzyme-build/Enzyme/CMakeFiles/ClangEnzyme-18.dir/TraceUtils.cpp.o\u001b[0m\n",
      "[ 95%] \u001b[32mBuilding CXX object _deps/enzyme-build/Enzyme/CMakeFiles/ClangEnzyme-18.dir/Clang/EnzymePassLoader.cpp.o\u001b[0m\n",
      "[ 95%] \u001b[32mBuilding CXX object _deps/enzyme-build/Enzyme/CMakeFiles/ClangEnzyme-18.dir/Clang/EnzymeClang.cpp.o\u001b[0m\n",
      "\u001b[1m/home/greg/study/research/noa/code/noa-worktrees/enzyme-jupyter-cxx17/artifacts/_deps/enzyme-src/enzyme/Enzyme/Enzyme.cpp:3338:19: \u001b[0m\u001b[0;1;35mwarning: \u001b[0m\u001b[1mlambda capture 'PB0' is not used [-Wunused-lambda-capture]\u001b[0m\n",
      " 3338 |   auto prePass = [PB0](ModulePassManager &MPM, OptimizationLevel Level) {\u001b[0m\n",
      "      | \u001b[0;1;32m                  ^~~\n",
      "\u001b[0m\u001b[1m/home/greg/study/research/noa/code/noa-worktrees/enzyme-jupyter-cxx17/artifacts/_deps/enzyme-src/enzyme/Enzyme/EnzymeLogic.cpp:1355:34: \u001b[0m\u001b[0;1;35mwarning: \u001b[0m\u001b[1munused function 'operator<<' [-Wunused-function]\u001b[0m\n",
      " 1355 | static inline llvm::raw_ostream &operator<<(llvm::raw_ostream &os,\u001b[0m\n",
      "      | \u001b[0;1;32m                                 ^~~~~~~~\n",
      "\u001b[0m1 warning generated.\n",
      "1 warning generated.\n",
      "[ 97%] \u001b[32m\u001b[1mLinking CXX shared module ClangEnzyme-18.so\u001b[0m\n",
      "[ 97%] Built target ClangEnzyme-18\n",
      "[ 97%] Built target ClangEnzymeDummy\n",
      "[ 97%] \u001b[32mBuilding CXX object CMakeFiles/functions.dir/functions.cc.o\u001b[0m\n",
      "[100%] \u001b[32m\u001b[1mLinking CXX shared library libfunctions.so\u001b[0m\n",
      "[100%] Built target functions\n"
     ]
    }
   ],
   "source": [
    "# Build the library\n",
    "! rm -rf artifacts\n",
    "! mkdir artifacts\n",
    "! cd artifacts && CC=clang CXX=clang++ cmake ../lib -DLLVM_DIR=/usr/lib/cmake/llvm -DClang_DIR=/usr/lib/cmake/clang -DCMAKE_BUILD_TYPE=Release\n",
    "! cd artifacts && make functions -j"
   ]
  },
  {
   "cell_type": "code",
   "execution_count": 1,
   "id": "2ef133bc-97df-44e5-809c-6e5186681a91",
   "metadata": {},
   "outputs": [
    {
     "name": "stderr",
     "output_type": "stream",
     "text": [
      "No ROCm runtime is found, using ROCM_HOME='/opt/rocm'\n"
     ]
    }
   ],
   "source": [
    "import torch\n",
    "from torch.utils import cpp_extension\n",
    "import os"
   ]
  },
  {
   "cell_type": "code",
   "execution_count": 2,
   "id": "f9859661-4e3e-49ec-b593-049e53cd2ead",
   "metadata": {},
   "outputs": [],
   "source": [
    "enzyme_demo = cpp_extension.load(\n",
    "    name = 'enzyme_demo',\n",
    "    sources = [ 'extension.cc' ],\n",
    "    extra_cflags = [ '-std=c++17', '-Wall', '-Wextra', '-pedantic', f'-I{os.getcwd()}/lib' ],\n",
    "    extra_ldflags = [ f'-L{os.getcwd()}/artifacts', '-lfunctions', '-lblas', f'-Wl,-rpath,{os.getcwd()}/artifacts' ]\n",
    ")"
   ]
  },
  {
   "cell_type": "code",
   "execution_count": 3,
   "id": "99eb6358-7a17-4773-a10b-649ca42ec315",
   "metadata": {},
   "outputs": [],
   "source": [
    "enzyme_demo.hi()"
   ]
  },
  {
   "cell_type": "code",
   "execution_count": 4,
   "id": "6976af1d-01a0-4b9e-90d2-bef54bbe84e6",
   "metadata": {},
   "outputs": [],
   "source": [
    "ten = torch.tensor([ 1, 2, 3 ], dtype=torch.float64)"
   ]
  },
  {
   "cell_type": "code",
   "execution_count": 5,
   "id": "4364392e-1a1a-4be9-ba10-9753f0ed05bb",
   "metadata": {},
   "outputs": [
    {
     "data": {
      "text/plain": [
       "6.0"
      ]
     },
     "execution_count": 5,
     "metadata": {},
     "output_type": "execute_result"
    }
   ],
   "source": [
    "enzyme_demo.sum(ten)"
   ]
  },
  {
   "cell_type": "code",
   "execution_count": 6,
   "id": "c4896157-b35d-403e-a08e-68aec97a3440",
   "metadata": {},
   "outputs": [
    {
     "data": {
      "text/plain": [
       "tensor([1., 1., 1.], dtype=torch.float64)"
      ]
     },
     "execution_count": 6,
     "metadata": {},
     "output_type": "execute_result"
    }
   ],
   "source": [
    "enzyme_demo.d_sum(ten)"
   ]
  },
  {
   "cell_type": "code",
   "execution_count": 7,
   "id": "e18ab881-43a6-4d2b-94f4-6295f90a09f1",
   "metadata": {},
   "outputs": [],
   "source": [
    "ten2 = torch.tensor([ 3, 2, 1 ], dtype=torch.float64)"
   ]
  },
  {
   "cell_type": "code",
   "execution_count": 10,
   "id": "b137fe9d-3265-4f77-9ce0-1c9d9e5ec10b",
   "metadata": {},
   "outputs": [
    {
     "data": {
      "text/plain": [
       "10.0"
      ]
     },
     "execution_count": 10,
     "metadata": {},
     "output_type": "execute_result"
    }
   ],
   "source": [
    "enzyme_demo.dot(ten, ten2)"
   ]
  },
  {
   "cell_type": "code",
   "execution_count": 9,
   "id": "0abfe669-0979-4b63-bfa4-9034a728d00e",
   "metadata": {},
   "outputs": [
    {
     "data": {
      "text/plain": [
       "tensor([[3., 2., 1.],\n",
       "        [1., 2., 3.]], dtype=torch.float64)"
      ]
     },
     "execution_count": 9,
     "metadata": {},
     "output_type": "execute_result"
    }
   ],
   "source": [
    "enzyme_demo.d_dot(ten, ten2)"
   ]
  },
  {
   "cell_type": "code",
   "execution_count": null,
   "id": "5d7568ed-3e57-4c5b-bc2b-23bc5989b03f",
   "metadata": {},
   "outputs": [],
   "source": []
  }
 ],
 "metadata": {
  "kernelspec": {
   "display_name": "Python 3 (ipykernel)",
   "language": "python",
   "name": "python3"
  },
  "language_info": {
   "codemirror_mode": {
    "name": "ipython",
    "version": 3
   },
   "file_extension": ".py",
   "mimetype": "text/x-python",
   "name": "python",
   "nbconvert_exporter": "python",
   "pygments_lexer": "ipython3",
   "version": "3.12.0"
  }
 },
 "nbformat": 4,
 "nbformat_minor": 5
}
